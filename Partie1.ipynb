{
 "cells": [
  {
   "cell_type": "markdown",
   "id": "0fc383ef-5814-43c8-8386-5d30c41d2bd4",
   "metadata": {},
   "source": [
    "# PARTIE I : STATISTIQUES DESCRIPTIVES ET ETUDES DE CAS \n",
    "## A/PREMIERES TENDANCES AVEC LES STATS DESC\n"
   ]
  },
  {
   "cell_type": "markdown",
   "id": "f0c35ac1-a7e3-4e1b-b0b1-560ce2793672",
   "metadata": {},
   "source": [
    "Le but de cette partie est d'évaluer les premières tendances que l'on pourrait remarquer. Notre objectif est de voir si on remarque facilement des spécifités géographiques dans la répartition des maladies"
   ]
  },
  {
   "cell_type": "markdown",
   "id": "1cc2f963-6cd1-4772-adbf-d24c27a9f50c",
   "metadata": {},
   "source": [
    "On importe tous les modules nécéssaires :"
   ]
  },
  {
   "cell_type": "code",
   "execution_count": null,
   "id": "fa8127a3-daa1-48d6-822f-435b7307cbe5",
   "metadata": {},
   "outputs": [],
   "source": [
    "import numpy as np\n",
    "import pandas as pd\n",
    "import matplotlib.pyplot as plt\n",
    "import requests\n",
    "!pip install --upgrade xlrd #colab bug verson xlrd\n",
    "!pip install geopandas\n",
    "!pip install pandas fiona shapely pyproj rtree\n",
    "!pip install contextily\n",
    "!pip install pygeos\n",
    "!pip install topojson\n",
    "import geopandas as gpd\n",
    "import contextily as ctx\n",
    "import matplotlib.pyplot as plt\n",
    "import textwrap\n",
    "#!pip install requests py7zr geopandas openpyxl tqdm s3fs PyYAML xlrd\n",
    "#!pip install git+https://github.com/inseefrlab/cartiflette@80b8a5a28371feb6df31d55bcc2617948a5f9b1a"
   ]
  },
  {
   "cell_type": "markdown",
   "id": "5a1def2a-bc28-4fc3-a4db-1d22106ecec4",
   "metadata": {},
   "source": [
    "On importe nos base de travail issue de l'INSEE pour les effectifs de la population par département, de data.gouv pour les sources de pollution et les maladies. Les données sur les maladies ont été collectées par l'Assurance Maladie et celles sur la pollution par l'ADEME (Agence de l'environnement et de la maîtrise de l'énergie)."
   ]
  },
  {
   "cell_type": "code",
   "execution_count": null,
   "id": "f07d673b-9e63-41ba-ad4a-95af195a2a08",
   "metadata": {},
   "outputs": [],
   "source": [
    "#La base de données effectifs, notre base de travail principale qui nous renseigne sur les pathologies, \n",
    "#issue des données de l'Assurance maladie et provenant du site datagouv \n",
    "eff = pd.read_csv(\"effectifs.csv\", sep = \";\", encoding = 'utf-8', engine = 'python')"
   ]
  },
  {
   "cell_type": "markdown",
   "id": "edbd47ab-eda7-4a34-956f-86caba264c67",
   "metadata": {},
   "source": [
    "On réalise quelques histogrammes pour voir quelles sont les tendances qui se dessinent :"
   ]
  },
  {
   "cell_type": "code",
   "execution_count": null,
   "id": "9f0d3bc8-5c00-4fef-a982-d46643e086ca",
   "metadata": {},
   "outputs": [],
   "source": [
    "#Diagramme en barres sur le nombre de cas par type de maladie\n",
    "\n",
    "# Compter le nombre de cas par type de maladie\n",
    "counts = eff['patho_niv1'].value_counts()\n",
    "\n",
    "# Créer le diagramme en barres\n",
    "plt.bar(counts.index, counts.values,  width=0.6)\n",
    "plt.xlabel('Type de maladie')\n",
    "plt.ylabel('Nombre de cas')\n",
    "plt.title('Nombre de cas par type de maladie')\n",
    "\n",
    "# Ajouter des lignes horizontales en arrière-plan\n",
    "for y in range(0, max(counts.values) + 1, 10000):  # Ajuster l'espacement des lignes selon vos besoins\n",
    "    plt.axhline(y, color='gray', linestyle='--', linewidth=0.5)\n",
    "\n",
    "# Rotation des étiquettes en diagonale\n",
    "plt.xticks(rotation=45, ha='right')\n",
    "\n",
    "plt.show()\n"
   ]
  },
  {
   "cell_type": "markdown",
   "id": "9d212bb8-e24a-4c31-8656-8e60fa9699d6",
   "metadata": {},
   "source": [
    "On remarque que parmi les pathologies de niveau 1 (le niveau le moins précis), les cancers sont avec les maladies cardio vasculaires les premières maladies dont sont atteints les individus de la base. Il est donc intéressant à cet égard de regarder ce type de maladie pour avoir des résultats significatifs par la suite.\n",
    "\n",
    "Nous avons par ailleurs à disposition des variables descriptives liées à la pollution. En effet, à l'aide de la table IGT - Pouvoir de réchauffement global.csv nous sommes en capacité d'estimer la quantité mais également la source de pollution de chaque département comme un variable supplémentaire servant à caractériser\n",
    "l'environnement (et les maladies qui peuvent en découler) des départements français.\n",
    "Ces informations seront utilisées plus tard dans le code.\n"
   ]
  },
  {
   "cell_type": "code",
   "execution_count": null,
   "id": "27966463-323f-42d9-b59b-5a03431ba1bf",
   "metadata": {},
   "outputs": [],
   "source": [
    "#Dataframes sommant les niveaux de pollution par source\n",
    "#selon la région :\n",
    "pollution_group_reg = pd.read_csv('pollution_group_reg.csv', sep=',', encoding='utf-8')\n",
    "#selon le département :\n",
    "pollution_group_dep = pd.read_csv('pollution_group_dep.csv', sep=',', encoding='utf-8')"
   ]
  },
  {
   "cell_type": "markdown",
   "id": "25cd7f6d-4052-4016-821a-2d5f813b857f",
   "metadata": {},
   "source": [
    "## B/ETUDES DE CAS \n",
    "\n",
    "### 1/PREMIERE ETUDE DE CAS : LES CANCERS DE LA PROSTATE SONT-ILS PLUS NOMBREUX EN BRETAGNE ? \n",
    "\n",
    "Dans cette premiere étude de cas nous chercherons à comprendre si en étudiant une varibale saillante, qui caractérise bien un département mais qui est également en lien direct avec l'apparition d'une certaine maladie, nous sommes en mesure ou non d'inférer le fait que la proportion maladie en question va être particulièrement élevé dans le département en question.\n",
    "\n",
    "Nous avons décidé de nous pencher sur un cas qui a déjà marqué l'actualié : la polluton agricole en Bretagne. D'après la fondation pour la nature et l'homme la pollution liée à l'agriculture favoriserait un certain nombre de maladies comme les cancers de la prostate. Nous allons donc essayer de voir si dans le département \n",
    "29, le Finistère, le taux de cancer de la prostate parmi la population est plus élevé que la moyenne. \n",
    "\n",
    "Vérifions d'abord avec nos données qu'une forte pollution liée à l'agriculture est bien une caratéristique du Finistère :"
   ]
  },
  {
   "cell_type": "code",
   "execution_count": null,
   "id": "0b9e79b5-2a8d-4dba-911d-0d338d6bd211",
   "metadata": {},
   "outputs": [],
   "source": [
    "#Choisir le numéro du département dont on veut observer les sources de pollution\n",
    "x = input(\"Entrer un numéro de département (mettre un 0 devant si c'est un chiffre) : \")"
   ]
  },
  {
   "cell_type": "code",
   "execution_count": null,
   "id": "a2d1167c-c259-4140-82f3-8ca04bd69783",
   "metadata": {},
   "outputs": [],
   "source": [
    "# Sélectionnez les données pour le département x\n",
    "pollution_dep_x = pollution_group_dep[pollution_group_dep['DEP'] == x]\n",
    "\n",
    "# Sélectionnez les colonnes correspondant aux sources de pollution\n",
    "sources_pollution = pollution_dep_x.columns[1:10]\n",
    "\n",
    "# Créez un diagramme en barres\n",
    "plt.bar(sources_pollution, pollution_dep_x.iloc[0, 1:10])\n",
    "plt.xlabel('Sources de pollution')\n",
    "plt.ylabel('Niveau de pollution')\n",
    "plt.title('Niveau de pollution par source pour le département {}'.format(x))\n",
    "plt.xticks(rotation=45, ha='right')\n",
    "\n",
    "plt.show()\n"
   ]
  },
  {
   "cell_type": "markdown",
   "id": "313b3ffc-a3cc-46a2-a15f-40d28f24093b",
   "metadata": {},
   "source": [
    "On constate donc qu'il y a bien une forte pollution liée à l'agriculture dans le Finistère, on va maintenant chercher à comparer la prévalence de cancer de la prostate dans la Finistère et dans les autres départements.\n",
    "\n",
    "Pour se faire, nous allons recourir à une copie de notre base de données intiale que nous renommeront base_grande. Cette va être retravaillée afin de convenir à notre démarche. On va par exemple changer les classes d'âges et les transformer en un âge unique. On va aussi utiliser dummies afin de créer des variables catégorielles sur chacun de nos pathologie de niveau 2 pour pouvoir isoler plus facilement les individus atteints d'un cancer de la prostate. La prostate étant un organe masculin, il n'y aura donc plus que des individus masculins dans la population d'intérêt."
   ]
  },
  {
   "cell_type": "code",
   "execution_count": null,
   "id": "bfeb0947-63cf-4865-8d18-7647faf8de59",
   "metadata": {},
   "outputs": [],
   "source": [
    "#Par rapport aux autres histogramme ici on va prendre pathoniv2 pour les dummies \n",
    "base_grande = pd.read_csv(\"effectifs.csv\", sep = \";\", encoding = 'utf-8', engine = 'python')\n",
    "base_grande.shape\n",
    "base_grande = base_grande.dropna()\n",
    "base_grande = pd.get_dummies(base_grande, prefix = 'indicatrice_', columns=['patho_niv2'], dtype='int')\n",
    "\n",
    "\n",
    "liste_var = base_grande.columns[17:]\n",
    "liste_bis = []\n",
    "for i in liste_var : \n",
    "    liste_bis.append(i)\n",
    "indicatrice_patho_niv1 = liste_bis\n",
    "\n",
    "liste_auxil = base_grande['cla_age_5'].unique()\n",
    "inter_excl = ('95et+', 'tsage', np.nan)\n",
    "\n",
    "inter_def = []\n",
    "for i in liste_auxil :\n",
    "    if i in inter_excl : \n",
    "        inter_def = inter_def\n",
    "    else : \n",
    "        inter_def.append(i)\n",
    "classe_age = []\n",
    "for i in base_grande['cla_age_5'] : \n",
    "    if i in inter_def :\n",
    "        temp = i.split('-')\n",
    "        temp[0] = int(temp[0])\n",
    "        temp[1] = int(temp[1])\n",
    "        age = (temp[1] + temp[0])/2\n",
    "    elif i == 'tsage' : \n",
    "        age = np.nan\n",
    "    elif i == '95et+' : \n",
    "        age = 100\n",
    "    else : \n",
    "        age = np.nan\n",
    "    classe_age.append(age)\n",
    "base_grande.loc[:,'classe_age'] = classe_age"
   ]
  },
  {
   "cell_type": "markdown",
   "id": "91ed929f-b512-4bcd-b339-c319037446c9",
   "metadata": {},
   "source": [
    "On créer ensuite une nouvelle base de données de laquelle on ne garde que les colonnes qui nous sont utiles à savoir le département et la variable catégorielle qui porte sur la pathologie étudiée."
   ]
  },
  {
   "cell_type": "code",
   "execution_count": null,
   "id": "a5dd79dd-1a5f-4544-b097-92316c4d527e",
   "metadata": {},
   "outputs": [],
   "source": [
    "#On supprime les espaces dans le noms des colonnes \n",
    "base_grande.columns = base_grande.columns.str.replace(' ', '_')\n",
    "\n",
    "model_prostate = base_grande[['dept', 'classe_age','indicatrice__Cancer_de_la_prostate','sexe','region']]"
   ]
  },
  {
   "cell_type": "code",
   "execution_count": null,
   "id": "ceae9a76-af05-4ce7-9919-b5f2ccab392f",
   "metadata": {},
   "outputs": [],
   "source": [
    "#On prend la liste des départements observés afin de généraliser notre démarche\n",
    "valeurs_uniques = model_prostate['dept'].unique()\n",
    "#print(valeurs_uniques)\n",
    "\n",
    "resultats = model_prostate.groupby('dept')['indicatrice__Cancer_de_la_prostate'].agg(['count', 'sum'])\n",
    "\n",
    "# Renommer les colonnes\n",
    "resultats.columns = ['pop_i', 'pop_i2']\n",
    "\n",
    "# Remplacer les valeurs manquantes par 0\n",
    "resultats['pop_i2'].fillna(0, inplace=True)\n",
    "\n",
    "# Initialiser la variable pour la moyenne\n",
    "moyenne_totale = 0\n",
    "\n",
    "# Calculer le pourcentage de cancer de la prostate par département et afficher les résultats\n",
    "for index, row in resultats.iterrows():\n",
    "    if row['pop_i'] != 0:\n",
    "        pourcentage_cancer = (row['pop_i2'] / row['pop_i']) * 100\n",
    "        moyenne_totale += pourcentage_cancer\n",
    "        print(f\"Il y a {pourcentage_cancer:.2f}% de cancer de la prostate dans le département {index}.\")\n",
    "    else:\n",
    "        print(f\"Aucun individu dans le département {index} dans votre DataFrame.\")\n",
    "\n",
    "# Calculer la moyenne totale\n",
    "if len(resultats) > 0:\n",
    "    moyenne_totale /= len(resultats)\n",
    "    print(f\"\\nLa moyenne totale des pourcentages de cancer de la prostate est {moyenne_totale:.2f}%.\")\n",
    "else:\n",
    "    print(\"\\nAucun résultat à moyenner, car tous les départements ont une population de 0.\")\n",
    "\n"
   ]
  },
  {
   "cell_type": "markdown",
   "id": "44e144ba-937b-4eae-a3c4-aabb821a21e1",
   "metadata": {},
   "source": [
    "### CONCLUSION DE CETTE ETUDE DE CAS \n",
    "\n",
    "On constate alors que 1,73% de la population du Finistère est atteinte d'un cancer de la prostate, ce qui est moins que la moyenne nationale. Cela nous renseine sur la difficulté qu'il peut en réalité y avoir à esayer d'inférer le nombre de maladie dans un département en fonction de certaine de ses caractéristiques prises isolément. C'est ausi ce que semblait affirmer l'article de la fondation pour la nature et l'homme (https://www.fnh.org/pesticides-hauts-risques-pour-la-sante-des-agriculteurs-et-les-riverains/) quand elle affirme que \"cette cancérogénicité est validée formellement mais pas statistiquement\". \n",
    "\n",
    "On tient néanmoins à souligner que cela ne signifie pas qu'étuder le département ne puisse pas donner de résultats significatifs. Le cas des outre mer est assez frappant. En effet, en France métropolitaine \n",
    "seuls le Gers (32), la Creuse (23), l'Ariège (09) le Lot (46) et la Lozère (48) dépassent les 2% de la population atteinte par un cancer de la prostate. Alors que 3 départements d'outre mer sur cinq\n",
    "la Gouadeloupe (971), la Guyane (973) et la Mayotte (976) se place au dessus de 2%. Autrement dit, ce n'est pas que des variables inhérentes au département ne peuvent pas expliquer la propention de ses habitants à être atteints ou non de certaines maladies, mais la difficulté de systématiser cette analyse avec des variables simples. \n",
    "\n",
    "\n",
    "\n",
    "\n",
    "### 2/ SECONDE ETUDES DE CAS : PEUT-ON ESTIMER LA PROPORTION D'HOSPITALISATIONS EN FONCTION DU NIVEAU DE RICHESSE DES HABITANTS D'UN DEPARTEMENT ? \n",
    "\n",
    "\n",
    "En plus des inégalités terrioriales d'accès à la santé, il y a un aspect sociologique du rapport au corps, lié aux pratiques de classes sociales, qui a des conséquences sur le niveaux de santé des individus. Les sociologues Luc Boltanski et Pierre Bourdieu s'y sont intéressés. Dans « Les usages sociaux du corps » (1971), Luc Boltanski constate que les classes populaires consultent pour des motifs graves alors que les catégories supérieures ont une approche plus préventive. De plus, les classes populaires sont les plus grandes consommatrices de tabac et d'alcool et elles ont plus souvent une alimentation déséquilibrée que les membres des classes supérieures, ce qui les rend plus sujettes à la contraction de maladie.\n",
    "Cela a une influence sur le taux de survie face à un cancer. Selon une étude de Santé publique France de 2021, \"Influence de l'environnement social sur la survie des patients atteints d'un cancer en France\", \"l'excès de mortalité lié au cancer peut être jusqu'à deux fois supérieur chez les patients des zones les plus défavorisées par rapport aux patients des zones les moins défavorisées\".\n",
    "\n",
    "Notre objectif pour cette seconde étude de cas est de déterminer si le département est une unité spatiale pertinente pour refléter les pratiques individuelles face à la santé. \n",
    "\n",
    "Nous avons d'abord voulu faire des statistiques sur le niveau de priorité des maladies contenus dans la variable niveau_priorité de la table effectifs, mais elle ne nous donnait des résultats difficiles à interpréter sans avoir plus de renseignements sur sa construction. \n",
    "\n",
    "On pourrait alors envisager qu'un département riche compterait plus d'hospitalisation qu'un département plus pauvre. \n",
    "On va alors pour avoir une bonne idée du revenus des individus au sein d'un département utiliser le classement PIB par habitant des départements et ainsi en comparer plusieurs départements très éloignés dans le classement. \n",
    "\n",
    "Les données datent de 2015 à 2020, on prend le classement par PIB par habitant par département et on garde le dep avec le PIB par habitant le plus élevé (Paris (75), pib/habitant de 127 132€)\n",
    "celui où il est le plus faible (la Creuse (23), pib/habitant de 23 192€),\n",
    "et celui qui est le plus près de la moyenne nationale (Bas-Rhin (67)).\n",
    "Le PIB moyen par habitant en 2021 est de 37 431€ par an.\n",
    " source : wikipedia"
   ]
  },
  {
   "cell_type": "code",
   "execution_count": null,
   "id": "6c344c35-4e57-4bb0-b0ba-ed559f4cfc96",
   "metadata": {},
   "outputs": [],
   "source": [
    "#Récupération de la base avec les effectifs de la population par département\n",
    "url = 'https://www.insee.fr/fr/statistiques/fichier/1893198/estim-pop-dep-sexe-gca-1975-2023.xls'\n",
    "\n",
    "noms_colonnes=['numero_dep','nom_dep','total_habitants']\n",
    "pop_test = pd.read_excel(url, sheet_name='2023',skiprows=3,header=1, usecols = [0,1,7], skipfooter=4, names=noms_colonnes)\n",
    "\n",
    "# Sauvegarde du DataFrame dans un fichier CSV en local\n",
    "pop_test.to_csv('base_pop_dep.csv')\n",
    "\n",
    "# Lecture du fichier CSV en local dans un nouveau DataFrame\n",
    "pop = pd.read_csv('base_pop_dep.csv', sep=\",\", encoding='utf-8', engine='python')\n",
    "\n",
    "# Suppression la colonne 'Unnamed: 0', qui est souvent ajoutée lors de l'écriture dans un fichier CSV\n",
    "pop = pop.drop(['Unnamed: 0'], axis=1)"
   ]
  },
  {
   "cell_type": "code",
   "execution_count": null,
   "id": "240faa27-2559-4b6c-b925-be352acabfdf",
   "metadata": {},
   "outputs": [],
   "source": [
    "# Fusion des tables effectifs, pop et pollution_group_dep\n",
    "\n",
    "merged_df = pd.merge(eff, pollution_group_dep, left_on=['dept'], right_on=['DEP'], \n",
    "                    how='inner')\n",
    "pop_eff_pol = pd.merge(merged_df, pop, left_on=['DEP'], right_on=['numero_dep'], \n",
    "                    how='inner')\n",
    "\n",
    "# Supprimer les colonnes redondantes\n",
    "pop_eff_pol = pop_eff_pol.drop(['numero_dep', 'dept'], axis=1)"
   ]
  },
  {
   "cell_type": "code",
   "execution_count": null,
   "id": "69fad581-0aec-4933-beef-6bbf9f44fab3",
   "metadata": {},
   "outputs": [],
   "source": [
    "pop_eff_pol['nom_dep'].unique()"
   ]
  },
  {
   "cell_type": "code",
   "execution_count": null,
   "id": "3a0f7540-32a6-4fe0-9449-e68add91f3e1",
   "metadata": {},
   "outputs": [],
   "source": [
    "# Liste des départements que l'on garde\n",
    "departements = ['Creuse', 'Ariège', 'Haute-Saône', 'Meuse', 'Gers', 'Yvelines', 'Essonne', 'Rhône', 'Hauts-de-Seine', 'Paris']\n",
    "\n",
    "#Patho_niv1 sélectionné\n",
    "x = 'Cancers'\n",
    "\n",
    "# Création de dictionnaires pour la suite\n",
    "hospitalized_data_by_dep = {}\n",
    "data_by_dep = {}\n",
    "population_by_dep = {}\n",
    "proportion_hospitalized_by_dep = {}\n",
    "\n",
    "# Boucle pour filtrer les données pour chaque département\n",
    "for dep in departements:\n",
    "    data_by_dep[dep] = pop_eff_pol[pop_eff_pol['nom_dep'] == dep]\n",
    "\n",
    "# Boucle pour filtrer les données pour chaque département\n",
    "for dep in departements:\n",
    "    dep_data = pop_eff_pol[pop_eff_pol['nom_dep'] == dep]\n",
    "    hospitalized_data = dep_data[dep_data['patho_niv1'] == x]\n",
    "    hospitalized_data_by_dep[dep] = hospitalized_data\n",
    "\n",
    "# Boucle pour obtenir le nombre d'habitants pour chaque département\n",
    "for dep in departements:\n",
    "    population_by_dep[dep] = pop.loc[pop['nom_dep'] == dep, 'total_habitants'].iloc[0]\n",
    "\n",
    "# Boucle pour calculer les proportions pour chaque département\n",
    "for dep in departements:\n",
    "    # Filtrer les données hospitalisées pour le département actuel\n",
    "    hospitalized_data = data_by_dep[dep][data_by_dep[dep]['patho_niv1'] == x]\n",
    "    # Calculer la proportion de personnes hospitalisées\n",
    "    proportion_hospitalized = len(hospitalized_data) / population_by_dep[dep]\n",
    "    \n",
    "    # Stocker la proportion dans le dictionnaire\n",
    "    proportion_hospitalized_by_dep[dep] = proportion_hospitalized\n",
    "    \n",
    "# Créer une liste pour stocker les tailles des barres\n",
    "sizes = []\n",
    "\n",
    "# Boucle pour récupérer les proportions spécifiques à chaque département\n",
    "for dep in departements:\n",
    "    sizes.append(proportion_hospitalized_by_dep[dep])\n",
    "\n",
    "# Créer un diagramme en barres\n",
    "fig, ax = plt.subplots()\n",
    "ax.bar(departements, sizes, color=['blue'])\n",
    "ax.set_ylabel('Proportion')\n",
    "ax.set_title('Proportion de personnes hospitalisées ponctuellement')\n",
    "ax.set_xticks(ax.get_xticks())\n",
    "ax.set_xticklabels(departements, rotation=45, ha='right')\n",
    "\n",
    "plt.show()\n"
   ]
  },
  {
   "cell_type": "code",
   "execution_count": null,
   "id": "1b488c46-af21-4917-a829-870ddcc3217f",
   "metadata": {},
   "outputs": [],
   "source": [
    "def plot_proportion_hospitalized_by_dep(dataframe, departements, maladie):\n",
    "    # Création de dictionnaires pour la suite\n",
    "    hospitalized_data_by_dep = {}\n",
    "    data_by_dep = {}\n",
    "    population_by_dep = {}\n",
    "    proportion_hospitalized_by_dep = {}\n",
    "\n",
    "    # Boucle pour filtrer les données pour chaque département\n",
    "    for dep in departements:\n",
    "        data_by_dep[dep] = dataframe[dataframe['nom_dep'] == dep]\n",
    "\n",
    "    # Boucle pour filtrer les données pour chaque département\n",
    "    for dep in departements:\n",
    "        dep_data = dataframe[dataframe['nom_dep'] == dep]\n",
    "        hospitalized_data = dep_data[dep_data['patho_niv1'] == maladie]\n",
    "        hospitalized_data_by_dep[dep] = hospitalized_data\n",
    "\n",
    "    # Boucle pour obtenir le nombre d'habitants pour chaque département\n",
    "    for dep in departements:\n",
    "        population_by_dep[dep] = dataframe.loc[dataframe['nom_dep'] == dep, 'total_habitants'].iloc[0]\n",
    "\n",
    "    # Boucle pour calculer les proportions pour chaque département\n",
    "    for dep in departements:\n",
    "        # Filtrer les données hospitalisées pour le département actuel\n",
    "        hospitalized_data = data_by_dep[dep][data_by_dep[dep]['patho_niv1'] == maladie]\n",
    "        # Calculer la proportion de personnes hospitalisées\n",
    "        proportion_hospitalized = len(hospitalized_data) / population_by_dep[dep]\n",
    "\n",
    "        # Stocker la proportion dans le dictionnaire\n",
    "        proportion_hospitalized_by_dep[dep] = proportion_hospitalized\n",
    "\n",
    "    # Créer une liste pour stocker les tailles des barres\n",
    "    sizes = []\n",
    "\n",
    "    # Boucle pour récupérer les proportions spécifiques à chaque département\n",
    "    for dep in departements:\n",
    "        sizes.append(proportion_hospitalized_by_dep[dep])\n",
    "\n",
    "    # Créer un diagramme en barres\n",
    "    fig, ax = plt.subplots()\n",
    "    ax.bar(departements, sizes, color=['blue'])\n",
    "    ax.set_ylabel('Proportion')\n",
    "    ax.set_title(f'Proportion de personnes hospitalisées pour la maladie {maladie}')\n",
    "    ax.set_xticks(ax.get_xticks())\n",
    "    ax.set_xticklabels(departements, rotation=45, ha='right')\n",
    "\n",
    "    plt.show()\n",
    "\n",
    "\n",
    "# Utilisation\n",
    "\n",
    "# Liste des départements que l'on garde\n",
    "departements = ['Creuse', 'Ariège', 'Haute-Saône', 'Meuse', 'Gers', 'Yvelines', 'Essonne', 'Rhône', 'Hauts-de-Seine', 'Paris']\n",
    "plot_proportion_hospitalized_by_dep(pop_eff_pol, departements, 'Cancers')"
   ]
  },
  {
   "cell_type": "markdown",
   "id": "d4c1079f-7d8d-4b2d-bbd1-dac2c0bb7544",
   "metadata": {},
   "source": [
    "## CONCLUSION DE CETTE ETUDES DE CAS :\n",
    "\n",
    "Cellule markdown de conclusion  + \n",
    "La conclusion est a varier selon ce qu'on laisse dans cette partie la.\n",
    "L'idée fondamentale étant :\n",
    "\" On observe des résultats opposés à ceux auxquels on pouvaient intuitivement s'attendre. En effet, les hospitalisations dans les départements riches ne semble pas excéder celles dans des \n",
    "départements plus modestes. Il s'agit peut-être de l'effet agrégeant du département qui en mêlant plusieurs variales et individus asne\u0000t\u0000 \u0000p\u0000l\u0000u\u0000\u0000, diminue le poids d'une variable\n",
    "comme la richesse des habitants. On peut donc en conclure qu'il semble a minima difficile d'estimer que certaines varibales propres a certain département\n",
    "puissent expliquer le comportement médical moyen des individus qui y résident\"\n",
    "\n",
    "transition vers la partie 2 qui pourrait être qq chose comme\n",
    "\n",
    "\" La difficulté est alors de se demander quelles sont les variables parmi celles dont on a accès, dont le poids va pouvoir bien expliquer le niveau de maladie\n",
    "au sein d'un département et donc de juger si le département est bien une unité qui nous dit quelque chose de la manière sont sont représentées spatialement les maladies\" \n",
    "ca reste à modifier selon "
   ]
  },
  {
   "cell_type": "code",
   "execution_count": null,
   "id": "6138f3ef-e11a-4201-a817-8b3b7dfe85fb",
   "metadata": {},
   "outputs": [],
   "source": [
    "# LIMITE DE CETTE APPROCHE \n",
    "La limite de cette approche descriptive réside évidemment dans l'impossibilité pour nous de multiplier  l'infini les graphiques et les comparatifs pour tester tous \n",
    "les cas de figures. Nous pourrions en effet avoir eu de la \"chance\" et être tombé sur deux cas défavorables parmi de nombreux cas qui fonctionnent bien. \n",
    "Néamoins, les différentes pistes que nous avons exploré en travaillant sur ce projet, mais surtout les conclusions que nous tireront en partie II\n",
    "nous incitent à ne pas nous attarder davantage sur cette méthode et à en rester à cette première conclusion quant à cette méthode. "
   ]
  }
 ],
 "metadata": {
  "kernelspec": {
   "display_name": "Python 3 (ipykernel)",
   "language": "python",
   "name": "python3"
  },
  "language_info": {
   "codemirror_mode": {
    "name": "ipython",
    "version": 3
   },
   "file_extension": ".py",
   "mimetype": "text/x-python",
   "name": "python",
   "nbconvert_exporter": "python",
   "pygments_lexer": "ipython3",
   "version": "3.10.13"
  }
 },
 "nbformat": 4,
 "nbformat_minor": 5
}
