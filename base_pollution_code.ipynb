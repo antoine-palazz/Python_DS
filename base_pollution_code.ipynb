{
 "cells": [
  {
   "cell_type": "code",
   "execution_count": null,
   "id": "599a0c53-fe26-4a6f-b97c-905547dedede",
   "metadata": {
    "scrolled": true
   },
   "outputs": [],
   "source": [
    "import numpy as np\n",
    "import pandas as pd\n",
    "import matplotlib.pyplot as plt\n",
    "import requests\n",
    "!pip install --upgrade xlrd #colab bug verson xlrd\n",
    "!pip install geopandas\n",
    "!pip install pandas fiona shapely pyproj rtree\n",
    "!pip install contextily\n",
    "!pip install pygeos\n",
    "!pip install topojson\n",
    "import geopandas as gpd\n",
    "import contextily as ctx\n",
    "import matplotlib.pyplot as plt\n",
    "#!pip install requests py7zr geopandas openpyxl tqdm s3fs PyYAML xlrd\n",
    "#!pip install git+https://github.com/inseefrlab/cartiflette@80b8a5a28371feb6df31d55bcc2617948a5f9b1a"
   ]
  },
  {
   "cell_type": "code",
   "execution_count": null,
   "id": "9bf151c6-04cb-48bb-92a0-4bcc87ae1944",
   "metadata": {},
   "outputs": [],
   "source": [
    "#Importation de la base détaillant les origines de la pollution\n",
    "data_pollution = pd.read_csv(\"https://koumoul.com/data-fair/api/v1/datasets/igt-pouvoir-de-rechauffement-global/convert\", encoding = 'utf-8')"
   ]
  },
  {
   "cell_type": "code",
   "execution_count": null,
   "id": "ff8f18a7-9b38-4699-8f04-39e0936cb6fd",
   "metadata": {},
   "outputs": [],
   "source": [
    "#Dictionnaire associant les numéros de département à ceux des régions\n",
    "\n",
    "correspondance_reg = {\n",
    "    84: ['01', '03', '07', '15', '26', '38', '42', '43', '63', '69', '73', '74'],  # Auvergne-Rhône-Alpes\n",
    "    27: ['21', '25', '39', '58', '70', '71', '89', '90'],  # Bourgogne-Franche-Comté\n",
    "    53: ['22', '29', '35', '56'],  # Bretagne\n",
    "    28: ['18', '28', '36', '37', '41', '45'],  # Centre-Val de Loire\n",
    "    94: ['2A', '2B'],  # Corse\n",
    "    44: ['08', '10', '51', '52', '54', '55', '57', '67', '68', '88'],  # Grand Est\n",
    "    32: ['02', '59', '60', '62', '80'],  # Hauts-de-France\n",
    "    11: ['75', '77', '78', '91', '92', '93', '94', '95'],  # Île-de-France\n",
    "    76: ['14', '27', '50', '61', '76'],  # Normandie\n",
    "    75: ['16', '17', '19', '23', '24', '33', '40', '47', '64', '79', '86', '87'],  # Nouvelle-Aquitaine\n",
    "    24: ['09', '11', '12', '30', '31', '32', '34', '46', '48', '65', '66', '81', '82'],  # Occitanie\n",
    "    52: ['44', '49', '53', '72', '85'],  # Pays de la Loire\n",
    "    93: ['04', '05', '06', '13', '83', '84']  # Provence-Alpes-Côte d'Azur\n",
    "}\n",
    "\n",
    "correspondance_reg = {dep: region for region, deps in correspondance_reg.items() for dep in deps}"
   ]
  },
  {
   "cell_type": "code",
   "execution_count": null,
   "id": "1e2e6060-d0da-4525-b7c7-d19b62e84de4",
   "metadata": {},
   "outputs": [],
   "source": [
    "#Création de la variable département à partir du code commune de l'INSEE\n",
    "data_pollution['DEP'] = data_pollution['INSEE commune'].str[:2]\n",
    "\n",
    "#Chose à laquelle il faut faire attention : \n",
    "#DEP est de type serie car il ne contient pas que de variables numériques (2A et 2B)"
   ]
  },
  {
   "cell_type": "code",
   "execution_count": null,
   "id": "3cb2d9cd-3f5e-4382-acca-590c812999ec",
   "metadata": {},
   "outputs": [],
   "source": [
    "#Création de la variable région à partir de celle du département\n",
    "size = len(data_pollution['DEP'])\n",
    "data_pollution['REG'] = pd.Series([0]*size)\n",
    "\n",
    "for i in range(size) :\n",
    "    data_pollution.loc[i, 'REG'] = correspondance_reg.get(data_pollution['DEP'][i],\"inconnu\")"
   ]
  },
  {
   "cell_type": "code",
   "execution_count": null,
   "id": "18aa1cbb-428e-40dd-90d5-10e1e022c1c3",
   "metadata": {},
   "outputs": [],
   "source": [
    "data_pollution"
   ]
  },
  {
   "cell_type": "code",
   "execution_count": null,
   "id": "e728b825-094c-4ccc-b2d6-c68653e05d9e",
   "metadata": {},
   "outputs": [],
   "source": [
    "REG_DEP_na = data_pollution[(data_pollution['DEP'].isna()) | (data_pollution['REG'].isna())]\n",
    "REG_DEP_na.shape\n",
    "#L'avantage par rapport au code précédent est qu'il n'y a plus de données perdues \n",
    "#ce qui n'était pas le cas avec le merge avec base_geo_pour_merge "
   ]
  },
  {
   "cell_type": "code",
   "execution_count": null,
   "id": "cb751fca-3fc6-4aa5-95a1-33576e6397af",
   "metadata": {},
   "outputs": [],
   "source": [
    "len(data_pollution['REG'].unique())"
   ]
  },
  {
   "cell_type": "code",
   "execution_count": null,
   "id": "11bc9e97-a530-4ecb-b411-1acd0541b4ee",
   "metadata": {},
   "outputs": [],
   "source": [
    "#Somme des niveaux de pollution par département\n",
    "pollution_group_dep = data_pollution.drop(['Commune','INSEE commune', 'REG'], axis = 1).groupby('DEP', as_index=False).sum()\n",
    "pollution_group_dep"
   ]
  },
  {
   "cell_type": "code",
   "execution_count": null,
   "id": "b869235d-d0be-43ba-b4d9-20dbef7281b2",
   "metadata": {},
   "outputs": [],
   "source": [
    "#Somme des niveaux de pollution par région\n",
    "pollution_group_reg = data_pollution.drop(['Commune','INSEE commune', 'DEP'], axis = 1).groupby('REG', as_index = False).sum()\n",
    "pollution_group_reg"
   ]
  },
  {
   "cell_type": "code",
   "execution_count": null,
   "id": "6909ba18-c6bc-4fb7-869f-7064a4c1c314",
   "metadata": {},
   "outputs": [],
   "source": [
    "#Dictionnaire de correspondance des numéro de région avec leur nom\n",
    "#Utile pour l'affiche des graphiques\n",
    "nom_reg = {\n",
    "    84: 'Auvergne-Rhône-Alpes',\n",
    "    27: 'Bourgogne-Franche-Comté',\n",
    "    53: 'Bretagne',\n",
    "    28: 'Centre-Val de Loire',\n",
    "    94: 'Corse',\n",
    "    44: 'Grand Est',\n",
    "    32: 'Hauts-de-France',\n",
    "    11: 'Île-de-France',\n",
    "    76: 'Normandie',\n",
    "    75: 'Nouvelle-Aquitaine',\n",
    "    24: 'Occitanie',\n",
    "    52: 'Pays de la Loire',\n",
    "    93: \"Provence-Alpes-Côte d'Azur\"\n",
    "}"
   ]
  },
  {
   "cell_type": "code",
   "execution_count": null,
   "id": "3d20639c-0551-4231-ba91-74e1cb87c7fe",
   "metadata": {},
   "outputs": [],
   "source": [
    "# Conversion de la colonne 'REG' en type int\n",
    "pollution_group_reg['REG'] = pollution_group_reg['REG'].astype(int)\n",
    "\n",
    "# Création de la variable 'Nom de la région' à partir de celle de la région\n",
    "pollution_group_reg['Nom de la région'] = pollution_group_reg['REG'].map(nom_reg).fillna(\"inconnu\")\n",
    "\n",
    "# Réaranger l'ordre des colonnes\n",
    "colonnes_ordre = ['REG', 'Nom de la région'] + [colonne for colonne in pollution_group_reg.columns if colonne not in ['REG', 'Nom de la région']]\n",
    "pollution_group_reg = pollution_group_reg[colonnes_ordre]"
   ]
  },
  {
   "cell_type": "code",
   "execution_count": null,
   "id": "1d2b648a-f0ef-4f84-bd63-e054b21809ed",
   "metadata": {},
   "outputs": [],
   "source": [
    "pollution_group_reg"
   ]
  },
  {
   "cell_type": "code",
   "execution_count": null,
   "id": "456d9970-463e-4855-bb58-3f62d8de4cc6",
   "metadata": {},
   "outputs": [],
   "source": [
    "set_dep_littoral = (59, 62, 80, 76, 27, 14, 50, 35, \n",
    "                      22, 29, 56, 44, 85, 17, 33, 40, \n",
    "                    64, 66, 11, 34,\n",
    "                    30, 13, 83, 0o6, '2A', '2B')\n",
    "print(set_dep_littoral)"
   ]
  },
  {
   "cell_type": "code",
   "execution_count": null,
   "id": "cadd13bf-8719-486b-9f02-55a08120dbf5",
   "metadata": {},
   "outputs": [],
   "source": [
    "# Importation des bases en local pour faire tourner le code main\n",
    "data_pollution.to_csv('base_pollution.csv', sep=',', index=False, encoding='utf-8')\n",
    "pollution_group_reg.to_csv('pollution_group_reg.csv', sep=',', index=False, encoding='utf-8')\n",
    "pollution_group_dep.to_csv('pollution_group_dep.csv', sep=',', index=False, encoding='utf-8')"
   ]
  }
 ],
 "metadata": {
  "kernelspec": {
   "display_name": "Python 3 (ipykernel)",
   "language": "python",
   "name": "python3"
  },
  "language_info": {
   "codemirror_mode": {
    "name": "ipython",
    "version": 3
   },
   "file_extension": ".py",
   "mimetype": "text/x-python",
   "name": "python",
   "nbconvert_exporter": "python",
   "pygments_lexer": "ipython3",
   "version": "3.10.13"
  }
 },
 "nbformat": 4,
 "nbformat_minor": 5
}
