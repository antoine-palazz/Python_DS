{
 "cells": [
  {
   "cell_type": "code",
   "execution_count": null,
   "id": "f8a2a000-aa04-461c-92b8-7c33f5ab54d2",
   "metadata": {
    "scrolled": true
   },
   "outputs": [],
   "source": [
    "import numpy as np\n",
    "import pandas as pd\n",
    "import matplotlib.pyplot as plt\n",
    "import requests\n",
    "!pip install --upgrade xlrd #colab bug verson xlrd\n",
    "!pip install geopandas\n",
    "!pip install pandas fiona shapely pyproj rtree\n",
    "!pip install contextily\n",
    "!pip install pygeos\n",
    "!pip install topojson\n",
    "import geopandas as gpd\n",
    "import contextily as ctx\n",
    "import matplotlib.pyplot as plt\n",
    "#!pip install requests py7zr geopandas openpyxl tqdm s3fs PyYAML xlrd\n",
    "#!pip install git+https://github.com/inseefrlab/cartiflette@80b8a5a28371feb6df31d55bcc2617948a5f9b1a"
   ]
  },
  {
   "cell_type": "code",
   "execution_count": null,
   "id": "c1edaeb9-1005-4914-bda2-7bb4d93ca446",
   "metadata": {},
   "outputs": [],
   "source": [
    "base_grande = pd.read_csv(\"effectifs.csv\", sep = \";\", encoding = 'utf-8', engine = 'python')\n",
    "base_grande.shape"
   ]
  },
  {
   "cell_type": "code",
   "execution_count": null,
   "id": "eaa778dc-d6a7-4649-b40e-97112ebaf828",
   "metadata": {},
   "outputs": [],
   "source": [
    "base_grande.head()"
   ]
  },
  {
   "cell_type": "code",
   "execution_count": null,
   "id": "cce57daf-578a-43be-89f6-520c47386b47",
   "metadata": {},
   "outputs": [],
   "source": [
    "ind = []\n",
    "for i in range (0,4057201) : \n",
    "    ind.append(i)\n",
    "base_grande['ind'] = ind\n"
   ]
  },
  {
   "cell_type": "code",
   "execution_count": null,
   "id": "ba8998aa-98b1-4acf-be8f-87efd63d6cd0",
   "metadata": {},
   "outputs": [],
   "source": [
    "base_grande.head()"
   ]
  },
  {
   "cell_type": "code",
   "execution_count": null,
   "id": "b1c9d089-7c3f-47dd-a228-365136b83e9a",
   "metadata": {},
   "outputs": [],
   "source": [
    "liste_diff_patho3 = base_grande['patho_niv3'].unique()\n",
    "liste_diff_patho2 = base_grande['patho_niv2'].unique()\n",
    "liste_diff_patho1 = base_grande['patho_niv1'].unique()"
   ]
  },
  {
   "cell_type": "code",
   "execution_count": null,
   "id": "abd1d6bd-ec02-4c9e-aaf7-c73304be4f0b",
   "metadata": {},
   "outputs": [],
   "source": [
    "#creation de la colonne cancer pour simplifier la base\n",
    "\"\"\"\n",
    "set_cancer = set()\n",
    "for i in patho_3_diff : \n",
    "    i.split()\n",
    "    if 'Cancer' in i or 'cancer' in i :\n",
    "        set_cancer.add(i)\n",
    "    else :\n",
    "        continue\n",
    "\"\"\"\n",
    "base_grande = base_grande.dropna()"
   ]
  },
  {
   "cell_type": "code",
   "execution_count": null,
   "id": "5857894f-3978-41b4-be80-1d446808e96c",
   "metadata": {},
   "outputs": [],
   "source": [
    "\"\"\"\n",
    "def creation_indicatrice (colonne_de_depart, nom_de_maladie) : \n",
    "    temporaire = []\n",
    "    for i in colonne_de_depart :\n",
    "        if i == f\"{nom_de_maladie}\" :\n",
    "            temporaire.append(1)\n",
    "        else :\n",
    "            temporaire.append(0)\n",
    "    base_grande.loc[:,f\"{nom_de_maladie}_ind\"] = temporaire\n",
    "\"\"\"\n",
    "#utiliser get_dummies\n",
    "\n",
    "\n",
    "base_grande = pd.get_dummies(base_grande, prefix = 'indicatrice_', columns=['patho_niv1'], dtype='int')\n",
    "\n",
    "base_grande[\"classe_age\"] = base_grande[\"cla_age_5\"].apply(\n",
    "    lambda x: np.mean(list(map(lambda y : int(y), x.split(\"-\")))) if \"-\" in x else (np.nan if x == 'tsage' else 100)\n",
    ")\n"
   ]
  },
  {
   "cell_type": "code",
   "execution_count": null,
   "id": "6b3c510d-02b4-4019-b9fb-89362c961892",
   "metadata": {},
   "outputs": [],
   "source": [
    "#on refait ce qu'on avait sur le main pour pouvoir avoir les memes variables,\n",
    "#la meme taille initiale, les memes individus pour pouvoir voir ou ca coince"
   ]
  },
  {
   "cell_type": "code",
   "execution_count": null,
   "id": "b457dff5-0b73-4363-9c59-64e491ed8263",
   "metadata": {},
   "outputs": [],
   "source": [
    "#base_grande['Cancer'] = base_grande[liste_cancer_ind].sum(axis = 1)"
   ]
  },
  {
   "cell_type": "code",
   "execution_count": null,
   "id": "89c5b518-1386-4d43-9dd5-2c720d998bf9",
   "metadata": {},
   "outputs": [],
   "source": [
    "base_grande = base_grande.drop(['top', 'cla_age_5', 'patho_niv2', 'patho_niv3', 'annee', \n",
    "                                'libelle_classe_age', 'sexe', 'libelle_sexe'], axis = 1)"
   ]
  },
  {
   "cell_type": "code",
   "execution_count": null,
   "id": "fbb9a9f6-1def-4b7e-a922-d573f19cfc88",
   "metadata": {},
   "outputs": [],
   "source": [
    "liste_var = base_grande.columns"
   ]
  },
  {
   "cell_type": "code",
   "execution_count": null,
   "id": "be5e554e-3c96-496d-b276-7176180990f9",
   "metadata": {},
   "outputs": [],
   "source": [
    "print(liste_var)"
   ]
  },
  {
   "cell_type": "code",
   "execution_count": null,
   "id": "efca1734-d5f4-4bc2-9fcd-0af14002369f",
   "metadata": {},
   "outputs": [],
   "source": [
    "df_model_cancer = base_grande[['ind', 'dept', 'classe_age', 'indicatrice__Cancers']]"
   ]
  },
  {
   "cell_type": "code",
   "execution_count": null,
   "id": "f6e8655a-d528-4ad4-9bdd-247781d2fbf9",
   "metadata": {},
   "outputs": [],
   "source": [
    "df_model_cancer.head()"
   ]
  },
  {
   "cell_type": "code",
   "execution_count": null,
   "id": "1ff5551c-e26b-4eca-b01d-fd68416166e5",
   "metadata": {},
   "outputs": [],
   "source": [
    "#https://www.data.gouv.fr/fr/datasets/r/90b9341a-e1f7-4d75-a73c-bbc010c7feeb"
   ]
  },
  {
   "cell_type": "code",
   "execution_count": null,
   "id": "bd07707a-9263-458d-bce0-c36ca7540f74",
   "metadata": {},
   "outputs": [],
   "source": [
    "#debut de la création de carte"
   ]
  },
  {
   "cell_type": "code",
   "execution_count": null,
   "id": "471a08fc-83ea-4cea-8949-ef013104557e",
   "metadata": {},
   "outputs": [],
   "source": [
    "france = gpd.read_file('https://www.data.gouv.fr/fr/datasets/r/90b9341a-e1f7-4d75-a73c-bbc010c7feeb')"
   ]
  },
  {
   "cell_type": "code",
   "execution_count": null,
   "id": "51cd19e6-e3b2-4aea-aba6-7612c7fa9fa2",
   "metadata": {},
   "outputs": [],
   "source": [
    "france.plot()"
   ]
  },
  {
   "cell_type": "code",
   "execution_count": null,
   "id": "8dadf6ae-227f-46f1-b1f7-0e7b462a9ce2",
   "metadata": {},
   "outputs": [],
   "source": [
    "df_carto = pd.merge(left = df_model_cancer, right = france, \n",
    "                    how = 'left', left_on='dept', right_on='code')"
   ]
  },
  {
   "cell_type": "code",
   "execution_count": null,
   "id": "d7ab797a-29e1-40e5-92bd-0818163808a2",
   "metadata": {},
   "outputs": [],
   "source": [
    "df_carto['dept'].unique()"
   ]
  },
  {
   "cell_type": "code",
   "execution_count": null,
   "id": "06b3111a-7907-4161-8f2c-191030e53dc9",
   "metadata": {},
   "outputs": [],
   "source": [
    "dept_manquants = ['999', '974', '971', '972', '973', '976']"
   ]
  },
  {
   "cell_type": "code",
   "execution_count": null,
   "id": "4792f49d-2849-4018-893d-e29f84137423",
   "metadata": {},
   "outputs": [],
   "source": [
    "df_carto = df_carto[~df_carto['dept'].isin(dept_manquants)]"
   ]
  },
  {
   "cell_type": "code",
   "execution_count": null,
   "id": "6a3486d4-0b65-4bd8-bebd-bc0f94bf44b3",
   "metadata": {},
   "outputs": [],
   "source": [
    "cancer_dep = df_carto.groupby('dept')['indicatrice__Cancers'].sum().reset_index()"
   ]
  },
  {
   "cell_type": "code",
   "execution_count": null,
   "id": "fc48b31c-b797-46b0-8ccf-9757e97e940b",
   "metadata": {},
   "outputs": [],
   "source": [
    "df_carto = df_carto.merge(cancer_dep, on='dept', suffixes=('', '_sum'))"
   ]
  },
  {
   "cell_type": "code",
   "execution_count": null,
   "id": "31a287ca-605f-4d0a-a435-b6b310f8a8fa",
   "metadata": {},
   "outputs": [],
   "source": [
    "df_carto = gpd.GeoDataFrame(df_carto, crs='EPSG:4326')"
   ]
  },
  {
   "cell_type": "code",
   "execution_count": null,
   "id": "b53458e6-cdb8-47d7-a2ff-cec7e9598ace",
   "metadata": {},
   "outputs": [],
   "source": [
    "#fig, ax = plt.subplots(figsize=(10, 10))\n",
    "#df_carto.plot(ax=ax, column='Cancers_ind_sum', legend=True, cmap='OrRd')\n",
    "#plt.show()"
   ]
  },
  {
   "cell_type": "code",
   "execution_count": null,
   "id": "9ebe35da-0aab-486d-a524-54f4e0031955",
   "metadata": {},
   "outputs": [],
   "source": [
    "df_carto2 = pd.merge(left = france, right = cancer_dep, \n",
    "                    how = 'left', left_on='code', right_on='dept')\n",
    "fig, ax = plt.subplots(figsize=(10, 10))\n",
    "df_carto2.plot(ax=ax, column='indicatrice__Cancers', legend=True, cmap='OrRd')\n",
    "plt.show()"
   ]
  },
  {
   "cell_type": "code",
   "execution_count": null,
   "id": "27cfde0d-0a44-4b38-8293-3bcec6e6ca7c",
   "metadata": {},
   "outputs": [],
   "source": [
    "df_carto2"
   ]
  },
  {
   "cell_type": "code",
   "execution_count": null,
   "id": "c37118a0-bdca-42e9-9cd3-0a7ea4a10b0e",
   "metadata": {
    "scrolled": true
   },
   "outputs": [],
   "source": [
    "base_pop = pd.read_csv(\"base_pop_dep.csv\")\n",
    "\n",
    "base_pop\n",
    "df_carto2[\"pourcentage_cancer\"] = (df_carto2[\"indicatrice__Cancers\"] / base_pop[\"total_habitants\"])*100\n",
    "\n",
    "df_carto2\n",
    "\n",
    "fig, ax = plt.subplots(figsize=(10, 10))\n",
    "df_carto2.plot(ax=ax, column='pourcentage_cancer', legend=True, cmap='magma')\n",
    "plt.show()\n",
    "\n",
    "#effet de population imp? \n",
    "#reste a voir avec regression/acp/clustering\n",
    "#les departements avec les plus grands taux de cancer semblent etre les departements avec la population agee la plus importante\n",
    "#on ne remarque pas forcement de suite l effet de la pollution sur le nombre de patients atteints de cancer\n",
    "#paris aurait ete plus eleve\n",
    "\n",
    "import folium\n",
    "\n",
    "centroid = df_carto2.geometry.centroid.unary_union.centroid\n",
    "m = folium.Map(location=[centroid.y, centroid.x], zoom_start=10)\n",
    "\n",
    "for i, row in df_carto2.iterrows():\n",
    "    folium.GeoJson(\n",
    "        row['geometry'],\n",
    "        name=f\"Dept: {row['nom']}, Pourcentage Cancer: {row['pourcentage_cancer']}\",\n",
    "        tooltip=f\"Dept: {row['nom']}, Pourcentage Cancer: {row['pourcentage_cancer']}\",\n",
    "    ).add_to(m)\n",
    "m\n"
   ]
  }
 ],
 "metadata": {
  "kernelspec": {
   "display_name": "Python 3 (ipykernel)",
   "language": "python",
   "name": "python3"
  },
  "language_info": {
   "codemirror_mode": {
    "name": "ipython",
    "version": 3
   },
   "file_extension": ".py",
   "mimetype": "text/x-python",
   "name": "python",
   "nbconvert_exporter": "python",
   "pygments_lexer": "ipython3",
   "version": "3.10.13"
  }
 },
 "nbformat": 4,
 "nbformat_minor": 5
}
