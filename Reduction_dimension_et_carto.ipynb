{
 "cells": [
  {
   "cell_type": "code",
   "execution_count": null,
   "id": "f8a2a000-aa04-461c-92b8-7c33f5ab54d2",
   "metadata": {
    "scrolled": true
   },
   "outputs": [],
   "source": [
    "import numpy as np\n",
    "import pandas as pd\n",
    "import matplotlib.pyplot as plt\n",
    "import requests\n",
    "!pip install --upgrade xlrd #colab bug verson xlrd\n",
    "!pip install geopandas\n",
    "!pip install pandas fiona shapely pyproj rtree\n",
    "!pip install contextily\n",
    "!pip install pygeos\n",
    "!pip install topojson\n",
    "import geopandas as gpd\n",
    "import contextily as ctx\n",
    "import matplotlib.pyplot as plt\n",
    "from sklearn.preprocessing import StandardScaler\n",
    "from sklearn.decomposition import PCA\n",
    "from factor_analyzer import FactorAnalyzer\n",
    "from sklearn.cluster import KMeans\n",
    "import seaborn as sns\n",
    "import plotly.express as px\n",
    "!pip install --upgrade geopandas matplotlib\n",
    "#!pip install requests py7zr geopandas openpyxl tqdm s3fs PyYAML xlrd\n",
    "#!pip install git+https://github.com/inseefrlab/cartiflette@80b8a5a28371feb6df31d55bcc2617948a5f9b1a"
   ]
  },
  {
   "cell_type": "code",
   "execution_count": null,
   "id": "c1edaeb9-1005-4914-bda2-7bb4d93ca446",
   "metadata": {},
   "outputs": [],
   "source": [
    "base_grande = pd.read_csv(\"effectifs.csv\", sep = \";\", encoding = 'utf-8', engine = 'python')\n",
    "base_grande.shape"
   ]
  },
  {
   "cell_type": "code",
   "execution_count": null,
   "id": "eaa778dc-d6a7-4649-b40e-97112ebaf828",
   "metadata": {},
   "outputs": [],
   "source": [
    "base_grande.head()"
   ]
  },
  {
   "cell_type": "code",
   "execution_count": null,
   "id": "b1c9d089-7c3f-47dd-a228-365136b83e9a",
   "metadata": {},
   "outputs": [],
   "source": [
    "liste_diff_patho3 = base_grande['patho_niv3'].unique()\n",
    "liste_diff_patho2 = base_grande['patho_niv2'].unique()\n",
    "liste_diff_patho1 = base_grande['patho_niv1'].unique()"
   ]
  },
  {
   "cell_type": "code",
   "execution_count": null,
   "id": "abd1d6bd-ec02-4c9e-aaf7-c73304be4f0b",
   "metadata": {},
   "outputs": [],
   "source": [
    "#creation de la colonne cancer pour simplifier la base\n",
    "\"\"\"\n",
    "set_cancer = set()\n",
    "for i in patho_3_diff : \n",
    "    i.split()\n",
    "    if 'Cancer' in i or 'cancer' in i :\n",
    "        set_cancer.add(i)\n",
    "    else :\n",
    "        continue\n",
    "\"\"\"\n",
    "base_grande = base_grande.dropna()"
   ]
  },
  {
   "cell_type": "code",
   "execution_count": null,
   "id": "5857894f-3978-41b4-be80-1d446808e96c",
   "metadata": {},
   "outputs": [],
   "source": [
    "\"\"\"\n",
    "def creation_indicatrice (colonne_de_depart, nom_de_maladie) : \n",
    "    temporaire = []\n",
    "    for i in colonne_de_depart :\n",
    "        if i == f\"{nom_de_maladie}\" :\n",
    "            temporaire.append(1)\n",
    "        else :\n",
    "            temporaire.append(0)\n",
    "    base_grande.loc[:,f\"{nom_de_maladie}_ind\"] = temporaire\n",
    "\"\"\"\n",
    "#utiliser get_dummies\n",
    "\n",
    "\n",
    "base_grande = pd.get_dummies(base_grande, prefix = 'indicatrice_', columns=['patho_niv1'], dtype='int')\n",
    "\n",
    "base_grande[\"classe_age\"] = base_grande[\"cla_age_5\"].apply(\n",
    "    lambda x: np.mean(list(map(lambda y : int(y), x.split(\"-\")))) if \"-\" in x else (np.nan if x == 'tsage' else 100)\n",
    ")\n"
   ]
  },
  {
   "cell_type": "code",
   "execution_count": null,
   "id": "6b3c510d-02b4-4019-b9fb-89362c961892",
   "metadata": {},
   "outputs": [],
   "source": [
    "#on refait ce qu'on avait sur le main pour pouvoir avoir les memes variables,\n",
    "#la meme taille initiale, les memes individus pour pouvoir voir ou ca coince"
   ]
  },
  {
   "cell_type": "code",
   "execution_count": null,
   "id": "b457dff5-0b73-4363-9c59-64e491ed8263",
   "metadata": {},
   "outputs": [],
   "source": [
    "#base_grande['Cancer'] = base_grande[liste_cancer_ind].sum(axis = 1)"
   ]
  },
  {
   "cell_type": "code",
   "execution_count": null,
   "id": "89c5b518-1386-4d43-9dd5-2c720d998bf9",
   "metadata": {},
   "outputs": [],
   "source": [
    "base_grande = base_grande.drop(['top', 'cla_age_5', 'patho_niv2', 'patho_niv3', 'annee', \n",
    "                                'libelle_classe_age', 'sexe', 'libelle_sexe'], axis = 1)"
   ]
  },
  {
   "cell_type": "code",
   "execution_count": null,
   "id": "efca1734-d5f4-4bc2-9fcd-0af14002369f",
   "metadata": {},
   "outputs": [],
   "source": [
    "df_model_cancer = base_grande[['dept', 'classe_age', 'indicatrice__Cancers']]"
   ]
  },
  {
   "cell_type": "code",
   "execution_count": null,
   "id": "f6e8655a-d528-4ad4-9bdd-247781d2fbf9",
   "metadata": {},
   "outputs": [],
   "source": [
    "df_model_cancer.head()"
   ]
  },
  {
   "cell_type": "code",
   "execution_count": null,
   "id": "1ff5551c-e26b-4eca-b01d-fd68416166e5",
   "metadata": {},
   "outputs": [],
   "source": [
    "#https://www.data.gouv.fr/fr/datasets/r/90b9341a-e1f7-4d75-a73c-bbc010c7feeb"
   ]
  },
  {
   "cell_type": "code",
   "execution_count": null,
   "id": "bd07707a-9263-458d-bce0-c36ca7540f74",
   "metadata": {},
   "outputs": [],
   "source": [
    "#debut de la création de carte"
   ]
  },
  {
   "cell_type": "code",
   "execution_count": null,
   "id": "471a08fc-83ea-4cea-8949-ef013104557e",
   "metadata": {},
   "outputs": [],
   "source": [
    "france = gpd.read_file('https://www.data.gouv.fr/fr/datasets/r/90b9341a-e1f7-4d75-a73c-bbc010c7feeb')"
   ]
  },
  {
   "cell_type": "code",
   "execution_count": null,
   "id": "51cd19e6-e3b2-4aea-aba6-7612c7fa9fa2",
   "metadata": {},
   "outputs": [],
   "source": [
    "france.plot()"
   ]
  },
  {
   "cell_type": "code",
   "execution_count": null,
   "id": "8dadf6ae-227f-46f1-b1f7-0e7b462a9ce2",
   "metadata": {},
   "outputs": [],
   "source": [
    "df_carto = pd.merge(left = df_model_cancer, right = france, \n",
    "                    how = 'left', left_on='dept', right_on='code')"
   ]
  },
  {
   "cell_type": "code",
   "execution_count": null,
   "id": "d7ab797a-29e1-40e5-92bd-0818163808a2",
   "metadata": {},
   "outputs": [],
   "source": [
    "df_carto['dept'].unique()"
   ]
  },
  {
   "cell_type": "code",
   "execution_count": null,
   "id": "06b3111a-7907-4161-8f2c-191030e53dc9",
   "metadata": {},
   "outputs": [],
   "source": [
    "dept_manquants = ['999', '974', '971', '972', '973', '976']"
   ]
  },
  {
   "cell_type": "code",
   "execution_count": null,
   "id": "4792f49d-2849-4018-893d-e29f84137423",
   "metadata": {},
   "outputs": [],
   "source": [
    "df_carto = df_carto[~df_carto['dept'].isin(dept_manquants)]"
   ]
  },
  {
   "cell_type": "code",
   "execution_count": null,
   "id": "6a3486d4-0b65-4bd8-bebd-bc0f94bf44b3",
   "metadata": {},
   "outputs": [],
   "source": [
    "cancer_dep = df_carto.groupby('dept')['indicatrice__Cancers'].sum().reset_index()"
   ]
  },
  {
   "cell_type": "code",
   "execution_count": null,
   "id": "fc48b31c-b797-46b0-8ccf-9757e97e940b",
   "metadata": {},
   "outputs": [],
   "source": [
    "df_carto = df_carto.merge(cancer_dep, on='dept', suffixes=('', '_sum'))"
   ]
  },
  {
   "cell_type": "code",
   "execution_count": null,
   "id": "31a287ca-605f-4d0a-a435-b6b310f8a8fa",
   "metadata": {},
   "outputs": [],
   "source": [
    "df_carto = gpd.GeoDataFrame(df_carto, crs='EPSG:4326')"
   ]
  },
  {
   "cell_type": "code",
   "execution_count": null,
   "id": "b53458e6-cdb8-47d7-a2ff-cec7e9598ace",
   "metadata": {},
   "outputs": [],
   "source": [
    "#fig, ax = plt.subplots(figsize=(10, 10))\n",
    "#df_carto.plot(ax=ax, column='Cancers_ind_sum', legend=True, cmap='OrRd')\n",
    "#plt.show()"
   ]
  },
  {
   "cell_type": "code",
   "execution_count": null,
   "id": "9ebe35da-0aab-486d-a524-54f4e0031955",
   "metadata": {},
   "outputs": [],
   "source": [
    "df_carto2 = pd.merge(left = france, right = cancer_dep, \n",
    "                    how = 'left', left_on='code', right_on='dept')\n",
    "fig, ax = plt.subplots(figsize=(10, 10))\n",
    "df_carto2.plot(ax=ax, column='indicatrice__Cancers', legend=True, cmap='OrRd')\n",
    "plt.show()"
   ]
  },
  {
   "cell_type": "code",
   "execution_count": null,
   "id": "27cfde0d-0a44-4b38-8293-3bcec6e6ca7c",
   "metadata": {},
   "outputs": [],
   "source": [
    "df_carto2"
   ]
  },
  {
   "cell_type": "code",
   "execution_count": null,
   "id": "c37118a0-bdca-42e9-9cd3-0a7ea4a10b0e",
   "metadata": {
    "scrolled": true
   },
   "outputs": [],
   "source": [
    "base_pop = pd.read_csv(\"base_pop_dep.csv\")\n",
    "\n",
    "base_pop\n",
    "df_carto2[\"pourcentage_cancer\"] = (df_carto2[\"indicatrice__Cancers\"] / base_pop[\"total_habitants\"])*100\n",
    "\n",
    "df_carto2\n",
    "\n",
    "fig, ax = plt.subplots(figsize=(10, 10))\n",
    "df_carto2.plot(ax=ax, column='pourcentage_cancer', legend=True, cmap='magma')\n",
    "plt.show()\n",
    "\n",
    "#effet de population imp? \n",
    "#reste a voir avec regression/acp/clustering\n",
    "#les departements avec les plus grands taux de cancer semblent etre les departements avec la population agee la plus importante\n",
    "#on ne remarque pas forcement de suite l effet de la pollution sur le nombre de patients atteints de cancer\n",
    "#paris aurait ete plus eleve\n",
    "\n",
    "import folium\n",
    "\n",
    "centroid = df_carto2.geometry.centroid.unary_union.centroid\n",
    "m = folium.Map(location=[centroid.y, centroid.x], zoom_start=10)\n",
    "\n",
    "for i, row in df_carto2.iterrows():\n",
    "    folium.GeoJson(\n",
    "        row['geometry'],\n",
    "        name=f\"Dept: {row['nom']}, Pourcentage Cancer: {row['pourcentage_cancer']}\",\n",
    "        tooltip=f\"Dept: {row['nom']}, Pourcentage Cancer: {row['pourcentage_cancer']}\",\n",
    "    ).add_to(m)\n",
    "m\n"
   ]
  },
  {
   "cell_type": "code",
   "execution_count": null,
   "id": "004019a0-aa54-402a-9e1f-5e2538d7c621",
   "metadata": {},
   "outputs": [],
   "source": [
    "base_groupe_dep = pd.read_csv('base_groupe_dep_moy_age.csv')\n",
    "\n",
    "base_groupe_dep = base_groupe_dep.drop(['Unnamed: 0'], axis = 1)\n",
    "\n",
    "base_groupe_dep = base_groupe_dep[~base_groupe_dep['dept'].isin(dept_manquants)]\n",
    "\n",
    "base_groupe_dep = base_groupe_dep.merge(base_pop, how='left', left_on = 'dept', right_on = 'numero_dep').drop(['Unnamed: 0'], axis = 1)\n",
    "\n",
    "base_groupe_dep = base_groupe_dep.set_index('dep')\n",
    "\n",
    "num_cols_dep = base_groupe_dep.select_dtypes(include=['number']).columns\n",
    "num_data_dep = base_groupe_dep[num_cols_dep]\n",
    "scaler = StandardScaler()\n",
    "base_standard_dep = scaler.fit_transform(num_data_dep)\n",
    "base_standard_dep = pd.DataFrame(data=base_standard_dep, columns=num_cols_dep, index=base_groupe_dep.index)"
   ]
  },
  {
   "cell_type": "code",
   "execution_count": null,
   "id": "89cc9582-18a7-4a04-97b5-8c7ebc56a8f3",
   "metadata": {},
   "outputs": [],
   "source": [
    "base_standard_dep = base_standard_dep.drop('indicatrice_Hospitalisations ponctuelles (avec ou sans pathologies, traitements ou maternité)', axis = 1)"
   ]
  },
  {
   "cell_type": "code",
   "execution_count": null,
   "id": "2b9d49a5-9aaa-44c7-83e3-1e960fdfba05",
   "metadata": {},
   "outputs": [],
   "source": [
    "base_standard_dep = base_standard_dep.drop(['indicatrice_Autres affections de longue durée (dont 31 et 32)',\n",
    "                                            'indicatrice_Diabète',\n",
    "                                            'indicatrice_Maladies inflammatoires ou rares ou VIH ou SIDA',\n",
    "                                            'indicatrice_Maladies neurologiques ou dégénératives',\n",
    "                                            'indicatrice_Maternité (avec ou sans pathologies)',\n",
    "                                            'indicatrice_Traitements psychotropes (hors pathologies)',\n",
    "                                            'indicatrice_Insuffisance rénale chronique terminale',\n",
    "                                            'indicatrice_Séjours en hospitalisation complète pour prise en charge de la Covid-19',\n",
    "                                           'indicatrice_Traitements du risque vasculaire (hors pathologies)',\n",
    "                                           'indicatrice_Maladies psychiatriques'], axis = 1)\n",
    "#on laisse tomber ces colonnes pour essayer d avoir les maladies qui en theorie devraient \n",
    "#etre causees par la pollution"
   ]
  },
  {
   "cell_type": "code",
   "execution_count": null,
   "id": "fb73fd34-6685-4e06-9929-17418b1086b3",
   "metadata": {},
   "outputs": [],
   "source": [
    "base_standard_dep.columns"
   ]
  },
  {
   "cell_type": "code",
   "execution_count": null,
   "id": "d94acfd3-285c-4d00-8722-84fcc2152286",
   "metadata": {},
   "outputs": [],
   "source": [
    "pca = PCA(n_components=2)\n",
    "pca_result_dep = pca.fit_transform(base_standard_dep)\n",
    "pca_df_dep = pd.DataFrame(data=pca_result_dep, columns=['PC1', 'PC2'])\n",
    "\n",
    "# Apply Promax rotation using factor_analyzer\n",
    "fa_promax = FactorAnalyzer(n_factors=2, rotation='promax')\n",
    "fa_promax_result_dep = fa_promax.fit_transform(base_standard_dep)\n",
    "fa_promax_df_dep = pd.DataFrame(data=fa_promax_result_dep, columns=['Factor1', 'Factor2'])\n",
    "\n",
    "# Get loadings for Promax rotated factors\n",
    "loadings_dep = fa_promax.loadings_\n",
    "loading_matrix_dep = pd.DataFrame(loadings_dep, columns=['Factor1', 'Factor2'], index=base_standard_dep.columns)\n",
    "\n",
    "# Plotting\n",
    "fig, (ax_pca, ax_fa) = plt.subplots(1, 2, figsize=(16, 8))\n",
    "\n",
    "# Plot circle for PCA\n",
    "circle_pca = plt.Circle((0, 0), 1, fill=False, edgecolor='b', linestyle='dashed')\n",
    "ax_pca.add_patch(circle_pca)\n",
    "for i, var_pca in enumerate(pca_df_dep.columns):\n",
    "    ax_pca.arrow(0, 0, pca.components_[0, i], pca.components_[1, i],\n",
    "                 color='r', alpha=0.7, linewidth=0.5, head_width=0.02, head_length=0.02)\n",
    "    ax_pca.text(pca.components_[0, i] * 1.15, pca.components_[1, i] * 1.15, var_pca,\n",
    "                color='b', ha='center', va='center')\n",
    "ax_pca.set_xlim([-1, 1])\n",
    "ax_pca.set_ylim([-1, 1])\n",
    "ax_pca.set_aspect('equal', 'box')\n",
    "ax_pca.set_title('Circle of Correlation for PCA')\n",
    "\n",
    "# Plot circle for Promax rotated factors\n",
    "circle_fa = plt.Circle((0, 0), 1, fill=False, edgecolor='b', linestyle='dashed')\n",
    "ax_fa.add_patch(circle_fa)\n",
    "for i, var_fa in enumerate(loading_matrix_dep.index):\n",
    "    ax_fa.arrow(0, 0, loading_matrix_dep.loc[var_fa, 'Factor1'], loading_matrix_dep.loc[var_fa, 'Factor2'],\n",
    "                color='r', alpha=0.7, linewidth=0.5, head_width=0.02, head_length=0.02)\n",
    "    ax_fa.text(loading_matrix_dep.loc[var_fa, 'Factor1'] * 1.15, loading_matrix_dep.loc[var_fa, 'Factor2'] * 1.15, var_fa,\n",
    "               color='b', ha='center', va='center')\n",
    "ax_fa.set_xlim([-1, 1])\n",
    "ax_fa.set_ylim([-1, 1])\n",
    "ax_fa.set_aspect('equal', 'box')\n",
    "ax_fa.set_title('Circle of Correlation for Promax Rotation')\n",
    "\n",
    "plt.show()\n"
   ]
  },
  {
   "cell_type": "code",
   "execution_count": null,
   "id": "9d1f5a97-cb5c-42df-b1dc-35e611ba1df7",
   "metadata": {},
   "outputs": [],
   "source": [
    "num_clusters_range = range(1, 11)  # You can adjust the range as needed\n",
    "\n",
    "# Fit K-Means models for different cluster numbers\n",
    "inertia_values = []\n",
    "for n_clusters in num_clusters_range:\n",
    "    kmeans = KMeans(n_clusters=n_clusters, random_state=42)\n",
    "    kmeans.fit(base_standard_dep)\n",
    "    inertia_values.append(kmeans.inertia_)\n",
    "\n",
    "# Plot the elbow curve\n",
    "plt.plot(num_clusters_range, inertia_values, marker='o')\n",
    "plt.title('Elbow Method for Optimal Number of Clusters')\n",
    "plt.xlabel('Number of Clusters')\n",
    "plt.ylabel('Inertia (Within-cluster Sum of Squares)')\n",
    "plt.show()"
   ]
  },
  {
   "cell_type": "code",
   "execution_count": null,
   "id": "d5be1708-4379-4c3c-b72e-56caaf9b94c8",
   "metadata": {},
   "outputs": [],
   "source": [
    "print(fa_promax_df_dep.columns)\n"
   ]
  },
  {
   "cell_type": "code",
   "execution_count": null,
   "id": "17ffb813-752a-4338-a349-03d0805b2532",
   "metadata": {},
   "outputs": [],
   "source": [
    "base_standard_dep_reset = base_standard_dep.reset_index()\n",
    "\n",
    "# Print columns of base_standard_dep_reset\n",
    "print(\"Columns of base_standard_dep_reset:\", base_standard_dep_reset.columns)\n",
    "\n",
    "# PCA with Promax rotation\n",
    "pca = PCA(n_components=2)\n",
    "pca_result_bis = pca.fit_transform(base_standard_dep_reset.drop(columns=['dep']))  # Exclude 'dep' from PCA\n",
    "pca_df_reduit = pd.DataFrame(data=pca_result_bis, columns=['PC1', 'PC2'])\n",
    "\n",
    "# Promax rotation\n",
    "fa = FactorAnalyzer(rotation='promax', n_factors=2)\n",
    "fa.fit(base_standard_dep_reset.drop(columns=['dep']))  # Exclude 'dep' from factor analysis\n",
    "rotated_loadings = fa.loadings_\n",
    "\n",
    "# Elbow Method for determining the optimal number of clusters\n",
    "wcss = []  # Within-Cluster Sum of Squares\n",
    "\n",
    "for i in range(1, 11):\n",
    "    kmeans = KMeans(n_clusters=i, init='k-means++', max_iter=300, n_init=10, random_state=0)\n",
    "    kmeans.fit(pca_df_reduit)\n",
    "    wcss.append(kmeans.inertia_)\n",
    "\n",
    "# Plot the elbow method\n",
    "plt.plot(range(1, 11), wcss)\n",
    "plt.title('Elbow Method')\n",
    "plt.xlabel('Number of clusters')\n",
    "plt.ylabel('WCSS')\n",
    "plt.show()\n",
    "\n",
    "# K-means clustering\n",
    "kmeans = KMeans(n_clusters=5, init='k-means++', max_iter=300, n_init=10, random_state=0)\n",
    "base_standard_dep_reset['Cluster'] = kmeans.fit_predict(pca_df_reduit)\n",
    "\n",
    "# Combine PCA results with original DataFrame, including 'dep'\n",
    "df_combined = pd.concat([base_standard_dep_reset[['dep', 'Cluster']], pca_df_reduit], axis=1)\n",
    "\n",
    "# Scatter plot with cluster labels and \"dep\" values using Plotly\n",
    "fig = px.scatter(df_combined, x='PC1', y='PC2', color='Cluster',\n",
    "                 title='PCA Clusters with Labels', labels={'Cluster': 'Cluster'},\n",
    "                 color_continuous_scale='viridis', hover_name='dep')\n",
    "\n",
    "# Show the plot\n",
    "fig.show()\n"
   ]
  },
  {
   "cell_type": "code",
   "execution_count": null,
   "id": "116d9eb7-5f42-47cd-9f52-47e82f294b44",
   "metadata": {},
   "outputs": [],
   "source": [
    "standard_dep = base_standard_dep.merge(france, how='left', left_index=True, right_on='nom')"
   ]
  },
  {
   "cell_type": "code",
   "execution_count": null,
   "id": "5a4f02c6-eb68-4d55-9988-c172742748a7",
   "metadata": {},
   "outputs": [],
   "source": [
    "standard_dep = standard_dep.set_index('nom')\n",
    "base_standard_dep_reset = base_standard_dep_reset.set_index('dep')"
   ]
  },
  {
   "cell_type": "code",
   "execution_count": null,
   "id": "411fc941-78e6-4a42-ab5e-c953bd1ece8b",
   "metadata": {},
   "outputs": [],
   "source": [
    "cluster_column = base_standard_dep_reset['Cluster']\n",
    "\n",
    "# Add 'Cluster' column to standard_dep using .loc with values-based matching\n",
    "standard_dep['Cluster'] = cluster_column.loc[standard_dep.index.values]\n",
    "\n",
    "# Display the updated GeoDataFrame\n",
    "standard_dep.head()"
   ]
  },
  {
   "cell_type": "code",
   "execution_count": null,
   "id": "6c40fdba-8537-4ea0-8fb2-4a0c999c2384",
   "metadata": {},
   "outputs": [],
   "source": [
    "standard_dep = gpd.GeoDataFrame(standard_dep, geometry='geometry')"
   ]
  },
  {
   "cell_type": "code",
   "execution_count": null,
   "id": "3a820beb-f758-4401-8dbd-f70be3788c9e",
   "metadata": {},
   "outputs": [],
   "source": [
    "fig, ax = plt.subplots(figsize=(10, 10))\n",
    "standard_dep.plot(column='Cluster', cmap='viridis', legend=True, ax=ax)\n",
    "ax.set_title('Map with Clusters')\n",
    "plt.show()"
   ]
  },
  {
   "cell_type": "code",
   "execution_count": null,
   "id": "24ae0eff-c5c6-47bd-a289-c8ab16c69aa6",
   "metadata": {},
   "outputs": [],
   "source": []
  }
 ],
 "metadata": {
  "kernelspec": {
   "display_name": "Python 3 (ipykernel)",
   "language": "python",
   "name": "python3"
  },
  "language_info": {
   "codemirror_mode": {
    "name": "ipython",
    "version": 3
   },
   "file_extension": ".py",
   "mimetype": "text/x-python",
   "name": "python",
   "nbconvert_exporter": "python",
   "pygments_lexer": "ipython3",
   "version": "3.10.13"
  }
 },
 "nbformat": 4,
 "nbformat_minor": 5
}
