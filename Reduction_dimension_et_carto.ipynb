{
 "cells": [
  {
   "cell_type": "code",
   "execution_count": null,
   "id": "f8a2a000-aa04-461c-92b8-7c33f5ab54d2",
   "metadata": {
    "scrolled": true
   },
   "outputs": [],
   "source": [
    "import numpy as np\n",
    "import pandas as pd\n",
    "import matplotlib.pyplot as plt\n",
    "import requests\n",
    "!pip install --upgrade xlrd #colab bug verson xlrd\n",
    "!pip install geopandas\n",
    "!pip install pandas fiona shapely pyproj rtree\n",
    "!pip install contextily\n",
    "!pip install pygeos\n",
    "!pip install topojson\n",
    "import geopandas as gpd\n",
    "import contextily as ctx\n",
    "import matplotlib.pyplot as plt\n",
    "from sklearn.preprocessing import StandardScaler\n",
    "from sklearn.decomposition import PCA\n",
    "from factor_analyzer import FactorAnalyzer\n",
    "from sklearn.cluster import KMeans\n",
    "import seaborn as sns\n",
    "import plotly.express as px\n",
    "!pip install --upgrade geopandas matplotlib\n",
    "#!pip install requests py7zr geopandas openpyxl tqdm s3fs PyYAML xlrd\n",
    "#!pip install git+https://github.com/inseefrlab/cartiflette@80b8a5a28371feb6df31d55bcc2617948a5f9b1a"
   ]
  },
  {
   "cell_type": "code",
   "execution_count": null,
   "id": "c1edaeb9-1005-4914-bda2-7bb4d93ca446",
   "metadata": {},
   "outputs": [],
   "source": [
    "base_grande = pd.read_csv(\"effectifs.csv\", sep = \";\", encoding = 'utf-8', engine = 'python')\n",
    "base_grande.shape"
   ]
  },
  {
   "cell_type": "code",
   "execution_count": null,
   "id": "eaa778dc-d6a7-4649-b40e-97112ebaf828",
   "metadata": {},
   "outputs": [],
   "source": [
    "base_grande.head()"
   ]
  },
  {
   "cell_type": "code",
   "execution_count": null,
   "id": "b1c9d089-7c3f-47dd-a228-365136b83e9a",
   "metadata": {},
   "outputs": [],
   "source": [
    "liste_diff_patho3 = base_grande['patho_niv3'].unique()\n",
    "liste_diff_patho2 = base_grande['patho_niv2'].unique()\n",
    "liste_diff_patho1 = base_grande['patho_niv1'].unique()"
   ]
  },
  {
   "cell_type": "code",
   "execution_count": null,
   "id": "abd1d6bd-ec02-4c9e-aaf7-c73304be4f0b",
   "metadata": {},
   "outputs": [],
   "source": [
    "#creation de la colonne cancer pour simplifier la base\n",
    "\"\"\"\n",
    "set_cancer = set()\n",
    "for i in patho_3_diff : \n",
    "    i.split()\n",
    "    if 'Cancer' in i or 'cancer' in i :\n",
    "        set_cancer.add(i)\n",
    "    else :\n",
    "        continue\n",
    "\"\"\"\n",
    "base_grande = base_grande.dropna()"
   ]
  },
  {
   "cell_type": "code",
   "execution_count": null,
   "id": "5857894f-3978-41b4-be80-1d446808e96c",
   "metadata": {},
   "outputs": [],
   "source": [
    "\"\"\"\n",
    "def creation_indicatrice (colonne_de_depart, nom_de_maladie) : \n",
    "    temporaire = []\n",
    "    for i in colonne_de_depart :\n",
    "        if i == f\"{nom_de_maladie}\" :\n",
    "            temporaire.append(1)\n",
    "        else :\n",
    "            temporaire.append(0)\n",
    "    base_grande.loc[:,f\"{nom_de_maladie}_ind\"] = temporaire\n",
    "\"\"\"\n",
    "#utiliser get_dummies\n",
    "\n",
    "\n",
    "base_grande = pd.get_dummies(base_grande, prefix = 'indicatrice_', columns=['patho_niv1'], dtype='int')\n",
    "\n",
    "base_grande[\"classe_age\"] = base_grande[\"cla_age_5\"].apply(\n",
    "    lambda x: np.mean(list(map(lambda y : int(y), x.split(\"-\")))) if \"-\" in x else (np.nan if x == 'tsage' else 100)\n",
    ")\n"
   ]
  },
  {
   "cell_type": "code",
   "execution_count": null,
   "id": "6b3c510d-02b4-4019-b9fb-89362c961892",
   "metadata": {},
   "outputs": [],
   "source": [
    "#on refait ce qu'on avait sur le main pour pouvoir avoir les memes variables,\n",
    "#la meme taille initiale, les memes individus pour pouvoir voir ou ca coince"
   ]
  },
  {
   "cell_type": "code",
   "execution_count": null,
   "id": "b457dff5-0b73-4363-9c59-64e491ed8263",
   "metadata": {},
   "outputs": [],
   "source": [
    "#base_grande['Cancer'] = base_grande[liste_cancer_ind].sum(axis = 1)"
   ]
  },
  {
   "cell_type": "code",
   "execution_count": null,
   "id": "89c5b518-1386-4d43-9dd5-2c720d998bf9",
   "metadata": {},
   "outputs": [],
   "source": [
    "base_grande = base_grande.drop(['top', 'cla_age_5', 'patho_niv2', 'patho_niv3', 'annee', \n",
    "                                'libelle_classe_age', 'sexe', 'libelle_sexe'], axis = 1)"
   ]
  },
  {
   "cell_type": "code",
   "execution_count": null,
   "id": "efca1734-d5f4-4bc2-9fcd-0af14002369f",
   "metadata": {},
   "outputs": [],
   "source": [
    "df_model_cancer = base_grande[['dept', 'classe_age', 'indicatrice__Cancers']]"
   ]
  },
  {
   "cell_type": "code",
   "execution_count": null,
   "id": "f6e8655a-d528-4ad4-9bdd-247781d2fbf9",
   "metadata": {},
   "outputs": [],
   "source": [
    "df_model_cancer.head()"
   ]
  },
  {
   "cell_type": "code",
   "execution_count": null,
   "id": "1ff5551c-e26b-4eca-b01d-fd68416166e5",
   "metadata": {},
   "outputs": [],
   "source": [
    "#https://www.data.gouv.fr/fr/datasets/r/90b9341a-e1f7-4d75-a73c-bbc010c7feeb"
   ]
  },
  {
   "cell_type": "code",
   "execution_count": null,
   "id": "bd07707a-9263-458d-bce0-c36ca7540f74",
   "metadata": {},
   "outputs": [],
   "source": [
    "#debut de la création de carte"
   ]
  },
  {
   "cell_type": "code",
   "execution_count": null,
   "id": "471a08fc-83ea-4cea-8949-ef013104557e",
   "metadata": {},
   "outputs": [],
   "source": [
    "france = gpd.read_file('https://www.data.gouv.fr/fr/datasets/r/90b9341a-e1f7-4d75-a73c-bbc010c7feeb')"
   ]
  },
  {
   "cell_type": "code",
   "execution_count": null,
   "id": "51cd19e6-e3b2-4aea-aba6-7612c7fa9fa2",
   "metadata": {},
   "outputs": [],
   "source": [
    "france.plot()"
   ]
  },
  {
   "cell_type": "code",
   "execution_count": null,
   "id": "8dadf6ae-227f-46f1-b1f7-0e7b462a9ce2",
   "metadata": {},
   "outputs": [],
   "source": [
    "df_carto = pd.merge(left = df_model_cancer, right = france, \n",
    "                    how = 'left', left_on='dept', right_on='code')"
   ]
  },
  {
   "cell_type": "code",
   "execution_count": null,
   "id": "d7ab797a-29e1-40e5-92bd-0818163808a2",
   "metadata": {},
   "outputs": [],
   "source": [
    "df_carto['dept'].unique()"
   ]
  },
  {
   "cell_type": "code",
   "execution_count": null,
   "id": "06b3111a-7907-4161-8f2c-191030e53dc9",
   "metadata": {},
   "outputs": [],
   "source": [
    "dept_manquants = ['999', '974', '971', '972', '973', '976']"
   ]
  },
  {
   "cell_type": "code",
   "execution_count": null,
   "id": "4792f49d-2849-4018-893d-e29f84137423",
   "metadata": {},
   "outputs": [],
   "source": [
    "df_carto = df_carto[~df_carto['dept'].isin(dept_manquants)]"
   ]
  },
  {
   "cell_type": "code",
   "execution_count": null,
   "id": "6a3486d4-0b65-4bd8-bebd-bc0f94bf44b3",
   "metadata": {},
   "outputs": [],
   "source": [
    "cancer_dep = df_carto.groupby('dept')['indicatrice__Cancers'].sum().reset_index()"
   ]
  },
  {
   "cell_type": "code",
   "execution_count": null,
   "id": "fc48b31c-b797-46b0-8ccf-9757e97e940b",
   "metadata": {},
   "outputs": [],
   "source": [
    "df_carto = df_carto.merge(cancer_dep, on='dept', suffixes=('', '_sum'))"
   ]
  },
  {
   "cell_type": "code",
   "execution_count": null,
   "id": "31a287ca-605f-4d0a-a435-b6b310f8a8fa",
   "metadata": {},
   "outputs": [],
   "source": [
    "df_carto = gpd.GeoDataFrame(df_carto, crs='EPSG:4326')"
   ]
  },
  {
   "cell_type": "code",
   "execution_count": null,
   "id": "b53458e6-cdb8-47d7-a2ff-cec7e9598ace",
   "metadata": {},
   "outputs": [],
   "source": [
    "#fig, ax = plt.subplots(figsize=(10, 10))\n",
    "#df_carto.plot(ax=ax, column='Cancers_ind_sum', legend=True, cmap='OrRd')\n",
    "#plt.show()"
   ]
  },
  {
   "cell_type": "code",
   "execution_count": null,
   "id": "9ebe35da-0aab-486d-a524-54f4e0031955",
   "metadata": {},
   "outputs": [],
   "source": [
    "df_carto2 = pd.merge(left = france, right = cancer_dep, \n",
    "                    how = 'left', left_on='code', right_on='dept')\n",
    "fig, ax = plt.subplots(figsize=(10, 10))\n",
    "df_carto2.plot(ax=ax, column='indicatrice__Cancers', legend=True, cmap='OrRd')\n",
    "plt.show()"
   ]
  },
  {
   "cell_type": "code",
   "execution_count": null,
   "id": "27cfde0d-0a44-4b38-8293-3bcec6e6ca7c",
   "metadata": {},
   "outputs": [],
   "source": [
    "df_carto2"
   ]
  },
  {
   "cell_type": "code",
   "execution_count": null,
   "id": "c37118a0-bdca-42e9-9cd3-0a7ea4a10b0e",
   "metadata": {
    "scrolled": true
   },
   "outputs": [],
   "source": [
    "base_pop = pd.read_csv(\"base_pop_dep.csv\")\n",
    "\n",
    "base_pop\n",
    "df_carto2[\"pourcentage_cancer\"] = (df_carto2[\"indicatrice__Cancers\"] / base_pop[\"total_habitants\"])*100\n",
    "\n",
    "df_carto2\n",
    "\n",
    "fig, ax = plt.subplots(figsize=(10, 10))\n",
    "df_carto2.plot(ax=ax, column='pourcentage_cancer', legend=True, cmap='magma')\n",
    "plt.show()\n",
    "\n",
    "#effet de population imp? \n",
    "#reste a voir avec regression/acp/clustering\n",
    "#les departements avec les plus grands taux de cancer semblent etre les departements avec la population agee la plus importante\n",
    "#on ne remarque pas forcement de suite l effet de la pollution sur le nombre de patients atteints de cancer\n",
    "#paris aurait ete plus eleve\n",
    "\n",
    "import folium\n",
    "\n",
    "centroid = df_carto2.geometry.centroid.unary_union.centroid\n",
    "m = folium.Map(location=[centroid.y, centroid.x], zoom_start=10)\n",
    "\n",
    "for i, row in df_carto2.iterrows():\n",
    "    folium.GeoJson(\n",
    "        row['geometry'],\n",
    "        name=f\"Dept: {row['nom']}, Pourcentage Cancer: {row['pourcentage_cancer']}\",\n",
    "        tooltip=f\"Dept: {row['nom']}, Pourcentage Cancer: {row['pourcentage_cancer']}\",\n",
    "    ).add_to(m)\n",
    "m\n"
   ]
  },
  {
   "cell_type": "code",
   "execution_count": null,
   "id": "004019a0-aa54-402a-9e1f-5e2538d7c621",
   "metadata": {},
   "outputs": [],
   "source": [
    "base_groupe_dep = pd.read_csv('base_groupe_dep_moy_age.csv')\n",
    "\n",
    "base_groupe_dep = base_groupe_dep.drop(['Unnamed: 0'], axis = 1)\n",
    "\n",
    "base_groupe_dep = base_groupe_dep[~base_groupe_dep['dept'].isin(dept_manquants)]\n",
    "\n",
    "base_groupe_dep = base_groupe_dep.merge(base_pop, how='left', left_on = 'dept', right_on = 'numero_dep').drop(['Unnamed: 0'], axis = 1)\n",
    "\n",
    "base_groupe_dep = base_groupe_dep.set_index('dep')\n",
    "\n",
    "num_cols_dep = base_groupe_dep.select_dtypes(include=['number']).columns\n",
    "num_data_dep = base_groupe_dep[num_cols_dep]\n",
    "scaler = StandardScaler()\n",
    "base_standard_dep = scaler.fit_transform(num_data_dep)\n",
    "base_standard_dep = pd.DataFrame(data=base_standard_dep, columns=num_cols_dep, index=base_groupe_dep.index)"
   ]
  },
  {
   "cell_type": "code",
   "execution_count": null,
   "id": "4061e66c-0844-445c-8dec-28f8f1619132",
   "metadata": {},
   "outputs": [],
   "source": [
    "base_pop = base_pop.drop(['Unnamed: 0'], axis = 1).set_index('dep')"
   ]
  },
  {
   "cell_type": "code",
   "execution_count": null,
   "id": "89cc9582-18a7-4a04-97b5-8c7ebc56a8f3",
   "metadata": {},
   "outputs": [],
   "source": [
    "base_standard_dep = base_standard_dep.drop('indicatrice_Hospitalisations ponctuelles (avec ou sans pathologies, traitements ou maternité)', axis = 1)"
   ]
  },
  {
   "cell_type": "code",
   "execution_count": null,
   "id": "2b9d49a5-9aaa-44c7-83e3-1e960fdfba05",
   "metadata": {},
   "outputs": [],
   "source": [
    "base_standard_dep = base_standard_dep.drop(['indicatrice_Autres affections de longue durée (dont 31 et 32)',\n",
    "                                            'indicatrice_Diabète',\n",
    "                                            'indicatrice_Maladies inflammatoires ou rares ou VIH ou SIDA',\n",
    "                                            'indicatrice_Maladies neurologiques ou dégénératives',\n",
    "                                            'indicatrice_Maternité (avec ou sans pathologies)',\n",
    "                                            'indicatrice_Traitements psychotropes (hors pathologies)',\n",
    "                                            'indicatrice_Insuffisance rénale chronique terminale',\n",
    "                                            'indicatrice_Séjours en hospitalisation complète pour prise en charge de la Covid-19',\n",
    "                                           'indicatrice_Traitements du risque vasculaire (hors pathologies)',\n",
    "                                           'indicatrice_Maladies psychiatriques'], axis = 1)\n",
    "#on laisse tomber ces colonnes pour essayer d avoir les maladies qui en theorie devraient \n",
    "#etre causees par la pollution"
   ]
  },
  {
   "cell_type": "code",
   "execution_count": null,
   "id": "fb73fd34-6685-4e06-9929-17418b1086b3",
   "metadata": {},
   "outputs": [],
   "source": [
    "base_standard_dep.columns"
   ]
  },
  {
   "cell_type": "code",
   "execution_count": null,
   "id": "d94acfd3-285c-4d00-8722-84fcc2152286",
   "metadata": {},
   "outputs": [],
   "source": [
    "pca = PCA(n_components=2)\n",
    "pca_result_dep = pca.fit_transform(base_standard_dep)\n",
    "pca_df_dep = pd.DataFrame(data=pca_result_dep, columns=['PC1', 'PC2'])\n",
    "\n",
    "# Apply Promax rotation using factor_analyzer\n",
    "fa_promax = FactorAnalyzer(n_factors=2, rotation='promax')\n",
    "fa_promax_result_dep = fa_promax.fit_transform(base_standard_dep)\n",
    "fa_promax_df_dep = pd.DataFrame(data=fa_promax_result_dep, columns=['Factor1', 'Factor2'])\n",
    "\n",
    "# Get loadings for Promax rotated factors\n",
    "loadings_dep = fa_promax.loadings_\n",
    "loading_matrix_dep = pd.DataFrame(loadings_dep, columns=['Factor1', 'Factor2'], index=base_standard_dep.columns)\n",
    "\n",
    "# Plotting\n",
    "fig, (ax_pca, ax_fa) = plt.subplots(1, 2, figsize=(16, 8))\n",
    "\n",
    "# Plot circle for PCA\n",
    "circle_pca = plt.Circle((0, 0), 1, fill=False, edgecolor='b', linestyle='dashed')\n",
    "ax_pca.add_patch(circle_pca)\n",
    "for i, var_pca in enumerate(pca_df_dep.columns):\n",
    "    ax_pca.arrow(0, 0, pca.components_[0, i], pca.components_[1, i],\n",
    "                 color='r', alpha=0.7, linewidth=0.5, head_width=0.02, head_length=0.02)\n",
    "    ax_pca.text(pca.components_[0, i] * 1.15, pca.components_[1, i] * 1.15, var_pca,\n",
    "                color='b', ha='center', va='center')\n",
    "ax_pca.set_xlim([-1, 1])\n",
    "ax_pca.set_ylim([-1, 1])\n",
    "ax_pca.set_aspect('equal', 'box')\n",
    "ax_pca.set_title('Circle of Correlation for PCA')\n",
    "\n",
    "# Plot circle for Promax rotated factors\n",
    "circle_fa = plt.Circle((0, 0), 1, fill=False, edgecolor='b', linestyle='dashed')\n",
    "ax_fa.add_patch(circle_fa)\n",
    "for i, var_fa in enumerate(loading_matrix_dep.index):\n",
    "    ax_fa.arrow(0, 0, loading_matrix_dep.loc[var_fa, 'Factor1'], loading_matrix_dep.loc[var_fa, 'Factor2'],\n",
    "                color='r', alpha=0.7, linewidth=0.5, head_width=0.02, head_length=0.02)\n",
    "    ax_fa.text(loading_matrix_dep.loc[var_fa, 'Factor1'] * 1.15, loading_matrix_dep.loc[var_fa, 'Factor2'] * 1.15, var_fa,\n",
    "               color='b', ha='center', va='center')\n",
    "ax_fa.set_xlim([-1, 1])\n",
    "ax_fa.set_ylim([-1, 1])\n",
    "ax_fa.set_aspect('equal', 'box')\n",
    "ax_fa.set_title('Circle of Correlation for Promax Rotation')\n",
    "\n",
    "plt.show()\n"
   ]
  },
  {
   "cell_type": "code",
   "execution_count": null,
   "id": "9d1f5a97-cb5c-42df-b1dc-35e611ba1df7",
   "metadata": {},
   "outputs": [],
   "source": [
    "num_clusters_range = range(1, 11)  # You can adjust the range as needed\n",
    "\n",
    "# Fit K-Means models for different cluster numbers\n",
    "inertia_values = []\n",
    "for n_clusters in num_clusters_range:\n",
    "    kmeans = KMeans(n_clusters=n_clusters, random_state=42)\n",
    "    kmeans.fit(base_standard_dep)\n",
    "    inertia_values.append(kmeans.inertia_)\n",
    "\n",
    "# Plot the elbow curve\n",
    "plt.plot(num_clusters_range, inertia_values, marker='o')\n",
    "plt.title('Elbow Method for Optimal Number of Clusters')\n",
    "plt.xlabel('Number of Clusters')\n",
    "plt.ylabel('Inertia (Within-cluster Sum of Squares)')\n",
    "plt.show()"
   ]
  },
  {
   "cell_type": "code",
   "execution_count": null,
   "id": "d5be1708-4379-4c3c-b72e-56caaf9b94c8",
   "metadata": {},
   "outputs": [],
   "source": [
    "print(fa_promax_df_dep.columns)\n"
   ]
  },
  {
   "cell_type": "code",
   "execution_count": null,
   "id": "17ffb813-752a-4338-a349-03d0805b2532",
   "metadata": {},
   "outputs": [],
   "source": [
    "base_standard_dep_reset = base_standard_dep.reset_index()\n",
    "\n",
    "# Print columns of base_standard_dep_reset\n",
    "print(\"Columns of base_standard_dep_reset:\", base_standard_dep_reset.columns)\n",
    "\n",
    "# PCA with Promax rotation\n",
    "pca = PCA(n_components=2)\n",
    "pca_result_bis = pca.fit_transform(base_standard_dep_reset.drop(columns=['dep']))  # Exclude 'dep' from PCA\n",
    "pca_df_reduit = pd.DataFrame(data=pca_result_bis, columns=['PC1', 'PC2'])\n",
    "\n",
    "# Promax rotation\n",
    "fa = FactorAnalyzer(rotation='promax', n_factors=2)\n",
    "fa.fit(base_standard_dep_reset.drop(columns=['dep']))  # Exclude 'dep' from factor analysis\n",
    "rotated_loadings = fa.loadings_\n",
    "\n",
    "# Elbow Method for determining the optimal number of clusters\n",
    "wcss = []  # Within-Cluster Sum of Squares\n",
    "\n",
    "for i in range(1, 11):\n",
    "    kmeans = KMeans(n_clusters=i, init='k-means++', max_iter=300, n_init=10, random_state=0)\n",
    "    kmeans.fit(pca_df_reduit)\n",
    "    wcss.append(kmeans.inertia_)\n",
    "\n",
    "# Plot the elbow method\n",
    "plt.plot(range(1, 11), wcss)\n",
    "plt.title('Elbow Method')\n",
    "plt.xlabel('Number of clusters')\n",
    "plt.ylabel('WCSS')\n",
    "plt.show()\n",
    "\n",
    "# K-means clustering\n",
    "kmeans = KMeans(n_clusters=5, init='k-means++', max_iter=300, n_init=10, random_state=0)\n",
    "base_standard_dep_reset['Cluster'] = kmeans.fit_predict(pca_df_reduit)\n",
    "\n",
    "# Combine PCA results with original DataFrame, including 'dep'\n",
    "df_combined = pd.concat([base_standard_dep_reset[['dep', 'Cluster']], pca_df_reduit], axis=1)\n",
    "\n",
    "# Scatter plot with cluster labels and \"dep\" values using Plotly\n",
    "fig = px.scatter(df_combined, x='PC1', y='PC2', color='Cluster',\n",
    "                 title='PCA Clusters with Labels', labels={'Cluster': 'Cluster'},\n",
    "                 color_continuous_scale='viridis', hover_name='dep')\n",
    "\n",
    "# Show the plot\n",
    "fig.show()\n"
   ]
  },
  {
   "cell_type": "code",
   "execution_count": null,
   "id": "116d9eb7-5f42-47cd-9f52-47e82f294b44",
   "metadata": {},
   "outputs": [],
   "source": [
    "standard_dep = base_standard_dep.merge(france, how='left', left_index=True, right_on='nom')"
   ]
  },
  {
   "cell_type": "code",
   "execution_count": null,
   "id": "5a4f02c6-eb68-4d55-9988-c172742748a7",
   "metadata": {},
   "outputs": [],
   "source": [
    "standard_dep = standard_dep.set_index('nom')\n",
    "base_standard_dep_reset = base_standard_dep_reset.set_index('dep')"
   ]
  },
  {
   "cell_type": "code",
   "execution_count": null,
   "id": "411fc941-78e6-4a42-ab5e-c953bd1ece8b",
   "metadata": {
    "scrolled": true
   },
   "outputs": [],
   "source": [
    "cluster_column = base_standard_dep_reset['Cluster']\n",
    "\n",
    "# Add 'Cluster' column to standard_dep using .loc with values-based matching\n",
    "standard_dep['Cluster'] = cluster_column.loc[standard_dep.index.values]\n",
    "\n",
    "# Display the updated GeoDataFrame\n",
    "standard_dep.head()"
   ]
  },
  {
   "cell_type": "code",
   "execution_count": null,
   "id": "56ef2c1e-b3d2-4f45-a103-5bbdfd4fc1f2",
   "metadata": {
    "scrolled": true
   },
   "outputs": [],
   "source": [
    "standard_dep = gpd.GeoDataFrame(standard_dep, geometry='geometry')\n",
    "\n",
    "fig, ax = plt.subplots(figsize=(10, 10))\n",
    "standard_dep.plot(column='Cluster', cmap='viridis', legend=True, ax=ax)\n",
    "ax.set_title('Map with Clusters')\n",
    "plt.show()"
   ]
  },
  {
   "cell_type": "code",
   "execution_count": null,
   "id": "24ae0eff-c5c6-47bd-a289-c8ab16c69aa6",
   "metadata": {},
   "outputs": [],
   "source": [
    "base_pond = base_groupe_dep.drop(['indicatrice_Autres affections de longue durée (dont 31 et 32)',\n",
    "                                            'indicatrice_Diabète',\n",
    "                                            'indicatrice_Maladies inflammatoires ou rares ou VIH ou SIDA',\n",
    "                                            'indicatrice_Maladies neurologiques ou dégénératives',\n",
    "                                            'indicatrice_Maternité (avec ou sans pathologies)',\n",
    "                                            'indicatrice_Traitements psychotropes (hors pathologies)',\n",
    "                                            'indicatrice_Insuffisance rénale chronique terminale',\n",
    "                                            'indicatrice_Séjours en hospitalisation complète pour prise en charge de la Covid-19',\n",
    "                                           'indicatrice_Traitements du risque vasculaire (hors pathologies)',\n",
    "                                           'indicatrice_Maladies psychiatriques'], axis = 1)"
   ]
  },
  {
   "cell_type": "code",
   "execution_count": null,
   "id": "d7ac2ad0-8e6c-471f-ae90-fda2c8bc1a67",
   "metadata": {},
   "outputs": [],
   "source": [
    "base_pond = base_pond.drop('numero_dep', axis = 1)\n",
    "base_pond = base_pond.drop('dept', axis = 1)"
   ]
  },
  {
   "cell_type": "code",
   "execution_count": null,
   "id": "9e53b95d-6a9a-46a4-881c-81e82cc62951",
   "metadata": {},
   "outputs": [],
   "source": [
    "colz = list(base_pond.columns)\n",
    "colz.remove('total_habitants')\n",
    "\n",
    "for i in colz : \n",
    "    base_pond[i] = (base_pond[i]/base_pond['total_habitants'])*100000\n",
    "\n",
    "num_cols_pond = base_pond.select_dtypes(include=['number']).columns\n",
    "num_data_pond = base_pond[num_cols_pond]\n",
    "scaler = StandardScaler()\n",
    "standard_ponderee = scaler.fit_transform(num_data_pond)\n",
    "standard_ponderee = pd.DataFrame(data=standard_ponderee, columns=num_cols_pond, index=base_pond.index)"
   ]
  },
  {
   "cell_type": "code",
   "execution_count": null,
   "id": "4b4e3172-ecfa-44f0-b66f-a5406cd91f83",
   "metadata": {},
   "outputs": [],
   "source": [
    "numeric_columns = standard_ponderee.columns[standard_ponderee.dtypes == 'float64']  # Adjust the type if needed\n",
    "\n",
    "# Perform PCA\n",
    "pca = PCA(n_components=2)\n",
    "pca_result = pca.fit_transform(standard_ponderee[numeric_columns])\n",
    "\n",
    "# Create a DataFrame with PCA results\n",
    "pca_df = pd.DataFrame(data=pca_result, columns=['PC1', 'PC2'])\n",
    "\n",
    "# Plot the correlation circle\n",
    "plt.figure(figsize=(8, 8))\n",
    "circle_pca = plt.Circle((0, 0), 1, fill=False, edgecolor='b', linestyle='dashed')\n",
    "plt.gca().add_patch(circle_pca)\n",
    "\n",
    "for i, (pc1, pc2, var_name) in enumerate(zip(pca.components_[0], pca.components_[1], numeric_columns)):\n",
    "    plt.arrow(0, 0, pc1, pc2, color='red', alpha=0.5, width=0.005, head_width=0.03, linewidth=0.5)\n",
    "    plt.text(pc1 * 1.15, pc2 * 1.15, var_name, color='red')\n",
    "\n",
    "# Set equal scaling to ensure the circle is circular\n",
    "plt.axis('equal')\n",
    "plt.title('Correlation Circle for PCA')\n",
    "plt.xlabel('PC1')\n",
    "plt.ylabel('PC2')\n",
    "plt.show()"
   ]
  },
  {
   "cell_type": "code",
   "execution_count": null,
   "id": "29ba2ca4-813f-4dc1-9d15-6b51ee09752f",
   "metadata": {},
   "outputs": [],
   "source": [
    "pca_df = pd.DataFrame(data=pca_result, columns=['PC1', 'PC2'])\n",
    "\n",
    "# Elbow Method for determining the optimal number of clusters\n",
    "wcss = []  # Within-Cluster Sum of Squares\n",
    "\n",
    "for i in range(1, 11):\n",
    "    kmeans = KMeans(n_clusters=i, init='k-means++', max_iter=300, n_init=10, random_state=0)\n",
    "    kmeans.fit(pca_df)\n",
    "    wcss.append(kmeans.inertia_)\n",
    "\n",
    "# Plot the elbow method\n",
    "plt.plot(range(1, 11), wcss)\n",
    "plt.title('Elbow Method')\n",
    "plt.xlabel('Number of clusters')\n",
    "plt.ylabel('WCSS')\n",
    "plt.show()\n",
    "\n",
    "# Choose the optimal number of clusters based on the elbow method\n",
    "# In this example, let's say the optimal number is 3\n",
    "optimal_clusters = 5\n",
    "\n",
    "# K-means clustering\n",
    "kmeans = KMeans(n_clusters=optimal_clusters, init='k-means++', max_iter=300, n_init=10, random_state=0)\n",
    "standard_ponderee['Cluster'] = kmeans.fit_predict(pca_df)\n",
    "\n",
    "# Visualize the clusters in the PCA space\n",
    "plt.figure(figsize=(10, 8))\n",
    "plt.scatter(pca_df['PC1'], pca_df['PC2'], c=standard_ponderee['Cluster'], cmap='viridis', alpha=0.5)\n",
    "plt.title('K-means Clustering in PCA Space')\n",
    "plt.xlabel('PC1')\n",
    "plt.ylabel('PC2')\n",
    "plt.colorbar(label='Cluster')\n",
    "plt.show()"
   ]
  },
  {
   "cell_type": "code",
   "execution_count": null,
   "id": "2a8497c1-06fd-4888-aeed-81681ce98245",
   "metadata": {},
   "outputs": [],
   "source": [
    "standard_ponderee = standard_ponderee.merge(france, how = 'left', left_index = True, right_on = 'nom')"
   ]
  },
  {
   "cell_type": "code",
   "execution_count": null,
   "id": "c8dfd5c8-e395-41b9-9f65-74931d6000f4",
   "metadata": {},
   "outputs": [],
   "source": [
    "standard_ponderee = gpd.GeoDataFrame(standard_ponderee, geometry='geometry')\n",
    "\n",
    "fig, ax = plt.subplots(figsize=(10, 10))\n",
    "standard_ponderee.plot(column='Cluster', cmap='viridis', legend=True, ax=ax)\n",
    "ax.set_title('Map with Clusters')\n",
    "plt.show()"
   ]
  },
  {
   "cell_type": "code",
   "execution_count": null,
   "id": "56a6b3ff-9993-4e9f-ae67-cd67261f2a54",
   "metadata": {},
   "outputs": [],
   "source": [
    "base_pollution = pd.read_csv('pollution_group_dep.csv')"
   ]
  },
  {
   "cell_type": "code",
   "execution_count": null,
   "id": "c61d0547-755b-4aad-ac28-77d7a9297beb",
   "metadata": {},
   "outputs": [],
   "source": [
    "base_pollution = base_pollution.merge(france, how = 'left', left_on = 'DEP', right_on = 'code')"
   ]
  },
  {
   "cell_type": "code",
   "execution_count": null,
   "id": "31448a17-fe4d-4fec-b2b8-a415fc015d07",
   "metadata": {},
   "outputs": [],
   "source": [
    "base_pollution = base_pollution.drop(['DEP', 'code'], axis = 1)"
   ]
  },
  {
   "cell_type": "code",
   "execution_count": null,
   "id": "6780df06-2e71-47b6-9e6c-ed39ab0d31dc",
   "metadata": {},
   "outputs": [],
   "source": [
    "base_pollution = base_pollution.set_index('nom')"
   ]
  },
  {
   "cell_type": "code",
   "execution_count": null,
   "id": "d3b8ed5a-40a4-40e2-848d-f9ea4509a1a4",
   "metadata": {},
   "outputs": [],
   "source": [
    "numeric_columns = base_pollution.columns[base_pollution.dtypes == 'float64']\n",
    "\n",
    "# Standardize the data\n",
    "scaler = StandardScaler()\n",
    "base_pollution_standardized = scaler.fit_transform(base_pollution[numeric_columns])\n",
    "\n",
    "# Perform PCA\n",
    "pca = PCA(n_components=2)\n",
    "pca_result = pca.fit_transform(base_pollution_standardized)\n",
    "\n",
    "# Create a DataFrame with PCA results\n",
    "pca_df = pd.DataFrame(data=pca_result, columns=['PC1', 'PC2'])\n",
    "\n",
    "# Elbow Method for determining the optimal number of clusters\n",
    "wcss = []  # Within-Cluster Sum of Squares\n",
    "\n",
    "for i in range(1, 11):\n",
    "    kmeans = KMeans(n_clusters=i, init='k-means++', max_iter=300, n_init=10, random_state=0)\n",
    "    kmeans.fit(pca_df)\n",
    "    wcss.append(kmeans.inertia_)\n",
    "\n",
    "# Plot the elbow method\n",
    "plt.plot(range(1, 11), wcss)\n",
    "plt.title('Elbow Method')\n",
    "plt.xlabel('Number of clusters')\n",
    "plt.ylabel('WCSS')\n",
    "plt.show()\n",
    "\n",
    "# Choose the optimal number of clusters based on the elbow method\n",
    "# In this example, let's say the optimal number is 3\n",
    "optimal_clusters = 5\n",
    "\n",
    "# K-means clustering\n",
    "kmeans = KMeans(n_clusters=optimal_clusters, init='k-means++', max_iter=300, n_init=10, random_state=0)\n",
    "base_pollution['Cluster'] = kmeans.fit_predict(pca_df)\n",
    "\n",
    "# Plot the PCA results\n",
    "plt.figure(figsize=(10, 8))\n",
    "scatter = plt.scatter(pca_df['PC1'], pca_df['PC2'], c=base_pollution['Cluster'], cmap='viridis', alpha=0.5)\n",
    "\n",
    "# Add colorbar\n",
    "plt.colorbar(scatter, label='Cluster')\n",
    "\n",
    "plt.title('K-means Clustering in PCA Space')\n",
    "plt.xlabel('PC1')\n",
    "plt.ylabel('PC2')\n",
    "plt.show()\n",
    "\n",
    "# Plot the circle of correlation separately\n",
    "plt.figure(figsize=(8, 8))\n",
    "circle = plt.Circle((0, 0), 1, fill=False, edgecolor='b', linestyle='dashed')\n",
    "plt.gca().add_patch(circle)\n",
    "\n",
    "for i, (pc1, pc2) in enumerate(zip(pca.components_[0], pca.components_[1])):\n",
    "    plt.arrow(0, 0, pc1, pc2, color='red', alpha=0.5, width=0.01, head_width=0.05)\n",
    "    plt.text(pc1 * 1.3, pc2 * 1.3, numeric_columns[i], color='red')\n",
    "\n",
    "plt.axis('equal')\n",
    "plt.title('Circle of Correlation for PCA')\n",
    "plt.xlabel('PC1')\n",
    "plt.ylabel('PC2')\n",
    "plt.show()\n"
   ]
  },
  {
   "cell_type": "code",
   "execution_count": null,
   "id": "c0f327bc-50d4-4b3d-b2a2-5978a96cd637",
   "metadata": {},
   "outputs": [],
   "source": [
    "base_pollution = gpd.GeoDataFrame(base_pollution, geometry='geometry')\n",
    "\n",
    "fig, ax = plt.subplots(figsize=(10, 10))\n",
    "base_pollution.plot(column='Cluster', cmap='viridis', legend=True, ax=ax)\n",
    "ax.set_title('Map with Clusters')\n",
    "plt.show()"
   ]
  },
  {
   "cell_type": "code",
   "execution_count": null,
   "id": "c4d6c91f-23ad-472c-a022-d99f47d2e286",
   "metadata": {},
   "outputs": [],
   "source": [
    "base_pollution.loc[base_pollution['Cluster'] == 4]"
   ]
  },
  {
   "cell_type": "code",
   "execution_count": null,
   "id": "c20863f6-408f-434f-8a3c-85fa78f668d5",
   "metadata": {},
   "outputs": [],
   "source": [
    "#peut etre faire une rotation promax pour mieux voir \n",
    "#les deux seuls departements dans le cluster 4 sont la seine-et-marne et l essonne"
   ]
  },
  {
   "cell_type": "code",
   "execution_count": null,
   "id": "1e17bb3b-ea01-4539-a924-b5c563ecff14",
   "metadata": {},
   "outputs": [],
   "source": []
  }
 ],
 "metadata": {
  "kernelspec": {
   "display_name": "Python 3 (ipykernel)",
   "language": "python",
   "name": "python3"
  },
  "language_info": {
   "codemirror_mode": {
    "name": "ipython",
    "version": 3
   },
   "file_extension": ".py",
   "mimetype": "text/x-python",
   "name": "python",
   "nbconvert_exporter": "python",
   "pygments_lexer": "ipython3",
   "version": "3.10.13"
  }
 },
 "nbformat": 4,
 "nbformat_minor": 5
}
