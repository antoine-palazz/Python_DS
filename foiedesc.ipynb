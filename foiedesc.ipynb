{
 "cells": [
  {
   "cell_type": "code",
   "execution_count": null,
   "id": "a7edf935-4431-44b7-9c68-8e2fbccbcd01",
   "metadata": {},
   "outputs": [],
   "source": [
    "import numpy as np\n",
    "import pandas as pd\n",
    "import matplotlib.pyplot as plt\n",
    "import requests\n",
    "!pip install --upgrade xlrd #colab bug verson xlrd\n",
    "!pip install geopandas\n",
    "!pip install pandas fiona shapely pyproj rtree\n",
    "!pip install contextily\n",
    "!pip install pygeos\n",
    "!pip install topojson\n",
    "import geopandas as gpd\n",
    "import contextily as ctx\n",
    "import matplotlib.pyplot as plt\n",
    "#!pip install requests py7zr geopandas openpyxl tqdm s3fs PyYAML xlrd\n",
    "#!pip install git+https://github.com/inseefrlab/cartiflette@80b8a5a28371feb6df31d55bcc2617948a5f9b1a"
   ]
  },
  {
   "cell_type": "code",
   "execution_count": null,
   "id": "6e359c82-d35a-4eaa-ac0c-d26b652e0a6f",
   "metadata": {},
   "outputs": [],
   "source": [
    "base_grande = pd.read_csv(\"effectifs.csv\", sep = \";\", encoding = 'utf-8', engine = 'python')\n",
    "base_grande.shape\n",
    "base_grande = base_grande.dropna()\n",
    "base_grande = pd.get_dummies(base_grande, prefix = 'indicatrice_', columns=['patho_niv1'], dtype='int')\n",
    "\n",
    "\n",
    "liste_var = base_grande.columns[17:]\n",
    "liste_bis = []\n",
    "for i in liste_var : \n",
    "    liste_bis.append(i)\n",
    "indicatrice_patho_niv1 = liste_bis\n",
    "\n",
    "inter_def = []\n",
    "for i in liste_auxil :\n",
    "    if i in inter_excl : \n",
    "        inter_def = inter_def\n",
    "    else : \n",
    "        inter_def.append(i)\n",
    "classe_age = []\n",
    "for i in base_grande['cla_age_5'] : \n",
    "    if i in inter_def :\n",
    "        temp = i.split('-')\n",
    "        temp[0] = int(temp[0])\n",
    "        temp[1] = int(temp[1])\n",
    "        age = (temp[1] + temp[0])/2\n",
    "    elif i == 'tsage' : \n",
    "        age = np.nan\n",
    "    elif i == '95et+' : \n",
    "        age = 100\n",
    "    else : \n",
    "        age = np.nan\n",
    "    classe_age.append(age)\n",
    "base_grande.loc[:,'classe_age'] = classe_age"
   ]
  },
  {
   "cell_type": "code",
   "execution_count": null,
   "id": "9e2c5633-029c-4b9a-8618-078cf1fe4f0b",
   "metadata": {},
   "outputs": [],
   "source": []
  },
  {
   "cell_type": "code",
   "execution_count": null,
   "id": "ace939dc-22a0-4d72-a3cf-43edac8a2aa7",
   "metadata": {},
   "outputs": [],
   "source": [
    "base_grande"
   ]
  },
  {
   "cell_type": "code",
   "execution_count": null,
   "id": "15362cc8-8f51-4975-b54f-9ff208623df3",
   "metadata": {},
   "outputs": [],
   "source": [
    "model_foie_alpha = base_grande[['dept', 'classe_age','indicatrice__Maladies du foie ou du pancréas (hors mucoviscidose)','sexe','region']]"
   ]
  },
  {
   "cell_type": "code",
   "execution_count": null,
   "id": "1733f4a3-c6ac-4da9-9677-06e153fc120c",
   "metadata": {},
   "outputs": [],
   "source": [
    "model_foie_alpha.columns = model_foie_alpha.columns.str.replace(' ', '_')"
   ]
  },
  {
   "cell_type": "code",
   "execution_count": null,
   "id": "c41f14fa-f438-4261-bb37-2198de8d1f28",
   "metadata": {},
   "outputs": [],
   "source": [
    "model_foie_alpha"
   ]
  },
  {
   "cell_type": "code",
   "execution_count": null,
   "id": "132d7644-87eb-4745-88e7-ec2c5be88973",
   "metadata": {},
   "outputs": [],
   "source": [
    "resultats = model_foie_alpha[model_foie_alpha['indicatrice__Maladies_du_foie_ou_du_pancréas_(hors_mucoviscidose)'] == 1].groupby('classe_age').size()\n",
    "resultats\n",
    "#exactement le même problème que pour la respiration même nombre \n",
    "#fixed"
   ]
  },
  {
   "cell_type": "code",
   "execution_count": null,
   "id": "ab275c46-42f6-47b7-8c64-2c40c8f2b7ad",
   "metadata": {},
   "outputs": [],
   "source": [
    "# Filtrez les lignes où la colonne 'indicatrice__Maladies_respiratoires_chroniques_(hors_mucoviscidose)' est égale à 1\n",
    "T_filtered = model_foie_alpha[model_foie_alpha['indicatrice__Maladies_du_foie_ou_du_pancréas_(hors_mucoviscidose)'] == 1]\n",
    "\n",
    "# Agrégation par âge pour compter le nombre d'individus\n",
    "agg_data = T_filtered.groupby('classe_age').size().reset_index(name='nombre_de_cas')\n",
    "\n",
    "# Créez un histogramme\n",
    "plt.bar(agg_data['classe_age'], height=agg_data['nombre_de_cas'])\n",
    "\n",
    "# Ajoutez des étiquettes et un titre\n",
    "plt.xlabel('Classe d\\'âge')\n",
    "plt.ylabel('Nombre de cas de maladies du foie ou du pancréas chroniques')\n",
    "plt.title('Nombre de cas de maladies du fois ou du pancréas chroniques par classe d\\'âge')\n",
    "\n",
    "# Affichez l'histogramme\n",
    "plt.show()"
   ]
  },
  {
   "cell_type": "code",
   "execution_count": null,
   "id": "718e1aa3-9f3d-46ad-a969-09476095e784",
   "metadata": {},
   "outputs": [],
   "source": [
    "counts = model_foie_alpha['classe_age'].value_counts()\n",
    "print(counts)"
   ]
  },
  {
   "cell_type": "code",
   "execution_count": null,
   "id": "947bce3b-4640-4dd9-ac8c-1154ac76931a",
   "metadata": {},
   "outputs": [],
   "source": []
  }
 ],
 "metadata": {
  "kernelspec": {
   "display_name": "Python 3 (ipykernel)",
   "language": "python",
   "name": "python3"
  },
  "language_info": {
   "codemirror_mode": {
    "name": "ipython",
    "version": 3
   },
   "file_extension": ".py",
   "mimetype": "text/x-python",
   "name": "python",
   "nbconvert_exporter": "python",
   "pygments_lexer": "ipython3",
   "version": "3.10.13"
  }
 },
 "nbformat": 4,
 "nbformat_minor": 5
}
