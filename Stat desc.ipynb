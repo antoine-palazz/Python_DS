{
 "cells": [
  {
   "cell_type": "code",
   "execution_count": null,
   "id": "056534a4-05de-42e5-8857-194e1b5a79a3",
   "metadata": {},
   "outputs": [],
   "source": [
    "import numpy as np\n",
    "import pandas as pd\n",
    "import matplotlib.pyplot as plt\n",
    "import requests\n",
    "!pip install --upgrade xlrd #colab bug verson xlrd\n",
    "!pip install geopandas\n",
    "!pip install pandas fiona shapely pyproj rtree\n",
    "!pip install contextily\n",
    "!pip install pygeos\n",
    "!pip install topojson\n",
    "import geopandas as gpd\n",
    "import contextily as ctx\n",
    "import matplotlib.pyplot as plt\n",
    "#!pip install requests py7zr geopandas openpyxl tqdm s3fs PyYAML xlrd\n",
    "#!pip install git+https://github.com/inseefrlab/cartiflette@80b8a5a28371feb6df31d55bcc2617948a5f9b1a"
   ]
  },
  {
   "cell_type": "code",
   "execution_count": null,
   "id": "94f8718b-e945-476d-badf-2dbf55bdebdc",
   "metadata": {},
   "outputs": [],
   "source": [
    "eff = pd.read_csv(\"effectifs.csv\", sep = \";\", encoding = 'utf-8', engine = 'python')"
   ]
  },
  {
   "cell_type": "code",
   "execution_count": null,
   "id": "aa1781a8-597c-476b-9cf0-c54d4fddac45",
   "metadata": {},
   "outputs": [],
   "source": [
    "eff.shape"
   ]
  },
  {
   "cell_type": "code",
   "execution_count": null,
   "id": "9bb2de2c-c9f1-442e-a9a5-96bc16eebb62",
   "metadata": {},
   "outputs": [],
   "source": [
    "eff"
   ]
  },
  {
   "cell_type": "code",
   "execution_count": null,
   "id": "aca08aad-b953-4f9f-860a-b4904151fe79",
   "metadata": {},
   "outputs": [],
   "source": [
    "len(eff['patho_niv1'].unique())\n"
   ]
  },
  {
   "cell_type": "code",
   "execution_count": null,
   "id": "f7b18068-dec4-47a7-a7cd-e9aa72411e8b",
   "metadata": {},
   "outputs": [],
   "source": [
    "len(eff['cla_age_5'].unique())"
   ]
  },
  {
   "cell_type": "code",
   "execution_count": null,
   "id": "98f166f1-b75f-493d-baac-32360e29a357",
   "metadata": {},
   "outputs": [],
   "source": [
    "#On a 4 valeurs pour la variable sexe\n",
    "len(eff['sexe'].unique())"
   ]
  },
  {
   "cell_type": "code",
   "execution_count": null,
   "id": "bc92d7c4-9fff-4063-a69d-9f7a6fbe8618",
   "metadata": {},
   "outputs": [],
   "source": [
    "eff['sexe'].isin([1.0, 2.0]).sum()"
   ]
  },
  {
   "cell_type": "code",
   "execution_count": null,
   "id": "ef106c66-efc2-4126-a03c-c7e24d2abe19",
   "metadata": {},
   "outputs": [],
   "source": [
    "eff['sexe'].eq(9.0).sum()"
   ]
  },
  {
   "cell_type": "code",
   "execution_count": null,
   "id": "616f61b9-138f-4db2-8d9a-23b821dd547c",
   "metadata": {},
   "outputs": [],
   "source": [
    "#On regroupe toutes les valeurs inconnues\n",
    "#On n'a plus que 3 valeurs possibles pour sexe\n",
    "eff['sexe'].replace(9.0, np.nan, inplace=True)"
   ]
  },
  {
   "cell_type": "code",
   "execution_count": null,
   "id": "79b56f64-28bf-4808-a076-589e320b8aa9",
   "metadata": {},
   "outputs": [],
   "source": [
    "len(eff['sexe'].unique())"
   ]
  },
  {
   "cell_type": "code",
   "execution_count": null,
   "id": "1078d2e8-5f16-42c8-a3d9-6b5fc6161d1c",
   "metadata": {},
   "outputs": [],
   "source": [
    "#Diagramme en barres sur le nombre de cas par type de maladie\n",
    "\n",
    "# Compter le nombre de cas par type de maladie\n",
    "counts = eff['patho_niv1'].value_counts()\n",
    "\n",
    "# Créer le diagramme en barres\n",
    "plt.bar(counts.index, counts.values,  width=0.6)\n",
    "plt.xlabel('Type de maladie')\n",
    "plt.ylabel('Nombre de cas')\n",
    "plt.title('Nombre de cas par type de maladie')\n",
    "\n",
    "# Ajouter des lignes horizontales en arrière-plan\n",
    "for y in range(0, max(counts.values) + 1, 50000):  # Ajuster l'espacement des lignes selon vos besoins\n",
    "    plt.axhline(y, color='gray', linestyle='--', linewidth=0.5)\n",
    "\n",
    "# Rotation des étiquettes en diagonale\n",
    "plt.xticks(rotation=45, ha='right')\n",
    "\n",
    "plt.show()"
   ]
  },
  {
   "cell_type": "code",
   "execution_count": null,
   "id": "d74c276b-5dbd-42a7-abf0-ddd432bed2ad",
   "metadata": {},
   "outputs": [],
   "source": [
    "#Cela pourrait être pas mal de faire un diagramme sur la proportion\n",
    "# de la population de chaquee département/région qui a été touchée par une des telles maladies\n",
    "#mais pour cela il faudrait la population totale de chaque département"
   ]
  },
  {
   "cell_type": "code",
   "execution_count": null,
   "id": "040059b8-76f1-4abf-ba91-0b89f8e878c2",
   "metadata": {},
   "outputs": [],
   "source": [
    "#Diagramme en barre pour le nombre de malades en fonction du sexe\n",
    "#On ne voit pas de différence à cause de l'échelle\n",
    "#sélectionner qq colonnes et \"zoomer\"\n",
    "#en fait les résultats affichés me paraissent louches\n",
    "\n",
    "# Compter le nombre de cas par type de maladie et par genre\n",
    "counts = eff.groupby(['patho_niv1', 'libelle_sexe']).size().unstack(fill_value=0)\n",
    "\n",
    "# Créer le diagramme en barres\n",
    "ax = counts.plot(kind='bar', stacked=False)\n",
    "\n",
    "# Ajouter des lignes horizontales dans l'arrière-plan\n",
    "for y in range(50, max(counts.max())+1, 50000):\n",
    "    ax.axhline(y=y, color='gray', linestyle='--', linewidth=0.5)\n",
    "\n",
    "# Orienter le texte sur l'axe des x \n",
    "plt.xticks(rotation=45, ha='right')\n",
    "\n",
    "\n",
    "plt.xlabel('Type de maladie')\n",
    "plt.ylabel('Nombre de cas')\n",
    "plt.title('Nombre de cas par type de maladie chez les individus par genre')\n",
    "plt.legend(title='Genre', loc='upper right')\n",
    "\n",
    "plt.show()\n"
   ]
  },
  {
   "cell_type": "code",
   "execution_count": null,
   "id": "756ad322-7521-4612-b91e-83219b1122bc",
   "metadata": {},
   "outputs": [],
   "source": [
    "# Maladies les plus répandues chez les hommes\n",
    "\n",
    "patho_niv3_counts = eff[eff['sexe'] == 1.0]['patho_niv2'].value_counts()\n",
    "\n",
    "# Sélectionner les 10 maladies les plus répandues\n",
    "top_10_maladies = patho_niv3_counts.head(10)\n",
    "\n",
    "# Calculer le pourcentage d'hommes ayant contracté chaque maladie parmi l'ensemble de la population soignée\n",
    "pourcentages = (top_10_maladies / len(eff[eff['sexe'] == 1.0])) * 100\n",
    "\n",
    "# Créer le graphique en barres\n",
    "pourcentages.plot(kind='bar', color='mediumaquamarine')\n",
    "\n",
    "\n",
    "plt.xlabel('Type de maladie (patho_niv2)')\n",
    "plt.ylabel('Parmi ceux qui ont reçu des soins,\\n pourcentage d\\'hommes concerné par la maladie')\n",
    "plt.title('Les 10 maladies les plus répandues chez les hommes')\n",
    "plt.xticks(rotation=45, ha='right')\n",
    "\n",
    "plt.show()"
   ]
  },
  {
   "cell_type": "code",
   "execution_count": null,
   "id": "632a3424-32b3-4957-a74b-cd89accc96b5",
   "metadata": {},
   "outputs": [],
   "source": [
    "# il y a autant de personnes pour chaque classe d'âge comme le montre le graph\n",
    "# faire attention à l'interprétation causale !!!!\n",
    "\n",
    "# Compter le nombre d'individus par tranche d'âge\n",
    "age_counts = eff['cla_age_5'].value_counts()\n",
    "\n",
    "# Calculer la proportion d'individus dans chaque tranche d'âge\n",
    "age_proportions = age_counts / age_counts.sum()\n",
    "\n",
    "# Trier les proportions par index (tranches d'âge) en ordre croissant\n",
    "age_proportions = age_proportions.sort_index()\n",
    "\n",
    "# Créer le diagramme en barres\n",
    "ax = age_proportions.plot(kind='bar', color='green')\n",
    "\n",
    "# Ajouter des étiquettes aux barres\n",
    "for i, proportion in enumerate(age_proportions):\n",
    "    ax.text(i, proportion + 0.01, f'{proportion:.2%}', ha='center', va='bottom')\n",
    "\n",
    "plt.xlabel('Tranche d\\'âge')\n",
    "plt.ylabel('Proportion d\\'individus')\n",
    "plt.title('Proportion d\\'individus dans chaque tranche d\\'âge')\n",
    "plt.show()\n"
   ]
  },
  {
   "cell_type": "code",
   "execution_count": null,
   "id": "ce8561a6-8549-4cdd-98d7-0b81547970fd",
   "metadata": {},
   "outputs": [],
   "source": [
    "#valide le fait qu'il y a autant d'indiv dans chaque classe d'âge\n",
    "for x in eff['cla_age_5'].unique():\n",
    "   print(x, eff['cla_age_5'].eq(x).sum())"
   ]
  },
  {
   "cell_type": "code",
   "execution_count": null,
   "id": "139dbcb8-602e-490a-b1d3-13194a838ea9",
   "metadata": {},
   "outputs": [],
   "source": [
    "data_pollution = pd.read_csv(\"base_pollution.csv\", sep = \",\", encoding = 'utf-8', engine = 'python')"
   ]
  },
  {
   "cell_type": "code",
   "execution_count": null,
   "id": "483257c3-2ae0-451e-a678-32936474e86f",
   "metadata": {},
   "outputs": [],
   "source": [
    "data_pollution"
   ]
  },
  {
   "cell_type": "code",
   "execution_count": null,
   "id": "645650e7-a08c-4648-ad7d-fcf7dc53dae9",
   "metadata": {},
   "outputs": [],
   "source": [
    "pollution_group_dep = pd.read_csv(\"pollution_group_dep.csv\", sep = \",\", encoding = 'utf-8', engine = 'python')"
   ]
  },
  {
   "cell_type": "code",
   "execution_count": null,
   "id": "f69063ad-f551-41f1-81dc-2e8c8559f9d8",
   "metadata": {},
   "outputs": [],
   "source": [
    "pollution_group_reg = pd.read_csv(\"pollution_group_reg.csv\", sep = \",\", encoding = 'utf-8', engine = 'python')"
   ]
  },
  {
   "cell_type": "code",
   "execution_count": null,
   "id": "fae53bda-b7cd-4ade-9843-d4a7368cc1fb",
   "metadata": {},
   "outputs": [],
   "source": [
    "pollution_group_dep"
   ]
  },
  {
   "cell_type": "code",
   "execution_count": null,
   "id": "6f48863d-4e8e-45ca-b825-34c65a21ae66",
   "metadata": {},
   "outputs": [],
   "source": [
    "pollution_group_reg"
   ]
  },
  {
   "cell_type": "code",
   "execution_count": null,
   "id": "f3c26f9d-fe5f-4fc7-8f00-c403a44e85e6",
   "metadata": {},
   "outputs": [],
   "source": [
    "# Sommez les colonnes 3 à 12 pour chaque région\n",
    "pollution_agregee = pollution_group_reg.groupby('Nom de la région').sum().iloc[:, 1:11]\n",
    "\n",
    "# Créez un histogramme\n",
    "pollution_agregee.plot(kind='bar', stacked=True)\n",
    "plt.xlabel('Nom de la région')\n",
    "plt.ylabel('Niveau agrégé de pollution')\n",
    "plt.title('Niveau agrégé de pollution par région')\n",
    "plt.legend(title='Variables de pollution', bbox_to_anchor=(1.05, 1), loc='upper left')\n",
    "plt.xticks(rotation=45, ha='right')\n",
    "\n",
    "plt.show()"
   ]
  },
  {
   "cell_type": "code",
   "execution_count": null,
   "id": "fd97cb20-7953-46b7-a795-5c3ad0fce328",
   "metadata": {},
   "outputs": [],
   "source": [
    "x = input(\"Entrer un numéro de département (mettre un 0 devant si c'est un chiffre) : \")"
   ]
  },
  {
   "cell_type": "code",
   "execution_count": null,
   "id": "2f67a24e-69c2-43f5-b69d-e7783c6eabf3",
   "metadata": {},
   "outputs": [],
   "source": [
    "# Sélectionnez les données pour le département x\n",
    "pollution_dep_91 = pollution_group_dep[pollution_group_dep['DEP'] == x]\n",
    "\n",
    "# Sélectionnez les colonnes correspondant aux sources de pollution\n",
    "sources_pollution = pollution_dep_91.columns[1:10]\n",
    "\n",
    "# Créez un diagramme en barres\n",
    "plt.bar(sources_pollution, pollution_dep_91.iloc[0, 1:10])\n",
    "plt.xlabel('Sources de pollution')\n",
    "plt.ylabel('Niveau de pollution')\n",
    "plt.title('Niveau de pollution par source pour le département {}'.format(x))\n",
    "plt.xticks(rotation=45, ha='right')\n",
    "\n",
    "plt.show()\n"
   ]
  },
  {
   "cell_type": "code",
   "execution_count": null,
   "id": "0637363d-626a-487b-9a93-27a50d1f5509",
   "metadata": {},
   "outputs": [],
   "source": [
    "## Stat desc sur les maladies du foie"
   ]
  },
  {
   "cell_type": "code",
   "execution_count": null,
   "id": "3e8db5e3-84fd-411d-94c0-11e62ee90b86",
   "metadata": {},
   "outputs": [],
   "source": [
    "#Création d'une base avec des indicatrices\n",
    "base_grande = eff\n",
    "base_grande = base_grande.dropna()\n",
    "base_grande = pd.get_dummies(base_grande, prefix = 'indicatrice_', columns=['patho_niv1'], dtype='int')\n",
    "\n",
    "liste_var = base_grande.columns[17:]\n",
    "liste_bis = []\n",
    "for i in liste_var : \n",
    "    liste_bis.append(i)\n",
    "indicatrice_patho_niv1 = liste_bis\n",
    "\n",
    "liste_auxil = base_grande['cla_age_5'].unique()\n",
    "inter_excl = ('95et+', 'tsage', np.nan)\n",
    "\n",
    "inter_def = []\n",
    "for i in liste_auxil :\n",
    "    if i in inter_excl : \n",
    "        inter_def = inter_def\n",
    "    else : \n",
    "        inter_def.append(i)\n",
    "classe_age = []\n",
    "for i in base_grande['cla_age_5'] : \n",
    "    if i in inter_def :\n",
    "        temp = i.split('-')\n",
    "        temp[0] = int(temp[0])\n",
    "        temp[1] = int(temp[1])\n",
    "        age = (temp[1] + temp[0])/2\n",
    "    elif i == 'tsage' : \n",
    "        age = np.nan\n",
    "    elif i == '95et+' : \n",
    "        age = 100\n",
    "    else : \n",
    "        age = np.nan\n",
    "    classe_age.append(age)\n",
    "base_grande.loc[:,'classe_age'] = classe_age"
   ]
  },
  {
   "cell_type": "code",
   "execution_count": null,
   "id": "50ef3d2a-9156-4903-863c-efa07d397614",
   "metadata": {},
   "outputs": [],
   "source": [
    "base_grande"
   ]
  },
  {
   "cell_type": "code",
   "execution_count": null,
   "id": "a5c1897e-024c-4a11-9324-36ccf6ddbbb5",
   "metadata": {},
   "outputs": [],
   "source": [
    "#Création d'une base sélectionnant les variables qui nous intéressent\n",
    "model_foie_alpha = base_grande[['dept', 'classe_age','indicatrice__Maladies du foie ou du pancréas (hors mucoviscidose)','sexe','region']]"
   ]
  },
  {
   "cell_type": "code",
   "execution_count": null,
   "id": "17c995a2-a993-4656-979d-c9fba2656b38",
   "metadata": {},
   "outputs": [],
   "source": [
    "model_foie_alpha.columns = model_foie_alpha.columns.str.replace(' ', '_')"
   ]
  },
  {
   "cell_type": "code",
   "execution_count": null,
   "id": "04f10b18-c289-4e89-b71e-8545e47c71ee",
   "metadata": {},
   "outputs": [],
   "source": [
    "model_foie_alpha"
   ]
  },
  {
   "cell_type": "code",
   "execution_count": null,
   "id": "5a144131-46e5-4efd-99ba-96ec60f3ae49",
   "metadata": {},
   "outputs": [],
   "source": [
    "resultats = model_foie_alpha[model_foie_alpha['indicatrice__Maladies_du_foie_ou_du_pancréas_(hors_mucoviscidose)'] == 1].groupby('classe_age').size()\n",
    "resultats\n",
    "#exactement le même problème que pour la respiration même nombre \n",
    "#fixed"
   ]
  },
  {
   "cell_type": "code",
   "execution_count": null,
   "id": "e0e4d447-bf8a-4076-bfb7-ef4f8ebdcda8",
   "metadata": {},
   "outputs": [],
   "source": [
    "#Création de l'histogramme\n",
    "\n",
    "# Filtrez les lignes où la colonne 'indicatrice__Maladies_respiratoires_chroniques_(hors_mucoviscidose)'\n",
    "# est égale à 1\n",
    "T_filtered = model_foie_alpha[model_foie_alpha['indicatrice__Maladies_du_foie_ou_du_pancréas_(hors_mucoviscidose)'] == 1]\n",
    "\n",
    "# Agrégation par âge pour compter le nombre d'individus\n",
    "agg_data = T_filtered.groupby('classe_age').size().reset_index(name='nombre_de_cas')\n",
    "\n",
    "# Créez un histogramme\n",
    "plt.bar(agg_data['classe_age'], height=agg_data['nombre_de_cas'])\n",
    "\n",
    "# Ajoutez des étiquettes et un titre\n",
    "plt.xlabel('Classe d\\'âge')\n",
    "plt.ylabel('Nombre de cas de maladies chroniques \\n du foie ou du pancréas')\n",
    "plt.title('Nombre de cas de maladies chroniques \\n du foie ou du pancréas par classe d\\'âge')\n",
    "\n",
    "# Affichez l'histogramme\n",
    "plt.show()"
   ]
  },
  {
   "cell_type": "code",
   "execution_count": null,
   "id": "beb5c8f7-ebd3-4d37-a957-886656d47cc5",
   "metadata": {},
   "outputs": [],
   "source": [
    "counts = model_foie_alpha['classe_age'].value_counts()\n",
    "print(counts)"
   ]
  },
  {
   "cell_type": "code",
   "execution_count": null,
   "id": "c7eb7c9d-4440-4dbd-a0db-6a1de20e7181",
   "metadata": {},
   "outputs": [],
   "source": [
    "# Stat desc sur les maladies respiratoires"
   ]
  },
  {
   "cell_type": "code",
   "execution_count": null,
   "id": "d74663c1-29e1-4390-995f-6d8c2151a460",
   "metadata": {},
   "outputs": [],
   "source": [
    "model_resp_alpha = base_grande[['dept', 'classe_age','indicatrice__Maladies respiratoires chroniques (hors mucoviscidose)','sexe','region']]"
   ]
  },
  {
   "cell_type": "code",
   "execution_count": null,
   "id": "7f21c6de-4477-4312-b2db-3dfcc96b8f00",
   "metadata": {},
   "outputs": [],
   "source": [
    "model_resp_alpha.columns = model_resp_alpha.columns.str.replace(' ', '_')"
   ]
  },
  {
   "cell_type": "code",
   "execution_count": null,
   "id": "414f027d-bf0f-4d9e-836d-4ae90034dcfb",
   "metadata": {},
   "outputs": [],
   "source": [
    "resultats = model_resp_alpha[model_resp_alpha['indicatrice__Maladies_respiratoires_chroniques_(hors_mucoviscidose)'] == 1].groupby('classe_age').size()\n",
    "resultats"
   ]
  },
  {
   "cell_type": "code",
   "execution_count": null,
   "id": "88702bd3-ccaa-4653-8fff-eeb5ede01aec",
   "metadata": {},
   "outputs": [],
   "source": [
    "# Création de l'histogramme\n",
    "\n",
    "# Filtrez les lignes où la colonne 'indicatrice__Maladies_respiratoires_chroniques_(hors_mucoviscidose)' est égale à 1\n",
    "T_filtered = model_resp_alpha[model_resp_alpha['indicatrice__Maladies_respiratoires_chroniques_(hors_mucoviscidose)'] == 1]\n",
    "\n",
    "# Agrégation par âge pour compter le nombre d'individus\n",
    "agg_data = T_filtered.groupby('classe_age').size().reset_index(name='nombre_de_cas')\n",
    "\n",
    "# Créez un histogramme\n",
    "plt.bar(agg_data['classe_age'], height=agg_data['nombre_de_cas'])\n",
    "\n",
    "# Ajoutez des étiquettes et un titre\n",
    "plt.xlabel('Classe d\\'âge')\n",
    "plt.ylabel('Nombre de cas de maladies respiratoires chroniques')\n",
    "plt.title('Nombre de cas de maladies respiratoires chroniques par classe d\\'âge')\n",
    "\n",
    "# Affichez l'histogramme\n",
    "plt.show()"
   ]
  },
  {
   "cell_type": "code",
   "execution_count": null,
   "id": "08311b11-b8f1-40e3-a4ca-7fa0faf1407e",
   "metadata": {},
   "outputs": [],
   "source": [
    "## La suite est pour si on veut faire des stat desc sur le merge de table"
   ]
  },
  {
   "cell_type": "code",
   "execution_count": null,
   "id": "d390bf5d-012e-406a-b874-ba397b555b29",
   "metadata": {},
   "outputs": [],
   "source": [
    "# Fusion des tables effectifs et pollution_group_dep\n",
    "malades_et_pollution_dep = pd.merge(eff, pollution_group_dep, \n",
    "                    left_on=[eff['dept']], \n",
    "                    right_on=[pollution_group_dep['DEP']], \n",
    "                    how='inner').drop(columns=['key_0'])"
   ]
  },
  {
   "cell_type": "code",
   "execution_count": null,
   "id": "87eee266-df97-4742-93fd-66fa137b7beb",
   "metadata": {},
   "outputs": [],
   "source": [
    "malades_et_pollution_dep"
   ]
  },
  {
   "cell_type": "code",
   "execution_count": null,
   "id": "65be1cd3-ef6e-4993-9ffe-effd4bda877a",
   "metadata": {},
   "outputs": [],
   "source": [
    "# Fusion des tables effectifs et pollution_group_reg\n",
    "#En cas de stat sur les corrélation entre pollution et maladie au niveau de la région\n",
    "malades_et_pollution_reg = pd.merge(eff, pollution_group_reg, \n",
    "                    left_on=[eff['region']], \n",
    "                    right_on=[pollution_group_reg['REG']], \n",
    "                    how='inner').drop(columns=['key_0'])"
   ]
  },
  {
   "cell_type": "code",
   "execution_count": null,
   "id": "a2cfec2f-f60b-414e-a2e6-b9213be4a697",
   "metadata": {},
   "outputs": [],
   "source": [
    "malades_et_pollution_reg"
   ]
  }
 ],
 "metadata": {
  "kernelspec": {
   "display_name": "Python 3 (ipykernel)",
   "language": "python",
   "name": "python3"
  },
  "language_info": {
   "codemirror_mode": {
    "name": "ipython",
    "version": 3
   },
   "file_extension": ".py",
   "mimetype": "text/x-python",
   "name": "python",
   "nbconvert_exporter": "python",
   "pygments_lexer": "ipython3",
   "version": "3.10.13"
  }
 },
 "nbformat": 4,
 "nbformat_minor": 5
}
