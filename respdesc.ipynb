{
 "cells": [
  {
   "cell_type": "code",
   "execution_count": null,
   "id": "8c26e201-2c2b-43ba-8a6c-550ead46f6e4",
   "metadata": {},
   "outputs": [],
   "source": []
  },
  {
   "cell_type": "code",
   "execution_count": null,
   "id": "537d522d-0c62-4f30-ac22-6691eac09872",
   "metadata": {
    "scrolled": true
   },
   "outputs": [],
   "source": [
    "import numpy as np\n",
    "import pandas as pd\n",
    "import matplotlib.pyplot as plt\n",
    "import requests\n",
    "!pip install --upgrade xlrd #colab bug verson xlrd\n",
    "!pip install geopandas\n",
    "!pip install pandas fiona shapely pyproj rtree\n",
    "!pip install contextily\n",
    "!pip install pygeos\n",
    "!pip install topojson\n",
    "import geopandas as gpd\n",
    "import contextily as ctx\n",
    "import matplotlib.pyplot as plt\n",
    "#!pip install requests py7zr geopandas openpyxl tqdm s3fs PyYAML xlrd\n",
    "#!pip install git+https://github.com/inseefrlab/cartiflette@80b8a5a28371feb6df31d55bcc2617948a5f9b1a"
   ]
  },
  {
   "cell_type": "code",
   "execution_count": null,
   "id": "62a0abe0-7066-408e-8dee-a8f413c49bf0",
   "metadata": {},
   "outputs": [],
   "source": []
  },
  {
   "cell_type": "code",
   "execution_count": null,
   "id": "07ad57d2-8495-4f71-ad2d-177630186656",
   "metadata": {},
   "outputs": [],
   "source": [
    "base_grande = pd.read_csv(\"effectifs.csv\", sep = \";\", encoding = 'utf-8', engine = 'python')\n",
    "base_grande.shape\n",
    "base_grande = pd.read_csv(\"effectifs.csv\", sep = \";\", encoding = 'utf-8', engine = 'python')\n",
    "base_grande.shape\n",
    "base_grande = base_grande.dropna()\n",
    "base_grande = pd.get_dummies(base_grande, prefix = 'indicatrice_', columns=['patho_niv1'], dtype='int')\n",
    "\n",
    "base_grande = pd.read_csv(\"effectifs.csv\", sep = \";\", encoding = 'utf-8', engine = 'python')\n",
    "base_grande.shape\n",
    "\n",
    "liste_var = base_grande.columns[17:]\n",
    "liste_bis = []\n",
    "for i in liste_var : \n",
    "    liste_bis.append(i)\n",
    "indicatrice_patho_niv1 = liste_bis\n",
    "\n",
    "liste_auxil = base_grande['cla_age_5'].unique()\n",
    "inter_excl = ('95et+', 'tsage', np.nan)\n",
    "\n",
    "inter_def = []\n",
    "for i in liste_auxil :\n",
    "    if i in inter_excl : \n",
    "        inter_def = inter_def\n",
    "    else : \n",
    "        inter_def.append(i)\n",
    "classe_age = []\n",
    "for i in base_grande['cla_age_5'] : \n",
    "    if i in inter_def :\n",
    "        temp = i.split('-')\n",
    "        temp[0] = int(temp[0])\n",
    "        temp[1] = int(temp[1])\n",
    "        age = (temp[1] + temp[0])/2\n",
    "    elif i == 'tsage' : \n",
    "        age = np.nan\n",
    "    elif i == '95et+' : \n",
    "        age = 100\n",
    "    else : \n",
    "        age = np.nan\n",
    "    classe_age.append(age)\n",
    "base_grande.loc[:,'classe_age'] = classe_age\n",
    "\n",
    "\n"
   ]
  },
  {
   "cell_type": "code",
   "execution_count": null,
   "id": "384a52f5-0da7-4d9a-8a8f-d81742bc88cc",
   "metadata": {},
   "outputs": [],
   "source": []
  },
  {
   "cell_type": "code",
   "execution_count": null,
   "id": "c6077422-98a8-4f30-9d80-3df4a3fc3016",
   "metadata": {},
   "outputs": [],
   "source": [
    "\"\"\"\n",
    "def creation_indicatrice (colonne_de_depart, nom_de_maladie) : \n",
    "    temporaire = []\n",
    "    for i in colonne_de_depart :\n",
    "        if i == f\"{nom_de_maladie}\" :\n",
    "            temporaire.append(1)\n",
    "        else :\n",
    "            temporaire.append(0)\n",
    "    base_grande.loc[:,f\"{nom_de_maladie}_ind\"] = temporaire\n",
    "\"\"\"\n",
    "#utiliser get_dummies\n",
    "\n",
    "\n",
    "base_grande = pd.get_dummies(base_grande, prefix = 'indicatrice_', columns=['patho_niv1'], dtype='int')\n",
    "\n",
    "liste_var = base_grande.columns[17:]\n",
    "liste_bis = []\n",
    "for i in liste_var : \n",
    "    liste_bis.append(i)\n",
    "indicatrice_patho_niv1 = liste_bis\n",
    "\n",
    "liste_auxil = base_grande['cla_age_5'].unique()\n",
    "inter_excl = ('95et+', 'tsage', np.nan)\n",
    "\n",
    "inter_def = []\n",
    "for i in liste_auxil :\n",
    "    if i in inter_excl : \n",
    "        inter_def = inter_def\n",
    "    else : \n",
    "        inter_def.append(i)\n",
    "classe_age = []\n",
    "for i in base_grande['cla_age_5'] : \n",
    "    if i in inter_def :\n",
    "        temp = i.split('-')\n",
    "        temp[0] = int(temp[0])\n",
    "        temp[1] = int(temp[1])\n",
    "        age = (temp[1] + temp[0])/2\n",
    "    elif i == 'tsage' : \n",
    "        age = np.nan\n",
    "    elif i == '95et+' : \n",
    "        age = 100\n",
    "    else : \n",
    "        age = np.nan\n",
    "    classe_age.append(age)\n",
    "base_grande.loc[:,'classe_age'] = classe_age\n",
    "base_grande.head()"
   ]
  },
  {
   "cell_type": "code",
   "execution_count": null,
   "id": "e7cb8231-e3ee-4f63-81a7-a517104c61c6",
   "metadata": {},
   "outputs": [],
   "source": [
    "base_grande"
   ]
  },
  {
   "cell_type": "code",
   "execution_count": null,
   "id": "e6e6664a-530a-479a-ac31-b57abcad40b7",
   "metadata": {},
   "outputs": [],
   "source": [
    "\"test_rep = base_grande[['ind','dept', 'classe_age']]\"\n",
    "\"test_rep\"\n",
    "#le nom de la colonne des maladies respiratoires + l'index m'empêche de créer le database\n",
    "#--> ma base n'a plus les indicatrices (ancienne versions)\n",
    "#pb réglé avec les dummies mais pb avec les classes d'âges mtn "
   ]
  },
  {
   "cell_type": "code",
   "execution_count": null,
   "id": "a1caff5b-4254-4a16-ab7e-10f4da026cda",
   "metadata": {},
   "outputs": [],
   "source": [
    "model_resp_alpha = base_grande[['dept', 'classe_age','indicatrice__Maladies respiratoires chroniques (hors mucoviscidose)','sexe','region']]"
   ]
  },
  {
   "cell_type": "code",
   "execution_count": null,
   "id": "bb9300cc-a0e3-44e5-bbdd-e071f27062b5",
   "metadata": {},
   "outputs": [],
   "source": [
    "model_resp_alpha.columns = model_resp_alpha.columns.str.replace(' ', '_')\n",
    "#model_resp_alpha = model_resp_alpha.rename(columns={'indicatrice__Maladies_respiratoires _chroniques_(hors_mucoviscidose)': 'indicatrice_Maladies_respiratoires _chroniques_(hors_mucoviscidose)'})\n",
    "#model_resp_alpha = model_resp_alpha.rename(columns={'indicatrice_Maladies_respiratoires _chroniques_(hors_mucoviscidose)': 'indicatrice_Maladies_respiratoires _chroniques_'})\n",
    "\n",
    "#j'ai renommé la colonne en ajoutant des underscores car les espaces dans son nom posaient problème \n",
    "#j'ai essayé de supp le contenu dans la parenthèse par différents moyens mais ca ne fonctionnait jamais \n",
    "#j'ai essayé aussi de supp ce double underscore au début mais ca marche pas \n",
    "#seule la premiere ligne de la cellule abouti \n",
    "#pb je peux pas groupe by pour faire mon histogramme par age "
   ]
  },
  {
   "cell_type": "code",
   "execution_count": null,
   "id": "cb898596-1493-4d6e-9d1f-c0e9a48c0e96",
   "metadata": {},
   "outputs": [],
   "source": [
    "model_resp_alpha"
   ]
  },
  {
   "cell_type": "code",
   "execution_count": null,
   "id": "5f031088-cf72-484a-996e-048696045d8b",
   "metadata": {},
   "outputs": [],
   "source": [
    "resultats = model_resp_alpha[model_resp_alpha['indicatrice__Maladies_respiratoires_chroniques_(hors_mucoviscidose)'] == 1].groupby('classe_age').size()\n",
    "\n",
    "#les résultats n'ont aucun sens "
   ]
  },
  {
   "cell_type": "code",
   "execution_count": null,
   "id": "ea17de75-1806-45e9-a7a9-60f2717600f4",
   "metadata": {},
   "outputs": [],
   "source": []
  }
 ],
 "metadata": {
  "kernelspec": {
   "display_name": "Python 3 (ipykernel)",
   "language": "python",
   "name": "python3"
  },
  "language_info": {
   "codemirror_mode": {
    "name": "ipython",
    "version": 3
   },
   "file_extension": ".py",
   "mimetype": "text/x-python",
   "name": "python",
   "nbconvert_exporter": "python",
   "pygments_lexer": "ipython3",
   "version": "3.10.13"
  }
 },
 "nbformat": 4,
 "nbformat_minor": 5
}
