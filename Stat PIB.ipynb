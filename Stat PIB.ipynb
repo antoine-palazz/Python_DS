{
 "cells": [
  {
   "cell_type": "code",
   "execution_count": null,
   "id": "90beb649-e7fc-401f-8f37-60e8155804ff",
   "metadata": {},
   "outputs": [],
   "source": [
    "import numpy as np\n",
    "import pandas as pd\n",
    "import matplotlib.pyplot as plt\n",
    "import requests\n",
    "!pip install --upgrade xlrd #colab bug verson xlrd\n",
    "!pip install geopandas\n",
    "!pip install pandas fiona shapely pyproj rtree\n",
    "!pip install contextily\n",
    "!pip install pygeos\n",
    "!pip install topojson\n",
    "import geopandas as gpd\n",
    "import contextily as ctx\n",
    "import matplotlib.pyplot as plt\n",
    "#!pip install requests py7zr geopandas openpyxl tqdm s3fs PyYAML xlrd\n",
    "#!pip install git+https://github.com/inseefrlab/cartiflette@80b8a5a28371feb6df31d55bcc2617948a5f9b1a"
   ]
  },
  {
   "cell_type": "code",
   "execution_count": null,
   "id": "ef2e450d-efdc-44c5-a6d7-2a4bee99a9d9",
   "metadata": {},
   "outputs": [],
   "source": [
    "eff = pd.read_csv(\"effectifs.csv\", sep = \";\", encoding = 'utf-8', engine = 'python')"
   ]
  },
  {
   "cell_type": "code",
   "execution_count": null,
   "id": "6db6a0f3-0f30-449b-864f-cb93f5cfa2f1",
   "metadata": {},
   "outputs": [],
   "source": [
    "pollution_group_dep = pd.read_csv(\"pollution_group_dep.csv\", sep = \",\", encoding = 'utf-8', engine = 'python')"
   ]
  },
  {
   "cell_type": "code",
   "execution_count": null,
   "id": "b4d0d754-28cb-4219-ac37-390d25e41ac8",
   "metadata": {},
   "outputs": [],
   "source": [
    "pop = pd.read_csv('base_pop_dep.csv', sep = \",\", encoding = 'utf-8', engine = 'python')"
   ]
  },
  {
   "cell_type": "code",
   "execution_count": null,
   "id": "5d37b979-483c-499c-904a-863a8db6145b",
   "metadata": {},
   "outputs": [],
   "source": [
    "pop = pop.drop(['Unnamed: 0'], axis=1)"
   ]
  },
  {
   "cell_type": "code",
   "execution_count": null,
   "id": "9acd0efc-0b4e-4224-afde-c245d2de018b",
   "metadata": {},
   "outputs": [],
   "source": [
    "eff"
   ]
  },
  {
   "cell_type": "code",
   "execution_count": null,
   "id": "b40fc459-9466-4d0c-8b7c-f57243cb33eb",
   "metadata": {},
   "outputs": [],
   "source": [
    "# Fusion des tables effectifs, pop et pollution_group_dep\n",
    "\n",
    "merged_df = pd.merge(eff, pollution_group_dep, left_on=['dept'], right_on=['DEP'], \n",
    "                    how='inner')\n",
    "pop_eff_pol = pd.merge(merged_df, pop, left_on=['DEP'], right_on=['numero_dep'], \n",
    "                    how='inner')\n",
    "\n",
    "# Supprimer les colonnes redondantes\n",
    "pop_eff_pol = pop_eff_pol.drop(['numero_dep', 'dept'], axis=1)\n",
    "\n",
    "#Pour ne pas confondre les variables DEP (int) et dep (str)\n",
    "pop_eff_pol = pop_eff_pol.rename(columns={'dep': 'nom_dep'})"
   ]
  },
  {
   "cell_type": "code",
   "execution_count": null,
   "id": "5457dce4-5ddc-4163-a6ee-25636f81d09b",
   "metadata": {},
   "outputs": [],
   "source": [
    "pop_eff_pol"
   ]
  },
  {
   "cell_type": "code",
   "execution_count": null,
   "id": "8fe4ec40-e8df-441a-b94a-12bca13828c6",
   "metadata": {},
   "outputs": [],
   "source": [
    "#Les données datent de 2015 à 2020, \n",
    "#on prend le classement par PIB par habitant par département et on garde \n",
    "#le dep avec le PIB par habitant le plus élevé (Paris (75), pib/habitant de 127 132€)\n",
    "#celui où il est le plus faible (la Creuse (23), pib/habitant de 23 192€),\n",
    "#et celui qui est le plus près de la moyenne nationale (Bas-Rhin (67)).\n",
    "#Le PIB moyen par habitant en 2021 est de 37 431€ par an.\n",
    "# source : wikipedia"
   ]
  },
  {
   "cell_type": "code",
   "execution_count": null,
   "id": "1e36b800-d75d-4458-a40d-bfd5ecf92c0a",
   "metadata": {},
   "outputs": [],
   "source": [
    "pop_eff_pol['nom_dep'].unique()"
   ]
  },
  {
   "cell_type": "code",
   "execution_count": null,
   "id": "a940ba80-934e-4bbd-a148-2692115a2c88",
   "metadata": {},
   "outputs": [],
   "source": [
    "len(pop_eff_pol[(pop_eff_pol['nom_dep'] == 'Paris') & (pop_eff_pol['patho_niv1'] == 'Hospitalisations ponctuelles (avec ou sans pathologies, traitements ou maternité)')])"
   ]
  },
  {
   "cell_type": "code",
   "execution_count": null,
   "id": "a9aa36db-b205-427f-9792-5a58acd81236",
   "metadata": {},
   "outputs": [],
   "source": [
    "# Filtrer les données pour le département 75 (Paris) et la variable patho_niv1\n",
    "paris_data = pop_eff_pol[pop_eff_pol['nom_dep'] == 'Paris']\n",
    "hospitalized_data = paris_data[paris_data['patho_niv1'] == 'Hospitalisations ponctuelles (avec ou sans pathologies, traitements ou maternité)']\n",
    "\n",
    "# Calculer la proportion de personnes hospitalisées\n",
    "proportion_hospitalized = len(hospitalized_data) / paris_data['total_habitants'].sum()\n",
    "\n",
    "# Créer un histogramme\n",
    "labels = ['Hospitalisés', 'Non hospitalisés']\n",
    "sizes = [proportion_hospitalized, 1 - proportion_hospitalized]\n",
    "\n",
    "fig, ax = plt.subplots()\n",
    "ax.bar(labels, sizes, color=['blue', 'gray'])\n",
    "ax.set_ylabel('Proportion')\n",
    "ax.set_title('Proportion de personnes hospitalisées dans le département 75 (Paris)')\n",
    "\n",
    "plt.show()"
   ]
  },
  {
   "cell_type": "code",
   "execution_count": null,
   "id": "0025b36f-7bf0-4a8b-9904-f1127cbe6995",
   "metadata": {},
   "outputs": [],
   "source": [
    "# On en voit rien vu que la proportion de personnes \n",
    "#hospitalisées sur la population parisienne totale est néglgeable\n",
    "#idée : prendre en compte la variable niveau_prioritaire pour comparer"
   ]
  },
  {
   "cell_type": "code",
   "execution_count": null,
   "id": "2ef3c5e9-e5de-4ae8-b569-d499461dc4a8",
   "metadata": {},
   "outputs": [],
   "source": [
    "type(pop_eff_pol['niveau_prioritaire'])"
   ]
  },
  {
   "cell_type": "code",
   "execution_count": null,
   "id": "637de89c-069f-42bf-8193-d44845cc1235",
   "metadata": {},
   "outputs": [],
   "source": [
    "pop_eff_pol['niveau_prioritaire'].unique()"
   ]
  },
  {
   "cell_type": "code",
   "execution_count": null,
   "id": "f1bdbd9c-55b6-487b-8543-ca8f7b29276b",
   "metadata": {},
   "outputs": [],
   "source": [
    "pop_eff_pol['niveau_prioritaire'].replace('1,2,3', np.nan, inplace=True)"
   ]
  },
  {
   "cell_type": "code",
   "execution_count": null,
   "id": "a76fb434-dae5-45e7-8c8c-29128d86d581",
   "metadata": {},
   "outputs": [],
   "source": [
    "# Filtrer les données pour le département 75 (Paris)\n",
    "paris_data = pop_eff_pol[(pop_eff_pol['nom_dep'] == 'Paris')]\n",
    "\n",
    "# Trier le DataFrame en fonction de la variable 'niveau_prioritaire'\n",
    "paris_data = paris_data.sort_values(by='niveau_prioritaire')\n",
    "\n",
    "# Calculer la proportion de chaque valeur de niveau_prioritaire\n",
    "proportion_niveau_prioritaire = paris_data['niveau_prioritaire'].value_counts(normalize=True)\n",
    "\n",
    "# Créer un graphique à barres\n",
    "ax = proportion_niveau_prioritaire.plot(kind='bar', color=['green', 'orange', 'red', 'darkcyan'])\n",
    "plt.ylabel('Proportion')\n",
    "plt.xlabel('Niveau de priorité')\n",
    "plt.title('Proportion de chaque niveau prioritaire à Paris')\n",
    "\n",
    "# Fonction pour ajouter les pourcentages au-dessus des barres\n",
    "def autolabel(rects):\n",
    "    for rect in rects:\n",
    "        height = rect.get_height()\n",
    "        ax.text(rect.get_x() + rect.get_width() / 2., height, f'{height:.1%}',\n",
    "                ha='center', va='bottom')\n",
    "\n",
    "# Appeler la fonction autolabel avec les barres actuelles\n",
    "autolabel(ax.patches)\n",
    "\n",
    "# Changer l'orientation des étiquettes de l'axe x\n",
    "ax.set_xticklabels(ax.get_xticklabels(), rotation=0)\n",
    "\n",
    "plt.show()"
   ]
  },
  {
   "cell_type": "code",
   "execution_count": null,
   "id": "08ecbf36-2cf3-4896-b8cc-fefc08a9ffec",
   "metadata": {},
   "outputs": [],
   "source": [
    "# Filtrer les données pour le département 23 (Creuse)\n",
    "paris_data = pop_eff_pol[(pop_eff_pol['nom_dep'] == 'Creuse')]\n",
    "\n",
    "# Trier le DataFrame en fonction de la variable 'niveau_prioritaire'\n",
    "paris_data = paris_data.sort_values(by='niveau_prioritaire')\n",
    "\n",
    "# Calculer la proportion de chaque valeur de niveau_prioritaire\n",
    "proportion_niveau_prioritaire = paris_data['niveau_prioritaire'].value_counts(normalize=True)\n",
    "\n",
    "# Créer un graphique à barres\n",
    "ax = proportion_niveau_prioritaire.plot(kind='bar', color=['green', 'orange', 'red', 'darkcyan'])\n",
    "plt.ylabel('Proportion')\n",
    "plt.xlabel('Niveau de priorité')\n",
    "plt.title('Proportion de chaque niveau prioritaire dans la Creuse')\n",
    "\n",
    "# Appeler la fonction autolabel avec les barres actuelles\n",
    "autolabel(ax.patches)\n",
    "\n",
    "# Changer l'orientation des étiquettes de l'axe x\n",
    "ax.set_xticklabels(ax.get_xticklabels(), rotation=0)\n",
    "\n",
    "plt.show()"
   ]
  },
  {
   "cell_type": "code",
   "execution_count": null,
   "id": "859aa92e-7565-4cb3-b040-acc6ad258648",
   "metadata": {},
   "outputs": [],
   "source": [
    "# Filtrer les données pour le département 67 (Bas-Rhin)\n",
    "paris_data = pop_eff_pol[(pop_eff_pol['nom_dep'] == 'Bas-Rhin')]\n",
    "\n",
    "# Trier le DataFrame en fonction de la variable 'niveau_prioritaire'\n",
    "paris_data = paris_data.sort_values(by='niveau_prioritaire')\n",
    "\n",
    "# Calculer la proportion de chaque valeur de niveau_prioritaire\n",
    "proportion_niveau_prioritaire = paris_data['niveau_prioritaire'].value_counts(normalize=True)\n",
    "\n",
    "# Créer un graphique à barres\n",
    "ax = proportion_niveau_prioritaire.plot(kind='bar', color=['mediumseagreen', 'navajowhite', 'lightcoral', 'darkcyan'])\n",
    "plt.ylabel('Proportion')\n",
    "plt.xlabel('Niveau de priorité')\n",
    "plt.title('Proportion de chaque niveau prioritaire dans la Creuse')\n",
    "\n",
    "# Appeler la fonction autolabel avec les barres actuelles\n",
    "autolabel(ax.patches)\n",
    "\n",
    "# Changer l'orientation des étiquettes de l'axe x\n",
    "ax.set_xticklabels(ax.get_xticklabels(), rotation=0)\n",
    "\n",
    "plt.show()"
   ]
  },
  {
   "cell_type": "code",
   "execution_count": null,
   "id": "5646b044-3bd4-4039-afb8-ae8565a75812",
   "metadata": {},
   "outputs": [],
   "source": [
    "# Trier le DataFrame en fonction de la variable 'niveau_prioritaire'\n",
    "paris_data = pop_eff_pol.sort_values(by='niveau_prioritaire')\n",
    "\n",
    "# Calculer la proportion de chaque valeur de niveau_prioritaire\n",
    "proportion_niveau_prioritaire = paris_data['niveau_prioritaire'].value_counts(normalize=True)\n",
    "\n",
    "# Créer un graphique à barres\n",
    "ax = proportion_niveau_prioritaire.plot(kind='bar', color=['green', 'orange', 'red', 'darkcyan'])\n",
    "plt.ylabel('Proportion')\n",
    "plt.xlabel('Niveau de priorité')\n",
    "plt.title('Proportion de chaque niveau prioritaire dans la Creuse')\n",
    "\n",
    "# Appeler la fonction autolabel avec les barres actuelles\n",
    "autolabel(ax.patches)\n",
    "\n",
    "# Changer l'orientation des étiquettes de l'axe x\n",
    "ax.set_xticklabels(ax.get_xticklabels(), rotation=0)\n",
    "\n",
    "plt.show()"
   ]
  }
 ],
 "metadata": {
  "kernelspec": {
   "display_name": "Python 3 (ipykernel)",
   "language": "python",
   "name": "python3"
  },
  "language_info": {
   "codemirror_mode": {
    "name": "ipython",
    "version": 3
   },
   "file_extension": ".py",
   "mimetype": "text/x-python",
   "name": "python",
   "nbconvert_exporter": "python",
   "pygments_lexer": "ipython3",
   "version": "3.10.13"
  }
 },
 "nbformat": 4,
 "nbformat_minor": 5
}
