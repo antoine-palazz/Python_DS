{
 "cells": [
  {
   "cell_type": "code",
   "execution_count": null,
   "id": "58fda9a6-351e-4a50-b4ea-5bd9266b8dd2",
   "metadata": {},
   "outputs": [],
   "source": [
    "import numpy as np\n",
    "import pandas as pd\n",
    "import matplotlib.pyplot as plt\n",
    "import requests\n",
    "!pip install --upgrade xlrd #colab bug verson xlrd\n",
    "!pip install geopandas\n",
    "!pip install pandas fiona shapely pyproj rtree\n",
    "!pip install contextily\n",
    "!pip install pygeos\n",
    "!pip install topojson\n",
    "import geopandas as gpd\n",
    "import contextily as ctx\n",
    "import matplotlib.pyplot as plt\n",
    "#!pip install requests py7zr geopandas openpyxl tqdm s3fs PyYAML xlrd\n",
    "#!pip install git+https://github.com/inseefrlab/cartiflette@80b8a5a28371feb6df31d55bcc2617948a5f9b1a"
   ]
  },
  {
   "cell_type": "markdown",
   "id": "ce3b176b-717f-4c99-8ee8-96ddbcd1120f",
   "metadata": {},
   "source": [
    "## Annexe à la deuxième étude de cas de la partie I\n",
    "\n",
    "Idée : prendre en compte la variable niveau_prioritaire pour comparer par rapport à l'analyse sociologique de Luc Boltanski."
   ]
  },
  {
   "cell_type": "code",
   "execution_count": null,
   "id": "57897e68-2191-4c27-a556-5db355bce386",
   "metadata": {},
   "outputs": [],
   "source": [
    "#Récuppération de la base effectifs\n",
    "eff = pd.read_csv(\"effectifs.csv\", sep = \";\", encoding = 'utf-8', engine = 'python')\n",
    "\n",
    "#Récupération de la base avec les effectifs de la population par département\n",
    "pop = pd.read_csv('base_pop_dep.csv', sep=\",\", encoding='utf-8', engine='python')\n",
    "\n",
    "# Suppression la colonne 'Unnamed: 0', qui est souvent ajoutée lors de l'écriture dans un fichier CSV\n",
    "pop = pop.drop(['Unnamed: 0'], axis=1)\n",
    "\n",
    "#Dataframes sommant les niveaux de pollution par source\n",
    "#selon la région :\n",
    "pollution_group_reg = pd.read_csv('pollution_group_reg.csv', sep=',', encoding='utf-8')\n",
    "#selon le département :\n",
    "pollution_group_dep = pd.read_csv('pollution_group_dep.csv', sep=',', encoding='utf-8')"
   ]
  },
  {
   "cell_type": "code",
   "execution_count": null,
   "id": "f2c8b043-43f6-498e-9891-3441a0eb34cb",
   "metadata": {},
   "outputs": [],
   "source": [
    "# Fusion des tables effectifs, pop et pollution_group_dep\n",
    "\n",
    "merged_df = pd.merge(eff, pollution_group_dep, left_on=['dept'], right_on=['DEP'], \n",
    "                    how='inner')\n",
    "pop_eff_pol = pd.merge(merged_df, pop, left_on=['DEP'], right_on=['numero_dep'], \n",
    "                    how='inner')\n",
    "\n",
    "# Supprimer les colonnes redondantes\n",
    "pop_eff_pol = pop_eff_pol.drop(['numero_dep', 'dept'], axis=1)"
   ]
  },
  {
   "cell_type": "code",
   "execution_count": null,
   "id": "ef514865-f6a2-4580-a7c7-37a3cf816c51",
   "metadata": {},
   "outputs": [],
   "source": [
    "pop_eff_pol['niveau_prioritaire'].replace('1,2,3', np.nan, inplace=True)"
   ]
  },
  {
   "cell_type": "code",
   "execution_count": null,
   "id": "2818b3b2-9c27-4e6f-9e05-f1274fbe204b",
   "metadata": {},
   "outputs": [],
   "source": [
    "# Fonction pour ajouter les pourcentages au-dessus des barres\n",
    "def autolabel(rects):\n",
    "    for rect in rects:\n",
    "        height = rect.get_height()\n",
    "        ax.text(rect.get_x() + rect.get_width() / 2., height, f'{height:.1%}',\n",
    "                ha='center', va='bottom')"
   ]
  },
  {
   "cell_type": "code",
   "execution_count": null,
   "id": "0d205264-2d00-4d29-80d3-9d0fce0a0fe6",
   "metadata": {},
   "outputs": [],
   "source": [
    "def plot_proportion_graph(ax, data, department):\n",
    "    # Filtrer les données pour le département spécifié\n",
    "    department_data = data[data['nom_dep'] == department]\n",
    "\n",
    "    # Trier le DataFrame en fonction de la variable 'niveau_prioritaire'\n",
    "    department_data = department_data.sort_values(by='niveau_prioritaire')\n",
    "\n",
    "    # Calculer la proportion de chaque valeur de niveau_prioritaire\n",
    "    proportion_niveau_prioritaire = department_data['niveau_prioritaire'].value_counts(normalize=True)\n",
    "\n",
    "    # Créer un graphique à barres sur le sous-graphique spécifié\n",
    "    proportion_niveau_prioritaire.plot(kind='bar', color=['mediumseagreen', 'navajowhite', 'lightcoral', 'darkcyan'], ax=ax)\n",
    "    ax.set_ylabel('Proportion')\n",
    "    ax.set_xlabel('Niveau de priorité')\n",
    "    ax.set_title(f'Proportion de chaque niveau prioritaire ({department})')\n",
    "\n",
    "    # Fonction pour ajouter les pourcentages au-dessus des barres\n",
    "    def autolabel(rects):\n",
    "        for rect in rects:\n",
    "            height = rect.get_height()\n",
    "            ax.text(rect.get_x() + rect.get_width() / 2., height, f'{height:.1%}',\n",
    "                    ha='center', va='bottom')\n",
    "\n",
    "    # Appeler la fonction autolabel\n",
    "    autolabel(ax.patches)\n",
    "\n",
    "    # Changer l'orientation des étiquettes de l'axe x\n",
    "    ax.set_xticklabels(ax.get_xticklabels(), rotation=0)\n",
    "\n",
    "# Créer une grille de 1 ligne par 3 colonnes pour les graphiques\n",
    "fig, axes = plt.subplots(1, 3, figsize=(18, 6))\n",
    "\n",
    "# Appeler la fonction pour chaque département avec son propre sous-graphique\n",
    "plot_proportion_graph(axes[0], pop_eff_pol, 'Paris')\n",
    "plot_proportion_graph(axes[1], pop_eff_pol, 'Creuse')\n",
    "plot_proportion_graph(axes[2], pop_eff_pol, 'Bas-Rhin')\n",
    "\n",
    "# Ajuster l'espacement entre les graphiques\n",
    "plt.subplots_adjust(wspace=0.4)\n",
    "\n",
    "# Afficher la grille de graphiques\n",
    "plt.show()"
   ]
  },
  {
   "cell_type": "code",
   "execution_count": null,
   "id": "2112f4ed-7cf4-4d8c-a8a0-359253584249",
   "metadata": {},
   "outputs": [],
   "source": [
    "# Trier le DataFrame en fonction de la variable 'niveau_prioritaire'\n",
    "france_data = pop_eff_pol.sort_values(by='niveau_prioritaire')\n",
    "\n",
    "# Calculer la proportion de chaque valeur de niveau_prioritaire\n",
    "proportion_niveau_prioritaire = france_data['niveau_prioritaire'].value_counts(normalize=True)\n",
    "\n",
    "# Créer un graphique à barres\n",
    "ax = proportion_niveau_prioritaire.plot(kind='bar', color=['mediumseagreen', 'navajowhite', 'lightcoral', 'darkcyan'])\n",
    "plt.ylabel('Proportion')\n",
    "plt.xlabel('Niveau de priorité')\n",
    "plt.title('Proportion moyenne de chaque niveau prioritaire \\n parmi les départements de France métropolitaine')\n",
    "\n",
    "# Appeler la fonction autolabel avec les barres actuelles\n",
    "autolabel(ax.patches)\n",
    "\n",
    "# Changer l'orientation des étiquettes de l'axe x\n",
    "ax.set_xticklabels(ax.get_xticklabels(), rotation=0)\n",
    "\n",
    "plt.show()"
   ]
  }
 ],
 "metadata": {
  "kernelspec": {
   "display_name": "Python 3 (ipykernel)",
   "language": "python",
   "name": "python3"
  },
  "language_info": {
   "codemirror_mode": {
    "name": "ipython",
    "version": 3
   },
   "file_extension": ".py",
   "mimetype": "text/x-python",
   "name": "python",
   "nbconvert_exporter": "python",
   "pygments_lexer": "ipython3",
   "version": "3.10.13"
  }
 },
 "nbformat": 4,
 "nbformat_minor": 5
}
