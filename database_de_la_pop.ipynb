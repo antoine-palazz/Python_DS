{
 "cells": [
  {
   "cell_type": "code",
   "execution_count": 1,
   "id": "3d984058-cf0e-436e-95cb-2edba803b0fe",
   "metadata": {},
   "outputs": [],
   "source": [
    "import pandas as pd"
   ]
  },
  {
   "cell_type": "code",
   "execution_count": 2,
   "id": "ff67d488-5ca6-461a-9e1a-d5e4e761ee5e",
   "metadata": {},
   "outputs": [],
   "source": [
    "url = 'https://www.insee.fr/fr/statistiques/fichier/1893198/estim-pop-dep-sexe-gca-1975-2023.xls'"
   ]
  },
  {
   "cell_type": "code",
   "execution_count": 3,
   "id": "1b3edbd7-d996-427c-b8dd-a1860ca6c3d5",
   "metadata": {},
   "outputs": [
    {
     "data": {
      "text/html": [
       "<div>\n",
       "<style scoped>\n",
       "    .dataframe tbody tr th:only-of-type {\n",
       "        vertical-align: middle;\n",
       "    }\n",
       "\n",
       "    .dataframe tbody tr th {\n",
       "        vertical-align: top;\n",
       "    }\n",
       "\n",
       "    .dataframe thead th {\n",
       "        text-align: right;\n",
       "    }\n",
       "</style>\n",
       "<table border=\"1\" class=\"dataframe\">\n",
       "  <thead>\n",
       "    <tr style=\"text-align: right;\">\n",
       "      <th></th>\n",
       "      <th>numero_dep</th>\n",
       "      <th>dep</th>\n",
       "      <th>total_habitants</th>\n",
       "    </tr>\n",
       "  </thead>\n",
       "  <tbody>\n",
       "    <tr>\n",
       "      <th>0</th>\n",
       "      <td>01</td>\n",
       "      <td>Ain</td>\n",
       "      <td>671937</td>\n",
       "    </tr>\n",
       "    <tr>\n",
       "      <th>1</th>\n",
       "      <td>02</td>\n",
       "      <td>Aisne</td>\n",
       "      <td>522791</td>\n",
       "    </tr>\n",
       "    <tr>\n",
       "      <th>2</th>\n",
       "      <td>03</td>\n",
       "      <td>Allier</td>\n",
       "      <td>332443</td>\n",
       "    </tr>\n",
       "    <tr>\n",
       "      <th>3</th>\n",
       "      <td>04</td>\n",
       "      <td>Alpes-de-Haute-Provence</td>\n",
       "      <td>166654</td>\n",
       "    </tr>\n",
       "    <tr>\n",
       "      <th>4</th>\n",
       "      <td>05</td>\n",
       "      <td>Hautes-Alpes</td>\n",
       "      <td>139942</td>\n",
       "    </tr>\n",
       "    <tr>\n",
       "      <th>...</th>\n",
       "      <td>...</td>\n",
       "      <td>...</td>\n",
       "      <td>...</td>\n",
       "    </tr>\n",
       "    <tr>\n",
       "      <th>97</th>\n",
       "      <td>971</td>\n",
       "      <td>Guadeloupe</td>\n",
       "      <td>375845</td>\n",
       "    </tr>\n",
       "    <tr>\n",
       "      <th>98</th>\n",
       "      <td>972</td>\n",
       "      <td>Martinique</td>\n",
       "      <td>347686</td>\n",
       "    </tr>\n",
       "    <tr>\n",
       "      <th>99</th>\n",
       "      <td>973</td>\n",
       "      <td>Guyane</td>\n",
       "      <td>301099</td>\n",
       "    </tr>\n",
       "    <tr>\n",
       "      <th>100</th>\n",
       "      <td>974</td>\n",
       "      <td>La Réunion</td>\n",
       "      <td>873102</td>\n",
       "    </tr>\n",
       "    <tr>\n",
       "      <th>101</th>\n",
       "      <td>976</td>\n",
       "      <td>Mayotte</td>\n",
       "      <td>310022</td>\n",
       "    </tr>\n",
       "  </tbody>\n",
       "</table>\n",
       "<p>102 rows × 3 columns</p>\n",
       "</div>"
      ],
      "text/plain": [
       "    numero_dep                      dep  total_habitants\n",
       "0           01                      Ain           671937\n",
       "1           02                    Aisne           522791\n",
       "2           03                   Allier           332443\n",
       "3           04  Alpes-de-Haute-Provence           166654\n",
       "4           05             Hautes-Alpes           139942\n",
       "..         ...                      ...              ...\n",
       "97         971              Guadeloupe            375845\n",
       "98         972              Martinique            347686\n",
       "99         973                   Guyane           301099\n",
       "100        974               La Réunion           873102\n",
       "101        976                  Mayotte           310022\n",
       "\n",
       "[102 rows x 3 columns]"
      ]
     },
     "execution_count": 3,
     "metadata": {},
     "output_type": "execute_result"
    }
   ],
   "source": [
    "noms_colonnes=['numero_dep','dep','total_habitants']\n",
    "pop_test = pd.read_excel(url, sheet_name='2023',skiprows=3,header=1, usecols = [0,1,7], skipfooter=4, names=noms_colonnes)\n",
    "pop_test\n",
    "\n",
    "#pop_test2 = pop_test.set_index(['Num_dep ', 'Nom_dep'])\n",
    "#pop_test2\n",
    "\n",
    "#pop_test3 = pop_test.drop(df.index[:3])\n",
    "#print(pop_test3)"
   ]
  },
  {
   "cell_type": "code",
   "execution_count": 6,
   "id": "62d2da7e-7cce-4584-bf3d-ecd4c2bd6e6b",
   "metadata": {},
   "outputs": [],
   "source": [
    "# Renommer la colonne 'dep' en 'nom_dep' pour ne pas créer de confusion par la suite\n",
    "pop_test = pop_test.rename(columns={'dep': 'nom_dep'})"
   ]
  },
  {
   "cell_type": "code",
   "execution_count": 7,
   "id": "5cb181bc-1168-4698-9240-e09e456e035e",
   "metadata": {},
   "outputs": [],
   "source": [
    "pop_test.to_csv('base_pop_dep.csv')"
   ]
  },
  {
   "cell_type": "code",
   "execution_count": null,
   "id": "b9c8f6e6-1562-47c6-82ad-35bd6b25048c",
   "metadata": {},
   "outputs": [],
   "source": []
  },
  {
   "cell_type": "code",
   "execution_count": null,
   "id": "6286929e-63b6-4eec-bb9a-3ac432c34e20",
   "metadata": {},
   "outputs": [],
   "source": []
  }
 ],
 "metadata": {
  "kernelspec": {
   "display_name": "Python 3 (ipykernel)",
   "language": "python",
   "name": "python3"
  },
  "language_info": {
   "codemirror_mode": {
    "name": "ipython",
    "version": 3
   },
   "file_extension": ".py",
   "mimetype": "text/x-python",
   "name": "python",
   "nbconvert_exporter": "python",
   "pygments_lexer": "ipython3",
   "version": "3.10.13"
  }
 },
 "nbformat": 4,
 "nbformat_minor": 5
}
