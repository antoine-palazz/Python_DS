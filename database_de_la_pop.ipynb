{
 "cells": [
  {
   "cell_type": "code",
   "execution_count": null,
   "id": "3d984058-cf0e-436e-95cb-2edba803b0fe",
   "metadata": {},
   "outputs": [],
   "source": [
    "import pandas as pd"
   ]
  },
  {
   "cell_type": "code",
   "execution_count": null,
   "id": "ff67d488-5ca6-461a-9e1a-d5e4e761ee5e",
   "metadata": {},
   "outputs": [],
   "source": [
    "url = 'https://www.insee.fr/fr/statistiques/fichier/1893198/estim-pop-dep-sexe-gca-1975-2023.xls'"
   ]
  },
  {
   "cell_type": "code",
   "execution_count": null,
   "id": "1b3edbd7-d996-427c-b8dd-a1860ca6c3d5",
   "metadata": {},
   "outputs": [],
   "source": [
    "noms_colonnes=['numéro_dep','dep','total_habitants']\n",
    "pop_test = pd.read_excel(url, sheet_name='2023',skiprows=3,header=1, usecols = [0,1,7], skipfooter=4, names=noms_colonnes)\n",
    "pop_test\n",
    "\n",
    "#pop_test2 = pop_test.set_index(['Num_dep ', 'Nom_dep'])\n",
    "#pop_test2\n",
    "\n",
    "#pop_test3 = pop_test.drop(df.index[:3])\n",
    "#print(pop_test3)"
   ]
  },
  {
   "cell_type": "code",
   "execution_count": null,
   "id": "5cb181bc-1168-4698-9240-e09e456e035e",
   "metadata": {},
   "outputs": [],
   "source": [
    "pop_test.to_csv('base_pop_dep.csv')"
   ]
  },
  {
   "cell_type": "code",
   "execution_count": null,
   "id": "b9c8f6e6-1562-47c6-82ad-35bd6b25048c",
   "metadata": {},
   "outputs": [],
   "source": []
  }
 ],
 "metadata": {
  "kernelspec": {
   "display_name": "Python 3 (ipykernel)",
   "language": "python",
   "name": "python3"
  },
  "language_info": {
   "codemirror_mode": {
    "name": "ipython",
    "version": 3
   },
   "file_extension": ".py",
   "mimetype": "text/x-python",
   "name": "python",
   "nbconvert_exporter": "python",
   "pygments_lexer": "ipython3",
   "version": "3.10.13"
  }
 },
 "nbformat": 4,
 "nbformat_minor": 5
}
