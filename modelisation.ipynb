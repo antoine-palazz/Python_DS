{
 "cells": [
  {
   "cell_type": "code",
   "execution_count": null,
   "id": "62f6a79c-0288-4159-b659-967dce3927fe",
   "metadata": {
    "scrolled": true
   },
   "outputs": [],
   "source": [
    "import numpy as np\n",
    "import pandas as pd\n",
    "import matplotlib.pyplot as plt\n",
    "import requests\n",
    "!pip install --upgrade xlrd #colab bug verson xlrd\n",
    "!pip install geopandas\n",
    "!pip install pandas fiona shapely pyproj rtree\n",
    "!pip install contextily\n",
    "!pip install pygeos\n",
    "!pip install topojson\n",
    "import geopandas as gpd\n",
    "import contextily as ctx\n",
    "import matplotlib.pyplot as plt\n",
    "from sklearn.linear_model import LinearRegression\n",
    "from sklearn.model_selection import train_test_split\n",
    "from sklearn.linear_model import LogisticRegression\n",
    "from sklearn.metrics import accuracy_score, confusion_matrix, classification_report\n",
    "!pip install imbalanced-learn\n",
    "from imblearn.under_sampling import RandomUnderSampler\n",
    "from imblearn.over_sampling import SMOTE"
   ]
  },
  {
   "cell_type": "code",
   "execution_count": null,
   "id": "845f5954-e5cc-4d83-899f-5f7964bb518e",
   "metadata": {},
   "outputs": [],
   "source": [
    "df = pd.read_csv('data_dummies.csv')\n",
    "df"
   ]
  },
  {
   "cell_type": "code",
   "execution_count": null,
   "id": "caa6e6e4-fbd2-4480-8f45-8a8c27f9a5db",
   "metadata": {},
   "outputs": [],
   "source": [
    "df_regression = df[['indicatrice__Cancers', 'classe_age']].dropna()\n",
    "\n",
    "# Extract the independent variable (X) and dependent variable (y)\n",
    "X = df_regression[['classe_age']]\n",
    "y = df_regression['indicatrice__Cancers']\n",
    "\n",
    "# Split the data into training and testing sets\n",
    "X_train, X_test, y_train, y_test = train_test_split(X, y, test_size=0.2, random_state=42)\n",
    "\n",
    "# Resample the training data to address class imbalance\n",
    "rus = RandomUnderSampler(sampling_strategy=0.5, random_state=42)\n",
    "X_resampled, y_resampled = rus.fit_resample(X_train, y_train)\n",
    "\n",
    "# Apply SMOTE to the resampled data\n",
    "smote = SMOTE(sampling_strategy='auto', random_state=42)\n",
    "X_resampled, y_resampled = smote.fit_resample(X_resampled, y_resampled)\n",
    "\n",
    "# Create a logistic regression model with balanced class weights\n",
    "model = LogisticRegression(class_weight='balanced')\n",
    "\n",
    "# Fit the model to the resampled training data\n",
    "model.fit(X_resampled, y_resampled)\n",
    "\n",
    "# Make predictions on the testing data\n",
    "predictions = model.predict(X_test)\n",
    "\n",
    "# Evaluate the model\n",
    "accuracy = accuracy_score(y_test, predictions)\n",
    "conf_matrix = confusion_matrix(y_test, predictions)\n",
    "classification_rep = classification_report(y_test, predictions, zero_division=1)\n",
    "\n",
    "print(f'Accuracy: {accuracy}')\n",
    "print(f'Confusion Matrix:\\n{conf_matrix}')\n",
    "print(f'Classification Report:\\n{classification_rep}')"
   ]
  },
  {
   "cell_type": "code",
   "execution_count": null,
   "id": "188ca175-1291-489c-bc17-92266a32f729",
   "metadata": {},
   "outputs": [],
   "source": [
    "\n",
    "# Plot the logistic regression curve\n",
    "X_values = np.linspace(X.min(), X.max(), 1000).reshape(-1, 1)\n",
    "probabilities = model.predict_proba(X_values)[:, 1]\n",
    "\n",
    "plt.scatter(X, y, label='Original data')\n",
    "plt.plot(X_values, probabilities, color='red', label='Logistic regression curve')\n",
    "plt.xlabel('Age')\n",
    "plt.ylabel('Probability of Cancer')\n",
    "plt.title('Logistic Regression of Cancer on Age')\n",
    "plt.legend()\n",
    "plt.show()"
   ]
  },
  {
   "cell_type": "code",
   "execution_count": null,
   "id": "35dffbf3-c4c4-4cb6-8f49-1f3890b4c999",
   "metadata": {},
   "outputs": [],
   "source": [
    "#regression logisitique qu'il faudra interpreter à un moment"
   ]
  }
 ],
 "metadata": {
  "kernelspec": {
   "display_name": "Python 3 (ipykernel)",
   "language": "python",
   "name": "python3"
  },
  "language_info": {
   "codemirror_mode": {
    "name": "ipython",
    "version": 3
   },
   "file_extension": ".py",
   "mimetype": "text/x-python",
   "name": "python",
   "nbconvert_exporter": "python",
   "pygments_lexer": "ipython3",
   "version": "3.10.13"
  }
 },
 "nbformat": 4,
 "nbformat_minor": 5
}
