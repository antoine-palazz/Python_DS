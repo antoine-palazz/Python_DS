{
 "cells": [
  {
   "cell_type": "code",
   "execution_count": 6,
   "id": "4be61d8d",
   "metadata": {
    "scrolled": true
   },
   "outputs": [
    {
     "name": "stdout",
     "output_type": "stream",
     "text": [
      "Requirement already satisfied: xlrd in /opt/mamba/lib/python3.10/site-packages (2.0.1)\n",
      "Requirement already satisfied: geopandas in /opt/mamba/lib/python3.10/site-packages (0.14.1)\n",
      "Requirement already satisfied: fiona>=1.8.21 in /opt/mamba/lib/python3.10/site-packages (from geopandas) (1.9.3)\n",
      "Requirement already satisfied: packaging in /opt/mamba/lib/python3.10/site-packages (from geopandas) (23.1)\n",
      "Requirement already satisfied: pandas>=1.4.0 in /opt/mamba/lib/python3.10/site-packages (from geopandas) (2.1.3)\n",
      "Requirement already satisfied: pyproj>=3.3.0 in /opt/mamba/lib/python3.10/site-packages (from geopandas) (3.6.1)\n",
      "Requirement already satisfied: shapely>=1.8.0 in /opt/mamba/lib/python3.10/site-packages (from geopandas) (2.0.2)\n",
      "Requirement already satisfied: attrs>=19.2.0 in /opt/mamba/lib/python3.10/site-packages (from fiona>=1.8.21->geopandas) (23.1.0)\n",
      "Requirement already satisfied: certifi in /opt/mamba/lib/python3.10/site-packages (from fiona>=1.8.21->geopandas) (2023.11.17)\n",
      "Requirement already satisfied: click~=8.0 in /opt/mamba/lib/python3.10/site-packages (from fiona>=1.8.21->geopandas) (8.1.7)\n",
      "Requirement already satisfied: click-plugins>=1.0 in /opt/mamba/lib/python3.10/site-packages (from fiona>=1.8.21->geopandas) (1.1.1)\n",
      "Requirement already satisfied: cligj>=0.5 in /opt/mamba/lib/python3.10/site-packages (from fiona>=1.8.21->geopandas) (0.7.2)\n",
      "Requirement already satisfied: munch>=2.3.2 in /opt/mamba/lib/python3.10/site-packages (from fiona>=1.8.21->geopandas) (4.0.0)\n",
      "Requirement already satisfied: numpy<2,>=1.22.4 in /opt/mamba/lib/python3.10/site-packages (from pandas>=1.4.0->geopandas) (1.26.2)\n",
      "Requirement already satisfied: python-dateutil>=2.8.2 in /opt/mamba/lib/python3.10/site-packages (from pandas>=1.4.0->geopandas) (2.8.2)\n",
      "Requirement already satisfied: pytz>=2020.1 in /opt/mamba/lib/python3.10/site-packages (from pandas>=1.4.0->geopandas) (2023.3.post1)\n",
      "Requirement already satisfied: tzdata>=2022.1 in /opt/mamba/lib/python3.10/site-packages (from pandas>=1.4.0->geopandas) (2023.3)\n",
      "Requirement already satisfied: six>=1.5 in /opt/mamba/lib/python3.10/site-packages (from python-dateutil>=2.8.2->pandas>=1.4.0->geopandas) (1.16.0)\n",
      "Requirement already satisfied: pandas in /opt/mamba/lib/python3.10/site-packages (2.1.3)\n",
      "Requirement already satisfied: fiona in /opt/mamba/lib/python3.10/site-packages (1.9.3)\n",
      "Requirement already satisfied: shapely in /opt/mamba/lib/python3.10/site-packages (2.0.2)\n",
      "Requirement already satisfied: pyproj in /opt/mamba/lib/python3.10/site-packages (3.6.1)\n",
      "Requirement already satisfied: rtree in /opt/mamba/lib/python3.10/site-packages (1.1.0)\n",
      "Requirement already satisfied: numpy<2,>=1.22.4 in /opt/mamba/lib/python3.10/site-packages (from pandas) (1.26.2)\n",
      "Requirement already satisfied: python-dateutil>=2.8.2 in /opt/mamba/lib/python3.10/site-packages (from pandas) (2.8.2)\n",
      "Requirement already satisfied: pytz>=2020.1 in /opt/mamba/lib/python3.10/site-packages (from pandas) (2023.3.post1)\n",
      "Requirement already satisfied: tzdata>=2022.1 in /opt/mamba/lib/python3.10/site-packages (from pandas) (2023.3)\n",
      "Requirement already satisfied: attrs>=19.2.0 in /opt/mamba/lib/python3.10/site-packages (from fiona) (23.1.0)\n",
      "Requirement already satisfied: certifi in /opt/mamba/lib/python3.10/site-packages (from fiona) (2023.11.17)\n",
      "Requirement already satisfied: click~=8.0 in /opt/mamba/lib/python3.10/site-packages (from fiona) (8.1.7)\n",
      "Requirement already satisfied: click-plugins>=1.0 in /opt/mamba/lib/python3.10/site-packages (from fiona) (1.1.1)\n",
      "Requirement already satisfied: cligj>=0.5 in /opt/mamba/lib/python3.10/site-packages (from fiona) (0.7.2)\n",
      "Requirement already satisfied: munch>=2.3.2 in /opt/mamba/lib/python3.10/site-packages (from fiona) (4.0.0)\n",
      "Requirement already satisfied: six>=1.5 in /opt/mamba/lib/python3.10/site-packages (from python-dateutil>=2.8.2->pandas) (1.16.0)\n",
      "Requirement already satisfied: contextily in /opt/mamba/lib/python3.10/site-packages (1.4.0)\n",
      "Requirement already satisfied: geopy in /opt/mamba/lib/python3.10/site-packages (from contextily) (2.4.1)\n",
      "Requirement already satisfied: matplotlib in /opt/mamba/lib/python3.10/site-packages (from contextily) (3.8.2)\n",
      "Requirement already satisfied: mercantile in /opt/mamba/lib/python3.10/site-packages (from contextily) (1.2.1)\n",
      "Requirement already satisfied: pillow in /opt/mamba/lib/python3.10/site-packages (from contextily) (10.1.0)\n",
      "Requirement already satisfied: rasterio in /opt/mamba/lib/python3.10/site-packages (from contextily) (1.3.9)\n",
      "Requirement already satisfied: requests in /opt/mamba/lib/python3.10/site-packages (from contextily) (2.31.0)\n",
      "Requirement already satisfied: joblib in /opt/mamba/lib/python3.10/site-packages (from contextily) (1.3.2)\n",
      "Requirement already satisfied: xyzservices in /opt/mamba/lib/python3.10/site-packages (from contextily) (2023.10.1)\n",
      "Requirement already satisfied: geographiclib<3,>=1.52 in /opt/mamba/lib/python3.10/site-packages (from geopy->contextily) (2.0)\n",
      "Requirement already satisfied: contourpy>=1.0.1 in /opt/mamba/lib/python3.10/site-packages (from matplotlib->contextily) (1.2.0)\n",
      "Requirement already satisfied: cycler>=0.10 in /opt/mamba/lib/python3.10/site-packages (from matplotlib->contextily) (0.12.1)\n",
      "Requirement already satisfied: fonttools>=4.22.0 in /opt/mamba/lib/python3.10/site-packages (from matplotlib->contextily) (4.46.0)\n",
      "Requirement already satisfied: kiwisolver>=1.3.1 in /opt/mamba/lib/python3.10/site-packages (from matplotlib->contextily) (1.4.5)\n",
      "Requirement already satisfied: numpy<2,>=1.21 in /opt/mamba/lib/python3.10/site-packages (from matplotlib->contextily) (1.26.2)\n",
      "Requirement already satisfied: packaging>=20.0 in /opt/mamba/lib/python3.10/site-packages (from matplotlib->contextily) (23.1)\n",
      "Requirement already satisfied: pyparsing>=2.3.1 in /opt/mamba/lib/python3.10/site-packages (from matplotlib->contextily) (3.1.1)\n",
      "Requirement already satisfied: python-dateutil>=2.7 in /opt/mamba/lib/python3.10/site-packages (from matplotlib->contextily) (2.8.2)\n",
      "Requirement already satisfied: click>=3.0 in /opt/mamba/lib/python3.10/site-packages (from mercantile->contextily) (8.1.7)\n",
      "Requirement already satisfied: affine in /opt/mamba/lib/python3.10/site-packages (from rasterio->contextily) (2.4.0)\n",
      "Requirement already satisfied: attrs in /opt/mamba/lib/python3.10/site-packages (from rasterio->contextily) (23.1.0)\n",
      "Requirement already satisfied: certifi in /opt/mamba/lib/python3.10/site-packages (from rasterio->contextily) (2023.11.17)\n",
      "Requirement already satisfied: cligj>=0.5 in /opt/mamba/lib/python3.10/site-packages (from rasterio->contextily) (0.7.2)\n",
      "Requirement already satisfied: snuggs>=1.4.1 in /opt/mamba/lib/python3.10/site-packages (from rasterio->contextily) (1.4.7)\n",
      "Requirement already satisfied: click-plugins in /opt/mamba/lib/python3.10/site-packages (from rasterio->contextily) (1.1.1)\n",
      "Requirement already satisfied: setuptools in /opt/mamba/lib/python3.10/site-packages (from rasterio->contextily) (68.1.2)\n",
      "Requirement already satisfied: charset-normalizer<4,>=2 in /opt/mamba/lib/python3.10/site-packages (from requests->contextily) (3.2.0)\n",
      "Requirement already satisfied: idna<4,>=2.5 in /opt/mamba/lib/python3.10/site-packages (from requests->contextily) (3.4)\n",
      "Requirement already satisfied: urllib3<3,>=1.21.1 in /opt/mamba/lib/python3.10/site-packages (from requests->contextily) (1.26.18)\n",
      "Requirement already satisfied: six>=1.5 in /opt/mamba/lib/python3.10/site-packages (from python-dateutil>=2.7->matplotlib->contextily) (1.16.0)\n",
      "Requirement already satisfied: pygeos in /opt/mamba/lib/python3.10/site-packages (0.14)\n",
      "Requirement already satisfied: numpy>=1.13 in /opt/mamba/lib/python3.10/site-packages (from pygeos) (1.26.2)\n",
      "Requirement already satisfied: topojson in /opt/mamba/lib/python3.10/site-packages (1.7)\n",
      "Requirement already satisfied: numpy in /opt/mamba/lib/python3.10/site-packages (from topojson) (1.26.2)\n",
      "Requirement already satisfied: shapely in /opt/mamba/lib/python3.10/site-packages (from topojson) (2.0.2)\n",
      "Requirement already satisfied: packaging in /opt/mamba/lib/python3.10/site-packages (from topojson) (23.1)\n"
     ]
    }
   ],
   "source": [
    "import numpy as np\n",
    "import pandas as pd\n",
    "import matplotlib.pyplot as plt\n",
    "import requests\n",
    "!pip install --upgrade xlrd #colab bug verson xlrd\n",
    "!pip install geopandas\n",
    "!pip install pandas fiona shapely pyproj rtree\n",
    "!pip install contextily\n",
    "!pip install pygeos\n",
    "!pip install topojson\n",
    "import geopandas as gpd\n",
    "import contextily as ctx\n",
    "import matplotlib.pyplot as plt\n",
    "#!pip install requests py7zr geopandas openpyxl tqdm s3fs PyYAML xlrd\n",
    "#!pip install git+https://github.com/inseefrlab/cartiflette@80b8a5a28371feb6df31d55bcc2617948a5f9b1a"
   ]
  },
  {
   "cell_type": "code",
   "execution_count": 25,
   "id": "57e40471",
   "metadata": {},
   "outputs": [],
   "source": [
    "#test_1 = pd.read_csv(\"https://www.data.gouv.fr/fr/datasets/r/5f71ba43-afc8-43a0-b306-dafe29940f9c\", sep = \";\", encoding = 'utf-8', engine = 'python')\n",
    "#le lien du dossier data.gouv : \n",
    "# https://www.data.gouv.fr/fr/datasets/effectif-de-patients-par-pathologie-sexe-classe-dage-et-territoire-departement-region/\n",
    "# methode \"classique\" pour obtenir un dataset a partir d un lien \n",
    "# probleme d encodage d ou les parametres sep, encoding, engine\n",
    "# A FAIRE : COPIER LA BASE DE FACON LOCALE ET S Y REFERER PAR LA SUITE PAR EFFECTIFS.CSV "
   ]
  },
  {
   "cell_type": "code",
   "execution_count": 30,
   "id": "70a8b2c2",
   "metadata": {},
   "outputs": [],
   "source": [
    "test_2 = pd.read_csv(\"effectifs.csv\", sep = \";\", encoding = 'utf-8', engine = 'python')\n",
    "\n",
    "#commande a utiliser une fois qu on a la base \n",
    "#copiee en local \n",
    "#la base au prealable telechargee sur ordi perso\n",
    "#Pour copier en local, glisser à gauche la table depuis les fichiers de l'ordi*"
   ]
  },
  {
   "cell_type": "code",
   "execution_count": 29,
   "id": "f2822ac1",
   "metadata": {
    "scrolled": true
   },
   "outputs": [
    {
     "data": {
      "text/plain": [
       "(156963, 16)"
      ]
     },
     "execution_count": 29,
     "metadata": {},
     "output_type": "execute_result"
    }
   ],
   "source": [
    "test_2.head()\n",
    "test_2.shape"
   ]
  },
  {
   "cell_type": "code",
   "execution_count": 31,
   "id": "6fd81634",
   "metadata": {},
   "outputs": [
    {
     "name": "stdout",
     "output_type": "stream",
     "text": [
      "nombre de categories differentes pour niv2 est :46\n",
      "nombre de categories differentes pour niv3 est :59\n"
     ]
    }
   ],
   "source": [
    "print(\"nombre de categories differentes pour niv2 est :\"+str(len(test_2['patho_niv2'].unique())))\n",
    "print(\"nombre de categories differentes pour niv3 est :\"+str(len(test_2['patho_niv3'].unique())))"
   ]
  },
  {
   "cell_type": "code",
   "execution_count": null,
   "id": "47ee555d",
   "metadata": {},
   "outputs": [
    {
     "name": "stdout",
     "output_type": "stream",
     "text": [
      "['Pas de pathologies repérées, traitements, maternité, hospitalisations ni traitement antalgique ou anti-inflammatoire'\n",
      " 'Séjours en hospitalisation complète pour prise en charge de la Covid-19'\n",
      " 'Traitements du risque vasculaire (hors pathologies)'\n",
      " 'Maladies inflammatoires ou rares ou VIH ou SIDA'\n",
      " 'Maladies neurologiques ou dégénératives'\n",
      " 'Traitements psychotropes (hors pathologies)'\n",
      " 'Traitement antalgique ou anti-inflammatoire (hors pathologies, traitements, maternité ou hospitalisations)'\n",
      " 'Maladies psychiatriques' nan\n",
      " 'Autres affections de longue durée (dont 31 et 32)' 'Cancers'\n",
      " 'Maladies cardio-neurovasculaires'\n",
      " 'Maladies du foie ou du pancréas (hors mucoviscidose)' 'Diabète'\n",
      " 'Hospitalisations ponctuelles (avec ou sans pathologies, traitements ou maternité)'\n",
      " 'Maladies respiratoires chroniques (hors mucoviscidose)'\n",
      " 'Maternité (avec ou sans pathologies)'\n",
      " 'Insuffisance rénale chronique terminale']\n"
     ]
    }
   ],
   "source": [
    "#potentiellement creer 123 colonnes pour pouvoir faire du clustering \n",
    "#comparer les clusters obtenus par les caracteristiques d un inidivu pour voir si ca matche ou pas \n",
    "print(test_2['patho_niv1'].unique())"
   ]
  },
  {
   "cell_type": "code",
   "execution_count": null,
   "id": "3e73d309",
   "metadata": {},
   "outputs": [],
   "source": [
    "data_gen = test_2"
   ]
  },
  {
   "cell_type": "code",
   "execution_count": null,
   "id": "50540e06",
   "metadata": {
    "scrolled": true
   },
   "outputs": [],
   "source": [
    "print(test_2.shape, data_gen.shape)"
   ]
  },
  {
   "cell_type": "code",
   "execution_count": null,
   "id": "8bdc0b54",
   "metadata": {
    "scrolled": true
   },
   "outputs": [],
   "source": [
    "liste_diff_patho1 = data_gen['patho_niv1'].unique()\n",
    "liste_diff_patho2 = data_gen['patho_niv2'].unique()\n",
    "liste_diff_patho3 = data_gen['patho_niv3'].unique()\n",
    "\n",
    "print(liste_diff_patho1, \"\\n\", liste_diff_patho2, \"\\n\", liste_diff_patho3)"
   ]
  },
  {
   "cell_type": "code",
   "execution_count": null,
   "id": "da18a21a",
   "metadata": {},
   "outputs": [],
   "source": [
    "print(data_gen.shape, data_gen['patho_niv1'].isna().sum())"
   ]
  },
  {
   "cell_type": "code",
   "execution_count": null,
   "id": "2de42dd7",
   "metadata": {},
   "outputs": [],
   "source": [
    "#Creation d une colonne individus\n",
    "ind = []\n",
    "for i in range (1,4057202) : \n",
    "    ind.append(i)"
   ]
  },
  {
   "cell_type": "code",
   "execution_count": null,
   "id": "727f85a7",
   "metadata": {},
   "outputs": [],
   "source": [
    "ind = pd.DataFrame(ind)\n",
    "ind = ind.set_axis(['ind'], axis='columns')"
   ]
  },
  {
   "cell_type": "code",
   "execution_count": null,
   "id": "9f15bb21",
   "metadata": {},
   "outputs": [],
   "source": [
    "data_gen_1 = pd.concat([ind, data_gen], axis = 1)"
   ]
  },
  {
   "cell_type": "code",
   "execution_count": null,
   "id": "f1bcfdd6",
   "metadata": {},
   "outputs": [],
   "source": [
    "data_gen_1.head()"
   ]
  },
  {
   "cell_type": "code",
   "execution_count": null,
   "id": "ce6750f8",
   "metadata": {},
   "outputs": [],
   "source": [
    "data_gen = data_gen_1"
   ]
  },
  {
   "cell_type": "code",
   "execution_count": null,
   "id": "3cfcdb61",
   "metadata": {},
   "outputs": [],
   "source": [
    "#tentative de compréhension de ce que la variable npop représente\n",
    "#b = data_gen['npop'].unique()\n",
    "#b = pd.DataFrame(b)"
   ]
  },
  {
   "cell_type": "code",
   "execution_count": null,
   "id": "6c0a3812",
   "metadata": {},
   "outputs": [],
   "source": [
    "#b = b.dropna()"
   ]
  },
  {
   "cell_type": "code",
   "execution_count": null,
   "id": "7230fbc7",
   "metadata": {},
   "outputs": [],
   "source": [
    "#b = b.set_axis(['test'], axis = 'columns')"
   ]
  },
  {
   "cell_type": "code",
   "execution_count": null,
   "id": "7e8366f2",
   "metadata": {},
   "outputs": [],
   "source": [
    "#b.head()"
   ]
  },
  {
   "cell_type": "code",
   "execution_count": null,
   "id": "db1b723d",
   "metadata": {},
   "outputs": [],
   "source": [
    "#sum(b['test'])"
   ]
  },
  {
   "cell_type": "code",
   "execution_count": null,
   "id": "c249355e",
   "metadata": {},
   "outputs": [],
   "source": [
    "#resultat peu concluant"
   ]
  },
  {
   "cell_type": "code",
   "execution_count": null,
   "id": "f94ed0ee",
   "metadata": {},
   "outputs": [],
   "source": [
    "#creation d indicatrices pour futur clustering"
   ]
  },
  {
   "cell_type": "code",
   "execution_count": null,
   "id": "9facdca0",
   "metadata": {},
   "outputs": [],
   "source": [
    "liste_diff_patho3 = list(liste_diff_patho3)"
   ]
  },
  {
   "cell_type": "code",
   "execution_count": null,
   "id": "3e487655",
   "metadata": {},
   "outputs": [],
   "source": [
    "#premier code pour creation d indicatrice"
   ]
  },
  {
   "cell_type": "code",
   "execution_count": null,
   "id": "e098eee8",
   "metadata": {
    "scrolled": true
   },
   "outputs": [],
   "source": [
    "temporaire = []\n",
    "for i in data_gen['patho_niv3'] : \n",
    "    if i == 'Syndrome coronaire aigu' :\n",
    "        temporaire.append(1)\n",
    "    else : \n",
    "        temporaire.append(0)\n",
    "\n",
    "data_gen['Syndrome_coronaire_aigu_indicatrice'] = temporaire\n",
    "data_gen = data_gen.drop(columns = ['Syndrome_coronaire_aigu_indicatrice'])\n",
    "data_gen.head()"
   ]
  },
  {
   "cell_type": "code",
   "execution_count": null,
   "id": "139cc24a",
   "metadata": {
    "scrolled": true
   },
   "outputs": [],
   "source": [
    "def creation_indicatrice (colonne_de_depart, nom_de_maladie) : \n",
    "    temporaire = []\n",
    "    for i in colonne_de_depart :\n",
    "        if i == f\"{nom_de_maladie}\" :\n",
    "            temporaire.append(1)\n",
    "        else :\n",
    "            temporaire.append(0)\n",
    "    data_gen[f\"{nom_de_maladie}_ind\"] = temporaire"
   ]
  },
  {
   "cell_type": "code",
   "execution_count": null,
   "id": "bb241ea3",
   "metadata": {},
   "outputs": [],
   "source": [
    "for i in liste_diff_patho3 : \n",
    "    creation_indicatrice(colonne_de_depart = data_gen['patho_niv3'], nom_de_maladie = i)"
   ]
  },
  {
   "cell_type": "code",
   "execution_count": null,
   "id": "54097217",
   "metadata": {},
   "outputs": [],
   "source": [
    "data_gen.shape"
   ]
  },
  {
   "cell_type": "code",
   "execution_count": null,
   "id": "d0c04ed9",
   "metadata": {},
   "outputs": [],
   "source": [
    "#perte d un grand nombre de lignes \n",
    "#pb a regler\n",
    "#pb regle, venait du test pour essayer de comprendre la variable npop"
   ]
  },
  {
   "cell_type": "code",
   "execution_count": null,
   "id": "f1f7e925",
   "metadata": {},
   "outputs": [],
   "source": [
    "liste_var = data_gen.columns[17:]\n",
    "liste_bis = []\n",
    "for i in liste_var : \n",
    "    liste_bis.append(i)\n"
   ]
  },
  {
   "cell_type": "code",
   "execution_count": 30,
   "id": "00e47223",
   "metadata": {
    "scrolled": true
   },
   "outputs": [],
   "source": [
    "indicatrice_patho_niv3 = liste_bis"
   ]
  },
  {
   "cell_type": "code",
   "execution_count": null,
   "id": "e6bc784d",
   "metadata": {
    "scrolled": true
   },
   "outputs": [],
   "source": [
    "indicatrice_patho_niv3 = liste_bis \n",
    "print(indicatrice_patho_niv3)"
   ]
  },
  {
   "cell_type": "code",
   "execution_count": null,
   "id": "70045f05",
   "metadata": {},
   "outputs": [],
   "source": [
    "liste_auxil = data_gen['cla_age_5'].unique()\n",
    "print(liste_auxil)\n",
    "\n",
    "#afin de pouvoir clusteriser par la suite, nous allons creer des classes d age qui sont \"discretes\"\n",
    "#nous faisons ce choix car les classes d age sont relativement homogene et en prenant la moyenne des deux \n",
    "#bornes pour les classes, nous gardons l idee d une distance d age qui pourrait etre utile par la suite\n",
    "\n",
    "inter_excl = ('95et+', 'tsage', np.nan)\n",
    "\n",
    "inter_def = []\n",
    "for i in liste_auxil :\n",
    "    if i in inter_excl : \n",
    "        inter_def = inter_def\n",
    "    else : \n",
    "        inter_def.append(i)\n",
    "\n",
    "\n",
    "classe_age = []\n",
    "for i in data_gen['cla_age_5'] : \n",
    "    if i in inter_def :\n",
    "        temp = i.split('-')\n",
    "        temp[0] = int(temp[0])\n",
    "        temp[1] = int(temp[1])\n",
    "        age = (temp[1] + temp[0])/2\n",
    "    elif i == 'tsage' : \n",
    "        age = np.nan\n",
    "    elif i == '95et+' : \n",
    "        age = 100\n",
    "    else : \n",
    "        age = np.nan\n",
    "    classe_age.append(age)\n",
    "\n",
    "#pb a regler, il manque un truc pour eviter que ca bug fort\n",
    "#probablement type a regler ou categorie a revoir\n",
    "#code peu ergonomique mais solution la plus sure, \n",
    "#toutes les autres tentatives en posant des conditions sur le type de i \n",
    "#n ont pas ete solde par une reussite\n",
    "#on a print nombre de valeurs de classe_age et le code fonctionne\n",
    "\n",
    "data_gen['classe_age'] = classe_age\n",
    "\n",
    "data_patho_niv3 = data_gen"
   ]
  },
  {
   "cell_type": "code",
   "execution_count": 31,
   "id": "5d1727ea",
   "metadata": {},
   "outputs": [],
   "source": [
    "<<<<<<< REMOTE CELL DELETED >>>>>>>\n",
    "liste_auxil = data_gen['cla_age_5'].unique()"
   ]
  },
  {
   "cell_type": "code",
   "execution_count": null,
   "id": "80ffcc5a",
   "metadata": {},
   "outputs": [],
   "source": [
    "data_gen = data_gen.drop(indicatrice_patho_niv3, axis = 1)"
   ]
  },
  {
   "cell_type": "code",
   "execution_count": null,
   "id": "b6dd1912",
   "metadata": {},
   "outputs": [],
   "source": [
    "#on cree un nouveau dataframe pour pouvoir faire des manipulations plus rapides sur le data_gen"
   ]
  },
  {
   "cell_type": "code",
   "execution_count": null,
   "id": "97831a93",
   "metadata": {},
   "outputs": [],
   "source": [
    "data_gen.head()"
   ]
  },
  {
   "cell_type": "code",
   "execution_count": null,
   "id": "1b70ce9b",
   "metadata": {},
   "outputs": [],
   "source": [
    "df_model = data_gen[['ind','classe_age' , 'region', 'dept']]"
   ]
  },
  {
   "cell_type": "code",
   "execution_count": null,
   "id": "8368584d",
   "metadata": {},
   "outputs": [],
   "source": [
    "df_model_niv3 = pd.concat([df_model, data_patho_niv3[indicatrice_patho_niv3]], axis = 1)"
   ]
  },
  {
   "cell_type": "code",
   "execution_count": null,
   "id": "f87e04f0",
   "metadata": {},
   "outputs": [],
   "source": [
    "#truc bizarre a reverifier mais il se peut qu'il y ait eu un petit bug avec une colonne nan_ind"
   ]
  },
  {
   "cell_type": "code",
   "execution_count": null,
   "id": "8b1b0033",
   "metadata": {},
   "outputs": [],
   "source": [
    "#l'autre base pour la pollution ne prend pas les départements d'outre-mer en compte\n",
    "#il est donc probable que l'on soit contraints de les exclure de l'analyse \n"
   ]
  },
  {
   "cell_type": "code",
   "execution_count": null,
   "id": "a6d3b829",
   "metadata": {},
   "outputs": [],
   "source": [
    "data_pollution = pd.read_csv(\"base_pollution.csv\")"
   ]
  },
  {
   "cell_type": "code",
   "execution_count": null,
   "id": "4952ad89",
   "metadata": {},
   "outputs": [],
   "source": [
    "data_pollution.head()"
   ]
  },
  {
   "cell_type": "code",
   "execution_count": null,
   "id": "af32562b",
   "metadata": {},
   "outputs": [],
   "source": [
    "#df_model_test = pd.merge(df_model, data_pollution, how = 'left', left_on='dept', right_on='DEP')"
   ]
  },
  {
   "cell_type": "code",
   "execution_count": null,
   "id": "f98df640",
   "metadata": {},
   "outputs": [],
   "source": [
    "#decision prise apres cette ligne de reduire \n",
    "#considerablement la taille de la base sans quoi aucun calcul ne serait possible\n",
    "#j'ai essaye d'augmenter drastiquement les ressources disponibles pour \n",
    "#pouvoir ne serait-ce que merge et pour le clustering, \n",
    "#le calcul semble impossible"
   ]
  },
  {
   "cell_type": "code",
   "execution_count": null,
   "id": "24e4043b",
   "metadata": {},
   "outputs": [],
   "source": [
    "#data_sans_na = data_gen[data_gen['patho_niv1'].apply(lambda s: s != 'Pas de pathologies repérées, traitements, maternité, hospitalisations ni traitement antalgique ou anti-inflammatoire')]"
   ]
  },
  {
   "cell_type": "code",
   "execution_count": null,
   "id": "8f62ae7a",
   "metadata": {},
   "outputs": [],
   "source": [
    "data_sans_na = data_gen.dropna()"
   ]
  },
  {
   "cell_type": "code",
   "execution_count": null,
   "id": "4d1143fb",
   "metadata": {},
   "outputs": [],
   "source": [
    "df_model_reduced = data_sans_na[['ind','classe_age' , 'region', 'dept']]"
   ]
  },
  {
   "cell_type": "code",
   "execution_count": null,
   "id": "d9b54e2a",
   "metadata": {},
   "outputs": [],
   "source": [
    "def creation_indicatrice_modif (colonne_de_depart, nom_de_maladie) : \n",
    "    temporaire = []\n",
    "    for i in colonne_de_depart :\n",
    "        if i == f\"{nom_de_maladie}\" :\n",
    "            temporaire.append(1)\n",
    "        else :\n",
    "            temporaire.append(0)\n",
    "    data_sans_na.loc[:, f\"{nom_de_maladie}_ind\"] = temporaire\n",
    "#derniere ligne donnee par chatgpt parce qu'il y avait une erreur\n",
    "#car je n'utilisais pas le .loc mais mettais juste :\n",
    "#data_sans_na[f\"{nom_de_maladie}_ind\"], mais apparemment \n",
    "#cela aurait pu faire un comportement etrange et donc pour modifier \n",
    "#\"en vrai\" le nouveau subset il fallait le traiter comme ca,\n",
    "#ce qui semble marcher\n",
    "\n",
    "for i in liste_diff_patho3 : \n",
    "    creation_indicatrice_modif(colonne_de_depart = data_sans_na.loc[:,'patho_niv3'], nom_de_maladie = i)"
   ]
  },
  {
   "cell_type": "code",
   "execution_count": 4,
   "id": "d7a06e41",
   "metadata": {},
   "outputs": [
    {
     "ename": "NameError",
     "evalue": "name 'data_sans_na' is not defined",
     "output_type": "error",
     "traceback": [
      "\u001b[0;31m---------------------------------------------------------------------------\u001b[0m",
      "\u001b[0;31mNameError\u001b[0m                                 Traceback (most recent call last)",
      "Cell \u001b[0;32mIn[4], line 1\u001b[0m\n\u001b[0;32m----> 1\u001b[0m \u001b[43mdata_sans_na\u001b[49m\u001b[38;5;241m.\u001b[39mhead()\n",
      "\u001b[0;31mNameError\u001b[0m: name 'data_sans_na' is not defined"
     ]
    }
   ],
   "source": [
    "data_sans_na.head()"
   ]
  },
  {
   "cell_type": "code",
   "execution_count": null,
   "id": "82a849e6",
   "metadata": {},
   "outputs": [],
   "source": [
    "df_model_reduced.shape"
   ]
  },
  {
   "cell_type": "code",
   "execution_count": null,
   "id": "9236b4f1",
   "metadata": {},
   "outputs": [],
   "source": [
    "df_model_reduced.head()"
   ]
  },
  {
   "cell_type": "code",
   "execution_count": null,
   "id": "d0c60718",
   "metadata": {},
   "outputs": [],
   "source": [
    "#meme en ayant divise par deux la taille de la base,\n",
    "#augmente de facon considerable les ressources disponibles,\n",
    "#efface tous les outputs des cellules\n",
    "#ca ne marche pas \n",
    "#donc il faudra faire des regroupements\n",
    "#vient la question : lesquels"
   ]
  },
  {
   "cell_type": "code",
   "execution_count": null,
   "id": "cb8ab1d0",
   "metadata": {},
   "outputs": [],
   "source": []
  },
  {
   "cell_type": "code",
   "execution_count": null,
   "id": "0ffe866a",
   "metadata": {},
   "outputs": [],
   "source": []
  }
 ],
 "metadata": {
  "kernelspec": {
   "display_name": "Python 3 (ipykernel)",
   "language": "python",
   "name": "python3"
  },
  "language_info": {
   "codemirror_mode": {
    "name": "ipython",
    "version": 3
   },
   "file_extension": ".py",
   "mimetype": "text/x-python",
   "name": "python",
   "nbconvert_exporter": "python",
   "pygments_lexer": "ipython3",
   "version": "3.10.13"
  }
 },
 "nbformat": 4,
 "nbformat_minor": 5
}
