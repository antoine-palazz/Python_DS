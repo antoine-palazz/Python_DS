{
 "cells": [
  {
   "cell_type": "code",
   "execution_count": null,
   "id": "4be61d8d",
   "metadata": {
    "scrolled": true
   },
   "outputs": [],
   "source": [
    "import numpy as np\n",
    "import pandas as pd\n",
    "import matplotlib.pyplot as plt\n",
    "import requests\n",
    "!pip install --upgrade xlrd #colab bug verson xlrd\n",
    "!pip install geopandas\n",
    "!pip install pandas fiona shapely pyproj rtree\n",
    "!pip install contextily\n",
    "!pip install pygeos\n",
    "!pip install topojson\n",
    "import geopandas as gpd\n",
    "import contextily as ctx\n",
    "import matplotlib.pyplot as plt\n",
    "#!pip install requests py7zr geopandas openpyxl tqdm s3fs PyYAML xlrd\n",
    "#!pip install git+https://github.com/inseefrlab/cartiflette@80b8a5a28371feb6df31d55bcc2617948a5f9b1a"
   ]
  },
  {
   "cell_type": "code",
   "execution_count": null,
   "id": "57e40471",
   "metadata": {},
   "outputs": [],
   "source": [
    "#test_1 = pd.read_csv(\"https://www.data.gouv.fr/fr/datasets/r/5f71ba43-afc8-43a0-b306-dafe29940f9c\", sep = \";\", encoding = 'utf-8', engine = 'python')\n",
    "#le lien du dossier data.gouv : \n",
    "# https://www.data.gouv.fr/fr/datasets/effectif-de-patients-par-pathologie-sexe-classe-dage-et-territoire-departement-region/\n",
    "# methode \"classique\" pour obtenir un dataset a partir d un lien \n",
    "# probleme d encodage d ou les parametres sep, encoding, engine\n",
    "# A FAIRE : COPIER LA BASE DE FACON LOCALE ET S Y REFERER PAR LA SUITE PAR EFFECTIFS.CSV "
   ]
  },
  {
   "cell_type": "code",
   "execution_count": null,
   "id": "70a8b2c2",
   "metadata": {},
   "outputs": [],
   "source": [
    "test_2 = pd.read_csv(\"effectifs.csv\", sep = \";\", encoding = 'utf-8', engine = 'python')\n",
    "\n",
    "#commande a utiliser une fois qu on a la base \n",
    "#copiee en local \n",
    "#la base au prealable telechargee sur ordi perso\n",
    "#Pour copier en local, glisser à gauche la table depuis les fichiers de l'ordi*"
   ]
  },
  {
   "cell_type": "code",
   "execution_count": null,
   "id": "7e487d8d-3371-479b-8f0c-0f9ad825b565",
   "metadata": {},
   "outputs": [],
   "source": [
    "groupe_dep = pd.read_csv(\"groupe_dep.csv\", encoding = 'utf-8')\n",
    "data_pollution = pd.read_csv(\"base_pollution.csv\")"
   ]
  },
  {
   "cell_type": "code",
   "execution_count": null,
   "id": "1e4697ec",
   "metadata": {
    "scrolled": true
   },
   "outputs": [],
   "source": [
    "test_2.head()\n",
    "test_2.shape"
   ]
  },
  {
   "cell_type": "code",
   "execution_count": null,
   "id": "6fd81634",
   "metadata": {},
   "outputs": [],
   "source": [
    "print(\"nombre de categories differentes pour niv2 est :\"+str(len(test_2['patho_niv2'].unique())))\n",
    "print(\"nombre de categories differentes pour niv3 est :\"+str(len(test_2['patho_niv3'].unique())))"
   ]
  },
  {
   "cell_type": "code",
   "execution_count": null,
   "id": "47ee555d",
   "metadata": {},
   "outputs": [],
   "source": [
    "#potentiellement creer 123 colonnes pour pouvoir faire du clustering \n",
    "#comparer les clusters obtenus par les caracteristiques d un inidivu pour voir si ca matche ou pas \n",
    "print(test_2['patho_niv1'].unique())"
   ]
  },
  {
   "cell_type": "code",
   "execution_count": null,
   "id": "3e73d309",
   "metadata": {},
   "outputs": [],
   "source": [
    "data_gen = test_2.dropna()"
   ]
  },
  {
   "cell_type": "code",
   "execution_count": null,
   "id": "50540e06",
   "metadata": {
    "scrolled": true
   },
   "outputs": [],
   "source": [
    "print(test_2.shape, data_gen.shape)"
   ]
  },
  {
   "cell_type": "code",
   "execution_count": null,
   "id": "8bdc0b54",
   "metadata": {
    "scrolled": true
   },
   "outputs": [],
   "source": [
    "liste_diff_patho1 = data_gen['patho_niv1'].unique()\n",
    "liste_diff_patho2 = data_gen['patho_niv2'].unique()\n",
    "liste_diff_patho3 = data_gen['patho_niv3'].unique()\n",
    "\n",
    "print(liste_diff_patho1, \"\\n\", liste_diff_patho2, \"\\n\", liste_diff_patho3)"
   ]
  },
  {
   "cell_type": "code",
   "execution_count": null,
   "id": "da18a21a",
   "metadata": {},
   "outputs": [],
   "source": [
    "print(data_gen.shape)"
   ]
  },
  {
   "cell_type": "code",
   "execution_count": null,
   "id": "2de42dd7",
   "metadata": {},
   "outputs": [],
   "source": [
    "#Creation d une colonne individus\n",
    "data_gen.reset_index(inplace = True, names='ind') \n",
    "\n"
   ]
  },
  {
   "cell_type": "code",
   "execution_count": null,
   "id": "3884ecc0-7a7a-4d6a-b3ce-49afaffbc4df",
   "metadata": {},
   "outputs": [],
   "source": [
    "data_gen.shape"
   ]
  },
  {
   "cell_type": "code",
   "execution_count": null,
   "id": "3cfcdb61",
   "metadata": {},
   "outputs": [],
   "source": [
    "#tentative de compréhension de ce que la variable npop représente\n",
    "#b = data_gen['npop'].unique()\n",
    "#b = pd.DataFrame(b)"
   ]
  },
  {
   "cell_type": "code",
   "execution_count": null,
   "id": "6c0a3812",
   "metadata": {},
   "outputs": [],
   "source": [
    "#b = b.dropna()"
   ]
  },
  {
   "cell_type": "code",
   "execution_count": null,
   "id": "7230fbc7",
   "metadata": {},
   "outputs": [],
   "source": [
    "#b = b.set_axis(['test'], axis = 'columns')"
   ]
  },
  {
   "cell_type": "code",
   "execution_count": null,
   "id": "7e8366f2",
   "metadata": {},
   "outputs": [],
   "source": [
    "#b.head()"
   ]
  },
  {
   "cell_type": "code",
   "execution_count": null,
   "id": "db1b723d",
   "metadata": {},
   "outputs": [],
   "source": [
    "#sum(b['test'])"
   ]
  },
  {
   "cell_type": "code",
   "execution_count": null,
   "id": "c249355e",
   "metadata": {},
   "outputs": [],
   "source": [
    "#resultat peu concluant"
   ]
  },
  {
   "cell_type": "code",
   "execution_count": null,
   "id": "f94ed0ee",
   "metadata": {},
   "outputs": [],
   "source": [
    "#creation d indicatrices pour futur clustering\n",
    "#aprs correction, utilisation de la fonction get dummies"
   ]
  },
  {
   "cell_type": "code",
   "execution_count": null,
   "id": "9facdca0",
   "metadata": {},
   "outputs": [],
   "source": [
    "#liste_diff_patho3 = list(liste_diff_patho3)"
   ]
  },
  {
   "cell_type": "code",
   "execution_count": null,
   "id": "3e487655",
   "metadata": {},
   "outputs": [],
   "source": [
    "#premier code pour creation d indicatrice"
   ]
  },
  {
   "cell_type": "code",
   "execution_count": null,
   "id": "f1f7e925",
   "metadata": {},
   "outputs": [],
   "source": [
    "liste_var = data_gen.columns[17:]\n",
    "liste_bis = []\n",
    "for i in liste_var : \n",
    "    liste_bis.append(i)\n"
   ]
  },
  {
   "cell_type": "code",
   "execution_count": null,
   "id": "5d9aa795",
   "metadata": {
    "scrolled": true
   },
   "outputs": [],
   "source": [
    "indicatrice_patho_niv1 = liste_bis"
   ]
  },
  {
   "cell_type": "code",
   "execution_count": null,
   "id": "70045f05",
   "metadata": {},
   "outputs": [],
   "source": [
    "liste_auxil = data_gen['cla_age_5'].unique()\n",
    "print(liste_auxil)\n",
    "\n",
    "#afin de pouvoir clusteriser par la suite, nous allons creer des classes d age qui sont \"discretes\"\n",
    "#nous faisons ce choix car les classes d age sont relativement homogene et en prenant la moyenne des deux \n",
    "#bornes pour les classes, nous gardons l idee d une distance d age qui pourrait etre utile par la suite\n",
    "\"\"\"\n",
    "inter_excl = ('95et+', 'tsage', np.nan)\n",
    "\n",
    "inter_def = []\n",
    "for i in liste_auxil :\n",
    "    if i in inter_excl : \n",
    "        inter_def = inter_def\n",
    "    else : \n",
    "        inter_def.append(i)\n",
    "\n",
    "\n",
    "classe_age = []\n",
    "for i in data_gen['cla_age_5'] : \n",
    "    if i in inter_def :\n",
    "        temp = i.split('-')\n",
    "        temp[0] = int(temp[0])\n",
    "        temp[1] = int(temp[1])\n",
    "        age = (temp[1] + temp[0])/2\n",
    "    elif i == 'tsage' : \n",
    "        age = np.nan\n",
    "    elif i == '95et+' : \n",
    "        age = 100\n",
    "    else : \n",
    "        age = np.nan\n",
    "    classe_age.append(age)\n",
    "\"\"\"\n",
    "#pb a regler, il manque un truc pour eviter que ca bug fort\n",
    "#probablement type a regler ou categorie a revoir\n",
    "#code peu ergonomique mais solution la plus sure, \n",
    "#toutes les autres tentatives en posant des conditions sur le type de i \n",
    "#n ont pas ete solde par une reussite\n",
    "#on a print nombre de valeurs de classe_age et le code fonctionne\n",
    "\n",
    "\n",
    "\n",
    "data_gen[\"classe_age\"] = data_gen[\"cla_age_5\"].apply(\n",
    "    lambda x: np.mean(list(map(lambda y : int(y), x.split(\"-\")))) if \"-\" in x else (np.nan if x == 'tsage' else 100)\n",
    ")\n",
    "\n",
    "#fonction ecrite par Antoine Palazzolo"
   ]
  },
  {
   "cell_type": "code",
   "execution_count": null,
   "id": "ad5a3fec-56d8-4b8f-a245-40b6bff46856",
   "metadata": {},
   "outputs": [],
   "source": [
    "data_gen.head()"
   ]
  },
  {
   "cell_type": "code",
   "execution_count": null,
   "id": "b6dd1912",
   "metadata": {},
   "outputs": [],
   "source": [
    "#on cree un nouveau dataframe pour pouvoir faire des manipulations plus rapides sur le data_gen"
   ]
  },
  {
   "cell_type": "code",
   "execution_count": null,
   "id": "b1d9e08d",
   "metadata": {},
   "outputs": [],
   "source": [
    "df_model = data_gen[['ind','classe_age' , 'region', 'dept']]"
   ]
  },
  {
   "cell_type": "code",
   "execution_count": null,
   "id": "8f033245",
   "metadata": {},
   "outputs": [],
   "source": [
    "#truc bizarre a reverifier mais il se peut qu'il y ait eu un petit bug avec une colonne nan_ind"
   ]
  },
  {
   "cell_type": "code",
   "execution_count": null,
   "id": "8b1b0033",
   "metadata": {},
   "outputs": [],
   "source": [
    "#l'autre base pour la pollution ne prend pas les départements d'outre-mer en compte\n",
    "#il est donc probable que l'on soit contraints de les exclure de l'analyse \n"
   ]
  },
  {
   "cell_type": "code",
   "execution_count": null,
   "id": "3883d2d8",
   "metadata": {},
   "outputs": [],
   "source": [
    "df_model_test = pd.merge(df_model, groupe_dep, how = 'left', left_on='dept', right_on='DEP')"
   ]
  },
  {
   "cell_type": "code",
   "execution_count": null,
   "id": "f98df640",
   "metadata": {},
   "outputs": [],
   "source": [
    "#decision prise apres cette ligne de reduire \n",
    "#considerablement la taille de la base sans quoi aucun calcul ne serait possible\n",
    "#j'ai essaye d'augmenter drastiquement les ressources disponibles pour \n",
    "#pouvoir ne serait-ce que merge et pour le clustering, \n",
    "#le calcul semble impossible"
   ]
  },
  {
   "cell_type": "code",
   "execution_count": null,
   "id": "24e4043b",
   "metadata": {},
   "outputs": [],
   "source": [
    "#data_sans_na = data_gen[data_gen['patho_niv1'].apply(lambda s: s != 'Pas de pathologies repérées, traitements, maternité, hospitalisations ni traitement antalgique ou anti-inflammatoire')]"
   ]
  },
  {
   "cell_type": "code",
   "execution_count": null,
   "id": "6f075bc9",
   "metadata": {},
   "outputs": [],
   "source": [
    "df_model_reduced = data_gen[['ind','classe_age' , 'region', 'dept']]"
   ]
  },
  {
   "cell_type": "code",
   "execution_count": null,
   "id": "1605d777",
   "metadata": {},
   "outputs": [],
   "source": [
    "#meme en ayant divise par deux la taille de la base,\n",
    "#augmente de facon considerable les ressources disponibles,\n",
    "#efface tous les outputs des cellules\n",
    "#ca ne marche pas \n",
    "#donc il faudra faire des regroupements\n",
    "#vient la question : lesquels"
   ]
  },
  {
   "cell_type": "code",
   "execution_count": null,
   "id": "c86ed0b1-e0c1-4f51-bd01-d20f1209d340",
   "metadata": {},
   "outputs": [],
   "source": [
    "data_gen.drop(['patho_niv1', 'patho_niv2', 'patho_niv3', 'top'], axis = 1).sort_values(by = 'dept', ascending=True)"
   ]
  },
  {
   "cell_type": "code",
   "execution_count": null,
   "id": "acc920a8-ffc9-469e-8f77-da55049b6d0a",
   "metadata": {
    "scrolled": true
   },
   "outputs": [],
   "source": [
    "pd.get_dummies(data_gen, prefix = 'indicatrice_', columns=['patho_niv1'], dtype='int')"
   ]
  },
  {
   "cell_type": "code",
   "execution_count": null,
   "id": "05d2d2f4-679f-4178-b255-0b83aa282879",
   "metadata": {},
   "outputs": [],
   "source": [
    "data_gen"
   ]
  },
  {
   "cell_type": "code",
   "execution_count": null,
   "id": "d1fd2f61-ead5-40fc-8bef-b0a4217ad5a3",
   "metadata": {},
   "outputs": [],
   "source": [
    "pd.get_dummies(data_gen, prefix = 'indicatrice_', columns=['patho_niv1'], dtype='int').dropna().to_csv('data_dummies.csv')"
   ]
  },
  {
   "cell_type": "code",
   "execution_count": null,
   "id": "4885c9a6-7d73-4507-9eb4-56495308ee41",
   "metadata": {},
   "outputs": [],
   "source": []
  }
 ],
 "metadata": {
  "kernelspec": {
   "display_name": "Python 3 (ipykernel)",
   "language": "python",
   "name": "python3"
  },
  "language_info": {
   "codemirror_mode": {
    "name": "ipython",
    "version": 3
   },
   "file_extension": ".py",
   "mimetype": "text/x-python",
   "name": "python",
   "nbconvert_exporter": "python",
   "pygments_lexer": "ipython3",
   "version": "3.10.13"
  }
 },
 "nbformat": 4,
 "nbformat_minor": 5
}
