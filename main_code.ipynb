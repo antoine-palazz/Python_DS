{
 "cells": [
  {
   "cell_type": "code",
   "execution_count": null,
   "id": "4be61d8d",
   "metadata": {
    "scrolled": true
   },
   "outputs": [],
   "source": [
    "import numpy as np\n",
    "import pandas as pd\n",
    "import matplotlib.pyplot as plt\n",
    "import requests\n",
    "!pip install --upgrade xlrd #colab bug verson xlrd\n",
    "!pip install geopandas\n",
    "!pip install pandas fiona shapely pyproj rtree\n",
    "!pip install contextily\n",
    "!pip install pygeos\n",
    "!pip install topojson\n",
    "import geopandas as gpd\n",
    "import contextily as ctx\n",
    "import matplotlib.pyplot as plt\n",
    "from sklearn.preprocessing import StandardScaler\n",
    "#!pip install requests py7zr geopandas openpyxl tqdm s3fs PyYAML xlrd\n",
    "#!pip install git+https://github.com/inseefrlab/cartiflette@80b8a5a28371feb6df31d55bcc2617948a5f9b1a"
   ]
  },
  {
   "cell_type": "code",
   "execution_count": null,
   "id": "57e40471",
   "metadata": {},
   "outputs": [],
   "source": [
    "#test_1 = pd.read_csv(\"https://www.data.gouv.fr/fr/datasets/r/5f71ba43-afc8-43a0-b306-dafe29940f9c\", sep = \";\", encoding = 'utf-8', engine = 'python')\n",
    "#le lien du dossier data.gouv : \n",
    "# https://www.data.gouv.fr/fr/datasets/effectif-de-patients-par-pathologie-sexe-classe-dage-et-territoire-departement-region/\n",
    "# methode \"classique\" pour obtenir un dataset a partir d un lien \n",
    "# probleme d encodage d ou les parametres sep, encoding, engine\n",
    "# A FAIRE : COPIER LA BASE DE FACON LOCALE ET S Y REFERER PAR LA SUITE PAR EFFECTIFS.CSV "
   ]
  },
  {
   "cell_type": "code",
   "execution_count": null,
   "id": "8b739a17-f6e8-4aef-9559-084ee7ced785",
   "metadata": {},
   "outputs": [],
   "source": [
    "#Importation de la base détaillant les origines de la pollution\n",
    "data_pollution = pd.read_csv(\"https://koumoul.com/data-fair/api/v1/datasets/igt-pouvoir-de-rechauffement-global/convert\", encoding = 'utf-8')\n",
    "\n",
    "#Dictionnaire associant les numéros de département à ceux des régions\n",
    "\n",
    "correspondance_reg = {\n",
    "    84: ['01', '03', '07', '15', '26', '38', '42', '43', '63', '69', '73', '74'],  # Auvergne-Rhône-Alpes\n",
    "    27: ['21', '25', '39', '58', '70', '71', '89', '90'],  # Bourgogne-Franche-Comté\n",
    "    53: ['22', '29', '35', '56'],  # Bretagne\n",
    "    28: ['18', '28', '36', '37', '41', '45'],  # Centre-Val de Loire\n",
    "    94: ['2A', '2B'],  # Corse\n",
    "    44: ['08', '10', '51', '52', '54', '55', '57', '67', '68', '88'],  # Grand Est\n",
    "    32: ['02', '59', '60', '62', '80'],  # Hauts-de-France\n",
    "    11: ['75', '77', '78', '91', '92', '93', '94', '95'],  # Île-de-France\n",
    "    76: ['14', '27', '50', '61', '76'],  # Normandie\n",
    "    75: ['16', '17', '19', '23', '24', '33', '40', '47', '64', '79', '86', '87'],  # Nouvelle-Aquitaine\n",
    "    24: ['09', '11', '12', '30', '31', '32', '34', '46', '48', '65', '66', '81', '82'],  # Occitanie\n",
    "    52: ['44', '49', '53', '72', '85'],  # Pays de la Loire\n",
    "    93: ['04', '05', '06', '13', '83', '84']  # Provence-Alpes-Côte d'Azur\n",
    "}\n",
    "\n",
    "correspondance_reg = {dep: region for region, deps in correspondance_reg.items() for dep in deps}\n",
    "\n",
    "#Création de la variable département à partir du code commune de l'INSEE\n",
    "data_pollution['DEP'] = data_pollution['INSEE commune'].str[:2]\n",
    "\n",
    "#Chose à laquelle il faut faire attention : \n",
    "#DEP est de type serie car il ne contient pas que de variables numériques (2A et 2B)\n",
    "\n",
    "#Création de la variable région à partir de celle du département\n",
    "size = len(data_pollution['DEP'])\n",
    "data_pollution['REG'] = pd.Series([0]*size)\n",
    "\n",
    "for i in range(size) :\n",
    "    data_pollution.loc[i, 'REG'] = correspondance_reg.get(data_pollution['DEP'][i],\"inconnu\")\n",
    "\n",
    "REG_DEP_na = data_pollution[(data_pollution['DEP'].isna()) | (data_pollution['REG'].isna())]\n",
    "REG_DEP_na.shape\n",
    "#L'avantage par rapport au code précédent est qu'il n'y a plus de données perdues \n",
    "#ce qui n'était pas le cas avec le merge avec base_geo_pour_merge \n",
    "\n",
    "#Somme des niveaux de pollution par département\n",
    "pollution_group_dep = data_pollution.drop(['Commune','INSEE commune', 'REG'], axis = 1).groupby('DEP', as_index=False).sum()\n",
    "pollution_group_dep\n",
    "\n",
    "#Somme des niveaux de pollution par région\n",
    "pollution_group_reg = data_pollution.drop(['Commune','INSEE commune', 'DEP'], axis = 1).groupby('REG', as_index = False).sum()\n",
    "\n",
    "\n",
    "#Dictionnaire de correspondance des numéro de région avec leur nom\n",
    "#Utile pour l'affiche des graphiques\n",
    "nom_reg = {\n",
    "    84: 'Auvergne-Rhône-Alpes',\n",
    "    27: 'Bourgogne-Franche-Comté',\n",
    "    53: 'Bretagne',\n",
    "    28: 'Centre-Val de Loire',\n",
    "    94: 'Corse',\n",
    "    44: 'Grand Est',\n",
    "    32: 'Hauts-de-France',\n",
    "    11: 'Île-de-France',\n",
    "    76: 'Normandie',\n",
    "    75: 'Nouvelle-Aquitaine',\n",
    "    24: 'Occitanie',\n",
    "    52: 'Pays de la Loire',\n",
    "    93: \"Provence-Alpes-Côte d'Azur\"\n",
    "}\n",
    "\n",
    "# Conversion de la colonne 'REG' en type int\n",
    "pollution_group_reg['REG'] = pollution_group_reg['REG'].astype(int)\n",
    "\n",
    "# Création de la variable 'Nom de la région' à partir de celle de la région\n",
    "pollution_group_reg['Nom de la région'] = pollution_group_reg['REG'].map(nom_reg).fillna(\"inconnu\")\n",
    "\n",
    "# Réaranger l'ordre des colonnes\n",
    "colonnes_ordre = ['REG', 'Nom de la région'] + [colonne for colonne in pollution_group_reg.columns if colonne not in ['REG', 'Nom de la région']]\n",
    "pollution_group_reg = pollution_group_reg[colonnes_ordre]\n",
    "\n",
    "set_dep_littoral = (59, 62, 80, 76, 27, 14, 50, 35, \n",
    "                      22, 29, 56, 44, 85, 17, 33, 40, \n",
    "                    64, 66, 11, 34,\n",
    "                    30, 13, 83, 0o6, '2A', '2B')\n",
    "# Importation des bases en local pour faire tourner le code main\n",
    "data_pollution.to_csv('base_pollution.csv', sep=',', index=False, encoding='utf-8')\n",
    "pollution_group_reg.to_csv('pollution_group_reg.csv', sep=',', index=False, encoding='utf-8')\n",
    "pollution_group_dep.to_csv('pollution_group_dep.csv', sep=',', index=False, encoding='utf-8')"
   ]
  },
  {
   "cell_type": "code",
   "execution_count": null,
   "id": "dc06ba30-59c8-42c5-9787-bae36d583abc",
   "metadata": {},
   "outputs": [],
   "source": [
    "url = 'https://www.insee.fr/fr/statistiques/fichier/1893198/estim-pop-dep-sexe-gca-1975-2023.xls'\n",
    "\n",
    "noms_colonnes=['numero_dep','dep','total_habitants']\n",
    "pop_test = pd.read_excel(url, sheet_name='2023',skiprows=3,header=1, usecols = [0,1,7], skipfooter=4, names=noms_colonnes)\n",
    "\n",
    "\n",
    "#pop_test2 = pop_test.set_index(['Num_dep ', 'Nom_dep'])\n",
    "#pop_test2\n",
    "\n",
    "#pop_test3 = pop_test.drop(df.index[:3])\n",
    "#print(pop_test3)\n",
    "\n",
    "pop_test.to_csv('base_pop_dep.csv')"
   ]
  },
  {
   "cell_type": "code",
   "execution_count": null,
   "id": "70a8b2c2",
   "metadata": {},
   "outputs": [],
   "source": [
    "test_2 = pd.read_csv(\"effectifs.csv\", sep = \";\", encoding = 'utf-8', engine = 'python')\n",
    "\n",
    "#commande a utiliser une fois qu on a la base \n",
    "#copiee en local \n",
    "#la base au prealable telechargee sur ordi perso\n",
    "#Pour copier en local, glisser à gauche la table depuis les fichiers de l'ordi*"
   ]
  },
  {
   "cell_type": "code",
   "execution_count": null,
   "id": "7e487d8d-3371-479b-8f0c-0f9ad825b565",
   "metadata": {},
   "outputs": [],
   "source": [
    "groupe_dep = pd.read_csv(\"pollution_group_dep.csv\", encoding = 'utf-8')"
   ]
  },
  {
   "cell_type": "code",
   "execution_count": null,
   "id": "1e4697ec",
   "metadata": {
    "scrolled": true
   },
   "outputs": [],
   "source": [
    "test_2.head()\n",
    "test_2.shape"
   ]
  },
  {
   "cell_type": "code",
   "execution_count": null,
   "id": "6fd81634",
   "metadata": {},
   "outputs": [],
   "source": [
    "print(\"nombre de categories differentes pour niv2 est :\"+str(len(test_2['patho_niv2'].unique())))\n",
    "print(\"nombre de categories differentes pour niv3 est :\"+str(len(test_2['patho_niv3'].unique())))"
   ]
  },
  {
   "cell_type": "code",
   "execution_count": null,
   "id": "47ee555d",
   "metadata": {},
   "outputs": [],
   "source": [
    "#potentiellement creer 123 colonnes pour pouvoir faire du clustering \n",
    "#comparer les clusters obtenus par les caracteristiques d un inidivu pour voir si ca matche ou pas \n",
    "print(test_2['patho_niv1'].unique())"
   ]
  },
  {
   "cell_type": "code",
   "execution_count": null,
   "id": "3e73d309",
   "metadata": {},
   "outputs": [],
   "source": [
    "data_gen = test_2.dropna()"
   ]
  },
  {
   "cell_type": "code",
   "execution_count": null,
   "id": "50540e06",
   "metadata": {
    "scrolled": true
   },
   "outputs": [],
   "source": [
    "print(test_2.shape, data_gen.shape)"
   ]
  },
  {
   "cell_type": "code",
   "execution_count": null,
   "id": "8bdc0b54",
   "metadata": {
    "scrolled": true
   },
   "outputs": [],
   "source": [
    "liste_diff_patho1 = data_gen['patho_niv1'].unique()\n",
    "liste_diff_patho2 = data_gen['patho_niv2'].unique()\n",
    "liste_diff_patho3 = data_gen['patho_niv3'].unique()\n",
    "\n",
    "print(liste_diff_patho1, \"\\n\", liste_diff_patho2, \"\\n\", liste_diff_patho3)"
   ]
  },
  {
   "cell_type": "code",
   "execution_count": null,
   "id": "da18a21a",
   "metadata": {},
   "outputs": [],
   "source": [
    "print(data_gen.shape)"
   ]
  },
  {
   "cell_type": "code",
   "execution_count": null,
   "id": "2de42dd7",
   "metadata": {},
   "outputs": [],
   "source": [
    "#Creation d une colonne individus\n",
    "data_gen.reset_index(inplace = True, names='ind') \n",
    "\n"
   ]
  },
  {
   "cell_type": "code",
   "execution_count": null,
   "id": "3884ecc0-7a7a-4d6a-b3ce-49afaffbc4df",
   "metadata": {},
   "outputs": [],
   "source": [
    "data_gen.shape"
   ]
  },
  {
   "cell_type": "code",
   "execution_count": null,
   "id": "3cfcdb61",
   "metadata": {},
   "outputs": [],
   "source": [
    "#tentative de compréhension de ce que la variable npop représente\n",
    "#b = data_gen['npop'].unique()\n",
    "#b = pd.DataFrame(b)"
   ]
  },
  {
   "cell_type": "code",
   "execution_count": null,
   "id": "6c0a3812",
   "metadata": {},
   "outputs": [],
   "source": [
    "#b = b.dropna()"
   ]
  },
  {
   "cell_type": "code",
   "execution_count": null,
   "id": "7230fbc7",
   "metadata": {},
   "outputs": [],
   "source": [
    "#b = b.set_axis(['test'], axis = 'columns')"
   ]
  },
  {
   "cell_type": "code",
   "execution_count": null,
   "id": "7e8366f2",
   "metadata": {},
   "outputs": [],
   "source": [
    "#b.head()"
   ]
  },
  {
   "cell_type": "code",
   "execution_count": null,
   "id": "db1b723d",
   "metadata": {},
   "outputs": [],
   "source": [
    "#sum(b['test'])"
   ]
  },
  {
   "cell_type": "code",
   "execution_count": null,
   "id": "c249355e",
   "metadata": {},
   "outputs": [],
   "source": [
    "#resultat peu concluant"
   ]
  },
  {
   "cell_type": "code",
   "execution_count": null,
   "id": "f94ed0ee",
   "metadata": {},
   "outputs": [],
   "source": [
    "#creation d indicatrices pour futur clustering\n",
    "#aprs correction, utilisation de la fonction get dummies"
   ]
  },
  {
   "cell_type": "code",
   "execution_count": null,
   "id": "9facdca0",
   "metadata": {},
   "outputs": [],
   "source": [
    "#liste_diff_patho3 = list(liste_diff_patho3)"
   ]
  },
  {
   "cell_type": "code",
   "execution_count": null,
   "id": "3e487655",
   "metadata": {},
   "outputs": [],
   "source": [
    "#premier code pour creation d indicatrice"
   ]
  },
  {
   "cell_type": "code",
   "execution_count": null,
   "id": "f1f7e925",
   "metadata": {},
   "outputs": [],
   "source": [
    "#liste_var = data_gen.columns[17:]\n",
    "#liste_bis = []\n",
    "#for i in liste_var : \n",
    "#    liste_bis.append(i)\n"
   ]
  },
  {
   "cell_type": "code",
   "execution_count": null,
   "id": "5d9aa795",
   "metadata": {
    "scrolled": true
   },
   "outputs": [],
   "source": [
    "#indicatrice_patho_niv1 = liste_bis"
   ]
  },
  {
   "cell_type": "code",
   "execution_count": null,
   "id": "70045f05",
   "metadata": {},
   "outputs": [],
   "source": [
    "liste_auxil = data_gen['cla_age_5'].unique()\n",
    "print(liste_auxil)\n",
    "\n",
    "#afin de pouvoir clusteriser par la suite, nous allons creer des classes d age qui sont \"discretes\"\n",
    "#nous faisons ce choix car les classes d age sont relativement homogene et en prenant la moyenne des deux \n",
    "#bornes pour les classes, nous gardons l idee d une distance d age qui pourrait etre utile par la suite\n",
    "\"\"\"\n",
    "inter_excl = ('95et+', 'tsage', np.nan)\n",
    "\n",
    "inter_def = []\n",
    "for i in liste_auxil :\n",
    "    if i in inter_excl : \n",
    "        inter_def = inter_def\n",
    "    else : \n",
    "        inter_def.append(i)\n",
    "\n",
    "\n",
    "classe_age = []\n",
    "for i in data_gen['cla_age_5'] : \n",
    "    if i in inter_def :\n",
    "        temp = i.split('-')\n",
    "        temp[0] = int(temp[0])\n",
    "        temp[1] = int(temp[1])\n",
    "        age = (temp[1] + temp[0])/2\n",
    "    elif i == 'tsage' : \n",
    "        age = np.nan\n",
    "    elif i == '95et+' : \n",
    "        age = 100\n",
    "    else : \n",
    "        age = np.nan\n",
    "    classe_age.append(age)\n",
    "\"\"\"\n",
    "#pb a regler, il manque un truc pour eviter que ca bug fort\n",
    "#probablement type a regler ou categorie a revoir\n",
    "#code peu ergonomique mais solution la plus sure, \n",
    "#toutes les autres tentatives en posant des conditions sur le type de i \n",
    "#n ont pas ete solde par une reussite\n",
    "#on a print nombre de valeurs de classe_age et le code fonctionne\n",
    "\n",
    "\n",
    "\n",
    "data_gen[\"classe_age\"] = data_gen[\"cla_age_5\"].apply(\n",
    "    lambda x: np.mean(list(map(lambda y : int(y), x.split(\"-\")))) if \"-\" in x else (np.nan if x == 'tsage' else 100)\n",
    ")\n",
    "\n",
    "#fonction ecrite par Antoine Palazzolo"
   ]
  },
  {
   "cell_type": "code",
   "execution_count": null,
   "id": "b6dd1912",
   "metadata": {},
   "outputs": [],
   "source": [
    "#on cree un nouveau dataframe pour pouvoir faire des manipulations plus rapides sur le data_gen"
   ]
  },
  {
   "cell_type": "code",
   "execution_count": null,
   "id": "b1d9e08d",
   "metadata": {},
   "outputs": [],
   "source": [
    "df_model = data_gen[['ind','classe_age' , 'region', 'dept']]"
   ]
  },
  {
   "cell_type": "code",
   "execution_count": null,
   "id": "8f033245",
   "metadata": {},
   "outputs": [],
   "source": [
    "#truc bizarre a reverifier mais il se peut qu'il y ait eu un petit bug avec une colonne nan_ind"
   ]
  },
  {
   "cell_type": "code",
   "execution_count": null,
   "id": "8b1b0033",
   "metadata": {},
   "outputs": [],
   "source": [
    "#l'autre base pour la pollution ne prend pas les départements d'outre-mer en compte\n",
    "#il est donc probable que l'on soit contraints de les exclure de l'analyse \n"
   ]
  },
  {
   "cell_type": "code",
   "execution_count": null,
   "id": "3883d2d8",
   "metadata": {},
   "outputs": [],
   "source": [
    "df_model_test = pd.merge(df_model, groupe_dep, how = 'left', left_on='dept', right_on='DEP')"
   ]
  },
  {
   "cell_type": "code",
   "execution_count": null,
   "id": "f98df640",
   "metadata": {},
   "outputs": [],
   "source": [
    "#decision prise apres cette ligne de reduire \n",
    "#considerablement la taille de la base sans quoi aucun calcul ne serait possible\n",
    "#j'ai essaye d'augmenter drastiquement les ressources disponibles pour \n",
    "#pouvoir ne serait-ce que merge et pour le clustering, \n",
    "#le calcul semble impossible"
   ]
  },
  {
   "cell_type": "code",
   "execution_count": null,
   "id": "24e4043b",
   "metadata": {},
   "outputs": [],
   "source": [
    "#data_sans_na = data_gen[data_gen['patho_niv1'].apply(lambda s: s != 'Pas de pathologies repérées, traitements, maternité, hospitalisations ni traitement antalgique ou anti-inflammatoire')]"
   ]
  },
  {
   "cell_type": "code",
   "execution_count": null,
   "id": "6f075bc9",
   "metadata": {},
   "outputs": [],
   "source": [
    "df_model_reduced = data_gen[['ind','classe_age' , 'region', 'dept']]"
   ]
  },
  {
   "cell_type": "code",
   "execution_count": null,
   "id": "1605d777",
   "metadata": {},
   "outputs": [],
   "source": [
    "#meme en ayant divise par deux la taille de la base,\n",
    "#augmente de facon considerable les ressources disponibles,\n",
    "#efface tous les outputs des cellules\n",
    "#ca ne marche pas \n",
    "#donc il faudra faire des regroupements\n",
    "#vient la question : lesquels"
   ]
  },
  {
   "cell_type": "code",
   "execution_count": null,
   "id": "c86ed0b1-e0c1-4f51-bd01-d20f1209d340",
   "metadata": {},
   "outputs": [],
   "source": [
    "data_gen.drop(['patho_niv1', 'patho_niv2', 'patho_niv3', 'top'], axis = 1).sort_values(by = 'dept', ascending=True)"
   ]
  },
  {
   "cell_type": "code",
   "execution_count": null,
   "id": "acc920a8-ffc9-469e-8f77-da55049b6d0a",
   "metadata": {
    "scrolled": true
   },
   "outputs": [],
   "source": [
    "pd.get_dummies(data_gen, prefix = 'indicatrice_', columns=['patho_niv1'], dtype='int')"
   ]
  },
  {
   "cell_type": "code",
   "execution_count": null,
   "id": "d1fd2f61-ead5-40fc-8bef-b0a4217ad5a3",
   "metadata": {},
   "outputs": [],
   "source": [
    "pd.get_dummies(data_gen, prefix = 'indicatrice_', columns=['patho_niv1'], dtype='int').dropna().to_csv('data_dummies.csv')"
   ]
  },
  {
   "cell_type": "code",
   "execution_count": null,
   "id": "4885c9a6-7d73-4507-9eb4-56495308ee41",
   "metadata": {},
   "outputs": [],
   "source": [
    "df_modelisation = pd.get_dummies(data_gen, prefix = 'indicatrice', columns=['patho_niv1'], dtype='int')\n",
    "age_30_60 = [32, 37, 42, 47, 52, 57, 62]\n",
    "df_modelisation_30_60 = df_modelisation[df_modelisation['classe_age'].isin(age_30_60)]\n",
    "df_modelisation_30_60 = df_modelisation_30_60[['classe_age'] + list(df_modelisation_30_60.columns.difference(['classe_age']))]"
   ]
  },
  {
   "cell_type": "code",
   "execution_count": null,
   "id": "20df9bed-ea8d-4463-96bf-ba64a7b5536a",
   "metadata": {
    "scrolled": true
   },
   "outputs": [],
   "source": [
    "df_modelisation = df_modelisation.drop(['ind','patho_niv2', 'patho_niv3', 'top', 'cla_age_5', 'sexe', 'region', 'ntop', 'npop', 'prev', 'niveau_prioritaire', 'libelle_classe_age', \n",
    "                      'libelle_sexe', 'tri', 'annee'], axis = 1)\n",
    "\n",
    "df_modelisation_30_60 = df_modelisation_30_60.drop(['ind','patho_niv2', 'patho_niv3', 'top', 'cla_age_5', 'sexe', 'region', 'ntop', 'npop', 'prev', 'niveau_prioritaire', 'libelle_classe_age', \n",
    "                      'libelle_sexe', 'tri', 'annee'], axis = 1)"
   ]
  },
  {
   "cell_type": "code",
   "execution_count": null,
   "id": "5b140340-b36f-4e46-9a39-a67215f46390",
   "metadata": {},
   "outputs": [],
   "source": [
    "dico = {'classe_age' : 'mean',\n",
    "       'indicatrice_Autres affections de longue durée (dont 31 et 32)' : 'sum',\n",
    "       'indicatrice_Cancers' : 'sum', 'indicatrice_Diabète' : 'sum',\n",
    "       'indicatrice_Hospitalisations ponctuelles (avec ou sans pathologies, traitements ou maternité)' : 'sum',\n",
    "       'indicatrice_Insuffisance rénale chronique terminale' : 'sum',\n",
    "       'indicatrice_Maladies cardio-neurovasculaires' : 'sum',\n",
    "       'indicatrice_Maladies du foie ou du pancréas (hors mucoviscidose)' : 'sum',\n",
    "       'indicatrice_Maladies inflammatoires ou rares ou VIH ou SIDA' : 'sum',\n",
    "       'indicatrice_Maladies neurologiques ou dégénératives' : 'sum',\n",
    "       'indicatrice_Maladies psychiatriques' : 'sum',\n",
    "       'indicatrice_Maladies respiratoires chroniques (hors mucoviscidose)' : 'sum',\n",
    "       'indicatrice_Maternité (avec ou sans pathologies)' : 'sum',\n",
    "       'indicatrice_Séjours en hospitalisation complète pour prise en charge de la Covid-19' : 'sum',\n",
    "       'indicatrice_Traitements du risque vasculaire (hors pathologies)' : 'sum',\n",
    "       'indicatrice_Traitements psychotropes (hors pathologies)' : 'sum'}"
   ]
  },
  {
   "cell_type": "code",
   "execution_count": null,
   "id": "120d0b33-b3e7-40a5-ad24-f45354327b86",
   "metadata": {},
   "outputs": [],
   "source": [
    "df_modelisation = df_modelisation.groupby('dept').agg(dico).reset_index()\n",
    "df_modelisation.to_csv('base_groupe_dep_moy_age.csv')\n",
    "df_modelisation_30_60 = df_modelisation_30_60.groupby('dept').agg(dico).reset_index()\n"
   ]
  },
  {
   "cell_type": "code",
   "execution_count": null,
   "id": "7959a792-951f-4044-9014-011863a5859e",
   "metadata": {},
   "outputs": [],
   "source": [
    "df_modelisation['plus_repandu'] = df_modelisation.drop(['dept', 'classe_age',\n",
    "                                                        'indicatrice_Maladies cardio-neurovasculaires',\n",
    "                                                        'indicatrice_Traitements psychotropes (hors pathologies)'], axis = 1).apply(lambda x: x.idxmax(), axis = 1)\n",
    "df_modelisation_30_60['plus_repandu'] = df_modelisation_30_60.drop(['dept', 'classe_age',\n",
    "                                                        'indicatrice_Maladies cardio-neurovasculaires',\n",
    "                                                        'indicatrice_Traitements psychotropes (hors pathologies)'], axis = 1).apply(lambda x: x.idxmax(), axis = 1)\n"
   ]
  },
  {
   "cell_type": "code",
   "execution_count": null,
   "id": "c905d9b9-6dba-473c-9bb1-e04231a0c5b6",
   "metadata": {},
   "outputs": [],
   "source": [
    "df_modelisation['plus_repandu'].unique()\n",
    "#on aura donc peut-etre a considerer les variables avc et soins psychotropes\n",
    "#differemment car elles risquent de peut-etre\n",
    "#capter toute l analyse et ne pas laisser grand chose aux autres pathologies\n",
    "#car dans le cas ou on les laisse dans le dataframe\n",
    "#ce sont les deux seules maladies a apparaitre"
   ]
  },
  {
   "cell_type": "code",
   "execution_count": null,
   "id": "671ba618-e3de-48fc-b9b5-a7da9d587b4c",
   "metadata": {},
   "outputs": [],
   "source": [
    "base_pollution = pd.read_csv('base_pollution.csv')"
   ]
  },
  {
   "cell_type": "code",
   "execution_count": null,
   "id": "e2ef7289-a216-44e5-95d6-9a654385ee65",
   "metadata": {},
   "outputs": [],
   "source": [
    "base_pollution = base_pollution.groupby('DEP').sum()"
   ]
  },
  {
   "cell_type": "code",
   "execution_count": null,
   "id": "942ccf63-ad9d-4c79-9220-1044e38fa1c6",
   "metadata": {},
   "outputs": [],
   "source": [
    "base_pollution = base_pollution.drop(['INSEE commune', 'Commune', 'REG'], axis = 1)"
   ]
  },
  {
   "cell_type": "code",
   "execution_count": null,
   "id": "c3e52497-9c8d-4c34-8523-5d6fa158593a",
   "metadata": {},
   "outputs": [],
   "source": [
    "base_pol_dep = df_modelisation.merge(base_pollution, how = 'right', left_on = 'dept', right_on = 'DEP',\n",
    "                                     right_index=True)\n",
    "\n",
    "base_pol_dep_30_60 = df_modelisation_30_60.merge(base_pollution, how = 'right', left_on = 'dept', right_on = 'DEP',\n",
    "                                     right_index=True)"
   ]
  },
  {
   "cell_type": "code",
   "execution_count": null,
   "id": "cb3a061f-c929-43af-ba47-660832a11dec",
   "metadata": {},
   "outputs": [],
   "source": [
    "base_pol_dep_gen = base_pol_dep.merge(pd.read_csv('base_pop_dep.csv'), how = 'left', left_on = 'dept', right_on = 'numero_dep')\n",
    "base_pol_dep_gen_30_60 = base_pol_dep_30_60.merge(pd.read_csv('base_pop_dep.csv'), how = 'left', left_on = 'dept', right_on = 'numero_dep')"
   ]
  },
  {
   "cell_type": "code",
   "execution_count": null,
   "id": "49ee8980-ef89-47d1-aee2-081b0e9c1d35",
   "metadata": {},
   "outputs": [],
   "source": [
    "base_pol_dep_gen.columns"
   ]
  },
  {
   "cell_type": "code",
   "execution_count": null,
   "id": "1cb7cc50-e85a-411f-ac31-770dd2900628",
   "metadata": {},
   "outputs": [],
   "source": [
    "base_pol_dep_gen = base_pol_dep_gen.drop(['Unnamed: 0', 'numero_dep'], axis = 1)\n",
    "base_pol_dep_gen_30_60 = base_pol_dep_gen_30_60.drop(['Unnamed: 0', 'numero_dep'], axis = 1)"
   ]
  },
  {
   "cell_type": "code",
   "execution_count": null,
   "id": "abd87811-384a-4fd5-b94a-875b6b7a6f72",
   "metadata": {},
   "outputs": [],
   "source": [
    "num_cols = base_pol_dep_gen.select_dtypes(include=['number']).columns\n",
    "num_data = base_pol_dep_gen[num_cols]"
   ]
  },
  {
   "cell_type": "code",
   "execution_count": null,
   "id": "98b803a5-b385-4644-8ceb-17230b0de700",
   "metadata": {},
   "outputs": [],
   "source": [
    "num_cols_30_60 = base_pol_dep_gen_30_60.select_dtypes(include=['number']).columns\n",
    "num_data_30_60 = base_pol_dep_gen_30_60[num_cols_30_60]"
   ]
  },
  {
   "cell_type": "code",
   "execution_count": null,
   "id": "b76d119b-2a38-4cdd-85fc-e23927af8c09",
   "metadata": {},
   "outputs": [],
   "source": [
    "scaler = StandardScaler()\n",
    "data_standard = scaler.fit_transform(num_data)\n",
    "data_standard_30_60 = scaler.fit_transform(num_data_30_60)"
   ]
  },
  {
   "cell_type": "code",
   "execution_count": null,
   "id": "60b9f03b-d0f8-47fc-b706-26fc3158fc3c",
   "metadata": {},
   "outputs": [],
   "source": [
    "base_standard = pd.concat([base_pol_dep_gen[['dept', 'dep']], pd.DataFrame(data_standard, columns=num_cols)], axis=1)\n",
    "base_standard_30_60 = pd.concat([base_pol_dep_gen_30_60[['dept', 'dep']], pd.DataFrame(data_standard_30_60, columns=num_cols_30_60)]\n",
    "                                , axis=1)\n",
    "\n",
    "\n"
   ]
  },
  {
   "cell_type": "code",
   "execution_count": null,
   "id": "dacd15e8-1ccd-4af9-86a9-5ba85d33d779",
   "metadata": {},
   "outputs": [],
   "source": [
    "#on perd indicatrice_Hospitalisations ponctuelles (avec ou sans pathologies, traitements ou maternité), \n",
    "#etrange car toutes les lignes valent 0 mais mis a part ca c est bien "
   ]
  },
  {
   "cell_type": "code",
   "execution_count": null,
   "id": "075549ce-57c5-43fc-9a36-39277dabfa69",
   "metadata": {},
   "outputs": [],
   "source": [
    "base_standard.to_csv(\"base_modelisation.csv\")\n",
    "base_standard_30_60.dropna().to_csv(\"base_modelisation_30_60.csv\")"
   ]
  },
  {
   "cell_type": "code",
   "execution_count": null,
   "id": "b0e84bab-e628-4f2a-bc81-eceba4047e7a",
   "metadata": {},
   "outputs": [],
   "source": []
  }
 ],
 "metadata": {
  "kernelspec": {
   "display_name": "Python 3 (ipykernel)",
   "language": "python",
   "name": "python3"
  },
  "language_info": {
   "codemirror_mode": {
    "name": "ipython",
    "version": 3
   },
   "file_extension": ".py",
   "mimetype": "text/x-python",
   "name": "python",
   "nbconvert_exporter": "python",
   "pygments_lexer": "ipython3",
   "version": "3.10.13"
  }
 },
 "nbformat": 4,
 "nbformat_minor": 5
}
