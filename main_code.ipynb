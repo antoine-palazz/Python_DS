{
 "cells": [
  {
   "cell_type": "code",
   "execution_count": 1,
   "id": "150093d0-69e2-466a-87d3-e3808330afd8",
   "metadata": {
    "scrolled": true
   },
   "outputs": [
    {
     "name": "stdout",
     "output_type": "stream",
     "text": [
      "Collecting xlrd\n",
      "  Downloading xlrd-2.0.1-py2.py3-none-any.whl (96 kB)\n",
      "\u001b[2K     \u001b[90m━━━━━━━━━━━━━━━━━━━━━━━━━━━━━━━━━━━━━━━\u001b[0m \u001b[32m96.5/96.5 kB\u001b[0m \u001b[31m285.5 kB/s\u001b[0m eta \u001b[36m0:00:00\u001b[0m \u001b[36m0:00:01\u001b[0m\n",
      "\u001b[?25hInstalling collected packages: xlrd\n",
      "Successfully installed xlrd-2.0.1\n",
      "Requirement already satisfied: geopandas in /opt/mamba/lib/python3.10/site-packages (0.14.1)\n",
      "Requirement already satisfied: fiona>=1.8.21 in /opt/mamba/lib/python3.10/site-packages (from geopandas) (1.9.3)\n",
      "Requirement already satisfied: packaging in /opt/mamba/lib/python3.10/site-packages (from geopandas) (23.1)\n",
      "Requirement already satisfied: pandas>=1.4.0 in /opt/mamba/lib/python3.10/site-packages (from geopandas) (2.1.3)\n",
      "Requirement already satisfied: pyproj>=3.3.0 in /opt/mamba/lib/python3.10/site-packages (from geopandas) (3.6.1)\n",
      "Requirement already satisfied: shapely>=1.8.0 in /opt/mamba/lib/python3.10/site-packages (from geopandas) (2.0.2)\n",
      "Requirement already satisfied: attrs>=19.2.0 in /opt/mamba/lib/python3.10/site-packages (from fiona>=1.8.21->geopandas) (23.1.0)\n",
      "Requirement already satisfied: certifi in /opt/mamba/lib/python3.10/site-packages (from fiona>=1.8.21->geopandas) (2023.11.17)\n",
      "Requirement already satisfied: click~=8.0 in /opt/mamba/lib/python3.10/site-packages (from fiona>=1.8.21->geopandas) (8.1.7)\n",
      "Requirement already satisfied: click-plugins>=1.0 in /opt/mamba/lib/python3.10/site-packages (from fiona>=1.8.21->geopandas) (1.1.1)\n",
      "Requirement already satisfied: cligj>=0.5 in /opt/mamba/lib/python3.10/site-packages (from fiona>=1.8.21->geopandas) (0.7.2)\n",
      "Requirement already satisfied: munch>=2.3.2 in /opt/mamba/lib/python3.10/site-packages (from fiona>=1.8.21->geopandas) (4.0.0)\n",
      "Requirement already satisfied: numpy<2,>=1.22.4 in /opt/mamba/lib/python3.10/site-packages (from pandas>=1.4.0->geopandas) (1.26.2)\n",
      "Requirement already satisfied: python-dateutil>=2.8.2 in /opt/mamba/lib/python3.10/site-packages (from pandas>=1.4.0->geopandas) (2.8.2)\n",
      "Requirement already satisfied: pytz>=2020.1 in /opt/mamba/lib/python3.10/site-packages (from pandas>=1.4.0->geopandas) (2023.3.post1)\n",
      "Requirement already satisfied: tzdata>=2022.1 in /opt/mamba/lib/python3.10/site-packages (from pandas>=1.4.0->geopandas) (2023.3)\n",
      "Requirement already satisfied: six>=1.5 in /opt/mamba/lib/python3.10/site-packages (from python-dateutil>=2.8.2->pandas>=1.4.0->geopandas) (1.16.0)\n",
      "Requirement already satisfied: pandas in /opt/mamba/lib/python3.10/site-packages (2.1.3)\n",
      "Requirement already satisfied: fiona in /opt/mamba/lib/python3.10/site-packages (1.9.3)\n",
      "Requirement already satisfied: shapely in /opt/mamba/lib/python3.10/site-packages (2.0.2)\n",
      "Requirement already satisfied: pyproj in /opt/mamba/lib/python3.10/site-packages (3.6.1)\n",
      "Requirement already satisfied: rtree in /opt/mamba/lib/python3.10/site-packages (1.1.0)\n",
      "Requirement already satisfied: numpy<2,>=1.22.4 in /opt/mamba/lib/python3.10/site-packages (from pandas) (1.26.2)\n",
      "Requirement already satisfied: python-dateutil>=2.8.2 in /opt/mamba/lib/python3.10/site-packages (from pandas) (2.8.2)\n",
      "Requirement already satisfied: pytz>=2020.1 in /opt/mamba/lib/python3.10/site-packages (from pandas) (2023.3.post1)\n",
      "Requirement already satisfied: tzdata>=2022.1 in /opt/mamba/lib/python3.10/site-packages (from pandas) (2023.3)\n",
      "Requirement already satisfied: attrs>=19.2.0 in /opt/mamba/lib/python3.10/site-packages (from fiona) (23.1.0)\n",
      "Requirement already satisfied: certifi in /opt/mamba/lib/python3.10/site-packages (from fiona) (2023.11.17)\n",
      "Requirement already satisfied: click~=8.0 in /opt/mamba/lib/python3.10/site-packages (from fiona) (8.1.7)\n",
      "Requirement already satisfied: click-plugins>=1.0 in /opt/mamba/lib/python3.10/site-packages (from fiona) (1.1.1)\n",
      "Requirement already satisfied: cligj>=0.5 in /opt/mamba/lib/python3.10/site-packages (from fiona) (0.7.2)\n",
      "Requirement already satisfied: munch>=2.3.2 in /opt/mamba/lib/python3.10/site-packages (from fiona) (4.0.0)\n",
      "Requirement already satisfied: six>=1.5 in /opt/mamba/lib/python3.10/site-packages (from python-dateutil>=2.8.2->pandas) (1.16.0)\n",
      "Collecting contextily\n",
      "  Downloading contextily-1.4.0-py3-none-any.whl.metadata (2.9 kB)\n",
      "Collecting geopy (from contextily)\n",
      "  Downloading geopy-2.4.1-py3-none-any.whl.metadata (6.8 kB)\n",
      "Requirement already satisfied: matplotlib in /opt/mamba/lib/python3.10/site-packages (from contextily) (3.8.2)\n",
      "Collecting mercantile (from contextily)\n",
      "  Downloading mercantile-1.2.1-py3-none-any.whl (14 kB)\n",
      "Requirement already satisfied: pillow in /opt/mamba/lib/python3.10/site-packages (from contextily) (10.1.0)\n",
      "Collecting rasterio (from contextily)\n",
      "  Downloading rasterio-1.3.9-cp310-cp310-manylinux2014_x86_64.whl.metadata (14 kB)\n",
      "Requirement already satisfied: requests in /opt/mamba/lib/python3.10/site-packages (from contextily) (2.31.0)\n",
      "Requirement already satisfied: joblib in /opt/mamba/lib/python3.10/site-packages (from contextily) (1.3.2)\n",
      "Requirement already satisfied: xyzservices in /opt/mamba/lib/python3.10/site-packages (from contextily) (2023.10.1)\n",
      "Collecting geographiclib<3,>=1.52 (from geopy->contextily)\n",
      "  Downloading geographiclib-2.0-py3-none-any.whl (40 kB)\n",
      "\u001b[2K     \u001b[90m━━━━━━━━━━━━━━━━━━━━━━━━━━━━━━━━━━━━━━━━\u001b[0m \u001b[32m40.3/40.3 kB\u001b[0m \u001b[31m2.1 MB/s\u001b[0m eta \u001b[36m0:00:00\u001b[0m\n",
      "\u001b[?25hRequirement already satisfied: contourpy>=1.0.1 in /opt/mamba/lib/python3.10/site-packages (from matplotlib->contextily) (1.2.0)\n",
      "Requirement already satisfied: cycler>=0.10 in /opt/mamba/lib/python3.10/site-packages (from matplotlib->contextily) (0.12.1)\n",
      "Requirement already satisfied: fonttools>=4.22.0 in /opt/mamba/lib/python3.10/site-packages (from matplotlib->contextily) (4.46.0)\n",
      "Requirement already satisfied: kiwisolver>=1.3.1 in /opt/mamba/lib/python3.10/site-packages (from matplotlib->contextily) (1.4.5)\n",
      "Requirement already satisfied: numpy<2,>=1.21 in /opt/mamba/lib/python3.10/site-packages (from matplotlib->contextily) (1.26.2)\n",
      "Requirement already satisfied: packaging>=20.0 in /opt/mamba/lib/python3.10/site-packages (from matplotlib->contextily) (23.1)\n",
      "Requirement already satisfied: pyparsing>=2.3.1 in /opt/mamba/lib/python3.10/site-packages (from matplotlib->contextily) (3.1.1)\n",
      "Requirement already satisfied: python-dateutil>=2.7 in /opt/mamba/lib/python3.10/site-packages (from matplotlib->contextily) (2.8.2)\n",
      "Requirement already satisfied: click>=3.0 in /opt/mamba/lib/python3.10/site-packages (from mercantile->contextily) (8.1.7)\n",
      "Collecting affine (from rasterio->contextily)\n",
      "  Downloading affine-2.4.0-py3-none-any.whl (15 kB)\n",
      "Requirement already satisfied: attrs in /opt/mamba/lib/python3.10/site-packages (from rasterio->contextily) (23.1.0)\n",
      "Requirement already satisfied: certifi in /opt/mamba/lib/python3.10/site-packages (from rasterio->contextily) (2023.11.17)\n",
      "Requirement already satisfied: cligj>=0.5 in /opt/mamba/lib/python3.10/site-packages (from rasterio->contextily) (0.7.2)\n",
      "Collecting snuggs>=1.4.1 (from rasterio->contextily)\n",
      "  Downloading snuggs-1.4.7-py3-none-any.whl (5.4 kB)\n",
      "Requirement already satisfied: click-plugins in /opt/mamba/lib/python3.10/site-packages (from rasterio->contextily) (1.1.1)\n",
      "Requirement already satisfied: setuptools in /opt/mamba/lib/python3.10/site-packages (from rasterio->contextily) (68.1.2)\n",
      "Requirement already satisfied: charset-normalizer<4,>=2 in /opt/mamba/lib/python3.10/site-packages (from requests->contextily) (3.2.0)\n",
      "Requirement already satisfied: idna<4,>=2.5 in /opt/mamba/lib/python3.10/site-packages (from requests->contextily) (3.4)\n",
      "Requirement already satisfied: urllib3<3,>=1.21.1 in /opt/mamba/lib/python3.10/site-packages (from requests->contextily) (1.26.18)\n",
      "Requirement already satisfied: six>=1.5 in /opt/mamba/lib/python3.10/site-packages (from python-dateutil>=2.7->matplotlib->contextily) (1.16.0)\n",
      "Downloading contextily-1.4.0-py3-none-any.whl (16 kB)\n",
      "Downloading geopy-2.4.1-py3-none-any.whl (125 kB)\n",
      "\u001b[2K   \u001b[90m━━━━━━━━━━━━━━━━━━━━━━━━━━━━━━━━━━━━━━━━\u001b[0m \u001b[32m125.4/125.4 kB\u001b[0m \u001b[31m11.3 MB/s\u001b[0m eta \u001b[36m0:00:00\u001b[0m\n",
      "\u001b[?25hDownloading rasterio-1.3.9-cp310-cp310-manylinux2014_x86_64.whl (20.6 MB)\n",
      "\u001b[2K   \u001b[90m━━━━━━━━━━━━━━━━━━━━━━━━━━━━━━━━━━━━━━━━\u001b[0m \u001b[32m20.6/20.6 MB\u001b[0m \u001b[31m12.1 MB/s\u001b[0m eta \u001b[36m0:00:00\u001b[0m00:01\u001b[0m00:01\u001b[0m\n",
      "\u001b[?25hInstalling collected packages: snuggs, mercantile, geographiclib, affine, rasterio, geopy, contextily\n",
      "Successfully installed affine-2.4.0 contextily-1.4.0 geographiclib-2.0 geopy-2.4.1 mercantile-1.2.1 rasterio-1.3.9 snuggs-1.4.7\n",
      "Collecting pygeos\n",
      "  Downloading pygeos-0.14-cp310-cp310-manylinux_2_17_x86_64.manylinux2014_x86_64.whl (2.2 MB)\n",
      "\u001b[2K     \u001b[90m━━━━━━━━━━━━━━━━━━━━━━━━━━━━━━━━━━━━━━━━\u001b[0m \u001b[32m2.2/2.2 MB\u001b[0m \u001b[31m10.3 MB/s\u001b[0m eta \u001b[36m0:00:00\u001b[0ma \u001b[36m0:00:01\u001b[0m\n",
      "\u001b[?25hRequirement already satisfied: numpy>=1.13 in /opt/mamba/lib/python3.10/site-packages (from pygeos) (1.26.2)\n",
      "Installing collected packages: pygeos\n",
      "Successfully installed pygeos-0.14\n",
      "Collecting topojson\n",
      "  Downloading topojson-1.7-py2.py3-none-any.whl.metadata (3.8 kB)\n",
      "Requirement already satisfied: numpy in /opt/mamba/lib/python3.10/site-packages (from topojson) (1.26.2)\n",
      "Requirement already satisfied: shapely in /opt/mamba/lib/python3.10/site-packages (from topojson) (2.0.2)\n",
      "Requirement already satisfied: packaging in /opt/mamba/lib/python3.10/site-packages (from topojson) (23.1)\n",
      "Downloading topojson-1.7-py2.py3-none-any.whl (82 kB)\n",
      "\u001b[2K   \u001b[90m━━━━━━━━━━━━━━━━━━━━━━━━━━━━━━━━━━━━━━━━\u001b[0m \u001b[32m82.1/82.1 kB\u001b[0m \u001b[31m2.9 MB/s\u001b[0m eta \u001b[36m0:00:00\u001b[0m\n",
      "\u001b[?25hInstalling collected packages: topojson\n",
      "Successfully installed topojson-1.7\n"
     ]
    }
   ],
   "source": [
    "import numpy as np\n",
    "import pandas as pd\n",
    "import matplotlib.pyplot as plt\n",
    "import requests\n",
    "!pip install --upgrade xlrd #colab bug verson xlrd\n",
    "!pip install geopandas\n",
    "!pip install pandas fiona shapely pyproj rtree\n",
    "!pip install contextily\n",
    "!pip install pygeos\n",
    "!pip install topojson\n",
    "import geopandas as gpd\n",
    "import contextily as ctx\n",
    "import matplotlib.pyplot as plt\n",
    "#!pip install requests py7zr geopandas openpyxl tqdm s3fs PyYAML xlrd\n",
    "#!pip install git+https://github.com/inseefrlab/cartiflette@80b8a5a28371feb6df31d55bcc2617948a5f9b1a"
   ]
  },
  {
   "cell_type": "code",
   "execution_count": 2,
   "id": "c44b963c-4ba5-48af-b4f2-8cfb476aad5b",
   "metadata": {},
   "outputs": [],
   "source": [
    "#test_1 = pd.read_csv(\"https://www.data.gouv.fr/fr/datasets/r/5f71ba43-afc8-43a0-b306-dafe29940f9c\", sep = \";\", encoding = 'utf-8', engine = 'python')\n",
    "#le lien du dossier data.gouv : \n",
    "# https://www.data.gouv.fr/fr/datasets/effectif-de-patients-par-pathologie-sexe-classe-dage-et-territoire-departement-region/\n",
    "# methode \"classique\" pour obtenir un dataset a partir d un lien \n",
    "# probleme d encodage d ou les parametres sep, encoding, engine\n",
    "# A FAIRE : COPIER LA BASE DE FACON LOCALE ET S Y REFERER PAR LA SUITE PAR EFFECTIFS.CSV "
   ]
  },
  {
   "cell_type": "code",
   "execution_count": 59,
   "id": "7ff07732-bee0-47f7-9b3a-3ea7493deafd",
   "metadata": {},
   "outputs": [],
   "source": [
    "test_2 = pd.read_csv(\"effectifs.csv\", sep = \";\", encoding = 'utf-8', engine = 'python')\n",
    "#commande a utiliser une fois qu on a la base \n",
    "#copiee en local \n",
    "#la base au prealable telechargee sur ordi perso"
   ]
  },
  {
   "cell_type": "code",
   "execution_count": 60,
   "id": "84e3f8e4-f1c0-41db-92b1-7d6876567523",
   "metadata": {
    "scrolled": true
   },
   "outputs": [
    {
     "data": {
      "text/plain": [
       "(4057201, 16)"
      ]
     },
     "execution_count": 60,
     "metadata": {},
     "output_type": "execute_result"
    }
   ],
   "source": [
    "test_2.head()\n",
    "test_2.shape"
   ]
  },
  {
   "cell_type": "code",
   "execution_count": 6,
   "id": "9412e7ea-e7f4-48d3-9b8d-284709a57ff9",
   "metadata": {},
   "outputs": [
    {
     "name": "stdout",
     "output_type": "stream",
     "text": [
      "nombre de categories differentes pour niv2 est :47\n",
      "nombre de categories differentes pour niv3 est :60\n"
     ]
    }
   ],
   "source": [
    "print(\"nombre de categories differentes pour niv2 est :\"+str(len(test_2['patho_niv2'].unique())))\n",
    "print(\"nombre de categories differentes pour niv3 est :\"+str(len(test_2['patho_niv3'].unique())))"
   ]
  },
  {
   "cell_type": "code",
   "execution_count": 7,
   "id": "1d2a8b20-351e-4f4e-93de-7eb61b991088",
   "metadata": {},
   "outputs": [],
   "source": [
    "#potentiellement creer 123 colonnes pour pouvoir faire du clustering \n",
    "#comparer les clusters obtenus par les caracteristiques d un inidivu pour voir si ca matche ou pas \n"
   ]
  },
  {
   "cell_type": "code",
   "execution_count": 63,
   "id": "996d95a4-afa4-486c-b462-2a907e625c00",
   "metadata": {},
   "outputs": [],
   "source": [
    "data_gen = test_2"
   ]
  },
  {
   "cell_type": "code",
   "execution_count": 64,
   "id": "13a4c4ab-6495-4e45-a42b-26a12dfb2f08",
   "metadata": {
    "scrolled": true
   },
   "outputs": [
    {
     "name": "stdout",
     "output_type": "stream",
     "text": [
      "(4057201, 16) (4057201, 16)\n"
     ]
    }
   ],
   "source": [
    "print(test_2.shape, data_gen.shape)"
   ]
  },
  {
   "cell_type": "code",
   "execution_count": 10,
   "id": "260ca586-7831-424c-92a3-19f2880ac0e9",
   "metadata": {
    "scrolled": true
   },
   "outputs": [
    {
     "name": "stdout",
     "output_type": "stream",
     "text": [
      "['Traitements du risque vasculaire (hors pathologies)'\n",
      " 'Traitements psychotropes (hors pathologies)'\n",
      " 'Séjours en hospitalisation complète pour prise en charge de la Covid-19'\n",
      " 'Traitement antalgique ou anti-inflammatoire (hors pathologies, traitements, maternité ou hospitalisations)'\n",
      " 'Maladies respiratoires chroniques (hors mucoviscidose)'\n",
      " 'Maternité (avec ou sans pathologies)'\n",
      " 'Pas de pathologies repérées, traitements, maternité, hospitalisations ni traitement antalgique ou anti-inflammatoire'\n",
      " 'Maladies psychiatriques'\n",
      " 'Autres affections de longue durée (dont 31 et 32)' 'Cancers'\n",
      " 'Hospitalisations ponctuelles (avec ou sans pathologies, traitements ou maternité)'\n",
      " 'Insuffisance rénale chronique terminale' nan 'Diabète'\n",
      " 'Maladies cardio-neurovasculaires'\n",
      " 'Maladies du foie ou du pancréas (hors mucoviscidose)'\n",
      " 'Maladies inflammatoires ou rares ou VIH ou SIDA'\n",
      " 'Maladies neurologiques ou dégénératives'] \n",
      " ['Traitements hypolipémiants (hors pathologies)' nan\n",
      " \"Traitements antidépresseurs ou régulateurs de l'humeur (hors pathologies)\"\n",
      " 'Séjours en hospitalisation complète pour prise en charge de la Covid-19'\n",
      " 'Maladies respiratoires chroniques (hors mucoviscidose)'\n",
      " 'Maternité (avec ou sans pathologies)' 'Troubles psychotiques'\n",
      " 'Traitements antihypertenseurs (hors pathologies)' 'Troubles addictifs'\n",
      " \"Troubles névrotiques et de l'humeur\"\n",
      " \"Troubles psychiatriques ayant débuté dans l'enfance\"\n",
      " 'Déficience mentale' 'Autres affections de longue durée (dont 31 et 32)'\n",
      " 'Hospitalisations ponctuelles (avec ou sans pathologies, traitements ou maternité)'\n",
      " 'Traitements anxiolytiques (hors pathologies)' 'Autres cancers'\n",
      " 'Traitements hypnotiques (hors pathologies)' 'Cancer colorectal'\n",
      " 'Traitements neuroleptiques (hors pathologies)'\n",
      " 'Cancer du sein de la femme' 'Diabète' 'Maladie valvulaire'\n",
      " 'Troubles du rythme ou de la conduction cardiaque'\n",
      " 'Maladies du foie ou du pancréas (hors mucoviscidose)'\n",
      " 'Maladies inflammatoires chroniques' 'Maladies rares'\n",
      " 'Cancer de la prostate' 'Cancer du poumon' 'Dialyse chronique'\n",
      " 'Accident vasculaire cérébral'\n",
      " 'Artériopathie oblitérante du membre inférieur'\n",
      " 'Autres affections cardiovasculaires' 'Embolie pulmonaire aiguë'\n",
      " 'Insuffisance cardiaque' 'Maladie coronaire' 'VIH ou SIDA'\n",
      " 'Autres affections neurologiques' 'Épilepsie'\n",
      " 'Autres troubles psychiatriques' \"Démences (dont maladie d'Alzheimer)\"\n",
      " 'Maladie de Parkinson' 'Myopathie ou myasthénie' 'Paraplégie'\n",
      " 'Sclérose en plaques' 'Transplantation rénale'\n",
      " 'Suivi de transplantation rénale' 'Maladi'] \n",
      " ['Traitements hypolipémiants (hors pathologies)' nan\n",
      " \"Traitements antidépresseurs ou régulateurs de l'humeur (hors pathologies)\"\n",
      " 'Séjours en hospitalisation complète pour prise en charge de la Covid-19'\n",
      " 'Maladies respiratoires chroniques (hors mucoviscidose)'\n",
      " 'Maternité (avec ou sans pathologies)' 'Troubles psychotiques'\n",
      " 'Traitements antihypertenseurs (hors pathologies)' 'Troubles addictifs'\n",
      " \"Troubles névrotiques et de l'humeur\"\n",
      " \"Troubles psychiatriques ayant débuté dans l'enfance\"\n",
      " 'Déficience mentale' 'Autres affections de longue durée (dont 31 et 32)'\n",
      " 'Hospitalisations ponctuelles (avec ou sans pathologies, traitements ou maternité)'\n",
      " 'Traitements anxiolytiques (hors pathologies)' 'Autres cancers actifs'\n",
      " 'Autres cancers sous surveillance'\n",
      " 'Traitements hypnotiques (hors pathologies)'\n",
      " 'Traitements neuroleptiques (hors pathologies)' 'Cancer colorectal actif'\n",
      " 'Cancer du sein de la femme sous surveillance' 'Diabète'\n",
      " 'Maladie valvulaire' 'Troubles du rythme ou de la conduction cardiaque'\n",
      " 'Maladies du foie ou du pancréas (hors mucoviscidose)'\n",
      " 'Autres maladies inflammatoires chroniques'\n",
      " 'Maladies inflammatoires chroniques intestinales'\n",
      " \"Hémophilie ou troubles de l'hémostase graves\"\n",
      " 'Maladies métaboliques héréditaires ou amylose'\n",
      " 'Polyarthrite rhumatoïde et maladies apparentées'\n",
      " 'Spondylarthrite ankylosante et maladies apparentées' 'Mucoviscidose'\n",
      " 'Cancer de la prostate actif' 'Cancer de la prostate sous surveillance'\n",
      " 'Cancer colorectal sous surveillance' 'Cancer du sein de la femme actif'\n",
      " 'Dialyse chronique' 'Cancer du poumon sous surveillance'\n",
      " 'Cancer du poumon actif' \"Séquelle d'accident vasculaire cérébral\"\n",
      " 'Artériopathie oblitérante du membre inférieur'\n",
      " 'Autres affections cardiovasculaires' 'Embolie pulmonaire aiguë'\n",
      " 'Accident vasculaire cérébral aigu' 'Insuffisance cardiaque chronique'\n",
      " 'Maladie coronaire chronique' 'Syndrome coronaire aigu'\n",
      " 'Insuffisance cardiaque aiguë' 'VIH ou SIDA'\n",
      " 'Autres affections neurologiques' 'Épilepsie'\n",
      " 'Autres troubles psychiatriques' \"Démences (dont maladie d'Alzheimer)\"\n",
      " 'Maladie de Parkinson' 'Myopathie ou myasthénie' 'Paraplégie'\n",
      " 'Sclérose en plaques' 'Transplantation rénale'\n",
      " 'Suivi de transplantation rénale' None]\n"
     ]
    }
   ],
   "source": [
    "liste_diff_patho1 = data_gen['patho_niv1'].unique()\n",
    "liste_diff_patho2 = data_gen['patho_niv2'].unique()\n",
    "liste_diff_patho3 = data_gen['patho_niv3'].unique()\n",
    "\n",
    "print(liste_diff_patho1, \"\\n\", liste_diff_patho2, \"\\n\", liste_diff_patho3)"
   ]
  },
  {
   "cell_type": "code",
   "execution_count": 71,
   "id": "b761512d-776d-44b1-94ae-840fcd914878",
   "metadata": {},
   "outputs": [
    {
     "name": "stdout",
     "output_type": "stream",
     "text": [
      "(4057201, 16) 52921\n"
     ]
    }
   ],
   "source": [
    "print(data_gen.shape, data_gen['patho_niv1'].isna().sum())"
   ]
  },
  {
   "cell_type": "code",
   "execution_count": 72,
   "id": "dbd0c055-eb3c-4b82-ad20-04431cc6b82b",
   "metadata": {},
   "outputs": [],
   "source": [
    "#Creation d une colonne individus\n",
    "ind = []\n",
    "for i in range (1,4057202) : \n",
    "    ind.append(i)"
   ]
  },
  {
   "cell_type": "code",
   "execution_count": 73,
   "id": "3f2ab597-2374-43d6-b5d7-212d6aed2ebc",
   "metadata": {},
   "outputs": [],
   "source": [
    "ind = pd.DataFrame(ind)\n",
    "ind = ind.set_axis(['ind'], axis='columns')"
   ]
  },
  {
   "cell_type": "code",
   "execution_count": 75,
   "id": "c8c30e03-aa14-40f6-a3cf-16150bcfd2b8",
   "metadata": {},
   "outputs": [],
   "source": [
    "data_gen_1 = pd.concat([ind, data_gen], axis = 1)"
   ]
  },
  {
   "cell_type": "code",
   "execution_count": 15,
   "id": "e0e17f33-9332-495e-9543-ea1d37111954",
   "metadata": {},
   "outputs": [
    {
     "data": {
      "text/html": [
       "<div>\n",
       "<style scoped>\n",
       "    .dataframe tbody tr th:only-of-type {\n",
       "        vertical-align: middle;\n",
       "    }\n",
       "\n",
       "    .dataframe tbody tr th {\n",
       "        vertical-align: top;\n",
       "    }\n",
       "\n",
       "    .dataframe thead th {\n",
       "        text-align: right;\n",
       "    }\n",
       "</style>\n",
       "<table border=\"1\" class=\"dataframe\">\n",
       "  <thead>\n",
       "    <tr style=\"text-align: right;\">\n",
       "      <th></th>\n",
       "      <th>ind</th>\n",
       "      <th>annee</th>\n",
       "      <th>patho_niv1</th>\n",
       "      <th>patho_niv2</th>\n",
       "      <th>patho_niv3</th>\n",
       "      <th>top</th>\n",
       "      <th>cla_age_5</th>\n",
       "      <th>sexe</th>\n",
       "      <th>region</th>\n",
       "      <th>dept</th>\n",
       "      <th>ntop</th>\n",
       "      <th>npop</th>\n",
       "      <th>prev</th>\n",
       "      <th>niveau_prioritaire</th>\n",
       "      <th>libelle_classe_age</th>\n",
       "      <th>libelle_sexe</th>\n",
       "      <th>tri</th>\n",
       "    </tr>\n",
       "  </thead>\n",
       "  <tbody>\n",
       "    <tr>\n",
       "      <th>0</th>\n",
       "      <td>1</td>\n",
       "      <td>2020.0</td>\n",
       "      <td>Traitements du risque vasculaire (hors patholo...</td>\n",
       "      <td>Traitements hypolipémiants (hors pathologies)</td>\n",
       "      <td>Traitements hypolipémiants (hors pathologies)</td>\n",
       "      <td>top_FHypoLi_med</td>\n",
       "      <td>80-84</td>\n",
       "      <td>1.0</td>\n",
       "      <td>1.0</td>\n",
       "      <td>971</td>\n",
       "      <td>290.0</td>\n",
       "      <td>4210.0</td>\n",
       "      <td>6.912</td>\n",
       "      <td>2,3</td>\n",
       "      <td>de 80 à 84 ans</td>\n",
       "      <td>hommes</td>\n",
       "      <td>51.0</td>\n",
       "    </tr>\n",
       "    <tr>\n",
       "      <th>1</th>\n",
       "      <td>2</td>\n",
       "      <td>2020.0</td>\n",
       "      <td>Traitements du risque vasculaire (hors patholo...</td>\n",
       "      <td>Traitements hypolipémiants (hors pathologies)</td>\n",
       "      <td>Traitements hypolipémiants (hors pathologies)</td>\n",
       "      <td>top_FHypoLi_med</td>\n",
       "      <td>80-84</td>\n",
       "      <td>1.0</td>\n",
       "      <td>3.0</td>\n",
       "      <td>973</td>\n",
       "      <td>40.0</td>\n",
       "      <td>650.0</td>\n",
       "      <td>5.864</td>\n",
       "      <td>2,3</td>\n",
       "      <td>de 80 à 84 ans</td>\n",
       "      <td>hommes</td>\n",
       "      <td>51.0</td>\n",
       "    </tr>\n",
       "    <tr>\n",
       "      <th>2</th>\n",
       "      <td>3</td>\n",
       "      <td>2020.0</td>\n",
       "      <td>Traitements du risque vasculaire (hors patholo...</td>\n",
       "      <td>Traitements hypolipémiants (hors pathologies)</td>\n",
       "      <td>Traitements hypolipémiants (hors pathologies)</td>\n",
       "      <td>top_FHypoLi_med</td>\n",
       "      <td>80-84</td>\n",
       "      <td>1.0</td>\n",
       "      <td>4.0</td>\n",
       "      <td>999</td>\n",
       "      <td>410.0</td>\n",
       "      <td>5630.0</td>\n",
       "      <td>7.340</td>\n",
       "      <td>2,3</td>\n",
       "      <td>de 80 à 84 ans</td>\n",
       "      <td>hommes</td>\n",
       "      <td>51.0</td>\n",
       "    </tr>\n",
       "    <tr>\n",
       "      <th>3</th>\n",
       "      <td>4</td>\n",
       "      <td>2020.0</td>\n",
       "      <td>Traitements du risque vasculaire (hors patholo...</td>\n",
       "      <td>Traitements hypolipémiants (hors pathologies)</td>\n",
       "      <td>Traitements hypolipémiants (hors pathologies)</td>\n",
       "      <td>top_FHypoLi_med</td>\n",
       "      <td>80-84</td>\n",
       "      <td>1.0</td>\n",
       "      <td>6.0</td>\n",
       "      <td>999</td>\n",
       "      <td>20.0</td>\n",
       "      <td>350.0</td>\n",
       "      <td>4.913</td>\n",
       "      <td>2,3</td>\n",
       "      <td>de 80 à 84 ans</td>\n",
       "      <td>hommes</td>\n",
       "      <td>51.0</td>\n",
       "    </tr>\n",
       "    <tr>\n",
       "      <th>4</th>\n",
       "      <td>5</td>\n",
       "      <td>2020.0</td>\n",
       "      <td>Traitements du risque vasculaire (hors patholo...</td>\n",
       "      <td>Traitements hypolipémiants (hors pathologies)</td>\n",
       "      <td>Traitements hypolipémiants (hors pathologies)</td>\n",
       "      <td>top_FHypoLi_med</td>\n",
       "      <td>80-84</td>\n",
       "      <td>1.0</td>\n",
       "      <td>11.0</td>\n",
       "      <td>75</td>\n",
       "      <td>2960.0</td>\n",
       "      <td>20820.0</td>\n",
       "      <td>14.221</td>\n",
       "      <td>2,3</td>\n",
       "      <td>de 80 à 84 ans</td>\n",
       "      <td>hommes</td>\n",
       "      <td>51.0</td>\n",
       "    </tr>\n",
       "  </tbody>\n",
       "</table>\n",
       "</div>"
      ],
      "text/plain": [
       "   ind   annee                                         patho_niv1  \\\n",
       "0    1  2020.0  Traitements du risque vasculaire (hors patholo...   \n",
       "1    2  2020.0  Traitements du risque vasculaire (hors patholo...   \n",
       "2    3  2020.0  Traitements du risque vasculaire (hors patholo...   \n",
       "3    4  2020.0  Traitements du risque vasculaire (hors patholo...   \n",
       "4    5  2020.0  Traitements du risque vasculaire (hors patholo...   \n",
       "\n",
       "                                      patho_niv2  \\\n",
       "0  Traitements hypolipémiants (hors pathologies)   \n",
       "1  Traitements hypolipémiants (hors pathologies)   \n",
       "2  Traitements hypolipémiants (hors pathologies)   \n",
       "3  Traitements hypolipémiants (hors pathologies)   \n",
       "4  Traitements hypolipémiants (hors pathologies)   \n",
       "\n",
       "                                      patho_niv3              top cla_age_5  \\\n",
       "0  Traitements hypolipémiants (hors pathologies)  top_FHypoLi_med     80-84   \n",
       "1  Traitements hypolipémiants (hors pathologies)  top_FHypoLi_med     80-84   \n",
       "2  Traitements hypolipémiants (hors pathologies)  top_FHypoLi_med     80-84   \n",
       "3  Traitements hypolipémiants (hors pathologies)  top_FHypoLi_med     80-84   \n",
       "4  Traitements hypolipémiants (hors pathologies)  top_FHypoLi_med     80-84   \n",
       "\n",
       "   sexe  region dept    ntop     npop    prev niveau_prioritaire  \\\n",
       "0   1.0     1.0  971   290.0   4210.0   6.912                2,3   \n",
       "1   1.0     3.0  973    40.0    650.0   5.864                2,3   \n",
       "2   1.0     4.0  999   410.0   5630.0   7.340                2,3   \n",
       "3   1.0     6.0  999    20.0    350.0   4.913                2,3   \n",
       "4   1.0    11.0   75  2960.0  20820.0  14.221                2,3   \n",
       "\n",
       "  libelle_classe_age libelle_sexe   tri  \n",
       "0     de 80 à 84 ans       hommes  51.0  \n",
       "1     de 80 à 84 ans       hommes  51.0  \n",
       "2     de 80 à 84 ans       hommes  51.0  \n",
       "3     de 80 à 84 ans       hommes  51.0  \n",
       "4     de 80 à 84 ans       hommes  51.0  "
      ]
     },
     "execution_count": 15,
     "metadata": {},
     "output_type": "execute_result"
    }
   ],
   "source": [
    "data_gen_1.head()"
   ]
  },
  {
   "cell_type": "code",
   "execution_count": 87,
   "id": "fd5f2bd3-eeb1-4e4c-8483-0e6fa88f1c36",
   "metadata": {},
   "outputs": [],
   "source": [
    "data_gen = data_gen_1"
   ]
  },
  {
   "cell_type": "code",
   "execution_count": 90,
   "id": "57cc211b-c749-4014-914a-a7d49839d21d",
   "metadata": {},
   "outputs": [],
   "source": [
    "#tentative de compréhension de ce que la variable npop représente\n",
    "#b = data_gen['npop'].unique()\n",
    "#b = pd.DataFrame(b)"
   ]
  },
  {
   "cell_type": "code",
   "execution_count": 91,
   "id": "13753528-107d-4ea4-97a4-c9d711dbc1bd",
   "metadata": {},
   "outputs": [],
   "source": [
    "#b = b.dropna()"
   ]
  },
  {
   "cell_type": "code",
   "execution_count": 92,
   "id": "addb2801-0a6f-4fa4-9ab5-0ffb95036d06",
   "metadata": {},
   "outputs": [],
   "source": [
    "#b = b.set_axis(['test'], axis = 'columns')"
   ]
  },
  {
   "cell_type": "code",
   "execution_count": 93,
   "id": "0da7a82f-cced-4d19-8e10-4d41803c048d",
   "metadata": {},
   "outputs": [],
   "source": [
    "#b.head()"
   ]
  },
  {
   "cell_type": "code",
   "execution_count": 94,
   "id": "f62a0cfa-1561-42a1-af68-b57892094be8",
   "metadata": {},
   "outputs": [],
   "source": [
    "#sum(b['test'])"
   ]
  },
  {
   "cell_type": "code",
   "execution_count": 21,
   "id": "b82460cf-bab0-4f0f-ad8b-e1ef61618d20",
   "metadata": {},
   "outputs": [],
   "source": [
    "#resultat peu concluant"
   ]
  },
  {
   "cell_type": "code",
   "execution_count": 22,
   "id": "e1e5fa25-9302-4159-9e83-fee5d56b1cc3",
   "metadata": {},
   "outputs": [],
   "source": [
    "#creation d indicatrices pour futur clustering"
   ]
  },
  {
   "cell_type": "code",
   "execution_count": 95,
   "id": "b686d9a8-bdf8-4915-960d-4e4452c23695",
   "metadata": {},
   "outputs": [
    {
     "data": {
      "text/plain": [
       "(4057201, 17)"
      ]
     },
     "execution_count": 95,
     "metadata": {},
     "output_type": "execute_result"
    }
   ],
   "source": [
    "data_gen.shape"
   ]
  },
  {
   "cell_type": "code",
   "execution_count": 96,
   "id": "76041a52-c039-46ef-b288-d50c80d081ef",
   "metadata": {},
   "outputs": [
    {
     "data": {
      "text/plain": [
       "list"
      ]
     },
     "execution_count": 96,
     "metadata": {},
     "output_type": "execute_result"
    }
   ],
   "source": [
    "type(liste_diff_patho3)"
   ]
  },
  {
   "cell_type": "code",
   "execution_count": 97,
   "id": "51bc3cf0-cbeb-40e5-baa6-d5eb500069b3",
   "metadata": {},
   "outputs": [],
   "source": [
    "liste_diff_patho3 = list(liste_diff_patho3)"
   ]
  },
  {
   "cell_type": "code",
   "execution_count": 98,
   "id": "968fab42-7fe5-4769-91f0-c73ddd590659",
   "metadata": {},
   "outputs": [
    {
     "data": {
      "text/plain": [
       "list"
      ]
     },
     "execution_count": 98,
     "metadata": {},
     "output_type": "execute_result"
    }
   ],
   "source": [
    "type(liste_diff_patho3)"
   ]
  },
  {
   "cell_type": "code",
   "execution_count": 99,
   "id": "40973ae8-d3ee-405e-886c-e8fd5f16d838",
   "metadata": {},
   "outputs": [
    {
     "data": {
      "text/html": [
       "<div>\n",
       "<style scoped>\n",
       "    .dataframe tbody tr th:only-of-type {\n",
       "        vertical-align: middle;\n",
       "    }\n",
       "\n",
       "    .dataframe tbody tr th {\n",
       "        vertical-align: top;\n",
       "    }\n",
       "\n",
       "    .dataframe thead th {\n",
       "        text-align: right;\n",
       "    }\n",
       "</style>\n",
       "<table border=\"1\" class=\"dataframe\">\n",
       "  <thead>\n",
       "    <tr style=\"text-align: right;\">\n",
       "      <th></th>\n",
       "      <th>ind</th>\n",
       "      <th>annee</th>\n",
       "      <th>patho_niv1</th>\n",
       "      <th>patho_niv2</th>\n",
       "      <th>patho_niv3</th>\n",
       "      <th>top</th>\n",
       "      <th>cla_age_5</th>\n",
       "      <th>sexe</th>\n",
       "      <th>region</th>\n",
       "      <th>dept</th>\n",
       "      <th>ntop</th>\n",
       "      <th>npop</th>\n",
       "      <th>prev</th>\n",
       "      <th>niveau_prioritaire</th>\n",
       "      <th>libelle_classe_age</th>\n",
       "      <th>libelle_sexe</th>\n",
       "      <th>tri</th>\n",
       "    </tr>\n",
       "  </thead>\n",
       "  <tbody>\n",
       "    <tr>\n",
       "      <th>0</th>\n",
       "      <td>1</td>\n",
       "      <td>2020.0</td>\n",
       "      <td>Traitements du risque vasculaire (hors patholo...</td>\n",
       "      <td>Traitements hypolipémiants (hors pathologies)</td>\n",
       "      <td>Traitements hypolipémiants (hors pathologies)</td>\n",
       "      <td>top_FHypoLi_med</td>\n",
       "      <td>80-84</td>\n",
       "      <td>1.0</td>\n",
       "      <td>1</td>\n",
       "      <td>971</td>\n",
       "      <td>290.0</td>\n",
       "      <td>4210.0</td>\n",
       "      <td>6.912</td>\n",
       "      <td>2,3</td>\n",
       "      <td>de 80 à 84 ans</td>\n",
       "      <td>hommes</td>\n",
       "      <td>51.0</td>\n",
       "    </tr>\n",
       "    <tr>\n",
       "      <th>1</th>\n",
       "      <td>2</td>\n",
       "      <td>2020.0</td>\n",
       "      <td>Traitements du risque vasculaire (hors patholo...</td>\n",
       "      <td>Traitements hypolipémiants (hors pathologies)</td>\n",
       "      <td>Traitements hypolipémiants (hors pathologies)</td>\n",
       "      <td>top_FHypoLi_med</td>\n",
       "      <td>80-84</td>\n",
       "      <td>1.0</td>\n",
       "      <td>3</td>\n",
       "      <td>973</td>\n",
       "      <td>40.0</td>\n",
       "      <td>650.0</td>\n",
       "      <td>5.864</td>\n",
       "      <td>2,3</td>\n",
       "      <td>de 80 à 84 ans</td>\n",
       "      <td>hommes</td>\n",
       "      <td>51.0</td>\n",
       "    </tr>\n",
       "    <tr>\n",
       "      <th>2</th>\n",
       "      <td>3</td>\n",
       "      <td>2020.0</td>\n",
       "      <td>Traitements du risque vasculaire (hors patholo...</td>\n",
       "      <td>Traitements hypolipémiants (hors pathologies)</td>\n",
       "      <td>Traitements hypolipémiants (hors pathologies)</td>\n",
       "      <td>top_FHypoLi_med</td>\n",
       "      <td>80-84</td>\n",
       "      <td>1.0</td>\n",
       "      <td>4</td>\n",
       "      <td>999</td>\n",
       "      <td>410.0</td>\n",
       "      <td>5630.0</td>\n",
       "      <td>7.340</td>\n",
       "      <td>2,3</td>\n",
       "      <td>de 80 à 84 ans</td>\n",
       "      <td>hommes</td>\n",
       "      <td>51.0</td>\n",
       "    </tr>\n",
       "    <tr>\n",
       "      <th>3</th>\n",
       "      <td>4</td>\n",
       "      <td>2020.0</td>\n",
       "      <td>Traitements du risque vasculaire (hors patholo...</td>\n",
       "      <td>Traitements hypolipémiants (hors pathologies)</td>\n",
       "      <td>Traitements hypolipémiants (hors pathologies)</td>\n",
       "      <td>top_FHypoLi_med</td>\n",
       "      <td>80-84</td>\n",
       "      <td>1.0</td>\n",
       "      <td>6</td>\n",
       "      <td>999</td>\n",
       "      <td>20.0</td>\n",
       "      <td>350.0</td>\n",
       "      <td>4.913</td>\n",
       "      <td>2,3</td>\n",
       "      <td>de 80 à 84 ans</td>\n",
       "      <td>hommes</td>\n",
       "      <td>51.0</td>\n",
       "    </tr>\n",
       "    <tr>\n",
       "      <th>4</th>\n",
       "      <td>5</td>\n",
       "      <td>2020.0</td>\n",
       "      <td>Traitements du risque vasculaire (hors patholo...</td>\n",
       "      <td>Traitements hypolipémiants (hors pathologies)</td>\n",
       "      <td>Traitements hypolipémiants (hors pathologies)</td>\n",
       "      <td>top_FHypoLi_med</td>\n",
       "      <td>80-84</td>\n",
       "      <td>1.0</td>\n",
       "      <td>11</td>\n",
       "      <td>75</td>\n",
       "      <td>2960.0</td>\n",
       "      <td>20820.0</td>\n",
       "      <td>14.221</td>\n",
       "      <td>2,3</td>\n",
       "      <td>de 80 à 84 ans</td>\n",
       "      <td>hommes</td>\n",
       "      <td>51.0</td>\n",
       "    </tr>\n",
       "  </tbody>\n",
       "</table>\n",
       "</div>"
      ],
      "text/plain": [
       "   ind   annee                                         patho_niv1  \\\n",
       "0    1  2020.0  Traitements du risque vasculaire (hors patholo...   \n",
       "1    2  2020.0  Traitements du risque vasculaire (hors patholo...   \n",
       "2    3  2020.0  Traitements du risque vasculaire (hors patholo...   \n",
       "3    4  2020.0  Traitements du risque vasculaire (hors patholo...   \n",
       "4    5  2020.0  Traitements du risque vasculaire (hors patholo...   \n",
       "\n",
       "                                      patho_niv2  \\\n",
       "0  Traitements hypolipémiants (hors pathologies)   \n",
       "1  Traitements hypolipémiants (hors pathologies)   \n",
       "2  Traitements hypolipémiants (hors pathologies)   \n",
       "3  Traitements hypolipémiants (hors pathologies)   \n",
       "4  Traitements hypolipémiants (hors pathologies)   \n",
       "\n",
       "                                      patho_niv3              top cla_age_5  \\\n",
       "0  Traitements hypolipémiants (hors pathologies)  top_FHypoLi_med     80-84   \n",
       "1  Traitements hypolipémiants (hors pathologies)  top_FHypoLi_med     80-84   \n",
       "2  Traitements hypolipémiants (hors pathologies)  top_FHypoLi_med     80-84   \n",
       "3  Traitements hypolipémiants (hors pathologies)  top_FHypoLi_med     80-84   \n",
       "4  Traitements hypolipémiants (hors pathologies)  top_FHypoLi_med     80-84   \n",
       "\n",
       "   sexe  region dept    ntop     npop    prev niveau_prioritaire  \\\n",
       "0   1.0       1  971   290.0   4210.0   6.912                2,3   \n",
       "1   1.0       3  973    40.0    650.0   5.864                2,3   \n",
       "2   1.0       4  999   410.0   5630.0   7.340                2,3   \n",
       "3   1.0       6  999    20.0    350.0   4.913                2,3   \n",
       "4   1.0      11   75  2960.0  20820.0  14.221                2,3   \n",
       "\n",
       "  libelle_classe_age libelle_sexe   tri  \n",
       "0     de 80 à 84 ans       hommes  51.0  \n",
       "1     de 80 à 84 ans       hommes  51.0  \n",
       "2     de 80 à 84 ans       hommes  51.0  \n",
       "3     de 80 à 84 ans       hommes  51.0  \n",
       "4     de 80 à 84 ans       hommes  51.0  "
      ]
     },
     "execution_count": 99,
     "metadata": {},
     "output_type": "execute_result"
    }
   ],
   "source": [
    "temporaire = []\n",
    "for i in data_gen['patho_niv3'] : \n",
    "    if i == 'Syndrome coronaire aigu' :\n",
    "        temporaire.append(1)\n",
    "    else : \n",
    "        temporaire.append(0)\n",
    "\n",
    "data_gen['Syndrome_coronaire_aigu_indicatrice'] = temporaire\n",
    "data_gen = data_gen.drop(columns = ['Syndrome_coronaire_aigu_indicatrice'])\n",
    "data_gen.head()"
   ]
  },
  {
   "cell_type": "code",
   "execution_count": 130,
   "id": "a08bdfa2-24ac-4f6e-b896-0fa9e0d826ad",
   "metadata": {
    "scrolled": true
   },
   "outputs": [],
   "source": [
    "def creation_indicatrice (colonne_de_depart, nom_de_maladie) : \n",
    "    temporaire = []\n",
    "    for i in colonne_de_depart :\n",
    "        if i == f\"{nom_de_maladie}\" :\n",
    "            temporaire.append(1)\n",
    "        else :\n",
    "            temporaire.append(0)\n",
    "    data_gen[f\"{nom_de_maladie}_ind\"] = temporaire"
   ]
  },
  {
   "cell_type": "code",
   "execution_count": 131,
   "id": "de5283fd-bb3f-44e5-9adf-1ad7b0ee65f3",
   "metadata": {},
   "outputs": [],
   "source": [
    "for i in liste_diff_patho3 : \n",
    "    creation_indicatrice(colonne_de_depart = data_gen['patho_niv3'], nom_de_maladie = i)"
   ]
  },
  {
   "cell_type": "code",
   "execution_count": 132,
   "id": "08cfba13-6a14-4a1b-80f7-9bdae7c9f097",
   "metadata": {},
   "outputs": [
    {
     "data": {
      "text/html": [
       "<div>\n",
       "<style scoped>\n",
       "    .dataframe tbody tr th:only-of-type {\n",
       "        vertical-align: middle;\n",
       "    }\n",
       "\n",
       "    .dataframe tbody tr th {\n",
       "        vertical-align: top;\n",
       "    }\n",
       "\n",
       "    .dataframe thead th {\n",
       "        text-align: right;\n",
       "    }\n",
       "</style>\n",
       "<table border=\"1\" class=\"dataframe\">\n",
       "  <thead>\n",
       "    <tr style=\"text-align: right;\">\n",
       "      <th></th>\n",
       "      <th>ind</th>\n",
       "      <th>annee</th>\n",
       "      <th>patho_niv1</th>\n",
       "      <th>patho_niv2</th>\n",
       "      <th>patho_niv3</th>\n",
       "      <th>top</th>\n",
       "      <th>cla_age_5</th>\n",
       "      <th>sexe</th>\n",
       "      <th>region</th>\n",
       "      <th>dept</th>\n",
       "      <th>...</th>\n",
       "      <th>Épilepsie_ind</th>\n",
       "      <th>Autres troubles psychiatriques_ind</th>\n",
       "      <th>Démences (dont maladie d'Alzheimer)_ind</th>\n",
       "      <th>Maladie de Parkinson_ind</th>\n",
       "      <th>Myopathie ou myasthénie_ind</th>\n",
       "      <th>Paraplégie_ind</th>\n",
       "      <th>Sclérose en plaques_ind</th>\n",
       "      <th>Transplantation rénale_ind</th>\n",
       "      <th>Suivi de transplantation rénale_ind</th>\n",
       "      <th>None_ind</th>\n",
       "    </tr>\n",
       "  </thead>\n",
       "  <tbody>\n",
       "    <tr>\n",
       "      <th>0</th>\n",
       "      <td>1</td>\n",
       "      <td>2020.0</td>\n",
       "      <td>Traitements du risque vasculaire (hors patholo...</td>\n",
       "      <td>Traitements hypolipémiants (hors pathologies)</td>\n",
       "      <td>Traitements hypolipémiants (hors pathologies)</td>\n",
       "      <td>top_FHypoLi_med</td>\n",
       "      <td>80-84</td>\n",
       "      <td>1.0</td>\n",
       "      <td>1</td>\n",
       "      <td>971</td>\n",
       "      <td>...</td>\n",
       "      <td>0</td>\n",
       "      <td>0</td>\n",
       "      <td>0</td>\n",
       "      <td>0</td>\n",
       "      <td>0</td>\n",
       "      <td>0</td>\n",
       "      <td>0</td>\n",
       "      <td>0</td>\n",
       "      <td>0</td>\n",
       "      <td>0</td>\n",
       "    </tr>\n",
       "    <tr>\n",
       "      <th>1</th>\n",
       "      <td>2</td>\n",
       "      <td>2020.0</td>\n",
       "      <td>Traitements du risque vasculaire (hors patholo...</td>\n",
       "      <td>Traitements hypolipémiants (hors pathologies)</td>\n",
       "      <td>Traitements hypolipémiants (hors pathologies)</td>\n",
       "      <td>top_FHypoLi_med</td>\n",
       "      <td>80-84</td>\n",
       "      <td>1.0</td>\n",
       "      <td>3</td>\n",
       "      <td>973</td>\n",
       "      <td>...</td>\n",
       "      <td>0</td>\n",
       "      <td>0</td>\n",
       "      <td>0</td>\n",
       "      <td>0</td>\n",
       "      <td>0</td>\n",
       "      <td>0</td>\n",
       "      <td>0</td>\n",
       "      <td>0</td>\n",
       "      <td>0</td>\n",
       "      <td>0</td>\n",
       "    </tr>\n",
       "    <tr>\n",
       "      <th>2</th>\n",
       "      <td>3</td>\n",
       "      <td>2020.0</td>\n",
       "      <td>Traitements du risque vasculaire (hors patholo...</td>\n",
       "      <td>Traitements hypolipémiants (hors pathologies)</td>\n",
       "      <td>Traitements hypolipémiants (hors pathologies)</td>\n",
       "      <td>top_FHypoLi_med</td>\n",
       "      <td>80-84</td>\n",
       "      <td>1.0</td>\n",
       "      <td>4</td>\n",
       "      <td>999</td>\n",
       "      <td>...</td>\n",
       "      <td>0</td>\n",
       "      <td>0</td>\n",
       "      <td>0</td>\n",
       "      <td>0</td>\n",
       "      <td>0</td>\n",
       "      <td>0</td>\n",
       "      <td>0</td>\n",
       "      <td>0</td>\n",
       "      <td>0</td>\n",
       "      <td>0</td>\n",
       "    </tr>\n",
       "    <tr>\n",
       "      <th>3</th>\n",
       "      <td>4</td>\n",
       "      <td>2020.0</td>\n",
       "      <td>Traitements du risque vasculaire (hors patholo...</td>\n",
       "      <td>Traitements hypolipémiants (hors pathologies)</td>\n",
       "      <td>Traitements hypolipémiants (hors pathologies)</td>\n",
       "      <td>top_FHypoLi_med</td>\n",
       "      <td>80-84</td>\n",
       "      <td>1.0</td>\n",
       "      <td>6</td>\n",
       "      <td>999</td>\n",
       "      <td>...</td>\n",
       "      <td>0</td>\n",
       "      <td>0</td>\n",
       "      <td>0</td>\n",
       "      <td>0</td>\n",
       "      <td>0</td>\n",
       "      <td>0</td>\n",
       "      <td>0</td>\n",
       "      <td>0</td>\n",
       "      <td>0</td>\n",
       "      <td>0</td>\n",
       "    </tr>\n",
       "    <tr>\n",
       "      <th>4</th>\n",
       "      <td>5</td>\n",
       "      <td>2020.0</td>\n",
       "      <td>Traitements du risque vasculaire (hors patholo...</td>\n",
       "      <td>Traitements hypolipémiants (hors pathologies)</td>\n",
       "      <td>Traitements hypolipémiants (hors pathologies)</td>\n",
       "      <td>top_FHypoLi_med</td>\n",
       "      <td>80-84</td>\n",
       "      <td>1.0</td>\n",
       "      <td>11</td>\n",
       "      <td>75</td>\n",
       "      <td>...</td>\n",
       "      <td>0</td>\n",
       "      <td>0</td>\n",
       "      <td>0</td>\n",
       "      <td>0</td>\n",
       "      <td>0</td>\n",
       "      <td>0</td>\n",
       "      <td>0</td>\n",
       "      <td>0</td>\n",
       "      <td>0</td>\n",
       "      <td>0</td>\n",
       "    </tr>\n",
       "  </tbody>\n",
       "</table>\n",
       "<p>5 rows × 77 columns</p>\n",
       "</div>"
      ],
      "text/plain": [
       "   ind   annee                                         patho_niv1  \\\n",
       "0    1  2020.0  Traitements du risque vasculaire (hors patholo...   \n",
       "1    2  2020.0  Traitements du risque vasculaire (hors patholo...   \n",
       "2    3  2020.0  Traitements du risque vasculaire (hors patholo...   \n",
       "3    4  2020.0  Traitements du risque vasculaire (hors patholo...   \n",
       "4    5  2020.0  Traitements du risque vasculaire (hors patholo...   \n",
       "\n",
       "                                      patho_niv2  \\\n",
       "0  Traitements hypolipémiants (hors pathologies)   \n",
       "1  Traitements hypolipémiants (hors pathologies)   \n",
       "2  Traitements hypolipémiants (hors pathologies)   \n",
       "3  Traitements hypolipémiants (hors pathologies)   \n",
       "4  Traitements hypolipémiants (hors pathologies)   \n",
       "\n",
       "                                      patho_niv3              top cla_age_5  \\\n",
       "0  Traitements hypolipémiants (hors pathologies)  top_FHypoLi_med     80-84   \n",
       "1  Traitements hypolipémiants (hors pathologies)  top_FHypoLi_med     80-84   \n",
       "2  Traitements hypolipémiants (hors pathologies)  top_FHypoLi_med     80-84   \n",
       "3  Traitements hypolipémiants (hors pathologies)  top_FHypoLi_med     80-84   \n",
       "4  Traitements hypolipémiants (hors pathologies)  top_FHypoLi_med     80-84   \n",
       "\n",
       "   sexe  region dept  ...  Épilepsie_ind  Autres troubles psychiatriques_ind  \\\n",
       "0   1.0       1  971  ...              0                                   0   \n",
       "1   1.0       3  973  ...              0                                   0   \n",
       "2   1.0       4  999  ...              0                                   0   \n",
       "3   1.0       6  999  ...              0                                   0   \n",
       "4   1.0      11   75  ...              0                                   0   \n",
       "\n",
       "   Démences (dont maladie d'Alzheimer)_ind Maladie de Parkinson_ind  \\\n",
       "0                                        0                        0   \n",
       "1                                        0                        0   \n",
       "2                                        0                        0   \n",
       "3                                        0                        0   \n",
       "4                                        0                        0   \n",
       "\n",
       "  Myopathie ou myasthénie_ind Paraplégie_ind  Sclérose en plaques_ind  \\\n",
       "0                           0              0                        0   \n",
       "1                           0              0                        0   \n",
       "2                           0              0                        0   \n",
       "3                           0              0                        0   \n",
       "4                           0              0                        0   \n",
       "\n",
       "   Transplantation rénale_ind  Suivi de transplantation rénale_ind  None_ind  \n",
       "0                           0                                    0         0  \n",
       "1                           0                                    0         0  \n",
       "2                           0                                    0         0  \n",
       "3                           0                                    0         0  \n",
       "4                           0                                    0         0  \n",
       "\n",
       "[5 rows x 77 columns]"
      ]
     },
     "execution_count": 132,
     "metadata": {},
     "output_type": "execute_result"
    }
   ],
   "source": [
    "data_gen.head()"
   ]
  },
  {
   "cell_type": "code",
   "execution_count": 133,
   "id": "e33a5e64-e821-483c-af1b-f96229746144",
   "metadata": {},
   "outputs": [
    {
     "data": {
      "text/plain": [
       "(4057201, 77)"
      ]
     },
     "execution_count": 133,
     "metadata": {},
     "output_type": "execute_result"
    }
   ],
   "source": [
    "data_gen.shape"
   ]
  },
  {
   "cell_type": "code",
   "execution_count": 104,
   "id": "6e36e23d-c773-4139-b897-afd2b0c33674",
   "metadata": {},
   "outputs": [],
   "source": [
    "#perte d un grand nombre de lignes \n",
    "#pb a regler\n",
    "#pb regle, venait du test pour essayer de comprendre la variable npop"
   ]
  },
  {
   "cell_type": "code",
   "execution_count": 134,
   "id": "b7680efb-b3dd-4e57-9568-0b028456ec16",
   "metadata": {},
   "outputs": [],
   "source": [
    "liste_var = data_gen.columns[17:]\n",
    "liste_bis = []\n",
    "for i in liste_var : \n",
    "    liste_bis.append(i)\n"
   ]
  },
  {
   "cell_type": "code",
   "execution_count": 135,
   "id": "4794b7e6-0a5f-4ea6-9384-8d2f1c7882b5",
   "metadata": {},
   "outputs": [
    {
     "name": "stdout",
     "output_type": "stream",
     "text": [
      "['Traitements hypolipémiants (hors pathologies)_ind', 'nan_ind', \"Traitements antidépresseurs ou régulateurs de l'humeur (hors pathologies)_ind\", 'Séjours en hospitalisation complète pour prise en charge de la Covid-19_ind', 'Maladies respiratoires chroniques (hors mucoviscidose)_ind', 'Maternité (avec ou sans pathologies)_ind', 'Troubles psychotiques_ind', 'Traitements antihypertenseurs (hors pathologies)_ind', 'Troubles addictifs_ind', \"Troubles névrotiques et de l'humeur_ind\", \"Troubles psychiatriques ayant débuté dans l'enfance_ind\", 'Déficience mentale_ind', 'Autres affections de longue durée (dont 31 et 32)_ind', 'Hospitalisations ponctuelles (avec ou sans pathologies, traitements ou maternité)_ind', 'Traitements anxiolytiques (hors pathologies)_ind', 'Autres cancers actifs_ind', 'Autres cancers sous surveillance_ind', 'Traitements hypnotiques (hors pathologies)_ind', 'Traitements neuroleptiques (hors pathologies)_ind', 'Cancer colorectal actif_ind', 'Cancer du sein de la femme sous surveillance_ind', 'Diabète_ind', 'Maladie valvulaire_ind', 'Troubles du rythme ou de la conduction cardiaque_ind', 'Maladies du foie ou du pancréas (hors mucoviscidose)_ind', 'Autres maladies inflammatoires chroniques_ind', 'Maladies inflammatoires chroniques intestinales_ind', \"Hémophilie ou troubles de l'hémostase graves_ind\", 'Maladies métaboliques héréditaires ou amylose_ind', 'Polyarthrite rhumatoïde et maladies apparentées_ind', 'Spondylarthrite ankylosante et maladies apparentées_ind', 'Mucoviscidose_ind', 'Cancer de la prostate actif_ind', 'Cancer de la prostate sous surveillance_ind', 'Cancer colorectal sous surveillance_ind', 'Cancer du sein de la femme actif_ind', 'Dialyse chronique_ind', 'Cancer du poumon sous surveillance_ind', 'Cancer du poumon actif_ind', \"Séquelle d'accident vasculaire cérébral_ind\", 'Artériopathie oblitérante du membre inférieur_ind', 'Autres affections cardiovasculaires_ind', 'Embolie pulmonaire aiguë_ind', 'Accident vasculaire cérébral aigu_ind', 'Insuffisance cardiaque chronique_ind', 'Maladie coronaire chronique_ind', 'Syndrome coronaire aigu_ind', 'Insuffisance cardiaque aiguë_ind', 'VIH ou SIDA_ind', 'Autres affections neurologiques_ind', 'Épilepsie_ind', 'Autres troubles psychiatriques_ind', \"Démences (dont maladie d'Alzheimer)_ind\", 'Maladie de Parkinson_ind', 'Myopathie ou myasthénie_ind', 'Paraplégie_ind', 'Sclérose en plaques_ind', 'Transplantation rénale_ind', 'Suivi de transplantation rénale_ind', 'None_ind']\n"
     ]
    }
   ],
   "source": [
    "indicatrice_patho_niv3 = liste_bis \n",
    "print(indicatrice_patho_niv3)"
   ]
  },
  {
   "cell_type": "code",
   "execution_count": 136,
   "id": "e994b2ee-cbd5-4856-bb53-5e70d34ce450",
   "metadata": {},
   "outputs": [
    {
     "name": "stdout",
     "output_type": "stream",
     "text": [
      "['80-84' '85-89' '90-94' '95et+' 'tsage' '00-04' '05-09' '10-14' '15-19'\n",
      " '20-24' '25-29' '30-34' '35-39' '40-44' '45-49' '50-54' '55-59' '60-64'\n",
      " '65-69' '70-74' '75-79' nan]\n"
     ]
    }
   ],
   "source": [
    "liste_auxil = data_gen['cla_age_5'].unique()\n",
    "print(liste_auxil)"
   ]
  },
  {
   "cell_type": "code",
   "execution_count": 137,
   "id": "7b61354e-6536-4f57-97bf-693e2221cace",
   "metadata": {},
   "outputs": [],
   "source": [
    "#afin de pouvoir clusteriser par la suite, nous allons creer des classes d age qui sont \"discretes\"\n",
    "#nous faisons ce choix car les classes d age sont relativement homogene et en prenant la moyenne des deux \n",
    "#bornes pour les classes, nous gardons l idee d une distance d age qui pourrait etre utile par la suite"
   ]
  },
  {
   "cell_type": "code",
   "execution_count": 148,
   "id": "c08f094d-82b9-4bb8-bbd7-f623274ef354",
   "metadata": {},
   "outputs": [
    {
     "name": "stdout",
     "output_type": "stream",
     "text": [
      "['80', '84']\n"
     ]
    },
    {
     "data": {
      "text/plain": [
       "int"
      ]
     },
     "execution_count": 148,
     "metadata": {},
     "output_type": "execute_result"
    }
   ],
   "source": [
    "test_de_split = data_gen['cla_age_5'][1].split('-')\n",
    "print(test_de_split)\n",
    "test_de_split[1] = int(test_de_split[1])\n",
    "type(test_de_split[1])"
   ]
  },
  {
   "cell_type": "code",
   "execution_count": 159,
   "id": "a218735a-8727-47a2-a3ae-975310b8c635",
   "metadata": {},
   "outputs": [
    {
     "ename": "AttributeError",
     "evalue": "'float' object has no attribute 'split'",
     "output_type": "error",
     "traceback": [
      "\u001b[0;31m---------------------------------------------------------------------------\u001b[0m",
      "\u001b[0;31mAttributeError\u001b[0m                            Traceback (most recent call last)",
      "Cell \u001b[0;32mIn[159], line 10\u001b[0m\n\u001b[1;32m      8\u001b[0m     age \u001b[38;5;241m=\u001b[39m np\u001b[38;5;241m.\u001b[39mnan\n\u001b[1;32m      9\u001b[0m \u001b[38;5;28;01melse\u001b[39;00m : \n\u001b[0;32m---> 10\u001b[0m     temp \u001b[38;5;241m=\u001b[39m \u001b[43mi\u001b[49m\u001b[38;5;241;43m.\u001b[39;49m\u001b[43msplit\u001b[49m(\u001b[38;5;124m'\u001b[39m\u001b[38;5;124m-\u001b[39m\u001b[38;5;124m'\u001b[39m)\n\u001b[1;32m     11\u001b[0m     temp[\u001b[38;5;241m0\u001b[39m] \u001b[38;5;241m=\u001b[39m \u001b[38;5;28mint\u001b[39m(temp[\u001b[38;5;241m0\u001b[39m])\n\u001b[1;32m     12\u001b[0m     temp[\u001b[38;5;241m1\u001b[39m] \u001b[38;5;241m=\u001b[39m \u001b[38;5;28mint\u001b[39m(temp[\u001b[38;5;241m1\u001b[39m])\n",
      "\u001b[0;31mAttributeError\u001b[0m: 'float' object has no attribute 'split'"
     ]
    }
   ],
   "source": [
    "classe_age = []\n",
    "for i in data_gen['cla_age_5'] : \n",
    "    if i == '95et+' : \n",
    "        age = 100\n",
    "    elif i == 'tsage' : \n",
    "        age = np.nan\n",
    "    elif i == np.nan : \n",
    "        age = np.nan\n",
    "    else : \n",
    "        temp = i.split('-')\n",
    "        temp[0] = int(temp[0])\n",
    "        temp[1] = int(temp[1])\n",
    "        age = (temp[1] + temp[0])/2\n",
    "    classe_age.append(age)"
   ]
  },
  {
   "cell_type": "code",
   "execution_count": null,
   "id": "53e2dbcb-b115-481a-910b-3655ffaad18c",
   "metadata": {},
   "outputs": [],
   "source": [
    "#pb a regler, il manque un truc pour eviter que ca bug fort\n",
    "#probablement type a regler ou categorie a revoir"
   ]
  }
 ],
 "metadata": {
  "kernelspec": {
   "display_name": "Python 3 (ipykernel)",
   "language": "python",
   "name": "python3"
  },
  "language_info": {
   "codemirror_mode": {
    "name": "ipython",
    "version": 3
   },
   "file_extension": ".py",
   "mimetype": "text/x-python",
   "name": "python",
   "nbconvert_exporter": "python",
   "pygments_lexer": "ipython3",
   "version": "3.10.13"
  }
 },
 "nbformat": 4,
 "nbformat_minor": 5
}
