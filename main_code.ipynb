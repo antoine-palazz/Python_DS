{
 "cells": [
  {
   "cell_type": "code",
   "execution_count": 4,
   "id": "150093d0-69e2-466a-87d3-e3808330afd8",
   "metadata": {},
   "outputs": [],
   "source": [
    "import numpy as np\n",
    "import pandas as pd\n",
    "import matplotlib.pyplot as plt\n",
    "import requests"
   ]
  },
  {
   "cell_type": "code",
   "execution_count": null,
   "id": "c44b963c-4ba5-48af-b4f2-8cfb476aad5b",
   "metadata": {},
   "outputs": [],
   "source": [
    "#test_1 = pd.read_csv(\"https://www.data.gouv.fr/fr/datasets/r/5f71ba43-afc8-43a0-b306-dafe29940f9c\", sep = \";\", encoding = 'utf-8', engine = 'python')\n",
    "#le lien du dossier data.gouv : \n",
    "# https://www.data.gouv.fr/fr/datasets/effectif-de-patients-par-pathologie-sexe-classe-dage-et-territoire-departement-region/\n",
    "# methode \"classique\" pour obtenir un dataset a partir d un lien \n",
    "# probleme d encodage d ou les parametres sep, encoding, engine\n",
    "# A FAIRE : COPIER LA BASE DE FACON LOCALE ET S Y REFERER PAR LA SUITE PAR EFFECTIFS.CSV "
   ]
  },
  {
   "cell_type": "code",
   "execution_count": null,
   "id": "7ff07732-bee0-47f7-9b3a-3ea7493deafd",
   "metadata": {},
   "outputs": [],
   "source": [
    "test_2 = pd.read_csv(\"effectifs.csv\", sep = \";\", encoding = 'utf-8', engine = 'python')\n",
    "#commande a utiliser une fois qu on a la base \n",
    "#copiee en local \n",
    "#la base au prealable telechargee sur ordi perso"
   ]
  }
 ],
 "metadata": {
  "kernelspec": {
   "display_name": "Python 3 (ipykernel)",
   "language": "python",
   "name": "python3"
  },
  "language_info": {
   "codemirror_mode": {
    "name": "ipython",
    "version": 3
   },
   "file_extension": ".py",
   "mimetype": "text/x-python",
   "name": "python",
   "nbconvert_exporter": "python",
   "pygments_lexer": "ipython3",
   "version": "3.10.13"
  }
 },
 "nbformat": 4,
 "nbformat_minor": 5
}
