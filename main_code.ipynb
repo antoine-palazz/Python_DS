{
 "cells": [
  {
   "cell_type": "code",
   "execution_count": null,
   "id": "eea8fe55",
   "metadata": {
    "scrolled": true
   },
   "outputs": [],
   "source": [
    "import numpy as np\n",
    "import pandas as pd\n",
    "import matplotlib.pyplot as plt\n",
    "import requests\n",
    "!pip install --upgrade xlrd #colab bug verson xlrd\n",
    "!pip install geopandas\n",
    "!pip install pandas fiona shapely pyproj rtree\n",
    "!pip install contextily\n",
    "!pip install pygeos\n",
    "!pip install topojson\n",
    "import geopandas as gpd\n",
    "import contextily as ctx\n",
    "import matplotlib.pyplot as plt\n",
    "#!pip install requests py7zr geopandas openpyxl tqdm s3fs PyYAML xlrd\n",
    "#!pip install git+https://github.com/inseefrlab/cartiflette@80b8a5a28371feb6df31d55bcc2617948a5f9b1a"
   ]
  },
  {
   "cell_type": "code",
   "execution_count": null,
   "id": "336bd093",
   "metadata": {},
   "outputs": [],
   "source": [
    "#test_1 = pd.read_csv(\"https://www.data.gouv.fr/fr/datasets/r/5f71ba43-afc8-43a0-b306-dafe29940f9c\", sep = \";\", encoding = 'utf-8', engine = 'python')\n",
    "#le lien du dossier data.gouv : \n",
    "# https://www.data.gouv.fr/fr/datasets/effectif-de-patients-par-pathologie-sexe-classe-dage-et-territoire-departement-region/\n",
    "# methode \"classique\" pour obtenir un dataset a partir d un lien \n",
    "# probleme d encodage d ou les parametres sep, encoding, engine\n",
    "# A FAIRE : COPIER LA BASE DE FACON LOCALE ET S Y REFERER PAR LA SUITE PAR EFFECTIFS.CSV "
   ]
  },
  {
   "cell_type": "code",
   "execution_count": null,
   "id": "95c2f606",
   "metadata": {},
   "outputs": [],
   "source": [
    "test_2 = pd.read_csv(\"effectifs.csv\", sep = \";\", encoding = 'utf-8', engine = 'python')\n",
    "#commande a utiliser une fois qu on a la base \n",
    "#copiee en local \n",
    "#la base au prealable telechargee sur ordi perso"
   ]
  },
  {
   "cell_type": "code",
   "execution_count": null,
   "id": "1e4697ec",
   "metadata": {
    "scrolled": true
   },
   "outputs": [],
   "source": [
    "test_2.head()\n",
    "test_2.shape"
   ]
  },
  {
   "cell_type": "code",
   "execution_count": null,
   "id": "224c318e",
   "metadata": {},
   "outputs": [],
   "source": [
    "print(\"nombre de categories differentes pour niv2 est :\"+str(len(test_2['patho_niv2'].unique())))\n",
    "print(\"nombre de categories differentes pour niv3 est :\"+str(len(test_2['patho_niv3'].unique())))"
   ]
  },
  {
   "cell_type": "code",
   "execution_count": null,
   "id": "4128e52b",
   "metadata": {},
   "outputs": [
    {
     "name": "stdout",
     "output_type": "stream",
     "text": [
      "['Pas de pathologies repérées, traitements, maternité, hospitalisations ni traitement antalgique ou anti-inflammatoire'\n",
      " 'Séjours en hospitalisation complète pour prise en charge de la Covid-19'\n",
      " 'Traitements du risque vasculaire (hors pathologies)'\n",
      " 'Maladies inflammatoires ou rares ou VIH ou SIDA'\n",
      " 'Maladies neurologiques ou dégénératives'\n",
      " 'Traitements psychotropes (hors pathologies)'\n",
      " 'Traitement antalgique ou anti-inflammatoire (hors pathologies, traitements, maternité ou hospitalisations)'\n",
      " 'Maladies psychiatriques' nan\n",
      " 'Autres affections de longue durée (dont 31 et 32)' 'Cancers'\n",
      " 'Maladies cardio-neurovasculaires'\n",
      " 'Maladies du foie ou du pancréas (hors mucoviscidose)' 'Diabète'\n",
      " 'Hospitalisations ponctuelles (avec ou sans pathologies, traitements ou maternité)'\n",
      " 'Maladies respiratoires chroniques (hors mucoviscidose)'\n",
      " 'Maternité (avec ou sans pathologies)'\n",
      " 'Insuffisance rénale chronique terminale']\n"
     ]
    }
   ],
   "source": [
    "#potentiellement creer 123 colonnes pour pouvoir faire du clustering \n",
    "#comparer les clusters obtenus par les caracteristiques d un inidivu pour voir si ca matche ou pas \n",
    "print(test_2['patho_niv1'].unique())"
   ]
  },
  {
   "cell_type": "code",
   "execution_count": null,
   "id": "8d0b9dad",
   "metadata": {},
   "outputs": [],
   "source": [
    "data_gen = test_2"
   ]
  },
  {
   "cell_type": "code",
   "execution_count": null,
   "id": "b5e5fa8f",
   "metadata": {
    "scrolled": true
   },
   "outputs": [],
   "source": [
    "print(test_2.shape, data_gen.shape)"
   ]
  },
  {
   "cell_type": "code",
   "execution_count": null,
   "id": "73c353f4",
   "metadata": {
    "scrolled": true
   },
   "outputs": [],
   "source": [
    "liste_diff_patho1 = data_gen['patho_niv1'].unique()\n",
    "liste_diff_patho2 = data_gen['patho_niv2'].unique()\n",
    "liste_diff_patho3 = data_gen['patho_niv3'].unique()\n",
    "\n",
    "print(liste_diff_patho1, \"\\n\", liste_diff_patho2, \"\\n\", liste_diff_patho3)"
   ]
  },
  {
   "cell_type": "code",
   "execution_count": null,
   "id": "6a60d2ff",
   "metadata": {},
   "outputs": [],
   "source": [
    "print(data_gen.shape, data_gen['patho_niv1'].isna().sum())"
   ]
  },
  {
   "cell_type": "code",
   "execution_count": null,
   "id": "124b8f93",
   "metadata": {},
   "outputs": [],
   "source": [
    "#Creation d une colonne individus\n",
    "ind = []\n",
    "for i in range (1,4057202) : \n",
    "    ind.append(i)"
   ]
  },
  {
   "cell_type": "code",
   "execution_count": null,
   "id": "a12db18e",
   "metadata": {},
   "outputs": [],
   "source": [
    "ind = pd.DataFrame(ind)\n",
    "ind = ind.set_axis(['ind'], axis='columns')"
   ]
  },
  {
   "cell_type": "code",
   "execution_count": null,
   "id": "0dd1e68a",
   "metadata": {},
   "outputs": [],
   "source": [
    "data_gen_1 = pd.concat([ind, data_gen], axis = 1)"
   ]
  },
  {
   "cell_type": "code",
   "execution_count": null,
   "id": "cf1cdb1b",
   "metadata": {},
   "outputs": [],
   "source": [
    "data_gen_1.head()"
   ]
  },
  {
   "cell_type": "code",
   "execution_count": null,
   "id": "cd7c341a",
   "metadata": {},
   "outputs": [],
   "source": [
    "data_gen = data_gen_1"
   ]
  },
  {
   "cell_type": "code",
   "execution_count": null,
   "id": "88d10fb6",
   "metadata": {},
   "outputs": [],
   "source": [
    "#tentative de compréhension de ce que la variable npop représente\n",
    "#b = data_gen['npop'].unique()\n",
    "#b = pd.DataFrame(b)"
   ]
  },
  {
   "cell_type": "code",
   "execution_count": null,
   "id": "4dc9f3e5",
   "metadata": {},
   "outputs": [],
   "source": [
    "#b = b.dropna()"
   ]
  },
  {
   "cell_type": "code",
   "execution_count": null,
   "id": "753cd490",
   "metadata": {},
   "outputs": [],
   "source": [
    "#b = b.set_axis(['test'], axis = 'columns')"
   ]
  },
  {
   "cell_type": "code",
   "execution_count": null,
   "id": "2ca7ae3b",
   "metadata": {},
   "outputs": [],
   "source": [
    "#b.head()"
   ]
  },
  {
   "cell_type": "code",
   "execution_count": null,
   "id": "985b89db",
   "metadata": {},
   "outputs": [],
   "source": [
    "#sum(b['test'])"
   ]
  },
  {
   "cell_type": "code",
   "execution_count": null,
   "id": "7856f422",
   "metadata": {},
   "outputs": [],
   "source": [
    "#resultat peu concluant"
   ]
  },
  {
   "cell_type": "code",
   "execution_count": null,
   "id": "de9257ae",
   "metadata": {},
   "outputs": [],
   "source": [
    "#creation d indicatrices pour futur clustering"
   ]
  },
  {
   "cell_type": "code",
   "execution_count": null,
   "id": "1ae8ef13",
   "metadata": {},
   "outputs": [],
   "source": [
    "liste_diff_patho3 = list(liste_diff_patho3)"
   ]
  },
  {
   "cell_type": "code",
   "execution_count": null,
   "id": "74f09191",
   "metadata": {},
   "outputs": [],
   "source": [
    "#premier code pour creation d indicatrice"
   ]
  },
  {
   "cell_type": "code",
   "execution_count": null,
   "id": "dcad1e5d",
   "metadata": {
    "scrolled": true
   },
   "outputs": [],
   "source": [
    "temporaire = []\n",
    "for i in data_gen['patho_niv3'] : \n",
    "    if i == 'Syndrome coronaire aigu' :\n",
    "        temporaire.append(1)\n",
    "    else : \n",
    "        temporaire.append(0)\n",
    "\n",
    "data_gen['Syndrome_coronaire_aigu_indicatrice'] = temporaire\n",
    "data_gen = data_gen.drop(columns = ['Syndrome_coronaire_aigu_indicatrice'])\n",
    "data_gen.head()"
   ]
  },
  {
   "cell_type": "code",
   "execution_count": null,
   "id": "be984cb9",
   "metadata": {
    "scrolled": true
   },
   "outputs": [],
   "source": [
    "def creation_indicatrice (colonne_de_depart, nom_de_maladie) : \n",
    "    temporaire = []\n",
    "    for i in colonne_de_depart :\n",
    "        if i == f\"{nom_de_maladie}\" :\n",
    "            temporaire.append(1)\n",
    "        else :\n",
    "            temporaire.append(0)\n",
    "    data_gen[f\"{nom_de_maladie}_ind\"] = temporaire"
   ]
  },
  {
   "cell_type": "code",
   "execution_count": null,
   "id": "8a40b672",
   "metadata": {},
   "outputs": [],
   "source": [
    "for i in liste_diff_patho3 : \n",
    "    creation_indicatrice(colonne_de_depart = data_gen['patho_niv3'], nom_de_maladie = i)"
   ]
  },
  {
   "cell_type": "code",
   "execution_count": null,
   "id": "fc6c4713",
   "metadata": {},
   "outputs": [],
   "source": [
    "data_gen.shape"
   ]
  },
  {
   "cell_type": "code",
   "execution_count": null,
   "id": "db59fe66",
   "metadata": {},
   "outputs": [],
   "source": [
    "#perte d un grand nombre de lignes \n",
    "#pb a regler\n",
    "#pb regle, venait du test pour essayer de comprendre la variable npop"
   ]
  },
  {
   "cell_type": "code",
   "execution_count": null,
   "id": "86b98dd5",
   "metadata": {},
   "outputs": [],
   "source": [
    "liste_var = data_gen.columns[17:]\n",
    "liste_bis = []\n",
    "for i in liste_var : \n",
    "    liste_bis.append(i)\n"
   ]
  },
  {
   "cell_type": "code",
   "execution_count": 30,
   "id": "5d9aa795",
   "metadata": {
    "scrolled": true
   },
   "outputs": [],
   "source": [
    "indicatrice_patho_niv3 = liste_bis"
   ]
  },
  {
   "cell_type": "code",
   "execution_count": null,
   "id": "ebcd52ad",
   "metadata": {
    "scrolled": true
   },
   "outputs": [],
   "source": [
    "indicatrice_patho_niv3 = liste_bis \n",
    "print(indicatrice_patho_niv3)"
   ]
  },
  {
   "cell_type": "code",
   "execution_count": null,
   "id": "07f60a28",
   "metadata": {},
   "outputs": [],
   "source": [
    "liste_auxil = data_gen['cla_age_5'].unique()\n",
    "print(liste_auxil)\n",
    "\n",
    "#afin de pouvoir clusteriser par la suite, nous allons creer des classes d age qui sont \"discretes\"\n",
    "#nous faisons ce choix car les classes d age sont relativement homogene et en prenant la moyenne des deux \n",
    "#bornes pour les classes, nous gardons l idee d une distance d age qui pourrait etre utile par la suite\n",
    "\n",
    "inter_excl = ('95et+', 'tsage', np.nan)\n",
    "\n",
    "inter_def = []\n",
    "for i in liste_auxil :\n",
    "    if i in inter_excl : \n",
    "        inter_def = inter_def\n",
    "    else : \n",
    "        inter_def.append(i)\n",
    "\n",
    "\n",
    "classe_age = []\n",
    "for i in data_gen['cla_age_5'] : \n",
    "    if i in inter_def :\n",
    "        temp = i.split('-')\n",
    "        temp[0] = int(temp[0])\n",
    "        temp[1] = int(temp[1])\n",
    "        age = (temp[1] + temp[0])/2\n",
    "    elif i == 'tsage' : \n",
    "        age = np.nan\n",
    "    elif i == '95et+' : \n",
    "        age = 100\n",
    "    else : \n",
    "        age = np.nan\n",
    "    classe_age.append(age)\n",
    "\n",
    "#pb a regler, il manque un truc pour eviter que ca bug fort\n",
    "#probablement type a regler ou categorie a revoir\n",
    "#code peu ergonomique mais solution la plus sure, \n",
    "#toutes les autres tentatives en posant des conditions sur le type de i \n",
    "#n ont pas ete solde par une reussite\n",
    "#on a print nombre de valeurs de classe_age et le code fonctionne\n",
    "\n",
    "data_gen['classe_age'] = classe_age\n",
    "\n",
    "data_patho_niv3 = data_gen"
   ]
  },
  {
   "cell_type": "code",
   "execution_count": 31,
   "id": "03af72bc",
   "metadata": {},
   "outputs": [],
   "source": [
    "<<<<<<< REMOTE CELL DELETED >>>>>>>\n",
    "liste_auxil = data_gen['cla_age_5'].unique()"
   ]
  },
  {
   "cell_type": "code",
   "execution_count": null,
   "id": "9cb0e417",
   "metadata": {},
   "outputs": [],
   "source": [
    "data_gen = data_gen.drop(indicatrice_patho_niv3, axis = 1)"
   ]
  },
  {
   "cell_type": "code",
   "execution_count": null,
   "id": "4cccdb8b",
   "metadata": {},
   "outputs": [],
   "source": [
    "#on cree un nouveau dataframe pour pouvoir faire des manipulations plus rapides sur le data_gen"
   ]
  },
  {
   "cell_type": "code",
   "execution_count": null,
   "id": "f5460c08",
   "metadata": {},
   "outputs": [],
   "source": [
    "data_gen.head()"
   ]
  },
  {
   "cell_type": "code",
   "execution_count": null,
   "id": "b1d9e08d",
   "metadata": {},
   "outputs": [],
   "source": [
    "df_model = data_gen[['ind','classe_age' , 'region', 'dept']]"
   ]
  },
  {
   "cell_type": "code",
   "execution_count": null,
   "id": "e664bd16",
   "metadata": {},
   "outputs": [],
   "source": [
    "df_model_niv3 = pd.concat([df_model, data_patho_niv3[indicatrice_patho_niv3]], axis = 1)"
   ]
  },
  {
   "cell_type": "code",
   "execution_count": null,
   "id": "8f033245",
   "metadata": {},
   "outputs": [],
   "source": [
    "#truc bizarre a reverifier mais il se peut qu'il y ait eu un petit bug avec une colonne nan_ind"
   ]
  },
  {
   "cell_type": "code",
   "execution_count": null,
   "id": "6440256e",
   "metadata": {},
   "outputs": [],
   "source": [
    "#l'autre base pour la pollution ne prend pas les départements d'outre-mer en compte\n",
    "#il est donc probable que l'on soit contraints de les exclure de l'analyse \n"
   ]
  },
  {
   "cell_type": "code",
   "execution_count": null,
   "id": "f0c602aa",
   "metadata": {},
   "outputs": [],
   "source": [
    "data_pollution = pd.read_csv(\"base_pollution.csv\")"
   ]
  },
  {
   "cell_type": "code",
   "execution_count": null,
   "id": "62bd852c",
   "metadata": {},
   "outputs": [],
   "source": [
    "data_pollution.head()"
   ]
  },
  {
   "cell_type": "code",
   "execution_count": null,
   "id": "3883d2d8",
   "metadata": {},
   "outputs": [],
   "source": [
    "#df_model_test = pd.merge(df_model, data_pollution, how = 'left', left_on='dept', right_on='DEP')"
   ]
  },
  {
   "cell_type": "code",
   "execution_count": null,
   "id": "401c1ebc",
   "metadata": {},
   "outputs": [],
   "source": [
    "#decision prise apres cette ligne de reduire \n",
    "#considerablement la taille de la base sans quoi aucun calcul ne serait possible\n",
    "#j'ai essaye d'augmenter drastiquement les ressources disponibles pour \n",
    "#pouvoir ne serait-ce que merge et pour le clustering, \n",
    "#le calcul semble impossible"
   ]
  },
  {
   "cell_type": "code",
   "execution_count": null,
   "id": "678771a6",
   "metadata": {},
   "outputs": [],
   "source": [
    "#data_sans_na = data_gen[data_gen['patho_niv1'].apply(lambda s: s != 'Pas de pathologies repérées, traitements, maternité, hospitalisations ni traitement antalgique ou anti-inflammatoire')]"
   ]
  },
  {
   "cell_type": "code",
   "execution_count": null,
   "id": "241ec86c",
   "metadata": {},
   "outputs": [],
   "source": [
    "data_sans_na = data_gen.dropna()"
   ]
  },
  {
   "cell_type": "code",
   "execution_count": null,
   "id": "6f075bc9",
   "metadata": {},
   "outputs": [],
   "source": [
    "df_model_reduced = data_sans_na[['ind','classe_age' , 'region', 'dept']]"
   ]
  },
  {
   "cell_type": "code",
   "execution_count": null,
   "id": "ddc60a6a",
   "metadata": {},
   "outputs": [],
   "source": [
    "def creation_indicatrice_modif (colonne_de_depart, nom_de_maladie) : \n",
    "    temporaire = []\n",
    "    for i in colonne_de_depart :\n",
    "        if i == f\"{nom_de_maladie}\" :\n",
    "            temporaire.append(1)\n",
    "        else :\n",
    "            temporaire.append(0)\n",
    "    data_sans_na.loc[:, f\"{nom_de_maladie}_ind\"] = temporaire\n",
    "#derniere ligne donnee par chatgpt parce qu'il y avait une erreur\n",
    "#car je n'utilisais pas le .loc mais mettais juste :\n",
    "#data_sans_na[f\"{nom_de_maladie}_ind\"], mais apparemment \n",
    "#cela aurait pu faire un comportement etrange et donc pour modifier \n",
    "#\"en vrai\" le nouveau subset il fallait le traiter comme ca,\n",
    "#ce qui semble marcher\n",
    "\n",
    "for i in liste_diff_patho3 : \n",
    "    creation_indicatrice_modif(colonne_de_depart = data_sans_na.loc[:,'patho_niv3'], nom_de_maladie = i)"
   ]
  },
  {
   "cell_type": "code",
   "execution_count": null,
   "id": "12d3391d",
   "metadata": {},
   "outputs": [],
   "source": [
    "data_sans_na.head()"
   ]
  },
  {
   "cell_type": "code",
   "execution_count": null,
   "id": "85f8dbcb",
   "metadata": {},
   "outputs": [],
   "source": [
    "df_model_reduced.shape"
   ]
  },
  {
   "cell_type": "code",
   "execution_count": null,
   "id": "f22a0f8b",
   "metadata": {},
   "outputs": [],
   "source": [
    "df_model_reduced.head()"
   ]
  },
  {
   "cell_type": "code",
   "execution_count": 1,
   "id": "1605d777",
   "metadata": {},
   "outputs": [],
   "source": [
    "#meme en ayant divise par deux la taille de la base,\n",
    "#augmente de facon considerable les ressources disponibles,\n",
    "#efface tous les outputs des cellules\n",
    "#ca ne marche pas \n",
    "#donc il faudra faire des regroupements\n",
    "#vient la question : lesquels"
   ]
  },
  {
   "cell_type": "code",
   "execution_count": null,
   "id": "de645df0",
   "metadata": {},
   "outputs": [],
   "source": []
  }
 ],
 "metadata": {
  "kernelspec": {
   "display_name": "Python 3 (ipykernel)",
   "language": "python",
   "name": "python3"
  },
  "language_info": {
   "codemirror_mode": {
    "name": "ipython",
    "version": 3
   },
   "file_extension": ".py",
   "mimetype": "text/x-python",
   "name": "python",
   "nbconvert_exporter": "python",
   "pygments_lexer": "ipython3",
   "version": "3.10.13"
  }
 },
 "nbformat": 4,
 "nbformat_minor": 5
}
