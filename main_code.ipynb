{
 "cells": [
  {
   "cell_type": "code",
   "execution_count": 4,
   "id": "150093d0-69e2-466a-87d3-e3808330afd8",
   "metadata": {},
   "outputs": [],
   "source": [
    "import numpy as np\n",
    "import pandas as pd\n",
    "import matplotlib.pyplot as plt\n",
    "import requests"
   ]
  },
  {
   "cell_type": "code",
   "execution_count": null,
   "id": "c44b963c-4ba5-48af-b4f2-8cfb476aad5b",
   "metadata": {},
   "outputs": [],
   "source": [
    "#test_1 = pd.read_csv(\"https://www.data.gouv.fr/fr/datasets/r/5f71ba43-afc8-43a0-b306-dafe29940f9c\", sep = \";\", encoding = 'utf-8', engine = 'python')\n",
    "#le lien du dossier data.gouv : \n",
    "# https://www.data.gouv.fr/fr/datasets/effectif-de-patients-par-pathologie-sexe-classe-dage-et-territoire-departement-region/\n",
    "# methode \"classique\" pour obtenir un dataset a partir d un lien \n",
    "# probleme d encodage d ou les parametres sep, encoding, engine\n",
    "# A FAIRE : COPIER LA BASE DE FACON LOCALE ET S Y REFERER PAR LA SUITE PAR EFFECTIFS.CSV "
   ]
  },
  {
   "cell_type": "code",
   "execution_count": 8,
   "id": "7ff07732-bee0-47f7-9b3a-3ea7493deafd",
   "metadata": {},
   "outputs": [],
   "source": [
    "test_2 = pd.read_csv(\"effectifs.csv\", sep = \";\", encoding = 'utf-8', engine = 'python')\n",
    "#commande a utiliser une fois qu on a la base \n",
    "#copiee en local \n",
    "#la base au prealable telechargee sur ordi perso"
   ]
  },
  {
   "cell_type": "code",
   "execution_count": 9,
   "id": "84e3f8e4-f1c0-41db-92b1-7d6876567523",
   "metadata": {},
   "outputs": [
    {
     "data": {
      "text/html": [
       "<div>\n",
       "<style scoped>\n",
       "    .dataframe tbody tr th:only-of-type {\n",
       "        vertical-align: middle;\n",
       "    }\n",
       "\n",
       "    .dataframe tbody tr th {\n",
       "        vertical-align: top;\n",
       "    }\n",
       "\n",
       "    .dataframe thead th {\n",
       "        text-align: right;\n",
       "    }\n",
       "</style>\n",
       "<table border=\"1\" class=\"dataframe\">\n",
       "  <thead>\n",
       "    <tr style=\"text-align: right;\">\n",
       "      <th></th>\n",
       "      <th>annee</th>\n",
       "      <th>patho_niv1</th>\n",
       "      <th>patho_niv2</th>\n",
       "      <th>patho_niv3</th>\n",
       "      <th>top</th>\n",
       "      <th>cla_age_5</th>\n",
       "      <th>sexe</th>\n",
       "      <th>region</th>\n",
       "      <th>dept</th>\n",
       "      <th>ntop</th>\n",
       "      <th>npop</th>\n",
       "      <th>prev</th>\n",
       "      <th>niveau_prioritaire</th>\n",
       "      <th>libelle_classe_age</th>\n",
       "      <th>libelle_sexe</th>\n",
       "      <th>tri</th>\n",
       "    </tr>\n",
       "  </thead>\n",
       "  <tbody>\n",
       "    <tr>\n",
       "      <th>0</th>\n",
       "      <td>2020</td>\n",
       "      <td>Traitements du risque vasculaire (hors patholo...</td>\n",
       "      <td>Traitements hypolipémiants (hors pathologies)</td>\n",
       "      <td>Traitements hypolipémiants (hors pathologies)</td>\n",
       "      <td>top_FHypoLi_med</td>\n",
       "      <td>80-84</td>\n",
       "      <td>1.0</td>\n",
       "      <td>1</td>\n",
       "      <td>971</td>\n",
       "      <td>290.0</td>\n",
       "      <td>4210.0</td>\n",
       "      <td>6.912</td>\n",
       "      <td>2,3</td>\n",
       "      <td>de 80 à 84 ans</td>\n",
       "      <td>hommes</td>\n",
       "      <td>51.0</td>\n",
       "    </tr>\n",
       "    <tr>\n",
       "      <th>1</th>\n",
       "      <td>2020</td>\n",
       "      <td>Traitements du risque vasculaire (hors patholo...</td>\n",
       "      <td>Traitements hypolipémiants (hors pathologies)</td>\n",
       "      <td>Traitements hypolipémiants (hors pathologies)</td>\n",
       "      <td>top_FHypoLi_med</td>\n",
       "      <td>80-84</td>\n",
       "      <td>1.0</td>\n",
       "      <td>3</td>\n",
       "      <td>973</td>\n",
       "      <td>40.0</td>\n",
       "      <td>650.0</td>\n",
       "      <td>5.864</td>\n",
       "      <td>2,3</td>\n",
       "      <td>de 80 à 84 ans</td>\n",
       "      <td>hommes</td>\n",
       "      <td>51.0</td>\n",
       "    </tr>\n",
       "    <tr>\n",
       "      <th>2</th>\n",
       "      <td>2020</td>\n",
       "      <td>Traitements du risque vasculaire (hors patholo...</td>\n",
       "      <td>Traitements hypolipémiants (hors pathologies)</td>\n",
       "      <td>Traitements hypolipémiants (hors pathologies)</td>\n",
       "      <td>top_FHypoLi_med</td>\n",
       "      <td>80-84</td>\n",
       "      <td>1.0</td>\n",
       "      <td>4</td>\n",
       "      <td>999</td>\n",
       "      <td>410.0</td>\n",
       "      <td>5630.0</td>\n",
       "      <td>7.340</td>\n",
       "      <td>2,3</td>\n",
       "      <td>de 80 à 84 ans</td>\n",
       "      <td>hommes</td>\n",
       "      <td>51.0</td>\n",
       "    </tr>\n",
       "    <tr>\n",
       "      <th>3</th>\n",
       "      <td>2020</td>\n",
       "      <td>Traitements du risque vasculaire (hors patholo...</td>\n",
       "      <td>Traitements hypolipémiants (hors pathologies)</td>\n",
       "      <td>Traitements hypolipémiants (hors pathologies)</td>\n",
       "      <td>top_FHypoLi_med</td>\n",
       "      <td>80-84</td>\n",
       "      <td>1.0</td>\n",
       "      <td>6</td>\n",
       "      <td>999</td>\n",
       "      <td>20.0</td>\n",
       "      <td>350.0</td>\n",
       "      <td>4.913</td>\n",
       "      <td>2,3</td>\n",
       "      <td>de 80 à 84 ans</td>\n",
       "      <td>hommes</td>\n",
       "      <td>51.0</td>\n",
       "    </tr>\n",
       "    <tr>\n",
       "      <th>4</th>\n",
       "      <td>2020</td>\n",
       "      <td>Traitements du risque vasculaire (hors patholo...</td>\n",
       "      <td>Traitements hypolipémiants (hors pathologies)</td>\n",
       "      <td>Traitements hypolipémiants (hors pathologies)</td>\n",
       "      <td>top_FHypoLi_med</td>\n",
       "      <td>80-84</td>\n",
       "      <td>1.0</td>\n",
       "      <td>11</td>\n",
       "      <td>75</td>\n",
       "      <td>2960.0</td>\n",
       "      <td>20820.0</td>\n",
       "      <td>14.221</td>\n",
       "      <td>2,3</td>\n",
       "      <td>de 80 à 84 ans</td>\n",
       "      <td>hommes</td>\n",
       "      <td>51.0</td>\n",
       "    </tr>\n",
       "  </tbody>\n",
       "</table>\n",
       "</div>"
      ],
      "text/plain": [
       "   annee                                         patho_niv1  \\\n",
       "0   2020  Traitements du risque vasculaire (hors patholo...   \n",
       "1   2020  Traitements du risque vasculaire (hors patholo...   \n",
       "2   2020  Traitements du risque vasculaire (hors patholo...   \n",
       "3   2020  Traitements du risque vasculaire (hors patholo...   \n",
       "4   2020  Traitements du risque vasculaire (hors patholo...   \n",
       "\n",
       "                                      patho_niv2  \\\n",
       "0  Traitements hypolipémiants (hors pathologies)   \n",
       "1  Traitements hypolipémiants (hors pathologies)   \n",
       "2  Traitements hypolipémiants (hors pathologies)   \n",
       "3  Traitements hypolipémiants (hors pathologies)   \n",
       "4  Traitements hypolipémiants (hors pathologies)   \n",
       "\n",
       "                                      patho_niv3              top cla_age_5  \\\n",
       "0  Traitements hypolipémiants (hors pathologies)  top_FHypoLi_med     80-84   \n",
       "1  Traitements hypolipémiants (hors pathologies)  top_FHypoLi_med     80-84   \n",
       "2  Traitements hypolipémiants (hors pathologies)  top_FHypoLi_med     80-84   \n",
       "3  Traitements hypolipémiants (hors pathologies)  top_FHypoLi_med     80-84   \n",
       "4  Traitements hypolipémiants (hors pathologies)  top_FHypoLi_med     80-84   \n",
       "\n",
       "   sexe  region dept    ntop     npop    prev niveau_prioritaire  \\\n",
       "0   1.0       1  971   290.0   4210.0   6.912                2,3   \n",
       "1   1.0       3  973    40.0    650.0   5.864                2,3   \n",
       "2   1.0       4  999   410.0   5630.0   7.340                2,3   \n",
       "3   1.0       6  999    20.0    350.0   4.913                2,3   \n",
       "4   1.0      11   75  2960.0  20820.0  14.221                2,3   \n",
       "\n",
       "  libelle_classe_age libelle_sexe   tri  \n",
       "0     de 80 à 84 ans       hommes  51.0  \n",
       "1     de 80 à 84 ans       hommes  51.0  \n",
       "2     de 80 à 84 ans       hommes  51.0  \n",
       "3     de 80 à 84 ans       hommes  51.0  \n",
       "4     de 80 à 84 ans       hommes  51.0  "
      ]
     },
     "execution_count": 9,
     "metadata": {},
     "output_type": "execute_result"
    }
   ],
   "source": [
    "test_2.head()"
   ]
  },
  {
   "cell_type": "code",
   "execution_count": 12,
   "id": "dae9713e-e612-413c-afdf-24f40a3ef84b",
   "metadata": {},
   "outputs": [
    {
     "data": {
      "text/plain": [
       "18"
      ]
     },
     "execution_count": 12,
     "metadata": {},
     "output_type": "execute_result"
    }
   ],
   "source": [
    "len(test_2['patho_niv1'].unique())"
   ]
  },
  {
   "cell_type": "code",
   "execution_count": 18,
   "id": "9412e7ea-e7f4-48d3-9b8d-284709a57ff9",
   "metadata": {},
   "outputs": [
    {
     "name": "stdout",
     "output_type": "stream",
     "text": [
      "nombre de categories differentes pour niv2 est :46\n",
      "nombre de categories differentes pour niv3 est :59\n"
     ]
    }
   ],
   "source": [
    "print(\"nombre de categories differentes pour niv2 est :\"+str(len(test_2['patho_niv2'].unique())))\n",
    "print(\"nombre de categories differentes pour niv3 est :\"+str(len(test_2['patho_niv3'].unique())))"
   ]
  },
  {
   "cell_type": "code",
   "execution_count": null,
   "id": "1d2a8b20-351e-4f4e-93de-7eb61b991088",
   "metadata": {},
   "outputs": [],
   "source": [
    "#potentiellement creer 123 colonnes pour pouvoir faire du clustering \n",
    "#comparer les clusters obtenus par les caracteristiques d un inidivu pour voir si ca matche ou pas \n"
   ]
  }
 ],
 "metadata": {
  "kernelspec": {
   "display_name": "Python 3 (ipykernel)",
   "language": "python",
   "name": "python3"
  },
  "language_info": {
   "codemirror_mode": {
    "name": "ipython",
    "version": 3
   },
   "file_extension": ".py",
   "mimetype": "text/x-python",
   "name": "python",
   "nbconvert_exporter": "python",
   "pygments_lexer": "ipython3",
   "version": "3.10.13"
  }
 },
 "nbformat": 4,
 "nbformat_minor": 5
}
