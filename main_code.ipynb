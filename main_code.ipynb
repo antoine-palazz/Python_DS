{
 "cells": [
  {
   "cell_type": "code",
   "execution_count": 1,
   "id": "150093d0-69e2-466a-87d3-e3808330afd8",
   "metadata": {
    "scrolled": true
   },
   "outputs": [
    {
     "name": "stdout",
     "output_type": "stream",
     "text": [
      "Requirement already satisfied: xlrd in /opt/mamba/lib/python3.10/site-packages (2.0.1)\n",
      "Requirement already satisfied: geopandas in /opt/mamba/lib/python3.10/site-packages (0.14.1)\n",
      "Requirement already satisfied: fiona>=1.8.21 in /opt/mamba/lib/python3.10/site-packages (from geopandas) (1.9.3)\n",
      "Requirement already satisfied: packaging in /opt/mamba/lib/python3.10/site-packages (from geopandas) (23.1)\n",
      "Requirement already satisfied: pandas>=1.4.0 in /opt/mamba/lib/python3.10/site-packages (from geopandas) (2.1.3)\n",
      "Requirement already satisfied: pyproj>=3.3.0 in /opt/mamba/lib/python3.10/site-packages (from geopandas) (3.6.1)\n",
      "Requirement already satisfied: shapely>=1.8.0 in /opt/mamba/lib/python3.10/site-packages (from geopandas) (2.0.2)\n",
      "Requirement already satisfied: attrs>=19.2.0 in /opt/mamba/lib/python3.10/site-packages (from fiona>=1.8.21->geopandas) (23.1.0)\n",
      "Requirement already satisfied: certifi in /opt/mamba/lib/python3.10/site-packages (from fiona>=1.8.21->geopandas) (2023.11.17)\n",
      "Requirement already satisfied: click~=8.0 in /opt/mamba/lib/python3.10/site-packages (from fiona>=1.8.21->geopandas) (8.1.7)\n",
      "Requirement already satisfied: click-plugins>=1.0 in /opt/mamba/lib/python3.10/site-packages (from fiona>=1.8.21->geopandas) (1.1.1)\n",
      "Requirement already satisfied: cligj>=0.5 in /opt/mamba/lib/python3.10/site-packages (from fiona>=1.8.21->geopandas) (0.7.2)\n",
      "Requirement already satisfied: munch>=2.3.2 in /opt/mamba/lib/python3.10/site-packages (from fiona>=1.8.21->geopandas) (4.0.0)\n",
      "Requirement already satisfied: numpy<2,>=1.22.4 in /opt/mamba/lib/python3.10/site-packages (from pandas>=1.4.0->geopandas) (1.26.2)\n",
      "Requirement already satisfied: python-dateutil>=2.8.2 in /opt/mamba/lib/python3.10/site-packages (from pandas>=1.4.0->geopandas) (2.8.2)\n",
      "Requirement already satisfied: pytz>=2020.1 in /opt/mamba/lib/python3.10/site-packages (from pandas>=1.4.0->geopandas) (2023.3.post1)\n",
      "Requirement already satisfied: tzdata>=2022.1 in /opt/mamba/lib/python3.10/site-packages (from pandas>=1.4.0->geopandas) (2023.3)\n",
      "Requirement already satisfied: six>=1.5 in /opt/mamba/lib/python3.10/site-packages (from python-dateutil>=2.8.2->pandas>=1.4.0->geopandas) (1.16.0)\n",
      "Requirement already satisfied: pandas in /opt/mamba/lib/python3.10/site-packages (2.1.3)\n",
      "Requirement already satisfied: fiona in /opt/mamba/lib/python3.10/site-packages (1.9.3)\n",
      "Requirement already satisfied: shapely in /opt/mamba/lib/python3.10/site-packages (2.0.2)\n",
      "Requirement already satisfied: pyproj in /opt/mamba/lib/python3.10/site-packages (3.6.1)\n",
      "Requirement already satisfied: rtree in /opt/mamba/lib/python3.10/site-packages (1.1.0)\n",
      "Requirement already satisfied: numpy<2,>=1.22.4 in /opt/mamba/lib/python3.10/site-packages (from pandas) (1.26.2)\n",
      "Requirement already satisfied: python-dateutil>=2.8.2 in /opt/mamba/lib/python3.10/site-packages (from pandas) (2.8.2)\n",
      "Requirement already satisfied: pytz>=2020.1 in /opt/mamba/lib/python3.10/site-packages (from pandas) (2023.3.post1)\n",
      "Requirement already satisfied: tzdata>=2022.1 in /opt/mamba/lib/python3.10/site-packages (from pandas) (2023.3)\n",
      "Requirement already satisfied: attrs>=19.2.0 in /opt/mamba/lib/python3.10/site-packages (from fiona) (23.1.0)\n",
      "Requirement already satisfied: certifi in /opt/mamba/lib/python3.10/site-packages (from fiona) (2023.11.17)\n",
      "Requirement already satisfied: click~=8.0 in /opt/mamba/lib/python3.10/site-packages (from fiona) (8.1.7)\n",
      "Requirement already satisfied: click-plugins>=1.0 in /opt/mamba/lib/python3.10/site-packages (from fiona) (1.1.1)\n",
      "Requirement already satisfied: cligj>=0.5 in /opt/mamba/lib/python3.10/site-packages (from fiona) (0.7.2)\n",
      "Requirement already satisfied: munch>=2.3.2 in /opt/mamba/lib/python3.10/site-packages (from fiona) (4.0.0)\n",
      "Requirement already satisfied: six>=1.5 in /opt/mamba/lib/python3.10/site-packages (from python-dateutil>=2.8.2->pandas) (1.16.0)\n",
      "Requirement already satisfied: contextily in /opt/mamba/lib/python3.10/site-packages (1.4.0)\n",
      "Requirement already satisfied: geopy in /opt/mamba/lib/python3.10/site-packages (from contextily) (2.4.1)\n",
      "Requirement already satisfied: matplotlib in /opt/mamba/lib/python3.10/site-packages (from contextily) (3.8.2)\n",
      "Requirement already satisfied: mercantile in /opt/mamba/lib/python3.10/site-packages (from contextily) (1.2.1)\n",
      "Requirement already satisfied: pillow in /opt/mamba/lib/python3.10/site-packages (from contextily) (10.1.0)\n",
      "Requirement already satisfied: rasterio in /opt/mamba/lib/python3.10/site-packages (from contextily) (1.3.9)\n",
      "Requirement already satisfied: requests in /opt/mamba/lib/python3.10/site-packages (from contextily) (2.31.0)\n",
      "Requirement already satisfied: joblib in /opt/mamba/lib/python3.10/site-packages (from contextily) (1.3.2)\n",
      "Requirement already satisfied: xyzservices in /opt/mamba/lib/python3.10/site-packages (from contextily) (2023.10.1)\n",
      "Requirement already satisfied: geographiclib<3,>=1.52 in /opt/mamba/lib/python3.10/site-packages (from geopy->contextily) (2.0)\n",
      "Requirement already satisfied: contourpy>=1.0.1 in /opt/mamba/lib/python3.10/site-packages (from matplotlib->contextily) (1.2.0)\n",
      "Requirement already satisfied: cycler>=0.10 in /opt/mamba/lib/python3.10/site-packages (from matplotlib->contextily) (0.12.1)\n",
      "Requirement already satisfied: fonttools>=4.22.0 in /opt/mamba/lib/python3.10/site-packages (from matplotlib->contextily) (4.46.0)\n",
      "Requirement already satisfied: kiwisolver>=1.3.1 in /opt/mamba/lib/python3.10/site-packages (from matplotlib->contextily) (1.4.5)\n",
      "Requirement already satisfied: numpy<2,>=1.21 in /opt/mamba/lib/python3.10/site-packages (from matplotlib->contextily) (1.26.2)\n",
      "Requirement already satisfied: packaging>=20.0 in /opt/mamba/lib/python3.10/site-packages (from matplotlib->contextily) (23.1)\n",
      "Requirement already satisfied: pyparsing>=2.3.1 in /opt/mamba/lib/python3.10/site-packages (from matplotlib->contextily) (3.1.1)\n",
      "Requirement already satisfied: python-dateutil>=2.7 in /opt/mamba/lib/python3.10/site-packages (from matplotlib->contextily) (2.8.2)\n",
      "Requirement already satisfied: click>=3.0 in /opt/mamba/lib/python3.10/site-packages (from mercantile->contextily) (8.1.7)\n",
      "Requirement already satisfied: affine in /opt/mamba/lib/python3.10/site-packages (from rasterio->contextily) (2.4.0)\n",
      "Requirement already satisfied: attrs in /opt/mamba/lib/python3.10/site-packages (from rasterio->contextily) (23.1.0)\n",
      "Requirement already satisfied: certifi in /opt/mamba/lib/python3.10/site-packages (from rasterio->contextily) (2023.11.17)\n",
      "Requirement already satisfied: cligj>=0.5 in /opt/mamba/lib/python3.10/site-packages (from rasterio->contextily) (0.7.2)\n",
      "Requirement already satisfied: snuggs>=1.4.1 in /opt/mamba/lib/python3.10/site-packages (from rasterio->contextily) (1.4.7)\n",
      "Requirement already satisfied: click-plugins in /opt/mamba/lib/python3.10/site-packages (from rasterio->contextily) (1.1.1)\n",
      "Requirement already satisfied: setuptools in /opt/mamba/lib/python3.10/site-packages (from rasterio->contextily) (68.1.2)\n",
      "Requirement already satisfied: charset-normalizer<4,>=2 in /opt/mamba/lib/python3.10/site-packages (from requests->contextily) (3.2.0)\n",
      "Requirement already satisfied: idna<4,>=2.5 in /opt/mamba/lib/python3.10/site-packages (from requests->contextily) (3.4)\n",
      "Requirement already satisfied: urllib3<3,>=1.21.1 in /opt/mamba/lib/python3.10/site-packages (from requests->contextily) (1.26.18)\n",
      "Requirement already satisfied: six>=1.5 in /opt/mamba/lib/python3.10/site-packages (from python-dateutil>=2.7->matplotlib->contextily) (1.16.0)\n",
      "Requirement already satisfied: pygeos in /opt/mamba/lib/python3.10/site-packages (0.14)\n",
      "Requirement already satisfied: numpy>=1.13 in /opt/mamba/lib/python3.10/site-packages (from pygeos) (1.26.2)\n",
      "Requirement already satisfied: topojson in /opt/mamba/lib/python3.10/site-packages (1.7)\n",
      "Requirement already satisfied: numpy in /opt/mamba/lib/python3.10/site-packages (from topojson) (1.26.2)\n",
      "Requirement already satisfied: shapely in /opt/mamba/lib/python3.10/site-packages (from topojson) (2.0.2)\n",
      "Requirement already satisfied: packaging in /opt/mamba/lib/python3.10/site-packages (from topojson) (23.1)\n"
     ]
    }
   ],
   "source": [
    "import numpy as np\n",
    "import pandas as pd\n",
    "import matplotlib.pyplot as plt\n",
    "import requests\n",
    "!pip install --upgrade xlrd #colab bug verson xlrd\n",
    "!pip install geopandas\n",
    "!pip install pandas fiona shapely pyproj rtree\n",
    "!pip install contextily\n",
    "!pip install pygeos\n",
    "!pip install topojson\n",
    "import geopandas as gpd\n",
    "import contextily as ctx\n",
    "import matplotlib.pyplot as plt\n",
    "#!pip install requests py7zr geopandas openpyxl tqdm s3fs PyYAML xlrd\n",
    "#!pip install git+https://github.com/inseefrlab/cartiflette@80b8a5a28371feb6df31d55bcc2617948a5f9b1a"
   ]
  },
  {
   "cell_type": "code",
   "execution_count": 2,
   "id": "c44b963c-4ba5-48af-b4f2-8cfb476aad5b",
   "metadata": {},
   "outputs": [],
   "source": [
    "#test_1 = pd.read_csv(\"https://www.data.gouv.fr/fr/datasets/r/5f71ba43-afc8-43a0-b306-dafe29940f9c\", sep = \";\", encoding = 'utf-8', engine = 'python')\n",
    "#le lien du dossier data.gouv : \n",
    "# https://www.data.gouv.fr/fr/datasets/effectif-de-patients-par-pathologie-sexe-classe-dage-et-territoire-departement-region/\n",
    "# methode \"classique\" pour obtenir un dataset a partir d un lien \n",
    "# probleme d encodage d ou les parametres sep, encoding, engine\n",
    "# A FAIRE : COPIER LA BASE DE FACON LOCALE ET S Y REFERER PAR LA SUITE PAR EFFECTIFS.CSV "
   ]
  },
  {
   "cell_type": "code",
   "execution_count": 3,
   "id": "7ff07732-bee0-47f7-9b3a-3ea7493deafd",
   "metadata": {},
   "outputs": [],
   "source": [
    "test_2 = pd.read_csv(\"effectifs.csv\", sep = \";\", encoding = 'utf-8', engine = 'python')\n",
    "#commande a utiliser une fois qu on a la base \n",
    "#copiee en local \n",
    "#la base au prealable telechargee sur ordi perso"
   ]
  },
  {
   "cell_type": "code",
   "execution_count": 4,
   "id": "81fe2512-bcdd-4c7a-9a54-040b1d63994b",
   "metadata": {
    "scrolled": true
   },
   "outputs": [
    {
     "data": {
      "text/plain": [
       "(4057201, 16)"
      ]
     },
     "execution_count": 4,
     "metadata": {},
     "output_type": "execute_result"
    }
   ],
   "source": [
    "test_2.head()\n",
    "test_2.shape"
   ]
  },
  {
   "cell_type": "code",
   "execution_count": 5,
   "id": "9412e7ea-e7f4-48d3-9b8d-284709a57ff9",
   "metadata": {},
   "outputs": [
    {
     "name": "stdout",
     "output_type": "stream",
     "text": [
      "nombre de categories differentes pour niv2 est :46\n",
      "nombre de categories differentes pour niv3 est :59\n"
     ]
    }
   ],
   "source": [
    "print(\"nombre de categories differentes pour niv2 est :\"+str(len(test_2['patho_niv2'].unique())))\n",
    "print(\"nombre de categories differentes pour niv3 est :\"+str(len(test_2['patho_niv3'].unique())))"
   ]
  },
  {
   "cell_type": "code",
   "execution_count": 6,
   "id": "1d2a8b20-351e-4f4e-93de-7eb61b991088",
   "metadata": {},
   "outputs": [
    {
     "name": "stdout",
     "output_type": "stream",
     "text": [
      "['Pas de pathologies repérées, traitements, maternité, hospitalisations ni traitement antalgique ou anti-inflammatoire'\n",
      " 'Séjours en hospitalisation complète pour prise en charge de la Covid-19'\n",
      " 'Traitements du risque vasculaire (hors pathologies)'\n",
      " 'Maladies inflammatoires ou rares ou VIH ou SIDA'\n",
      " 'Maladies neurologiques ou dégénératives'\n",
      " 'Traitements psychotropes (hors pathologies)'\n",
      " 'Traitement antalgique ou anti-inflammatoire (hors pathologies, traitements, maternité ou hospitalisations)'\n",
      " 'Maladies psychiatriques' nan\n",
      " 'Autres affections de longue durée (dont 31 et 32)' 'Cancers'\n",
      " 'Maladies cardio-neurovasculaires'\n",
      " 'Maladies du foie ou du pancréas (hors mucoviscidose)' 'Diabète'\n",
      " 'Hospitalisations ponctuelles (avec ou sans pathologies, traitements ou maternité)'\n",
      " 'Maladies respiratoires chroniques (hors mucoviscidose)'\n",
      " 'Maternité (avec ou sans pathologies)'\n",
      " 'Insuffisance rénale chronique terminale']\n"
     ]
    }
   ],
   "source": [
    "#potentiellement creer 123 colonnes pour pouvoir faire du clustering \n",
    "#comparer les clusters obtenus par les caracteristiques d un inidivu pour voir si ca matche ou pas \n",
    "print(test_2['patho_niv1'].unique())"
   ]
  },
  {
   "cell_type": "code",
   "execution_count": 7,
   "id": "996d95a4-afa4-486c-b462-2a907e625c00",
   "metadata": {},
   "outputs": [],
   "source": [
    "data_gen = test_2"
   ]
  },
  {
   "cell_type": "code",
   "execution_count": 8,
   "id": "13a4c4ab-6495-4e45-a42b-26a12dfb2f08",
   "metadata": {
    "scrolled": true
   },
   "outputs": [
    {
     "name": "stdout",
     "output_type": "stream",
     "text": [
      "(4057201, 16) (4057201, 16)\n"
     ]
    }
   ],
   "source": [
    "print(test_2.shape, data_gen.shape)"
   ]
  },
  {
   "cell_type": "code",
   "execution_count": 9,
   "id": "260ca586-7831-424c-92a3-19f2880ac0e9",
   "metadata": {
    "scrolled": true
   },
   "outputs": [
    {
     "name": "stdout",
     "output_type": "stream",
     "text": [
      "['Pas de pathologies repérées, traitements, maternité, hospitalisations ni traitement antalgique ou anti-inflammatoire'\n",
      " 'Séjours en hospitalisation complète pour prise en charge de la Covid-19'\n",
      " 'Traitements du risque vasculaire (hors pathologies)'\n",
      " 'Maladies inflammatoires ou rares ou VIH ou SIDA'\n",
      " 'Maladies neurologiques ou dégénératives'\n",
      " 'Traitements psychotropes (hors pathologies)'\n",
      " 'Traitement antalgique ou anti-inflammatoire (hors pathologies, traitements, maternité ou hospitalisations)'\n",
      " 'Maladies psychiatriques' nan\n",
      " 'Autres affections de longue durée (dont 31 et 32)' 'Cancers'\n",
      " 'Maladies cardio-neurovasculaires'\n",
      " 'Maladies du foie ou du pancréas (hors mucoviscidose)' 'Diabète'\n",
      " 'Hospitalisations ponctuelles (avec ou sans pathologies, traitements ou maternité)'\n",
      " 'Maladies respiratoires chroniques (hors mucoviscidose)'\n",
      " 'Maternité (avec ou sans pathologies)'\n",
      " 'Insuffisance rénale chronique terminale'] \n",
      " [nan\n",
      " 'Séjours en hospitalisation complète pour prise en charge de la Covid-19'\n",
      " 'Traitements antihypertenseurs (hors pathologies)' 'VIH ou SIDA'\n",
      " 'Autres affections neurologiques'\n",
      " \"Traitements antidépresseurs ou régulateurs de l'humeur (hors pathologies)\"\n",
      " 'Traitements anxiolytiques (hors pathologies)' 'Troubles addictifs'\n",
      " \"Troubles névrotiques et de l'humeur\"\n",
      " \"Troubles psychiatriques ayant débuté dans l'enfance\"\n",
      " 'Traitements hypolipémiants (hors pathologies)'\n",
      " 'Traitements hypnotiques (hors pathologies)'\n",
      " 'Autres affections de longue durée (dont 31 et 32)'\n",
      " 'Traitements neuroleptiques (hors pathologies)' 'Autres cancers'\n",
      " 'Cancer colorectal' 'Épilepsie' 'Autres troubles psychiatriques'\n",
      " 'Maladie valvulaire' 'Troubles du rythme ou de la conduction cardiaque'\n",
      " 'Maladies du foie ou du pancréas (hors mucoviscidose)'\n",
      " 'Maladies inflammatoires chroniques' 'Maladies rares'\n",
      " 'Cancer du sein de la femme' 'Diabète'\n",
      " 'Hospitalisations ponctuelles (avec ou sans pathologies, traitements ou maternité)'\n",
      " 'Troubles psychotiques'\n",
      " 'Maladies respiratoires chroniques (hors mucoviscidose)'\n",
      " 'Maternité (avec ou sans pathologies)' 'Déficience mentale'\n",
      " 'Insuffisance cardiaque' 'Sclérose en plaques' 'Paraplégie'\n",
      " \"Démences (dont maladie d'Alzheimer)\" 'Maladie de Parkinson'\n",
      " 'Myopathie ou myasthénie' 'Artériopathie oblitérante du membre inférieur'\n",
      " 'Autres affections cardiovasculaires' 'Maladie coronaire'\n",
      " 'Accident vasculaire cérébral' 'Embolie pulmonaire aiguë'\n",
      " 'Dialyse chronique' 'Transplantation rénale' 'Cancer du poumon'\n",
      " 'Suivi de transplantation rénale' 'Cancer de la prostate'] \n",
      " [nan\n",
      " 'Séjours en hospitalisation complète pour prise en charge de la Covid-19'\n",
      " 'Traitements antihypertenseurs (hors pathologies)' 'VIH ou SIDA'\n",
      " 'Autres affections neurologiques'\n",
      " \"Traitements antidépresseurs ou régulateurs de l'humeur (hors pathologies)\"\n",
      " 'Traitements anxiolytiques (hors pathologies)' 'Troubles addictifs'\n",
      " \"Troubles névrotiques et de l'humeur\"\n",
      " \"Troubles psychiatriques ayant débuté dans l'enfance\"\n",
      " 'Traitements hypolipémiants (hors pathologies)'\n",
      " 'Traitements hypnotiques (hors pathologies)'\n",
      " 'Autres affections de longue durée (dont 31 et 32)'\n",
      " 'Traitements neuroleptiques (hors pathologies)' 'Autres cancers actifs'\n",
      " 'Autres cancers sous surveillance' 'Épilepsie'\n",
      " 'Autres troubles psychiatriques' 'Maladie valvulaire'\n",
      " 'Troubles du rythme ou de la conduction cardiaque'\n",
      " 'Maladies du foie ou du pancréas (hors mucoviscidose)'\n",
      " 'Autres maladies inflammatoires chroniques'\n",
      " 'Maladies inflammatoires chroniques intestinales'\n",
      " \"Hémophilie ou troubles de l'hémostase graves\"\n",
      " 'Maladies métaboliques héréditaires ou amylose'\n",
      " 'Spondylarthrite ankylosante et maladies apparentées'\n",
      " 'Polyarthrite rhumatoïde et maladies apparentées' 'Mucoviscidose'\n",
      " 'Cancer du sein de la femme sous surveillance' 'Diabète'\n",
      " 'Hospitalisations ponctuelles (avec ou sans pathologies, traitements ou maternité)'\n",
      " 'Troubles psychotiques'\n",
      " 'Maladies respiratoires chroniques (hors mucoviscidose)'\n",
      " 'Maternité (avec ou sans pathologies)' 'Déficience mentale'\n",
      " 'Insuffisance cardiaque aiguë' 'Insuffisance cardiaque chronique'\n",
      " 'Sclérose en plaques' 'Paraplégie' \"Démences (dont maladie d'Alzheimer)\"\n",
      " 'Maladie de Parkinson' 'Myopathie ou myasthénie'\n",
      " 'Artériopathie oblitérante du membre inférieur'\n",
      " 'Autres affections cardiovasculaires' 'Maladie coronaire chronique'\n",
      " \"Séquelle d'accident vasculaire cérébral\"\n",
      " 'Accident vasculaire cérébral aigu' 'Syndrome coronaire aigu'\n",
      " 'Embolie pulmonaire aiguë' 'Cancer du sein de la femme actif'\n",
      " 'Dialyse chronique' 'Transplantation rénale'\n",
      " 'Cancer du poumon sous surveillance' 'Cancer du poumon actif'\n",
      " 'Suivi de transplantation rénale'\n",
      " 'Cancer de la prostate sous surveillance' 'Cancer colorectal actif'\n",
      " 'Cancer colorectal sous surveillance' 'Cancer de la prostate actif']\n"
     ]
    }
   ],
   "source": [
    "liste_diff_patho1 = data_gen['patho_niv1'].unique()\n",
    "liste_diff_patho2 = data_gen['patho_niv2'].unique()\n",
    "liste_diff_patho3 = data_gen['patho_niv3'].unique()\n",
    "\n",
    "print(liste_diff_patho1, \"\\n\", liste_diff_patho2, \"\\n\", liste_diff_patho3)"
   ]
  },
  {
   "cell_type": "code",
   "execution_count": 10,
   "id": "b761512d-776d-44b1-94ae-840fcd914878",
   "metadata": {},
   "outputs": [
    {
     "name": "stdout",
     "output_type": "stream",
     "text": [
      "(4057201, 16) 52921\n"
     ]
    }
   ],
   "source": [
    "print(data_gen.shape, data_gen['patho_niv1'].isna().sum())"
   ]
  },
  {
   "cell_type": "code",
   "execution_count": 11,
   "id": "dbd0c055-eb3c-4b82-ad20-04431cc6b82b",
   "metadata": {},
   "outputs": [],
   "source": [
    "#Creation d une colonne individus\n",
    "ind = []\n",
    "for i in range (1,4057202) : \n",
    "    ind.append(i)"
   ]
  },
  {
   "cell_type": "code",
   "execution_count": 12,
   "id": "3f2ab597-2374-43d6-b5d7-212d6aed2ebc",
   "metadata": {},
   "outputs": [],
   "source": [
    "ind = pd.DataFrame(ind)\n",
    "ind = ind.set_axis(['ind'], axis='columns')"
   ]
  },
  {
   "cell_type": "code",
   "execution_count": 13,
   "id": "c8c30e03-aa14-40f6-a3cf-16150bcfd2b8",
   "metadata": {},
   "outputs": [],
   "source": [
    "data_gen_1 = pd.concat([ind, data_gen], axis = 1)"
   ]
  },
  {
   "cell_type": "code",
   "execution_count": 14,
   "id": "e0e17f33-9332-495e-9543-ea1d37111954",
   "metadata": {},
   "outputs": [
    {
     "data": {
      "text/html": [
       "<div>\n",
       "<style scoped>\n",
       "    .dataframe tbody tr th:only-of-type {\n",
       "        vertical-align: middle;\n",
       "    }\n",
       "\n",
       "    .dataframe tbody tr th {\n",
       "        vertical-align: top;\n",
       "    }\n",
       "\n",
       "    .dataframe thead th {\n",
       "        text-align: right;\n",
       "    }\n",
       "</style>\n",
       "<table border=\"1\" class=\"dataframe\">\n",
       "  <thead>\n",
       "    <tr style=\"text-align: right;\">\n",
       "      <th></th>\n",
       "      <th>ind</th>\n",
       "      <th>annee</th>\n",
       "      <th>patho_niv1</th>\n",
       "      <th>patho_niv2</th>\n",
       "      <th>patho_niv3</th>\n",
       "      <th>top</th>\n",
       "      <th>cla_age_5</th>\n",
       "      <th>sexe</th>\n",
       "      <th>region</th>\n",
       "      <th>dept</th>\n",
       "      <th>ntop</th>\n",
       "      <th>npop</th>\n",
       "      <th>prev</th>\n",
       "      <th>niveau_prioritaire</th>\n",
       "      <th>libelle_classe_age</th>\n",
       "      <th>libelle_sexe</th>\n",
       "      <th>tri</th>\n",
       "    </tr>\n",
       "  </thead>\n",
       "  <tbody>\n",
       "    <tr>\n",
       "      <th>0</th>\n",
       "      <td>1</td>\n",
       "      <td>2017.0</td>\n",
       "      <td>Pas de pathologies repérées, traitements, mate...</td>\n",
       "      <td>NaN</td>\n",
       "      <td>NaN</td>\n",
       "      <td>sup_Petit_Conso_exclu</td>\n",
       "      <td>45-49</td>\n",
       "      <td>9.0</td>\n",
       "      <td>75</td>\n",
       "      <td>999</td>\n",
       "      <td>230570.0</td>\n",
       "      <td>393250.0</td>\n",
       "      <td>58.632</td>\n",
       "      <td>1</td>\n",
       "      <td>de 45 à 49 ans</td>\n",
       "      <td>tous sexes</td>\n",
       "      <td>17.0</td>\n",
       "    </tr>\n",
       "    <tr>\n",
       "      <th>1</th>\n",
       "      <td>2</td>\n",
       "      <td>2017.0</td>\n",
       "      <td>Pas de pathologies repérées, traitements, mate...</td>\n",
       "      <td>NaN</td>\n",
       "      <td>NaN</td>\n",
       "      <td>sup_Petit_Conso_exclu</td>\n",
       "      <td>45-49</td>\n",
       "      <td>9.0</td>\n",
       "      <td>76</td>\n",
       "      <td>11</td>\n",
       "      <td>14220.0</td>\n",
       "      <td>24330.0</td>\n",
       "      <td>58.451</td>\n",
       "      <td>1</td>\n",
       "      <td>de 45 à 49 ans</td>\n",
       "      <td>tous sexes</td>\n",
       "      <td>17.0</td>\n",
       "    </tr>\n",
       "    <tr>\n",
       "      <th>2</th>\n",
       "      <td>3</td>\n",
       "      <td>2017.0</td>\n",
       "      <td>Pas de pathologies repérées, traitements, mate...</td>\n",
       "      <td>NaN</td>\n",
       "      <td>NaN</td>\n",
       "      <td>sup_Petit_Conso_exclu</td>\n",
       "      <td>45-49</td>\n",
       "      <td>9.0</td>\n",
       "      <td>76</td>\n",
       "      <td>12</td>\n",
       "      <td>10630.0</td>\n",
       "      <td>17390.0</td>\n",
       "      <td>61.133</td>\n",
       "      <td>1</td>\n",
       "      <td>de 45 à 49 ans</td>\n",
       "      <td>tous sexes</td>\n",
       "      <td>17.0</td>\n",
       "    </tr>\n",
       "    <tr>\n",
       "      <th>3</th>\n",
       "      <td>4</td>\n",
       "      <td>2017.0</td>\n",
       "      <td>Pas de pathologies repérées, traitements, mate...</td>\n",
       "      <td>NaN</td>\n",
       "      <td>NaN</td>\n",
       "      <td>sup_Petit_Conso_exclu</td>\n",
       "      <td>45-49</td>\n",
       "      <td>9.0</td>\n",
       "      <td>76</td>\n",
       "      <td>30</td>\n",
       "      <td>30760.0</td>\n",
       "      <td>50820.0</td>\n",
       "      <td>60.539</td>\n",
       "      <td>1</td>\n",
       "      <td>de 45 à 49 ans</td>\n",
       "      <td>tous sexes</td>\n",
       "      <td>17.0</td>\n",
       "    </tr>\n",
       "    <tr>\n",
       "      <th>4</th>\n",
       "      <td>5</td>\n",
       "      <td>2017.0</td>\n",
       "      <td>Pas de pathologies repérées, traitements, mate...</td>\n",
       "      <td>NaN</td>\n",
       "      <td>NaN</td>\n",
       "      <td>sup_Petit_Conso_exclu</td>\n",
       "      <td>45-49</td>\n",
       "      <td>9.0</td>\n",
       "      <td>76</td>\n",
       "      <td>48</td>\n",
       "      <td>3000.0</td>\n",
       "      <td>4920.0</td>\n",
       "      <td>60.898</td>\n",
       "      <td>1</td>\n",
       "      <td>de 45 à 49 ans</td>\n",
       "      <td>tous sexes</td>\n",
       "      <td>17.0</td>\n",
       "    </tr>\n",
       "  </tbody>\n",
       "</table>\n",
       "</div>"
      ],
      "text/plain": [
       "   ind   annee                                         patho_niv1 patho_niv2  \\\n",
       "0    1  2017.0  Pas de pathologies repérées, traitements, mate...        NaN   \n",
       "1    2  2017.0  Pas de pathologies repérées, traitements, mate...        NaN   \n",
       "2    3  2017.0  Pas de pathologies repérées, traitements, mate...        NaN   \n",
       "3    4  2017.0  Pas de pathologies repérées, traitements, mate...        NaN   \n",
       "4    5  2017.0  Pas de pathologies repérées, traitements, mate...        NaN   \n",
       "\n",
       "  patho_niv3                    top cla_age_5  sexe  region dept      ntop  \\\n",
       "0        NaN  sup_Petit_Conso_exclu     45-49   9.0      75  999  230570.0   \n",
       "1        NaN  sup_Petit_Conso_exclu     45-49   9.0      76   11   14220.0   \n",
       "2        NaN  sup_Petit_Conso_exclu     45-49   9.0      76   12   10630.0   \n",
       "3        NaN  sup_Petit_Conso_exclu     45-49   9.0      76   30   30760.0   \n",
       "4        NaN  sup_Petit_Conso_exclu     45-49   9.0      76   48    3000.0   \n",
       "\n",
       "       npop    prev niveau_prioritaire libelle_classe_age libelle_sexe   tri  \n",
       "0  393250.0  58.632                  1     de 45 à 49 ans   tous sexes  17.0  \n",
       "1   24330.0  58.451                  1     de 45 à 49 ans   tous sexes  17.0  \n",
       "2   17390.0  61.133                  1     de 45 à 49 ans   tous sexes  17.0  \n",
       "3   50820.0  60.539                  1     de 45 à 49 ans   tous sexes  17.0  \n",
       "4    4920.0  60.898                  1     de 45 à 49 ans   tous sexes  17.0  "
      ]
     },
     "execution_count": 14,
     "metadata": {},
     "output_type": "execute_result"
    }
   ],
   "source": [
    "data_gen_1.head()"
   ]
  },
  {
   "cell_type": "code",
   "execution_count": 15,
   "id": "fd5f2bd3-eeb1-4e4c-8483-0e6fa88f1c36",
   "metadata": {},
   "outputs": [],
   "source": [
    "data_gen = data_gen_1"
   ]
  },
  {
   "cell_type": "code",
   "execution_count": 16,
   "id": "57cc211b-c749-4014-914a-a7d49839d21d",
   "metadata": {},
   "outputs": [],
   "source": [
    "#tentative de compréhension de ce que la variable npop représente\n",
    "#b = data_gen['npop'].unique()\n",
    "#b = pd.DataFrame(b)"
   ]
  },
  {
   "cell_type": "code",
   "execution_count": 17,
   "id": "13753528-107d-4ea4-97a4-c9d711dbc1bd",
   "metadata": {},
   "outputs": [],
   "source": [
    "#b = b.dropna()"
   ]
  },
  {
   "cell_type": "code",
   "execution_count": 18,
   "id": "addb2801-0a6f-4fa4-9ab5-0ffb95036d06",
   "metadata": {},
   "outputs": [],
   "source": [
    "#b = b.set_axis(['test'], axis = 'columns')"
   ]
  },
  {
   "cell_type": "code",
   "execution_count": 19,
   "id": "0da7a82f-cced-4d19-8e10-4d41803c048d",
   "metadata": {},
   "outputs": [],
   "source": [
    "#b.head()"
   ]
  },
  {
   "cell_type": "code",
   "execution_count": 20,
   "id": "f62a0cfa-1561-42a1-af68-b57892094be8",
   "metadata": {},
   "outputs": [],
   "source": [
    "#sum(b['test'])"
   ]
  },
  {
   "cell_type": "code",
   "execution_count": 21,
   "id": "b82460cf-bab0-4f0f-ad8b-e1ef61618d20",
   "metadata": {},
   "outputs": [],
   "source": [
    "#resultat peu concluant"
   ]
  },
  {
   "cell_type": "code",
   "execution_count": 22,
   "id": "e1e5fa25-9302-4159-9e83-fee5d56b1cc3",
   "metadata": {},
   "outputs": [],
   "source": [
    "#creation d indicatrices pour futur clustering"
   ]
  },
  {
   "cell_type": "code",
   "execution_count": 23,
   "id": "51bc3cf0-cbeb-40e5-baa6-d5eb500069b3",
   "metadata": {},
   "outputs": [],
   "source": [
    "liste_diff_patho3 = list(liste_diff_patho3)"
   ]
  },
  {
   "cell_type": "code",
   "execution_count": 24,
   "id": "641d570b-bcbe-4c85-a020-100729dd8d32",
   "metadata": {},
   "outputs": [],
   "source": [
    "#premier code pour creation d indicatrice"
   ]
  },
  {
   "cell_type": "code",
   "execution_count": 25,
   "id": "40973ae8-d3ee-405e-886c-e8fd5f16d838",
   "metadata": {
    "scrolled": true
   },
   "outputs": [
    {
     "data": {
      "text/html": [
       "<div>\n",
       "<style scoped>\n",
       "    .dataframe tbody tr th:only-of-type {\n",
       "        vertical-align: middle;\n",
       "    }\n",
       "\n",
       "    .dataframe tbody tr th {\n",
       "        vertical-align: top;\n",
       "    }\n",
       "\n",
       "    .dataframe thead th {\n",
       "        text-align: right;\n",
       "    }\n",
       "</style>\n",
       "<table border=\"1\" class=\"dataframe\">\n",
       "  <thead>\n",
       "    <tr style=\"text-align: right;\">\n",
       "      <th></th>\n",
       "      <th>ind</th>\n",
       "      <th>annee</th>\n",
       "      <th>patho_niv1</th>\n",
       "      <th>patho_niv2</th>\n",
       "      <th>patho_niv3</th>\n",
       "      <th>top</th>\n",
       "      <th>cla_age_5</th>\n",
       "      <th>sexe</th>\n",
       "      <th>region</th>\n",
       "      <th>dept</th>\n",
       "      <th>ntop</th>\n",
       "      <th>npop</th>\n",
       "      <th>prev</th>\n",
       "      <th>niveau_prioritaire</th>\n",
       "      <th>libelle_classe_age</th>\n",
       "      <th>libelle_sexe</th>\n",
       "      <th>tri</th>\n",
       "    </tr>\n",
       "  </thead>\n",
       "  <tbody>\n",
       "    <tr>\n",
       "      <th>0</th>\n",
       "      <td>1</td>\n",
       "      <td>2017.0</td>\n",
       "      <td>Pas de pathologies repérées, traitements, mate...</td>\n",
       "      <td>NaN</td>\n",
       "      <td>NaN</td>\n",
       "      <td>sup_Petit_Conso_exclu</td>\n",
       "      <td>45-49</td>\n",
       "      <td>9.0</td>\n",
       "      <td>75</td>\n",
       "      <td>999</td>\n",
       "      <td>230570.0</td>\n",
       "      <td>393250.0</td>\n",
       "      <td>58.632</td>\n",
       "      <td>1</td>\n",
       "      <td>de 45 à 49 ans</td>\n",
       "      <td>tous sexes</td>\n",
       "      <td>17.0</td>\n",
       "    </tr>\n",
       "    <tr>\n",
       "      <th>1</th>\n",
       "      <td>2</td>\n",
       "      <td>2017.0</td>\n",
       "      <td>Pas de pathologies repérées, traitements, mate...</td>\n",
       "      <td>NaN</td>\n",
       "      <td>NaN</td>\n",
       "      <td>sup_Petit_Conso_exclu</td>\n",
       "      <td>45-49</td>\n",
       "      <td>9.0</td>\n",
       "      <td>76</td>\n",
       "      <td>11</td>\n",
       "      <td>14220.0</td>\n",
       "      <td>24330.0</td>\n",
       "      <td>58.451</td>\n",
       "      <td>1</td>\n",
       "      <td>de 45 à 49 ans</td>\n",
       "      <td>tous sexes</td>\n",
       "      <td>17.0</td>\n",
       "    </tr>\n",
       "    <tr>\n",
       "      <th>2</th>\n",
       "      <td>3</td>\n",
       "      <td>2017.0</td>\n",
       "      <td>Pas de pathologies repérées, traitements, mate...</td>\n",
       "      <td>NaN</td>\n",
       "      <td>NaN</td>\n",
       "      <td>sup_Petit_Conso_exclu</td>\n",
       "      <td>45-49</td>\n",
       "      <td>9.0</td>\n",
       "      <td>76</td>\n",
       "      <td>12</td>\n",
       "      <td>10630.0</td>\n",
       "      <td>17390.0</td>\n",
       "      <td>61.133</td>\n",
       "      <td>1</td>\n",
       "      <td>de 45 à 49 ans</td>\n",
       "      <td>tous sexes</td>\n",
       "      <td>17.0</td>\n",
       "    </tr>\n",
       "    <tr>\n",
       "      <th>3</th>\n",
       "      <td>4</td>\n",
       "      <td>2017.0</td>\n",
       "      <td>Pas de pathologies repérées, traitements, mate...</td>\n",
       "      <td>NaN</td>\n",
       "      <td>NaN</td>\n",
       "      <td>sup_Petit_Conso_exclu</td>\n",
       "      <td>45-49</td>\n",
       "      <td>9.0</td>\n",
       "      <td>76</td>\n",
       "      <td>30</td>\n",
       "      <td>30760.0</td>\n",
       "      <td>50820.0</td>\n",
       "      <td>60.539</td>\n",
       "      <td>1</td>\n",
       "      <td>de 45 à 49 ans</td>\n",
       "      <td>tous sexes</td>\n",
       "      <td>17.0</td>\n",
       "    </tr>\n",
       "    <tr>\n",
       "      <th>4</th>\n",
       "      <td>5</td>\n",
       "      <td>2017.0</td>\n",
       "      <td>Pas de pathologies repérées, traitements, mate...</td>\n",
       "      <td>NaN</td>\n",
       "      <td>NaN</td>\n",
       "      <td>sup_Petit_Conso_exclu</td>\n",
       "      <td>45-49</td>\n",
       "      <td>9.0</td>\n",
       "      <td>76</td>\n",
       "      <td>48</td>\n",
       "      <td>3000.0</td>\n",
       "      <td>4920.0</td>\n",
       "      <td>60.898</td>\n",
       "      <td>1</td>\n",
       "      <td>de 45 à 49 ans</td>\n",
       "      <td>tous sexes</td>\n",
       "      <td>17.0</td>\n",
       "    </tr>\n",
       "  </tbody>\n",
       "</table>\n",
       "</div>"
      ],
      "text/plain": [
       "   ind   annee                                         patho_niv1 patho_niv2  \\\n",
       "0    1  2017.0  Pas de pathologies repérées, traitements, mate...        NaN   \n",
       "1    2  2017.0  Pas de pathologies repérées, traitements, mate...        NaN   \n",
       "2    3  2017.0  Pas de pathologies repérées, traitements, mate...        NaN   \n",
       "3    4  2017.0  Pas de pathologies repérées, traitements, mate...        NaN   \n",
       "4    5  2017.0  Pas de pathologies repérées, traitements, mate...        NaN   \n",
       "\n",
       "  patho_niv3                    top cla_age_5  sexe  region dept      ntop  \\\n",
       "0        NaN  sup_Petit_Conso_exclu     45-49   9.0      75  999  230570.0   \n",
       "1        NaN  sup_Petit_Conso_exclu     45-49   9.0      76   11   14220.0   \n",
       "2        NaN  sup_Petit_Conso_exclu     45-49   9.0      76   12   10630.0   \n",
       "3        NaN  sup_Petit_Conso_exclu     45-49   9.0      76   30   30760.0   \n",
       "4        NaN  sup_Petit_Conso_exclu     45-49   9.0      76   48    3000.0   \n",
       "\n",
       "       npop    prev niveau_prioritaire libelle_classe_age libelle_sexe   tri  \n",
       "0  393250.0  58.632                  1     de 45 à 49 ans   tous sexes  17.0  \n",
       "1   24330.0  58.451                  1     de 45 à 49 ans   tous sexes  17.0  \n",
       "2   17390.0  61.133                  1     de 45 à 49 ans   tous sexes  17.0  \n",
       "3   50820.0  60.539                  1     de 45 à 49 ans   tous sexes  17.0  \n",
       "4    4920.0  60.898                  1     de 45 à 49 ans   tous sexes  17.0  "
      ]
     },
     "execution_count": 25,
     "metadata": {},
     "output_type": "execute_result"
    }
   ],
   "source": [
    "temporaire = []\n",
    "for i in data_gen['patho_niv3'] : \n",
    "    if i == 'Syndrome coronaire aigu' :\n",
    "        temporaire.append(1)\n",
    "    else : \n",
    "        temporaire.append(0)\n",
    "\n",
    "data_gen['Syndrome_coronaire_aigu_indicatrice'] = temporaire\n",
    "data_gen = data_gen.drop(columns = ['Syndrome_coronaire_aigu_indicatrice'])\n",
    "data_gen.head()"
   ]
  },
  {
   "cell_type": "code",
   "execution_count": 26,
   "id": "a08bdfa2-24ac-4f6e-b896-0fa9e0d826ad",
   "metadata": {
    "scrolled": true
   },
   "outputs": [],
   "source": [
    "def creation_indicatrice (colonne_de_depart, nom_de_maladie) : \n",
    "    temporaire = []\n",
    "    for i in colonne_de_depart :\n",
    "        if i == f\"{nom_de_maladie}\" :\n",
    "            temporaire.append(1)\n",
    "        else :\n",
    "            temporaire.append(0)\n",
    "    data_gen[f\"{nom_de_maladie}_ind\"] = temporaire"
   ]
  },
  {
   "cell_type": "code",
   "execution_count": 27,
   "id": "de5283fd-bb3f-44e5-9adf-1ad7b0ee65f3",
   "metadata": {},
   "outputs": [],
   "source": [
    "for i in liste_diff_patho3 : \n",
    "    creation_indicatrice(colonne_de_depart = data_gen['patho_niv3'], nom_de_maladie = i)"
   ]
  },
  {
   "cell_type": "code",
   "execution_count": 28,
   "id": "6e36e23d-c773-4139-b897-afd2b0c33674",
   "metadata": {},
   "outputs": [],
   "source": [
    "#perte d un grand nombre de lignes \n",
    "#pb a regler\n",
    "#pb regle, venait du test pour essayer de comprendre la variable npop"
   ]
  },
  {
   "cell_type": "code",
   "execution_count": 29,
   "id": "b7680efb-b3dd-4e57-9568-0b028456ec16",
   "metadata": {},
   "outputs": [],
   "source": [
    "liste_var = data_gen.columns[17:]\n",
    "liste_bis = []\n",
    "for i in liste_var : \n",
    "    liste_bis.append(i)\n"
   ]
  },
  {
   "cell_type": "code",
   "execution_count": 30,
   "id": "4794b7e6-0a5f-4ea6-9384-8d2f1c7882b5",
   "metadata": {
    "scrolled": true
   },
   "outputs": [],
   "source": [
    "indicatrice_patho_niv3 = liste_bis"
   ]
  },
  {
   "cell_type": "code",
   "execution_count": 31,
   "id": "e994b2ee-cbd5-4856-bb53-5e70d34ce450",
   "metadata": {},
   "outputs": [],
   "source": [
    "liste_auxil = data_gen['cla_age_5'].unique()"
   ]
  },
  {
   "cell_type": "code",
   "execution_count": 32,
   "id": "7b61354e-6536-4f57-97bf-693e2221cace",
   "metadata": {},
   "outputs": [],
   "source": [
    "#afin de pouvoir clusteriser par la suite, nous allons creer des classes d age qui sont \"discretes\"\n",
    "#nous faisons ce choix car les classes d age sont relativement homogene et en prenant la moyenne des deux \n",
    "#bornes pour les classes, nous gardons l idee d une distance d age qui pourrait etre utile par la suite"
   ]
  },
  {
   "cell_type": "code",
   "execution_count": 33,
   "id": "c08f094d-82b9-4bb8-bbd7-f623274ef354",
   "metadata": {},
   "outputs": [
    {
     "name": "stdout",
     "output_type": "stream",
     "text": [
      "['45', '49']\n"
     ]
    },
    {
     "data": {
      "text/plain": [
       "int"
      ]
     },
     "execution_count": 33,
     "metadata": {},
     "output_type": "execute_result"
    }
   ],
   "source": [
    "test_de_split = data_gen['cla_age_5'][1].split('-')\n",
    "print(test_de_split)\n",
    "test_de_split[1] = int(test_de_split[1])\n",
    "type(test_de_split[1])"
   ]
  },
  {
   "cell_type": "code",
   "execution_count": 34,
   "id": "023cb67a-e757-4ba3-91a6-05499ddca2db",
   "metadata": {},
   "outputs": [],
   "source": [
    "inter_excl = ('95et+', 'tsage', np.nan)\n",
    "\n",
    "inter_def = []\n",
    "for i in liste_auxil :\n",
    "    if i in inter_excl : \n",
    "        inter_def = inter_def\n",
    "    else : \n",
    "        inter_def.append(i)\n"
   ]
  },
  {
   "cell_type": "code",
   "execution_count": 35,
   "id": "30ec299e-e9d0-4a74-927d-2063aae8cc27",
   "metadata": {},
   "outputs": [
    {
     "name": "stdout",
     "output_type": "stream",
     "text": [
      "['45-49', '50-54', '55-59', '60-64', '65-69', '70-74', '75-79', '80-84', '85-89', '90-94', '00-04', '05-09', '10-14', '15-19', '20-24', '25-29', '30-34', '35-39', '40-44']\n"
     ]
    }
   ],
   "source": [
    "print(inter_def)"
   ]
  },
  {
   "cell_type": "code",
   "execution_count": 36,
   "id": "a218735a-8727-47a2-a3ae-975310b8c635",
   "metadata": {},
   "outputs": [],
   "source": [
    "classe_age = []\n",
    "for i in data_gen['cla_age_5'] : \n",
    "    if i in inter_def :\n",
    "        temp = i.split('-')\n",
    "        temp[0] = int(temp[0])\n",
    "        temp[1] = int(temp[1])\n",
    "        age = (temp[1] + temp[0])/2\n",
    "    elif i == 'tsage' : \n",
    "        age = np.nan\n",
    "    elif i == '95et+' : \n",
    "        age = 100\n",
    "    else : \n",
    "        age = np.nan\n",
    "    classe_age.append(age)"
   ]
  },
  {
   "cell_type": "code",
   "execution_count": 37,
   "id": "53e2dbcb-b115-481a-910b-3655ffaad18c",
   "metadata": {},
   "outputs": [],
   "source": [
    "#pb a regler, il manque un truc pour eviter que ca bug fort\n",
    "#probablement type a regler ou categorie a revoir\n",
    "#code peu ergonomique mais solution la plus sure, \n",
    "#toutes les autres tentatives en posant des conditions sur le type de i \n",
    "#n ont pas ete solde par une reussite\n",
    "#on a print nombre de valeurs de classe_age et le code fonctionne"
   ]
  },
  {
   "cell_type": "code",
   "execution_count": 38,
   "id": "3e351298-8540-4130-a508-e64dec08ed44",
   "metadata": {},
   "outputs": [],
   "source": [
    "data_gen['classe_age'] = classe_age"
   ]
  },
  {
   "cell_type": "code",
   "execution_count": 39,
   "id": "06793b45-021d-41ff-9c0b-b924e77e7056",
   "metadata": {},
   "outputs": [],
   "source": [
    "data_patho_niv3 = data_gen"
   ]
  },
  {
   "cell_type": "code",
   "execution_count": 40,
   "id": "c0fee387-c6a3-4ab5-9fd4-82489c75e48c",
   "metadata": {},
   "outputs": [],
   "source": [
    "data_gen = data_gen.drop(indicatrice_patho_niv3, axis = 1)"
   ]
  },
  {
   "cell_type": "code",
   "execution_count": 41,
   "id": "afee6192-0a6d-4997-a8b0-a1bc9a8ff141",
   "metadata": {},
   "outputs": [],
   "source": [
    "#on cree un nouveau dataframe pour pouvoir faire des manipulations plus rapides sur le data_gen"
   ]
  },
  {
   "cell_type": "code",
   "execution_count": 42,
   "id": "10e1c807-3c1c-47f9-8a0d-31be0f5af9bd",
   "metadata": {},
   "outputs": [
    {
     "data": {
      "text/html": [
       "<div>\n",
       "<style scoped>\n",
       "    .dataframe tbody tr th:only-of-type {\n",
       "        vertical-align: middle;\n",
       "    }\n",
       "\n",
       "    .dataframe tbody tr th {\n",
       "        vertical-align: top;\n",
       "    }\n",
       "\n",
       "    .dataframe thead th {\n",
       "        text-align: right;\n",
       "    }\n",
       "</style>\n",
       "<table border=\"1\" class=\"dataframe\">\n",
       "  <thead>\n",
       "    <tr style=\"text-align: right;\">\n",
       "      <th></th>\n",
       "      <th>ind</th>\n",
       "      <th>annee</th>\n",
       "      <th>patho_niv1</th>\n",
       "      <th>patho_niv2</th>\n",
       "      <th>patho_niv3</th>\n",
       "      <th>top</th>\n",
       "      <th>cla_age_5</th>\n",
       "      <th>sexe</th>\n",
       "      <th>region</th>\n",
       "      <th>dept</th>\n",
       "      <th>ntop</th>\n",
       "      <th>npop</th>\n",
       "      <th>prev</th>\n",
       "      <th>niveau_prioritaire</th>\n",
       "      <th>libelle_classe_age</th>\n",
       "      <th>libelle_sexe</th>\n",
       "      <th>tri</th>\n",
       "      <th>classe_age</th>\n",
       "    </tr>\n",
       "  </thead>\n",
       "  <tbody>\n",
       "    <tr>\n",
       "      <th>0</th>\n",
       "      <td>1</td>\n",
       "      <td>2017.0</td>\n",
       "      <td>Pas de pathologies repérées, traitements, mate...</td>\n",
       "      <td>NaN</td>\n",
       "      <td>NaN</td>\n",
       "      <td>sup_Petit_Conso_exclu</td>\n",
       "      <td>45-49</td>\n",
       "      <td>9.0</td>\n",
       "      <td>75</td>\n",
       "      <td>999</td>\n",
       "      <td>230570.0</td>\n",
       "      <td>393250.0</td>\n",
       "      <td>58.632</td>\n",
       "      <td>1</td>\n",
       "      <td>de 45 à 49 ans</td>\n",
       "      <td>tous sexes</td>\n",
       "      <td>17.0</td>\n",
       "      <td>47.0</td>\n",
       "    </tr>\n",
       "    <tr>\n",
       "      <th>1</th>\n",
       "      <td>2</td>\n",
       "      <td>2017.0</td>\n",
       "      <td>Pas de pathologies repérées, traitements, mate...</td>\n",
       "      <td>NaN</td>\n",
       "      <td>NaN</td>\n",
       "      <td>sup_Petit_Conso_exclu</td>\n",
       "      <td>45-49</td>\n",
       "      <td>9.0</td>\n",
       "      <td>76</td>\n",
       "      <td>11</td>\n",
       "      <td>14220.0</td>\n",
       "      <td>24330.0</td>\n",
       "      <td>58.451</td>\n",
       "      <td>1</td>\n",
       "      <td>de 45 à 49 ans</td>\n",
       "      <td>tous sexes</td>\n",
       "      <td>17.0</td>\n",
       "      <td>47.0</td>\n",
       "    </tr>\n",
       "    <tr>\n",
       "      <th>2</th>\n",
       "      <td>3</td>\n",
       "      <td>2017.0</td>\n",
       "      <td>Pas de pathologies repérées, traitements, mate...</td>\n",
       "      <td>NaN</td>\n",
       "      <td>NaN</td>\n",
       "      <td>sup_Petit_Conso_exclu</td>\n",
       "      <td>45-49</td>\n",
       "      <td>9.0</td>\n",
       "      <td>76</td>\n",
       "      <td>12</td>\n",
       "      <td>10630.0</td>\n",
       "      <td>17390.0</td>\n",
       "      <td>61.133</td>\n",
       "      <td>1</td>\n",
       "      <td>de 45 à 49 ans</td>\n",
       "      <td>tous sexes</td>\n",
       "      <td>17.0</td>\n",
       "      <td>47.0</td>\n",
       "    </tr>\n",
       "    <tr>\n",
       "      <th>3</th>\n",
       "      <td>4</td>\n",
       "      <td>2017.0</td>\n",
       "      <td>Pas de pathologies repérées, traitements, mate...</td>\n",
       "      <td>NaN</td>\n",
       "      <td>NaN</td>\n",
       "      <td>sup_Petit_Conso_exclu</td>\n",
       "      <td>45-49</td>\n",
       "      <td>9.0</td>\n",
       "      <td>76</td>\n",
       "      <td>30</td>\n",
       "      <td>30760.0</td>\n",
       "      <td>50820.0</td>\n",
       "      <td>60.539</td>\n",
       "      <td>1</td>\n",
       "      <td>de 45 à 49 ans</td>\n",
       "      <td>tous sexes</td>\n",
       "      <td>17.0</td>\n",
       "      <td>47.0</td>\n",
       "    </tr>\n",
       "    <tr>\n",
       "      <th>4</th>\n",
       "      <td>5</td>\n",
       "      <td>2017.0</td>\n",
       "      <td>Pas de pathologies repérées, traitements, mate...</td>\n",
       "      <td>NaN</td>\n",
       "      <td>NaN</td>\n",
       "      <td>sup_Petit_Conso_exclu</td>\n",
       "      <td>45-49</td>\n",
       "      <td>9.0</td>\n",
       "      <td>76</td>\n",
       "      <td>48</td>\n",
       "      <td>3000.0</td>\n",
       "      <td>4920.0</td>\n",
       "      <td>60.898</td>\n",
       "      <td>1</td>\n",
       "      <td>de 45 à 49 ans</td>\n",
       "      <td>tous sexes</td>\n",
       "      <td>17.0</td>\n",
       "      <td>47.0</td>\n",
       "    </tr>\n",
       "  </tbody>\n",
       "</table>\n",
       "</div>"
      ],
      "text/plain": [
       "   ind   annee                                         patho_niv1 patho_niv2  \\\n",
       "0    1  2017.0  Pas de pathologies repérées, traitements, mate...        NaN   \n",
       "1    2  2017.0  Pas de pathologies repérées, traitements, mate...        NaN   \n",
       "2    3  2017.0  Pas de pathologies repérées, traitements, mate...        NaN   \n",
       "3    4  2017.0  Pas de pathologies repérées, traitements, mate...        NaN   \n",
       "4    5  2017.0  Pas de pathologies repérées, traitements, mate...        NaN   \n",
       "\n",
       "  patho_niv3                    top cla_age_5  sexe  region dept      ntop  \\\n",
       "0        NaN  sup_Petit_Conso_exclu     45-49   9.0      75  999  230570.0   \n",
       "1        NaN  sup_Petit_Conso_exclu     45-49   9.0      76   11   14220.0   \n",
       "2        NaN  sup_Petit_Conso_exclu     45-49   9.0      76   12   10630.0   \n",
       "3        NaN  sup_Petit_Conso_exclu     45-49   9.0      76   30   30760.0   \n",
       "4        NaN  sup_Petit_Conso_exclu     45-49   9.0      76   48    3000.0   \n",
       "\n",
       "       npop    prev niveau_prioritaire libelle_classe_age libelle_sexe   tri  \\\n",
       "0  393250.0  58.632                  1     de 45 à 49 ans   tous sexes  17.0   \n",
       "1   24330.0  58.451                  1     de 45 à 49 ans   tous sexes  17.0   \n",
       "2   17390.0  61.133                  1     de 45 à 49 ans   tous sexes  17.0   \n",
       "3   50820.0  60.539                  1     de 45 à 49 ans   tous sexes  17.0   \n",
       "4    4920.0  60.898                  1     de 45 à 49 ans   tous sexes  17.0   \n",
       "\n",
       "   classe_age  \n",
       "0        47.0  \n",
       "1        47.0  \n",
       "2        47.0  \n",
       "3        47.0  \n",
       "4        47.0  "
      ]
     },
     "execution_count": 42,
     "metadata": {},
     "output_type": "execute_result"
    }
   ],
   "source": [
    "data_gen.head()"
   ]
  },
  {
   "cell_type": "code",
   "execution_count": 43,
   "id": "de7e87bc-d073-4e57-ab10-1359d6245faa",
   "metadata": {},
   "outputs": [],
   "source": [
    "df_model = data_gen[['ind','classe_age' , 'region', 'dept']]"
   ]
  },
  {
   "cell_type": "code",
   "execution_count": 44,
   "id": "657f4963-bacc-4584-826a-c34e93e4b0af",
   "metadata": {},
   "outputs": [],
   "source": [
    "df_model_niv3 = pd.concat([df_model, data_patho_niv3[indicatrice_patho_niv3]], axis = 1)"
   ]
  },
  {
   "cell_type": "code",
   "execution_count": 45,
   "id": "c857c94e-b03c-40b7-9996-dc34c6f9ccca",
   "metadata": {},
   "outputs": [],
   "source": [
    "#truc bizarre a reverifier mais il se peut qu'il y ait eu un petit bug avec une colonne nan_ind"
   ]
  },
  {
   "cell_type": "code",
   "execution_count": 46,
   "id": "61f50d4c-7146-420f-a5e3-bd53d632d9be",
   "metadata": {},
   "outputs": [
    {
     "data": {
      "text/html": [
       "<div>\n",
       "<style scoped>\n",
       "    .dataframe tbody tr th:only-of-type {\n",
       "        vertical-align: middle;\n",
       "    }\n",
       "\n",
       "    .dataframe tbody tr th {\n",
       "        vertical-align: top;\n",
       "    }\n",
       "\n",
       "    .dataframe thead th {\n",
       "        text-align: right;\n",
       "    }\n",
       "</style>\n",
       "<table border=\"1\" class=\"dataframe\">\n",
       "  <thead>\n",
       "    <tr style=\"text-align: right;\">\n",
       "      <th></th>\n",
       "      <th>ind</th>\n",
       "      <th>classe_age</th>\n",
       "      <th>region</th>\n",
       "      <th>dept</th>\n",
       "      <th>nan_ind</th>\n",
       "      <th>Séjours en hospitalisation complète pour prise en charge de la Covid-19_ind</th>\n",
       "      <th>Traitements antihypertenseurs (hors pathologies)_ind</th>\n",
       "      <th>VIH ou SIDA_ind</th>\n",
       "      <th>Autres affections neurologiques_ind</th>\n",
       "      <th>Traitements antidépresseurs ou régulateurs de l'humeur (hors pathologies)_ind</th>\n",
       "      <th>...</th>\n",
       "      <th>Cancer du sein de la femme actif_ind</th>\n",
       "      <th>Dialyse chronique_ind</th>\n",
       "      <th>Transplantation rénale_ind</th>\n",
       "      <th>Cancer du poumon sous surveillance_ind</th>\n",
       "      <th>Cancer du poumon actif_ind</th>\n",
       "      <th>Suivi de transplantation rénale_ind</th>\n",
       "      <th>Cancer de la prostate sous surveillance_ind</th>\n",
       "      <th>Cancer colorectal actif_ind</th>\n",
       "      <th>Cancer colorectal sous surveillance_ind</th>\n",
       "      <th>Cancer de la prostate actif_ind</th>\n",
       "    </tr>\n",
       "  </thead>\n",
       "  <tbody>\n",
       "    <tr>\n",
       "      <th>0</th>\n",
       "      <td>1</td>\n",
       "      <td>47.0</td>\n",
       "      <td>75</td>\n",
       "      <td>999</td>\n",
       "      <td>0</td>\n",
       "      <td>0</td>\n",
       "      <td>0</td>\n",
       "      <td>0</td>\n",
       "      <td>0</td>\n",
       "      <td>0</td>\n",
       "      <td>...</td>\n",
       "      <td>0</td>\n",
       "      <td>0</td>\n",
       "      <td>0</td>\n",
       "      <td>0</td>\n",
       "      <td>0</td>\n",
       "      <td>0</td>\n",
       "      <td>0</td>\n",
       "      <td>0</td>\n",
       "      <td>0</td>\n",
       "      <td>0</td>\n",
       "    </tr>\n",
       "    <tr>\n",
       "      <th>1</th>\n",
       "      <td>2</td>\n",
       "      <td>47.0</td>\n",
       "      <td>76</td>\n",
       "      <td>11</td>\n",
       "      <td>0</td>\n",
       "      <td>0</td>\n",
       "      <td>0</td>\n",
       "      <td>0</td>\n",
       "      <td>0</td>\n",
       "      <td>0</td>\n",
       "      <td>...</td>\n",
       "      <td>0</td>\n",
       "      <td>0</td>\n",
       "      <td>0</td>\n",
       "      <td>0</td>\n",
       "      <td>0</td>\n",
       "      <td>0</td>\n",
       "      <td>0</td>\n",
       "      <td>0</td>\n",
       "      <td>0</td>\n",
       "      <td>0</td>\n",
       "    </tr>\n",
       "    <tr>\n",
       "      <th>2</th>\n",
       "      <td>3</td>\n",
       "      <td>47.0</td>\n",
       "      <td>76</td>\n",
       "      <td>12</td>\n",
       "      <td>0</td>\n",
       "      <td>0</td>\n",
       "      <td>0</td>\n",
       "      <td>0</td>\n",
       "      <td>0</td>\n",
       "      <td>0</td>\n",
       "      <td>...</td>\n",
       "      <td>0</td>\n",
       "      <td>0</td>\n",
       "      <td>0</td>\n",
       "      <td>0</td>\n",
       "      <td>0</td>\n",
       "      <td>0</td>\n",
       "      <td>0</td>\n",
       "      <td>0</td>\n",
       "      <td>0</td>\n",
       "      <td>0</td>\n",
       "    </tr>\n",
       "    <tr>\n",
       "      <th>3</th>\n",
       "      <td>4</td>\n",
       "      <td>47.0</td>\n",
       "      <td>76</td>\n",
       "      <td>30</td>\n",
       "      <td>0</td>\n",
       "      <td>0</td>\n",
       "      <td>0</td>\n",
       "      <td>0</td>\n",
       "      <td>0</td>\n",
       "      <td>0</td>\n",
       "      <td>...</td>\n",
       "      <td>0</td>\n",
       "      <td>0</td>\n",
       "      <td>0</td>\n",
       "      <td>0</td>\n",
       "      <td>0</td>\n",
       "      <td>0</td>\n",
       "      <td>0</td>\n",
       "      <td>0</td>\n",
       "      <td>0</td>\n",
       "      <td>0</td>\n",
       "    </tr>\n",
       "    <tr>\n",
       "      <th>4</th>\n",
       "      <td>5</td>\n",
       "      <td>47.0</td>\n",
       "      <td>76</td>\n",
       "      <td>48</td>\n",
       "      <td>0</td>\n",
       "      <td>0</td>\n",
       "      <td>0</td>\n",
       "      <td>0</td>\n",
       "      <td>0</td>\n",
       "      <td>0</td>\n",
       "      <td>...</td>\n",
       "      <td>0</td>\n",
       "      <td>0</td>\n",
       "      <td>0</td>\n",
       "      <td>0</td>\n",
       "      <td>0</td>\n",
       "      <td>0</td>\n",
       "      <td>0</td>\n",
       "      <td>0</td>\n",
       "      <td>0</td>\n",
       "      <td>0</td>\n",
       "    </tr>\n",
       "  </tbody>\n",
       "</table>\n",
       "<p>5 rows × 63 columns</p>\n",
       "</div>"
      ],
      "text/plain": [
       "   ind  classe_age  region dept  nan_ind  \\\n",
       "0    1        47.0      75  999        0   \n",
       "1    2        47.0      76   11        0   \n",
       "2    3        47.0      76   12        0   \n",
       "3    4        47.0      76   30        0   \n",
       "4    5        47.0      76   48        0   \n",
       "\n",
       "   Séjours en hospitalisation complète pour prise en charge de la Covid-19_ind  \\\n",
       "0                                                  0                             \n",
       "1                                                  0                             \n",
       "2                                                  0                             \n",
       "3                                                  0                             \n",
       "4                                                  0                             \n",
       "\n",
       "   Traitements antihypertenseurs (hors pathologies)_ind  VIH ou SIDA_ind  \\\n",
       "0                                                  0                   0   \n",
       "1                                                  0                   0   \n",
       "2                                                  0                   0   \n",
       "3                                                  0                   0   \n",
       "4                                                  0                   0   \n",
       "\n",
       "   Autres affections neurologiques_ind  \\\n",
       "0                                    0   \n",
       "1                                    0   \n",
       "2                                    0   \n",
       "3                                    0   \n",
       "4                                    0   \n",
       "\n",
       "   Traitements antidépresseurs ou régulateurs de l'humeur (hors pathologies)_ind  \\\n",
       "0                                                  0                               \n",
       "1                                                  0                               \n",
       "2                                                  0                               \n",
       "3                                                  0                               \n",
       "4                                                  0                               \n",
       "\n",
       "   ...  Cancer du sein de la femme actif_ind  Dialyse chronique_ind  \\\n",
       "0  ...                                     0                      0   \n",
       "1  ...                                     0                      0   \n",
       "2  ...                                     0                      0   \n",
       "3  ...                                     0                      0   \n",
       "4  ...                                     0                      0   \n",
       "\n",
       "   Transplantation rénale_ind  Cancer du poumon sous surveillance_ind  \\\n",
       "0                           0                                       0   \n",
       "1                           0                                       0   \n",
       "2                           0                                       0   \n",
       "3                           0                                       0   \n",
       "4                           0                                       0   \n",
       "\n",
       "   Cancer du poumon actif_ind  Suivi de transplantation rénale_ind  \\\n",
       "0                           0                                    0   \n",
       "1                           0                                    0   \n",
       "2                           0                                    0   \n",
       "3                           0                                    0   \n",
       "4                           0                                    0   \n",
       "\n",
       "   Cancer de la prostate sous surveillance_ind  Cancer colorectal actif_ind  \\\n",
       "0                                            0                            0   \n",
       "1                                            0                            0   \n",
       "2                                            0                            0   \n",
       "3                                            0                            0   \n",
       "4                                            0                            0   \n",
       "\n",
       "   Cancer colorectal sous surveillance_ind  Cancer de la prostate actif_ind  \n",
       "0                                        0                                0  \n",
       "1                                        0                                0  \n",
       "2                                        0                                0  \n",
       "3                                        0                                0  \n",
       "4                                        0                                0  \n",
       "\n",
       "[5 rows x 63 columns]"
      ]
     },
     "execution_count": 46,
     "metadata": {},
     "output_type": "execute_result"
    }
   ],
   "source": [
    "df_model_niv3.head()"
   ]
  },
  {
   "cell_type": "code",
   "execution_count": 47,
   "id": "9a54dc82-2a35-4332-9019-6734c4628add",
   "metadata": {},
   "outputs": [
    {
     "data": {
      "text/plain": [
       "20"
      ]
     },
     "execution_count": 47,
     "metadata": {},
     "output_type": "execute_result"
    }
   ],
   "source": [
    "len(df_model['region'].unique())"
   ]
  },
  {
   "cell_type": "code",
   "execution_count": 48,
   "id": "3d3c9118-7902-42f9-bc78-80a13011c27f",
   "metadata": {},
   "outputs": [
    {
     "name": "stdout",
     "output_type": "stream",
     "text": [
      "[75 76 84 93 94  1  2  3  6 11 24 27 28 32 44 52 53 99  4  0]\n"
     ]
    }
   ],
   "source": [
    "print(df_model['region'].unique())"
   ]
  },
  {
   "cell_type": "code",
   "execution_count": 49,
   "id": "e3c0de35-e65d-4d0c-ae37-a29239a1779a",
   "metadata": {},
   "outputs": [
    {
     "data": {
      "text/plain": [
       "103"
      ]
     },
     "execution_count": 49,
     "metadata": {},
     "output_type": "execute_result"
    }
   ],
   "source": [
    "len(df_model['dept'].unique())"
   ]
  },
  {
   "cell_type": "code",
   "execution_count": 50,
   "id": "2778c53d-50ff-4b19-988e-dcc9abb4f599",
   "metadata": {},
   "outputs": [
    {
     "data": {
      "text/plain": [
       "array(['999', '11', '12', '30', '48', '81', '82', '09', '01', '42', '74',\n",
       "       '13', '05', '2A', '971', '972', '976', '75', '91', '18', '28',\n",
       "       '41', '21', '71', '14', '76', '62', '80', '55', '57', '68', '53',\n",
       "       '72', '85', '22', '35', '56', '24', '86', '32', '34', '46', '15',\n",
       "       '07', '06', '2B', '974', '77', '92', '93', '36', '25', '50', '61',\n",
       "       '59', '60', '52', '54', '67', '08', '16', '64', '79', '87', '31',\n",
       "       '66', '43', '83', '84', '90', '10', '51', '88', '29', '33', '65',\n",
       "       '26', '73', '94', '95', '45', '70', '44', '19', '40', '47', '38',\n",
       "       '63', '89', '17', '04', '973', '39', '58', '27', '02', '69', '49',\n",
       "       '78', '37', '03', '23', '00'], dtype=object)"
      ]
     },
     "execution_count": 50,
     "metadata": {},
     "output_type": "execute_result"
    }
   ],
   "source": [
    "df_model['dept'].unique()"
   ]
  },
  {
   "cell_type": "code",
   "execution_count": 51,
   "id": "4c1bac37-3853-480f-a3d8-8416253eb2a7",
   "metadata": {},
   "outputs": [],
   "source": [
    "#l'autre base pour la pollution ne prend pas les départements d'outre-mer en compte\n",
    "#il est donc probable que l'on soit contraints de les exclure de l'analyse \n"
   ]
  },
  {
   "cell_type": "code",
   "execution_count": 52,
   "id": "7befb7c0-7325-45e4-ac6a-8460024ce57a",
   "metadata": {},
   "outputs": [],
   "source": [
    "data_pollution = pd.read_csv(\"base_pollution.csv\")"
   ]
  },
  {
   "cell_type": "code",
   "execution_count": 53,
   "id": "8ef053d6-508e-424f-85c0-2c1f031ed8b5",
   "metadata": {},
   "outputs": [
    {
     "data": {
      "text/html": [
       "<div>\n",
       "<style scoped>\n",
       "    .dataframe tbody tr th:only-of-type {\n",
       "        vertical-align: middle;\n",
       "    }\n",
       "\n",
       "    .dataframe tbody tr th {\n",
       "        vertical-align: top;\n",
       "    }\n",
       "\n",
       "    .dataframe thead th {\n",
       "        text-align: right;\n",
       "    }\n",
       "</style>\n",
       "<table border=\"1\" class=\"dataframe\">\n",
       "  <thead>\n",
       "    <tr style=\"text-align: right;\">\n",
       "      <th></th>\n",
       "      <th>INSEE commune</th>\n",
       "      <th>Commune</th>\n",
       "      <th>Agriculture</th>\n",
       "      <th>Autres transports</th>\n",
       "      <th>Autres transports international</th>\n",
       "      <th>CO2 biomasse hors-total</th>\n",
       "      <th>Déchets</th>\n",
       "      <th>Energie</th>\n",
       "      <th>Industrie hors-énergie</th>\n",
       "      <th>Résidentiel</th>\n",
       "      <th>Routier</th>\n",
       "      <th>Tertiaire</th>\n",
       "      <th>REG</th>\n",
       "      <th>DEP</th>\n",
       "    </tr>\n",
       "  </thead>\n",
       "  <tbody>\n",
       "    <tr>\n",
       "      <th>0</th>\n",
       "      <td>01001</td>\n",
       "      <td>L'ABERGEMENT-CLEMENCIAT</td>\n",
       "      <td>3711.425991</td>\n",
       "      <td>NaN</td>\n",
       "      <td>NaN</td>\n",
       "      <td>432.751835</td>\n",
       "      <td>101.430476</td>\n",
       "      <td>2.354558</td>\n",
       "      <td>6.911213</td>\n",
       "      <td>309.358195</td>\n",
       "      <td>793.156501</td>\n",
       "      <td>367.036172</td>\n",
       "      <td>84.0</td>\n",
       "      <td>01</td>\n",
       "    </tr>\n",
       "    <tr>\n",
       "      <th>1</th>\n",
       "      <td>01002</td>\n",
       "      <td>L'ABERGEMENT-DE-VAREY</td>\n",
       "      <td>475.330205</td>\n",
       "      <td>NaN</td>\n",
       "      <td>NaN</td>\n",
       "      <td>140.741660</td>\n",
       "      <td>140.675439</td>\n",
       "      <td>2.354558</td>\n",
       "      <td>6.911213</td>\n",
       "      <td>104.866444</td>\n",
       "      <td>348.997893</td>\n",
       "      <td>112.934207</td>\n",
       "      <td>84.0</td>\n",
       "      <td>01</td>\n",
       "    </tr>\n",
       "    <tr>\n",
       "      <th>2</th>\n",
       "      <td>01004</td>\n",
       "      <td>AMBERIEU-EN-BUGEY</td>\n",
       "      <td>499.043526</td>\n",
       "      <td>212.577908</td>\n",
       "      <td>NaN</td>\n",
       "      <td>10313.446515</td>\n",
       "      <td>5314.314445</td>\n",
       "      <td>998.332482</td>\n",
       "      <td>2930.354461</td>\n",
       "      <td>16616.822534</td>\n",
       "      <td>15642.420313</td>\n",
       "      <td>10732.376934</td>\n",
       "      <td>84.0</td>\n",
       "      <td>01</td>\n",
       "    </tr>\n",
       "    <tr>\n",
       "      <th>3</th>\n",
       "      <td>01005</td>\n",
       "      <td>AMBERIEUX-EN-DOMBES</td>\n",
       "      <td>1859.160954</td>\n",
       "      <td>NaN</td>\n",
       "      <td>NaN</td>\n",
       "      <td>1144.429311</td>\n",
       "      <td>216.217508</td>\n",
       "      <td>94.182310</td>\n",
       "      <td>276.448534</td>\n",
       "      <td>663.683146</td>\n",
       "      <td>1756.341319</td>\n",
       "      <td>782.404357</td>\n",
       "      <td>84.0</td>\n",
       "      <td>01</td>\n",
       "    </tr>\n",
       "    <tr>\n",
       "      <th>4</th>\n",
       "      <td>01006</td>\n",
       "      <td>AMBLEON</td>\n",
       "      <td>448.966808</td>\n",
       "      <td>NaN</td>\n",
       "      <td>NaN</td>\n",
       "      <td>77.033834</td>\n",
       "      <td>48.401549</td>\n",
       "      <td>NaN</td>\n",
       "      <td>NaN</td>\n",
       "      <td>43.714019</td>\n",
       "      <td>398.786800</td>\n",
       "      <td>51.681756</td>\n",
       "      <td>84.0</td>\n",
       "      <td>01</td>\n",
       "    </tr>\n",
       "  </tbody>\n",
       "</table>\n",
       "</div>"
      ],
      "text/plain": [
       "  INSEE commune                  Commune  Agriculture  Autres transports  \\\n",
       "0         01001  L'ABERGEMENT-CLEMENCIAT  3711.425991                NaN   \n",
       "1         01002    L'ABERGEMENT-DE-VAREY   475.330205                NaN   \n",
       "2         01004        AMBERIEU-EN-BUGEY   499.043526         212.577908   \n",
       "3         01005      AMBERIEUX-EN-DOMBES  1859.160954                NaN   \n",
       "4         01006                  AMBLEON   448.966808                NaN   \n",
       "\n",
       "   Autres transports international  CO2 biomasse hors-total      Déchets  \\\n",
       "0                              NaN               432.751835   101.430476   \n",
       "1                              NaN               140.741660   140.675439   \n",
       "2                              NaN             10313.446515  5314.314445   \n",
       "3                              NaN              1144.429311   216.217508   \n",
       "4                              NaN                77.033834    48.401549   \n",
       "\n",
       "      Energie  Industrie hors-énergie   Résidentiel       Routier  \\\n",
       "0    2.354558                6.911213    309.358195    793.156501   \n",
       "1    2.354558                6.911213    104.866444    348.997893   \n",
       "2  998.332482             2930.354461  16616.822534  15642.420313   \n",
       "3   94.182310              276.448534    663.683146   1756.341319   \n",
       "4         NaN                     NaN     43.714019    398.786800   \n",
       "\n",
       "      Tertiaire   REG DEP  \n",
       "0    367.036172  84.0  01  \n",
       "1    112.934207  84.0  01  \n",
       "2  10732.376934  84.0  01  \n",
       "3    782.404357  84.0  01  \n",
       "4     51.681756  84.0  01  "
      ]
     },
     "execution_count": 53,
     "metadata": {},
     "output_type": "execute_result"
    }
   ],
   "source": [
    "data_pollution.head()"
   ]
  },
  {
   "cell_type": "code",
   "execution_count": null,
   "id": "4f3b7828-6226-46da-a71f-89838579c8b6",
   "metadata": {},
   "outputs": [],
   "source": [
    "#df_model_test = pd.merge(df_model, data_pollution, how = 'left', left_on='dept', right_on='DEP')"
   ]
  },
  {
   "cell_type": "code",
   "execution_count": null,
   "id": "631fcddb-4939-49a3-9568-2b38441108a6",
   "metadata": {},
   "outputs": [],
   "source": []
  }
 ],
 "metadata": {
  "kernelspec": {
   "display_name": "Python 3 (ipykernel)",
   "language": "python",
   "name": "python3"
  },
  "language_info": {
   "codemirror_mode": {
    "name": "ipython",
    "version": 3
   },
   "file_extension": ".py",
   "mimetype": "text/x-python",
   "name": "python",
   "nbconvert_exporter": "python",
   "pygments_lexer": "ipython3",
   "version": "3.10.13"
  }
 },
 "nbformat": 4,
 "nbformat_minor": 5
}
