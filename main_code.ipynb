{
 "cells": [
  {
   "cell_type": "code",
   "execution_count": null,
   "id": "4be61d8d",
   "metadata": {
    "scrolled": true
   },
   "outputs": [],
   "source": [
    "import numpy as np\n",
    "import pandas as pd\n",
    "import matplotlib.pyplot as plt\n",
    "import requests\n",
    "!pip install --upgrade xlrd #colab bug verson xlrd\n",
    "!pip install geopandas\n",
    "!pip install pandas fiona shapely pyproj rtree\n",
    "!pip install contextily\n",
    "!pip install pygeos\n",
    "!pip install topojson\n",
    "import geopandas as gpd\n",
    "import contextily as ctx\n",
    "import matplotlib.pyplot as plt\n",
    "from sklearn.preprocessing import StandardScaler\n",
    "#!pip install requests py7zr geopandas openpyxl tqdm s3fs PyYAML xlrd\n",
    "#!pip install git+https://github.com/inseefrlab/cartiflette@80b8a5a28371feb6df31d55bcc2617948a5f9b1a"
   ]
  },
  {
   "cell_type": "code",
   "execution_count": null,
   "id": "57e40471",
   "metadata": {},
   "outputs": [],
   "source": [
    "#test_1 = pd.read_csv(\"https://www.data.gouv.fr/fr/datasets/r/5f71ba43-afc8-43a0-b306-dafe29940f9c\", sep = \";\", encoding = 'utf-8', engine = 'python')\n",
    "#le lien du dossier data.gouv : \n",
    "# https://www.data.gouv.fr/fr/datasets/effectif-de-patients-par-pathologie-sexe-classe-dage-et-territoire-departement-region/\n",
    "# methode \"classique\" pour obtenir un dataset a partir d un lien \n",
    "# probleme d encodage d ou les parametres sep, encoding, engine\n",
    "# A FAIRE : COPIER LA BASE DE FACON LOCALE ET S Y REFERER PAR LA SUITE PAR EFFECTIFS.CSV "
   ]
  },
  {
   "cell_type": "code",
   "execution_count": null,
   "id": "70a8b2c2",
   "metadata": {},
   "outputs": [],
   "source": [
    "test_2 = pd.read_csv(\"effectifs.csv\", sep = \";\", encoding = 'utf-8', engine = 'python')\n",
    "\n",
    "#commande a utiliser une fois qu on a la base \n",
    "#copiee en local \n",
    "#la base au prealable telechargee sur ordi perso\n",
    "#Pour copier en local, glisser à gauche la table depuis les fichiers de l'ordi*"
   ]
  },
  {
   "cell_type": "code",
   "execution_count": null,
   "id": "7e487d8d-3371-479b-8f0c-0f9ad825b565",
   "metadata": {},
   "outputs": [],
   "source": [
    "groupe_dep = pd.read_csv(\"groupe_dep.csv\", encoding = 'utf-8')\n",
    "data_pollution = pd.read_csv(\"base_pollution.csv\")"
   ]
  },
  {
   "cell_type": "code",
   "execution_count": null,
   "id": "1e4697ec",
   "metadata": {
    "scrolled": true
   },
   "outputs": [],
   "source": [
    "test_2.head()\n",
    "test_2.shape"
   ]
  },
  {
   "cell_type": "code",
   "execution_count": null,
   "id": "6fd81634",
   "metadata": {},
   "outputs": [],
   "source": [
    "print(\"nombre de categories differentes pour niv2 est :\"+str(len(test_2['patho_niv2'].unique())))\n",
    "print(\"nombre de categories differentes pour niv3 est :\"+str(len(test_2['patho_niv3'].unique())))"
   ]
  },
  {
   "cell_type": "code",
   "execution_count": null,
   "id": "47ee555d",
   "metadata": {},
   "outputs": [],
   "source": [
    "#potentiellement creer 123 colonnes pour pouvoir faire du clustering \n",
    "#comparer les clusters obtenus par les caracteristiques d un inidivu pour voir si ca matche ou pas \n",
    "print(test_2['patho_niv1'].unique())"
   ]
  },
  {
   "cell_type": "code",
   "execution_count": null,
   "id": "3e73d309",
   "metadata": {},
   "outputs": [],
   "source": [
    "data_gen = test_2.dropna()"
   ]
  },
  {
   "cell_type": "code",
   "execution_count": null,
   "id": "50540e06",
   "metadata": {
    "scrolled": true
   },
   "outputs": [],
   "source": [
    "print(test_2.shape, data_gen.shape)"
   ]
  },
  {
   "cell_type": "code",
   "execution_count": null,
   "id": "8bdc0b54",
   "metadata": {
    "scrolled": true
   },
   "outputs": [],
   "source": [
    "liste_diff_patho1 = data_gen['patho_niv1'].unique()\n",
    "liste_diff_patho2 = data_gen['patho_niv2'].unique()\n",
    "liste_diff_patho3 = data_gen['patho_niv3'].unique()\n",
    "\n",
    "print(liste_diff_patho1, \"\\n\", liste_diff_patho2, \"\\n\", liste_diff_patho3)"
   ]
  },
  {
   "cell_type": "code",
   "execution_count": null,
   "id": "da18a21a",
   "metadata": {},
   "outputs": [],
   "source": [
    "print(data_gen.shape)"
   ]
  },
  {
   "cell_type": "code",
   "execution_count": null,
   "id": "2de42dd7",
   "metadata": {},
   "outputs": [],
   "source": [
    "#Creation d une colonne individus\n",
    "data_gen.reset_index(inplace = True, names='ind') \n",
    "\n"
   ]
  },
  {
   "cell_type": "code",
   "execution_count": null,
   "id": "3884ecc0-7a7a-4d6a-b3ce-49afaffbc4df",
   "metadata": {},
   "outputs": [],
   "source": [
    "data_gen.shape"
   ]
  },
  {
   "cell_type": "code",
   "execution_count": null,
   "id": "3cfcdb61",
   "metadata": {},
   "outputs": [],
   "source": [
    "#tentative de compréhension de ce que la variable npop représente\n",
    "#b = data_gen['npop'].unique()\n",
    "#b = pd.DataFrame(b)"
   ]
  },
  {
   "cell_type": "code",
   "execution_count": null,
   "id": "6c0a3812",
   "metadata": {},
   "outputs": [],
   "source": [
    "#b = b.dropna()"
   ]
  },
  {
   "cell_type": "code",
   "execution_count": null,
   "id": "7230fbc7",
   "metadata": {},
   "outputs": [],
   "source": [
    "#b = b.set_axis(['test'], axis = 'columns')"
   ]
  },
  {
   "cell_type": "code",
   "execution_count": null,
   "id": "7e8366f2",
   "metadata": {},
   "outputs": [],
   "source": [
    "#b.head()"
   ]
  },
  {
   "cell_type": "code",
   "execution_count": null,
   "id": "db1b723d",
   "metadata": {},
   "outputs": [],
   "source": [
    "#sum(b['test'])"
   ]
  },
  {
   "cell_type": "code",
   "execution_count": null,
   "id": "c249355e",
   "metadata": {},
   "outputs": [],
   "source": [
    "#resultat peu concluant"
   ]
  },
  {
   "cell_type": "code",
   "execution_count": null,
   "id": "f94ed0ee",
   "metadata": {},
   "outputs": [],
   "source": [
    "#creation d indicatrices pour futur clustering\n",
    "#aprs correction, utilisation de la fonction get dummies"
   ]
  },
  {
   "cell_type": "code",
   "execution_count": null,
   "id": "9facdca0",
   "metadata": {},
   "outputs": [],
   "source": [
    "#liste_diff_patho3 = list(liste_diff_patho3)"
   ]
  },
  {
   "cell_type": "code",
   "execution_count": null,
   "id": "3e487655",
   "metadata": {},
   "outputs": [],
   "source": [
    "#premier code pour creation d indicatrice"
   ]
  },
  {
   "cell_type": "code",
   "execution_count": null,
   "id": "f1f7e925",
   "metadata": {},
   "outputs": [],
   "source": [
    "liste_var = data_gen.columns[17:]\n",
    "liste_bis = []\n",
    "for i in liste_var : \n",
    "    liste_bis.append(i)\n"
   ]
  },
  {
   "cell_type": "code",
   "execution_count": null,
   "id": "5d9aa795",
   "metadata": {
    "scrolled": true
   },
   "outputs": [],
   "source": [
    "indicatrice_patho_niv1 = liste_bis"
   ]
  },
  {
   "cell_type": "code",
   "execution_count": null,
   "id": "70045f05",
   "metadata": {},
   "outputs": [],
   "source": [
    "liste_auxil = data_gen['cla_age_5'].unique()\n",
    "print(liste_auxil)\n",
    "\n",
    "#afin de pouvoir clusteriser par la suite, nous allons creer des classes d age qui sont \"discretes\"\n",
    "#nous faisons ce choix car les classes d age sont relativement homogene et en prenant la moyenne des deux \n",
    "#bornes pour les classes, nous gardons l idee d une distance d age qui pourrait etre utile par la suite\n",
    "\"\"\"\n",
    "inter_excl = ('95et+', 'tsage', np.nan)\n",
    "\n",
    "inter_def = []\n",
    "for i in liste_auxil :\n",
    "    if i in inter_excl : \n",
    "        inter_def = inter_def\n",
    "    else : \n",
    "        inter_def.append(i)\n",
    "\n",
    "\n",
    "classe_age = []\n",
    "for i in data_gen['cla_age_5'] : \n",
    "    if i in inter_def :\n",
    "        temp = i.split('-')\n",
    "        temp[0] = int(temp[0])\n",
    "        temp[1] = int(temp[1])\n",
    "        age = (temp[1] + temp[0])/2\n",
    "    elif i == 'tsage' : \n",
    "        age = np.nan\n",
    "    elif i == '95et+' : \n",
    "        age = 100\n",
    "    else : \n",
    "        age = np.nan\n",
    "    classe_age.append(age)\n",
    "\"\"\"\n",
    "#pb a regler, il manque un truc pour eviter que ca bug fort\n",
    "#probablement type a regler ou categorie a revoir\n",
    "#code peu ergonomique mais solution la plus sure, \n",
    "#toutes les autres tentatives en posant des conditions sur le type de i \n",
    "#n ont pas ete solde par une reussite\n",
    "#on a print nombre de valeurs de classe_age et le code fonctionne\n",
    "\n",
    "\n",
    "\n",
    "data_gen[\"classe_age\"] = data_gen[\"cla_age_5\"].apply(\n",
    "    lambda x: np.mean(list(map(lambda y : int(y), x.split(\"-\")))) if \"-\" in x else (np.nan if x == 'tsage' else 100)\n",
    ")\n",
    "\n",
    "#fonction ecrite par Antoine Palazzolo"
   ]
  },
  {
   "cell_type": "code",
   "execution_count": null,
   "id": "ad5a3fec-56d8-4b8f-a245-40b6bff46856",
   "metadata": {},
   "outputs": [],
   "source": [
    "data_gen.head()"
   ]
  },
  {
   "cell_type": "code",
   "execution_count": null,
   "id": "b6dd1912",
   "metadata": {},
   "outputs": [],
   "source": [
    "#on cree un nouveau dataframe pour pouvoir faire des manipulations plus rapides sur le data_gen"
   ]
  },
  {
   "cell_type": "code",
   "execution_count": null,
   "id": "b1d9e08d",
   "metadata": {},
   "outputs": [],
   "source": [
    "df_model = data_gen[['ind','classe_age' , 'region', 'dept']]"
   ]
  },
  {
   "cell_type": "code",
   "execution_count": null,
   "id": "8f033245",
   "metadata": {},
   "outputs": [],
   "source": [
    "#truc bizarre a reverifier mais il se peut qu'il y ait eu un petit bug avec une colonne nan_ind"
   ]
  },
  {
   "cell_type": "code",
   "execution_count": null,
   "id": "8b1b0033",
   "metadata": {},
   "outputs": [],
   "source": [
    "#l'autre base pour la pollution ne prend pas les départements d'outre-mer en compte\n",
    "#il est donc probable que l'on soit contraints de les exclure de l'analyse \n"
   ]
  },
  {
   "cell_type": "code",
   "execution_count": null,
   "id": "3883d2d8",
   "metadata": {},
   "outputs": [],
   "source": [
    "df_model_test = pd.merge(df_model, groupe_dep, how = 'left', left_on='dept', right_on='DEP')"
   ]
  },
  {
   "cell_type": "code",
   "execution_count": null,
   "id": "f98df640",
   "metadata": {},
   "outputs": [],
   "source": [
    "#decision prise apres cette ligne de reduire \n",
    "#considerablement la taille de la base sans quoi aucun calcul ne serait possible\n",
    "#j'ai essaye d'augmenter drastiquement les ressources disponibles pour \n",
    "#pouvoir ne serait-ce que merge et pour le clustering, \n",
    "#le calcul semble impossible"
   ]
  },
  {
   "cell_type": "code",
   "execution_count": null,
   "id": "24e4043b",
   "metadata": {},
   "outputs": [],
   "source": [
    "#data_sans_na = data_gen[data_gen['patho_niv1'].apply(lambda s: s != 'Pas de pathologies repérées, traitements, maternité, hospitalisations ni traitement antalgique ou anti-inflammatoire')]"
   ]
  },
  {
   "cell_type": "code",
   "execution_count": null,
   "id": "6f075bc9",
   "metadata": {},
   "outputs": [],
   "source": [
    "df_model_reduced = data_gen[['ind','classe_age' , 'region', 'dept']]"
   ]
  },
  {
   "cell_type": "code",
   "execution_count": null,
   "id": "1605d777",
   "metadata": {},
   "outputs": [],
   "source": [
    "#meme en ayant divise par deux la taille de la base,\n",
    "#augmente de facon considerable les ressources disponibles,\n",
    "#efface tous les outputs des cellules\n",
    "#ca ne marche pas \n",
    "#donc il faudra faire des regroupements\n",
    "#vient la question : lesquels"
   ]
  },
  {
   "cell_type": "code",
   "execution_count": null,
   "id": "c86ed0b1-e0c1-4f51-bd01-d20f1209d340",
   "metadata": {},
   "outputs": [],
   "source": [
    "data_gen.drop(['patho_niv1', 'patho_niv2', 'patho_niv3', 'top'], axis = 1).sort_values(by = 'dept', ascending=True)"
   ]
  },
  {
   "cell_type": "code",
   "execution_count": null,
   "id": "acc920a8-ffc9-469e-8f77-da55049b6d0a",
   "metadata": {
    "scrolled": true
   },
   "outputs": [],
   "source": [
    "pd.get_dummies(data_gen, prefix = 'indicatrice_', columns=['patho_niv1'], dtype='int')"
   ]
  },
  {
   "cell_type": "code",
   "execution_count": null,
   "id": "05d2d2f4-679f-4178-b255-0b83aa282879",
   "metadata": {
    "scrolled": true
   },
   "outputs": [],
   "source": [
    "data_gen"
   ]
  },
  {
   "cell_type": "code",
   "execution_count": null,
   "id": "d1fd2f61-ead5-40fc-8bef-b0a4217ad5a3",
   "metadata": {},
   "outputs": [],
   "source": [
    "pd.get_dummies(data_gen, prefix = 'indicatrice_', columns=['patho_niv1'], dtype='int').dropna().to_csv('data_dummies.csv')"
   ]
  },
  {
   "cell_type": "code",
   "execution_count": null,
   "id": "4885c9a6-7d73-4507-9eb4-56495308ee41",
   "metadata": {},
   "outputs": [],
   "source": [
    "df_modelisation = pd.get_dummies(data_gen, prefix = 'indicatrice', columns=['patho_niv1'], dtype='int')"
   ]
  },
  {
   "cell_type": "code",
   "execution_count": null,
   "id": "a673e8ec-f24c-4b8e-af33-c2af6cff476b",
   "metadata": {},
   "outputs": [],
   "source": [
    "df_modelisation.columns"
   ]
  },
  {
   "cell_type": "code",
   "execution_count": null,
   "id": "20df9bed-ea8d-4463-96bf-ba64a7b5536a",
   "metadata": {
    "scrolled": true
   },
   "outputs": [],
   "source": [
    "df_modelisation = df_modelisation.drop(['ind','patho_niv2', 'patho_niv3', 'top', 'cla_age_5', 'sexe', 'region', 'ntop', 'npop', 'prev', 'niveau_prioritaire', 'libelle_classe_age', \n",
    "                      'libelle_sexe', 'tri', 'annee'], axis = 1)"
   ]
  },
  {
   "cell_type": "code",
   "execution_count": null,
   "id": "d7bacc50-6434-4004-9268-5915a58382d1",
   "metadata": {},
   "outputs": [],
   "source": [
    "df_modelisation.columns"
   ]
  },
  {
   "cell_type": "code",
   "execution_count": null,
   "id": "5b140340-b36f-4e46-9a39-a67215f46390",
   "metadata": {},
   "outputs": [],
   "source": [
    "dico = {'classe_age' : 'mean',\n",
    "       'indicatrice_Autres affections de longue durée (dont 31 et 32)' : 'sum',\n",
    "       'indicatrice_Cancers' : 'sum', 'indicatrice_Diabète' : 'sum',\n",
    "       'indicatrice_Hospitalisations ponctuelles (avec ou sans pathologies, traitements ou maternité)' : 'sum',\n",
    "       'indicatrice_Insuffisance rénale chronique terminale' : 'sum',\n",
    "       'indicatrice_Maladies cardio-neurovasculaires' : 'sum',\n",
    "       'indicatrice_Maladies du foie ou du pancréas (hors mucoviscidose)' : 'sum',\n",
    "       'indicatrice_Maladies inflammatoires ou rares ou VIH ou SIDA' : 'sum',\n",
    "       'indicatrice_Maladies neurologiques ou dégénératives' : 'sum',\n",
    "       'indicatrice_Maladies psychiatriques' : 'sum',\n",
    "       'indicatrice_Maladies respiratoires chroniques (hors mucoviscidose)' : 'sum',\n",
    "       'indicatrice_Maternité (avec ou sans pathologies)' : 'sum',\n",
    "       'indicatrice_Séjours en hospitalisation complète pour prise en charge de la Covid-19' : 'sum',\n",
    "       'indicatrice_Traitements du risque vasculaire (hors pathologies)' : 'sum',\n",
    "       'indicatrice_Traitements psychotropes (hors pathologies)' : 'sum'}"
   ]
  },
  {
   "cell_type": "code",
   "execution_count": null,
   "id": "120d0b33-b3e7-40a5-ad24-f45354327b86",
   "metadata": {},
   "outputs": [],
   "source": [
    "df_modelisation = df_modelisation.groupby('dept').agg(dico).reset_index()"
   ]
  },
  {
   "cell_type": "code",
   "execution_count": null,
   "id": "dd0ccba2-957d-49d1-9532-7aeba8250bcf",
   "metadata": {},
   "outputs": [],
   "source": [
    "df_modelisation"
   ]
  },
  {
   "cell_type": "code",
   "execution_count": null,
   "id": "7959a792-951f-4044-9014-011863a5859e",
   "metadata": {},
   "outputs": [],
   "source": [
    "df_modelisation['plus_repandu'] = df_modelisation.drop(['dept', 'classe_age',\n",
    "                                                        'indicatrice_Maladies cardio-neurovasculaires',\n",
    "                                                        'indicatrice_Traitements psychotropes (hors pathologies)'], axis = 1).apply(lambda x: x.idxmax(), axis = 1)"
   ]
  },
  {
   "cell_type": "code",
   "execution_count": null,
   "id": "c905d9b9-6dba-473c-9bb1-e04231a0c5b6",
   "metadata": {},
   "outputs": [],
   "source": [
    "df_modelisation['plus_repandu'].unique()\n",
    "#on aura donc peut-etre a considerer les variables avc et soins psychotropes\n",
    "#differemment car elles risquent de peut-etre\n",
    "#capter toute l analyse et ne pas laisser grand chose aux autres pathologies\n",
    "#car dans le cas ou on les laisse dans le dataframe\n",
    "#ce sont les deux seules maladies a apparaitre"
   ]
  },
  {
   "cell_type": "code",
   "execution_count": null,
   "id": "671ba618-e3de-48fc-b9b5-a7da9d587b4c",
   "metadata": {},
   "outputs": [],
   "source": [
    "base_pollution = pd.read_csv('base_pollution.csv')"
   ]
  },
  {
   "cell_type": "code",
   "execution_count": null,
   "id": "e2ef7289-a216-44e5-95d6-9a654385ee65",
   "metadata": {},
   "outputs": [],
   "source": [
    "base_pollution = base_pollution.groupby('DEP').sum()"
   ]
  },
  {
   "cell_type": "code",
   "execution_count": null,
   "id": "942ccf63-ad9d-4c79-9220-1044e38fa1c6",
   "metadata": {},
   "outputs": [],
   "source": [
    "base_pollution = base_pollution.drop(['INSEE commune', 'Commune', 'REG'], axis = 1)"
   ]
  },
  {
   "cell_type": "code",
   "execution_count": null,
   "id": "1733e527-b61a-4f15-a9d7-26f9851fc2d6",
   "metadata": {},
   "outputs": [],
   "source": [
    "base_pollution"
   ]
  },
  {
   "cell_type": "code",
   "execution_count": null,
   "id": "c3e52497-9c8d-4c34-8523-5d6fa158593a",
   "metadata": {},
   "outputs": [],
   "source": [
    "base_pol_dep = df_modelisation.merge(base_pollution, how = 'right', left_on = 'dept', right_on = 'DEP',\n",
    "                                     right_index=True)"
   ]
  },
  {
   "cell_type": "code",
   "execution_count": null,
   "id": "d3de6735-b158-4bb4-b88d-4e439ea13e65",
   "metadata": {},
   "outputs": [],
   "source": [
    "base_pol_dep"
   ]
  },
  {
   "cell_type": "code",
   "execution_count": null,
   "id": "cb3a061f-c929-43af-ba47-660832a11dec",
   "metadata": {},
   "outputs": [],
   "source": [
    "base_pol_dep_gen = base_pol_dep.merge(pd.read_csv('base_pop_dep.csv'), how = 'left', left_on = 'dept', right_on = 'numero_dep')"
   ]
  },
  {
   "cell_type": "code",
   "execution_count": null,
   "id": "49ee8980-ef89-47d1-aee2-081b0e9c1d35",
   "metadata": {},
   "outputs": [],
   "source": [
    "base_pol_dep_gen"
   ]
  },
  {
   "cell_type": "code",
   "execution_count": null,
   "id": "1cb7cc50-e85a-411f-ac31-770dd2900628",
   "metadata": {},
   "outputs": [],
   "source": [
    "base_pol_dep_gen = base_pol_dep_gen.drop(['Unnamed: 0', 'numero_dep'], axis = 1)"
   ]
  },
  {
   "cell_type": "code",
   "execution_count": null,
   "id": "abd87811-384a-4fd5-b94a-875b6b7a6f72",
   "metadata": {},
   "outputs": [],
   "source": [
    "num_cols = base_pol_dep_gen.select_dtypes(include=['number']).columns\n",
    "num_data = base_pol_dep_gen[num_cols]"
   ]
  },
  {
   "cell_type": "code",
   "execution_count": null,
   "id": "b76d119b-2a38-4cdd-85fc-e23927af8c09",
   "metadata": {},
   "outputs": [],
   "source": [
    "scaler = StandardScaler()\n",
    "data_standard = scaler.fit_transform(num_data)"
   ]
  },
  {
   "cell_type": "code",
   "execution_count": null,
   "id": "60b9f03b-d0f8-47fc-b706-26fc3158fc3c",
   "metadata": {},
   "outputs": [],
   "source": [
    "base_standard = pd.concat([base_pol_dep_gen[['dept', 'dep']], pd.DataFrame(data_standard, columns=num_cols)], axis=1)"
   ]
  },
  {
   "cell_type": "code",
   "execution_count": null,
   "id": "dacd15e8-1ccd-4af9-86a9-5ba85d33d779",
   "metadata": {},
   "outputs": [],
   "source": [
    "#on perd indicatrice_Hospitalisations ponctuelles (avec ou sans pathologies, traitements ou maternité), \n",
    "#etrange car toutes les lignes valent 0 mais mis a part ca c est bien "
   ]
  }
 ],
 "metadata": {
  "kernelspec": {
   "display_name": "Python 3 (ipykernel)",
   "language": "python",
   "name": "python3"
  },
  "language_info": {
   "codemirror_mode": {
    "name": "ipython",
    "version": 3
   },
   "file_extension": ".py",
   "mimetype": "text/x-python",
   "name": "python",
   "nbconvert_exporter": "python",
   "pygments_lexer": "ipython3",
   "version": "3.10.13"
  }
 },
 "nbformat": 4,
 "nbformat_minor": 5
}
