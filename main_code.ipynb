{
 "cells": [
  {
   "cell_type": "code",
   "execution_count": 1,
   "id": "150093d0-69e2-466a-87d3-e3808330afd8",
   "metadata": {},
   "outputs": [],
   "source": [
    "import numpy as np\n",
    "import pandas as pd\n",
    "import matplotlib.pyplot as plt\n",
    "import pynsee\n",
    "import pynsee.download\n",
    "import requests"
   ]
  },
  {
   "cell_type": "code",
   "execution_count": 2,
   "id": "807747f6-d64e-4c53-a1f2-c5f74580c6f3",
   "metadata": {},
   "outputs": [],
   "source": [
    "url = (\"https://www.data.gouv.fr/fr/datasets/r/5cea5412-203c-4b84-a4ef-bd6931a03bc4\")"
   ]
  },
  {
   "cell_type": "code",
   "execution_count": null,
   "id": "a47383c7-4fef-499c-a187-007602e0b311",
   "metadata": {},
   "outputs": [],
   "source": [
    "response = requests.get(url)\n",
    "test_1 = pd.read_json(response.txt)"
   ]
  },
  {
   "cell_type": "code",
   "execution_count": null,
   "id": "c44b963c-4ba5-48af-b4f2-8cfb476aad5b",
   "metadata": {},
   "outputs": [],
   "source": []
  }
 ],
 "metadata": {
  "kernelspec": {
   "display_name": "Python 3 (ipykernel)",
   "language": "python",
   "name": "python3"
  },
  "language_info": {
   "codemirror_mode": {
    "name": "ipython",
    "version": 3
   },
   "file_extension": ".py",
   "mimetype": "text/x-python",
   "name": "python",
   "nbconvert_exporter": "python",
   "pygments_lexer": "ipython3",
   "version": "3.10.13"
  }
 },
 "nbformat": 4,
 "nbformat_minor": 5
}
