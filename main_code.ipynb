{
 "cells": [
  {
   "cell_type": "code",
   "execution_count": 1,
   "id": "150093d0-69e2-466a-87d3-e3808330afd8",
   "metadata": {},
   "outputs": [],
   "source": [
    "import numpy as np\n",
    "import pandas as pd\n",
    "import matplotlib.pyplot as plt\n",
    "import pynsee\n",
    "import pynsee.download\n",
    "import requests"
   ]
  },
  {
   "cell_type": "code",
   "execution_count": 2,
   "id": "807747f6-d64e-4c53-a1f2-c5f74580c6f3",
   "metadata": {},
   "outputs": [],
   "source": [
    "url = (\"https://www.data.gouv.fr/fr/datasets/r/5cea5412-203c-4b84-a4ef-bd6931a03bc4\")"
   ]
  },
  {
   "cell_type": "code",
   "execution_count": null,
   "id": "a47383c7-4fef-499c-a187-007602e0b311",
   "metadata": {},
   "outputs": [],
   "source": [
    "response = requests.get(url)\n",
    "test_1 = pd.read_json(response.txt)\n",
    "head(test_1)"
   ]
  },
  {
   "cell_type": "code",
   "execution_count": null,
   "id": "c44b963c-4ba5-48af-b4f2-8cfb476aad5b",
   "metadata": {},
   "outputs": [],
   "source": []
  },
  {
   "cell_type": "code",
   "execution_count": null,
   "id": "10fff7f9-3a6c-4d05-a0b2-50c3864c3e3e",
   "metadata": {},
   "outputs": [],
   "source": [
    "head(test_1)"
   ]
  },
  {
   "cell_type": "code",
   "execution_count": null,
   "id": "9f1584ff-9ecd-4a45-b3e9-55761bb9be6b",
   "metadata": {},
   "outputs": [],
   "source": [
    "print(\"hi\")"
   ]
  },
  {
   "cell_type": "code",
   "execution_count": null,
   "id": "e912875b-3023-41d1-98e8-68a6b7ca2ed9",
   "metadata": {},
   "outputs": [],
   "source": []
  }
 ],
 "metadata": {
  "kernelspec": {
   "display_name": "Python 3 (ipykernel)",
   "language": "python",
   "name": "python3"
  },
  "language_info": {
   "codemirror_mode": {
    "name": "ipython",
    "version": 3
   },
   "file_extension": ".py",
   "mimetype": "text/x-python",
   "name": "python",
   "nbconvert_exporter": "python",
   "pygments_lexer": "ipython3",
   "version": "3.10.13"
  }
 },
 "nbformat": 4,
 "nbformat_minor": 5
}
