{
 "cells": [
  {
   "cell_type": "code",
   "execution_count": null,
   "id": "95eb78cb",
   "metadata": {
    "scrolled": true
   },
   "outputs": [],
   "source": [
    "import numpy as np\n",
    "import pandas as pd\n",
    "import matplotlib.pyplot as plt\n",
    "import requests\n",
    "!pip install --upgrade xlrd #colab bug verson xlrd\n",
    "!pip install geopandas\n",
    "!pip install pandas fiona shapely pyproj rtree\n",
    "!pip install contextily\n",
    "!pip install pygeos\n",
    "!pip install topojson\n",
    "import geopandas as gpd\n",
    "import contextily as ctx\n",
    "import matplotlib.pyplot as plt\n",
    "#!pip install requests py7zr geopandas openpyxl tqdm s3fs PyYAML xlrd\n",
    "#!pip install git+https://github.com/inseefrlab/cartiflette@80b8a5a28371feb6df31d55bcc2617948a5f9b1a"
   ]
  },
  {
   "cell_type": "code",
   "execution_count": null,
   "id": "385f654b",
   "metadata": {},
   "outputs": [],
   "source": [
    "data_pollution = pd.read_csv(\"https://koumoul.com/data-fair/api/v1/datasets/igt-pouvoir-de-rechauffement-global/convert\", encoding = 'utf-8')"
   ]
  },
  {
   "cell_type": "code",
   "execution_count": null,
   "id": "7e221058",
   "metadata": {},
   "outputs": [],
   "source": [
    "base_geo_pour_merge = pd.read_csv(\"https://www.insee.fr/fr/statistiques/fichier/6800675/v_commune_2023.csv\", encoding = 'utf-8')"
   ]
  },
  {
   "cell_type": "code",
   "execution_count": null,
   "id": "2d1fd3c7",
   "metadata": {},
   "outputs": [],
   "source": [
    "base_gen_pollution = pd.merge(data_pollution, base_geo_pour_merge, how='inner', \n",
    "                              left_on='INSEE commune', right_on='COM')"
   ]
  },
  {
   "cell_type": "code",
   "execution_count": null,
   "id": "c8703b9a",
   "metadata": {},
   "outputs": [],
   "source": [
    "merging_list = data_pollution.columns"
   ]
  },
  {
   "cell_type": "code",
   "execution_count": null,
   "id": "040024d5",
   "metadata": {},
   "outputs": [],
   "source": [
    "merging_list = list(merging_list)"
   ]
  },
  {
   "cell_type": "code",
   "execution_count": null,
   "id": "2a723610",
   "metadata": {},
   "outputs": [],
   "source": [
    "merging_list.append('REG')"
   ]
  },
  {
   "cell_type": "code",
   "execution_count": null,
   "id": "0ff26a84",
   "metadata": {},
   "outputs": [],
   "source": [
    "merging_list.append('DEP')"
   ]
  },
  {
   "cell_type": "code",
   "execution_count": null,
   "id": "696d411a",
   "metadata": {},
   "outputs": [],
   "source": [
    "print(merging_list)"
   ]
  },
  {
   "cell_type": "code",
   "execution_count": null,
   "id": "87d9447b",
   "metadata": {},
   "outputs": [],
   "source": [
    "base_gen_pollution = base_gen_pollution[merging_list]"
   ]
  },
  {
   "cell_type": "code",
   "execution_count": null,
   "id": "8ba4805e",
   "metadata": {},
   "outputs": [],
   "source": [
    "base_gen_pollution.head()"
   ]
  },
  {
   "cell_type": "code",
   "execution_count": null,
   "id": "22b6221f",
   "metadata": {},
   "outputs": [],
   "source": [
    "base_gen_pollution['REG'].unique()"
   ]
  },
  {
   "cell_type": "code",
   "execution_count": null,
   "id": "ba539379",
   "metadata": {},
   "outputs": [],
   "source": [
    "base_gen_pollution.shape"
   ]
  },
  {
   "cell_type": "code",
   "execution_count": null,
   "id": "d79ecc28",
   "metadata": {},
   "outputs": [],
   "source": [
    "len(base_gen_pollution['REG'].unique())"
   ]
  },
  {
   "cell_type": "code",
   "execution_count": null,
   "id": "26df99f4",
   "metadata": {},
   "outputs": [],
   "source": [
    "len(base_gen_pollution['DEP'].unique())"
   ]
  },
  {
   "cell_type": "code",
   "execution_count": null,
   "id": "4b6477ff",
   "metadata": {},
   "outputs": [],
   "source": [
    "#probleme pour plus tard\n",
    "#differences avec le nombre de regions et de departement dans l autre table "
   ]
  },
  {
   "cell_type": "code",
   "execution_count": null,
   "id": "9aca910b",
   "metadata": {},
   "outputs": [],
   "source": [
    "tentative_groupes_1 = base_gen_pollution.drop(['Commune'], axis = 1).groupby('DEP').sum()"
   ]
  },
  {
   "cell_type": "code",
   "execution_count": null,
   "id": "9cd7a3a0",
   "metadata": {},
   "outputs": [],
   "source": [
    "tentative_groupes_1.head()"
   ]
  },
  {
   "cell_type": "code",
   "execution_count": null,
   "id": "80bf0f7f",
   "metadata": {},
   "outputs": [],
   "source": [
    "tentative_groupes_1 = tentative_groupes_1.drop(['INSEE commune', 'REG'], axis = 1)"
   ]
  },
  {
   "cell_type": "code",
   "execution_count": null,
   "id": "27492b70",
   "metadata": {},
   "outputs": [],
   "source": [
    "tentative_groupes_1.head()"
   ]
  },
  {
   "cell_type": "code",
   "execution_count": null,
   "id": "b19a7b31",
   "metadata": {},
   "outputs": [],
   "source": [
    "tentative_groupes_1.to_csv('groupe_dep.csv')"
   ]
  },
  {
   "cell_type": "code",
   "execution_count": null,
   "id": "d2520465",
   "metadata": {},
   "outputs": [],
   "source": [
    "set_dep_littoral = (59, 62, 80, 76, 27, 14, 50, 35, \n",
    "                      22, 29, 56, 44, 85, 17, 33, 40, \n",
    "                    64, 66, 11, 34,\n",
    "                    30, 13, 83, 0o6, '2A', '2B')"
   ]
  },
  {
   "cell_type": "code",
   "execution_count": null,
   "id": "98738c6f",
   "metadata": {},
   "outputs": [],
   "source": [
    "print(set_dep_littoral)"
   ]
  },
  {
   "cell_type": "code",
   "execution_count": null,
   "id": "074b471f",
   "metadata": {},
   "outputs": [],
   "source": [
    "base_gen_pollution['DEP'].unique()"
   ]
  },
  {
   "cell_type": "code",
   "execution_count": null,
   "id": "dfa3bd65",
   "metadata": {},
   "outputs": [],
   "source": [
    "#on a pas les DROM donc complique par rapport a l'autre base "
   ]
  },
  {
   "cell_type": "code",
   "execution_count": null,
   "id": "d348a063",
   "metadata": {},
   "outputs": [],
   "source": [
    "base_gen_pollution.to_csv('base_pollution.csv', sep=',', index=False, encoding='utf-8')\n"
   ]
  },
  {
   "cell_type": "code",
   "execution_count": null,
   "id": "71084998-da6a-4447-a3d9-71cd5f7babd3",
   "metadata": {},
   "outputs": [],
   "source": []
  }
 ],
 "metadata": {
  "kernelspec": {
   "display_name": "Python 3 (ipykernel)",
   "language": "python",
   "name": "python3"
  },
  "language_info": {
   "codemirror_mode": {
    "name": "ipython",
    "version": 3
   },
   "file_extension": ".py",
   "mimetype": "text/x-python",
   "name": "python",
   "nbconvert_exporter": "python",
   "pygments_lexer": "ipython3",
   "version": "3.10.13"
  }
 },
 "nbformat": 4,
 "nbformat_minor": 5
}
