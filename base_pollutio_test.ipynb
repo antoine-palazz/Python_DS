{
 "cells": [
  {
   "cell_type": "code",
   "execution_count": null,
   "id": "5bc6a182-427a-4ba3-a61f-8809260f9f44",
   "metadata": {
    "scrolled": true
   },
   "outputs": [],
   "source": [
    "import numpy as np\n",
    "import pandas as pd\n",
    "import matplotlib.pyplot as plt\n",
    "import requests\n",
    "!pip install --upgrade xlrd #colab bug verson xlrd\n",
    "!pip install geopandas\n",
    "!pip install pandas fiona shapely pyproj rtree\n",
    "!pip install contextily\n",
    "!pip install pygeos\n",
    "!pip install topojson\n",
    "import geopandas as gpd\n",
    "import contextily as ctx\n",
    "import matplotlib.pyplot as plt\n",
    "#!pip install requests py7zr geopandas openpyxl tqdm s3fs PyYAML xlrd\n",
    "#!pip install git+https://github.com/inseefrlab/cartiflette@80b8a5a28371feb6df31d55bcc2617948a5f9b1a"
   ]
  },
  {
   "cell_type": "code",
   "execution_count": null,
   "id": "978a6789-aeee-40db-9484-9c3a2a2e0dd0",
   "metadata": {},
   "outputs": [],
   "source": [
    "data_pollution = pd.read_csv(\"https://koumoul.com/data-fair/api/v1/datasets/igt-pouvoir-de-rechauffement-global/convert\", encoding = 'utf-8')"
   ]
  },
  {
   "cell_type": "code",
   "execution_count": null,
   "id": "d1b39e36-6e15-4976-97ed-07a703621580",
   "metadata": {},
   "outputs": [],
   "source": [
    "base_geo_pour_merge = pd.read_csv(\"https://www.insee.fr/fr/statistiques/fichier/6800675/v_commune_2023.csv\", encoding = 'utf-8')\n",
    "#base_geo_pour_merge_2 = base_geo_pour_merge['DEP'] and base_geo_pour_merge['REG']\n",
    "base_geo_pour_merge"
   ]
  },
  {
   "cell_type": "code",
   "execution_count": null,
   "id": "3369309c-0366-4c1c-ac90-a68e2079d683",
   "metadata": {},
   "outputs": [],
   "source": [
    "base_geo_pour_merge.drop(\"DEP\", axis = 1, inplace = True)\n",
    "base_geo_pour_merge.drop(\"REG\", axis = 1, inplace = True)"
   ]
  },
  {
   "cell_type": "code",
   "execution_count": null,
   "id": "5b9431fb-771b-46ba-b280-7b4e3083aa5a",
   "metadata": {},
   "outputs": [],
   "source": [
    "data_pollution['DEP'] = data_pollution['INSEE commune'].str[:2]"
   ]
  },
  {
   "cell_type": "code",
   "execution_count": null,
   "id": "7847d158-ef23-4450-9044-15510eaecef6",
   "metadata": {},
   "outputs": [],
   "source": [
    "correspondance_reg = {\n",
    "    84 : {1, 3, 7, 15, 26, 38, 42, 43, 63, 69, 73, 74}, #Auvergne-Rhône-Alpes\n",
    "    27 : {21, 25, 39, 58, 70, 71, 89, 90}, #Bourgogne-Franche-Comté\n",
    "    53 : {22, 29, 35, 56}, #Bretagne\n",
    "    28 : {18, 28, 36, 37, 41, 45}, #Centre-Val de Loire\n",
    "    94 : {'2A', '2B'}, #Corse\n",
    "    44 : {8, 10, 51, 52, 54, 55, 57, 67, 68, 88}, #Grand Est\n",
    "    32 : {2, 59, 60, 62, 80}, #Hauts-de-France\n",
    "    11 : {75, 77, 78, 91, 92, 93, 94, 95}, #Île-de-France\n",
    "    76 : {14, 27, 50, 61, 76}, #Normandie\n",
    "    75 : {16, 17, 19, 23, 24, 33, 40, 47, 64, 79, 86, 87}, #Nouvelle-Aquitaine\n",
    "    24 : {9, 11, 12, 30, 31, 32, 34, 46, 48, 65, 66, 81, 82}, #Occitanie\n",
    "    52 : {44, 49, 53, 72, 85}, #Pays de la Loire\n",
    "    93 : {4, 5, 6, 13, 83, 84} #Provence-Alpes-Côte d'Azur\n",
    "}"
   ]
  },
  {
   "cell_type": "code",
   "execution_count": null,
   "id": "1a980bbc-80dc-4930-94c4-390ca41c4cfb",
   "metadata": {},
   "outputs": [],
   "source": [
    "data_pollution['REG'] = data_pollution['DEP'].map(correspondance_reg)"
   ]
  },
  {
   "cell_type": "code",
   "execution_count": null,
   "id": "85c36548-345d-47fb-9f8a-035dae83be7a",
   "metadata": {},
   "outputs": [],
   "source": [
    "base_gen_pollution = pd.merge(data_pollution, base_geo_pour_merge, how='inner', \n",
    "                              left_on='INSEE commune', right_on='COM')\n",
    "base_gen_pollution"
   ]
  },
  {
   "cell_type": "code",
   "execution_count": null,
   "id": "16bb6b2b-12b3-4b88-9e82-96d41fdcec33",
   "metadata": {},
   "outputs": [],
   "source": [
    "data_pollution.head()"
   ]
  },
  {
   "cell_type": "code",
   "execution_count": null,
   "id": "10a074ac-2758-4c36-a512-907f92a60fab",
   "metadata": {},
   "outputs": [],
   "source": [
    "merging_list = data_pollution.columns"
   ]
  },
  {
   "cell_type": "code",
   "execution_count": null,
   "id": "49686f27-0880-4697-862f-6f632ac98aa9",
   "metadata": {},
   "outputs": [],
   "source": [
    "merging_list = list(merging_list)"
   ]
  },
  {
   "cell_type": "code",
   "execution_count": null,
   "id": "b3eced73-ef18-451d-971c-1852eb3cb07c",
   "metadata": {},
   "outputs": [],
   "source": [
    "print(merging_list)"
   ]
  },
  {
   "cell_type": "code",
   "execution_count": null,
   "id": "c0a7fbdd-9823-4d21-8c0d-21fdc89ee25b",
   "metadata": {},
   "outputs": [],
   "source": [
    "base_gen_pollution = base_gen_pollution[merging_list]"
   ]
  },
  {
   "cell_type": "code",
   "execution_count": null,
   "id": "dbedca22-5dcf-4beb-920d-68b81e5b2dea",
   "metadata": {},
   "outputs": [],
   "source": [
    "base_gen_pollution.head()"
   ]
  },
  {
   "cell_type": "code",
   "execution_count": null,
   "id": "ff09cba3-8371-4158-8c09-ac5d25ecf514",
   "metadata": {},
   "outputs": [],
   "source": [
    "base_gen_pollution['REG'].unique()"
   ]
  },
  {
   "cell_type": "code",
   "execution_count": null,
   "id": "47f75770-86ba-46d7-9bfb-9115c62834c0",
   "metadata": {},
   "outputs": [],
   "source": [
    "base_gen_pollution.shape"
   ]
  },
  {
   "cell_type": "code",
   "execution_count": null,
   "id": "baebbde8-74e3-4c97-8372-656b3dfb4d17",
   "metadata": {},
   "outputs": [],
   "source": [
    "len(base_gen_pollution['INSEE commune'].unique())"
   ]
  },
  {
   "cell_type": "code",
   "execution_count": null,
   "id": "d63c165a-eabb-462c-a123-53c9092681e8",
   "metadata": {},
   "outputs": [],
   "source": [
    "len(base_gen_pollution['REG'].unique())"
   ]
  },
  {
   "cell_type": "code",
   "execution_count": null,
   "id": "ba501a95-4bf5-4adf-bad8-2b01192d7af1",
   "metadata": {},
   "outputs": [],
   "source": [
    "len(base_gen_pollution['DEP'].unique())"
   ]
  },
  {
   "cell_type": "code",
   "execution_count": null,
   "id": "b7fa1f23-9394-486e-b97b-e5ec1c932954",
   "metadata": {},
   "outputs": [],
   "source": [
    "#probleme pour plus tard\n",
    "#differences avec le nombre de regions et de departement dans l autre table \n",
    "# Gabrielle veut bien s'en charger"
   ]
  },
  {
   "cell_type": "code",
   "execution_count": null,
   "id": "5856c456-db1e-4fc4-8877-00381e04cd94",
   "metadata": {},
   "outputs": [],
   "source": [
    "# Filtrer les lignes pour lesquelles le département ou la région ne sont pas renseignés\n",
    "#(ou au sens \"au moins l'un des deux)\n",
    "REG_DEP_na = data_pollution[(data_pollution['DEP'].isna())] #| (base_gen_pollution['REG'].isna())\n",
    "REG_DEP_na.shape\n",
    "#on perd les données de 1339 communes donc il faudrait trouver un moyen de prendre le département à partir du code commune"
   ]
  },
  {
   "cell_type": "code",
   "execution_count": null,
   "id": "210a0c4a-cd23-4896-9087-c80d73579540",
   "metadata": {},
   "outputs": [],
   "source": [
    "tentative_groupes_1 = base_gen_pollution.drop(['Commune'], axis = 1).groupby('DEP').sum()"
   ]
  },
  {
   "cell_type": "code",
   "execution_count": null,
   "id": "cc9f67bc-de7a-4e59-aec0-cb81c5b66c88",
   "metadata": {},
   "outputs": [],
   "source": [
    "tentative_groupes_1"
   ]
  },
  {
   "cell_type": "code",
   "execution_count": null,
   "id": "a5be14de-810d-4bab-b3e8-b86660eaf49e",
   "metadata": {},
   "outputs": [],
   "source": [
    "tentative_groupes_1 = tentative_groupes_1.drop(['INSEE commune', 'REG'], axis = 1)"
   ]
  },
  {
   "cell_type": "code",
   "execution_count": null,
   "id": "bd7f1990-3c4e-4917-9607-0d496bba001c",
   "metadata": {},
   "outputs": [],
   "source": [
    "tentative_groupes_1"
   ]
  },
  {
   "cell_type": "code",
   "execution_count": null,
   "id": "f7cb0a4a-fd8f-4320-bc70-ad71d10c14ce",
   "metadata": {},
   "outputs": [],
   "source": [
    "tentative_groupes_1.shape"
   ]
  },
  {
   "cell_type": "code",
   "execution_count": null,
   "id": "80bf4d89-fb0a-47d9-8fd9-479cca85ccaa",
   "metadata": {},
   "outputs": [],
   "source": [
    "set_dep_littoral = (59, 62, 80, 76, 27, 14, 50, 35, \n",
    "                      22, 29, 56, 44, 85, 17, 33, 40, \n",
    "                    64, 66, 11, 34,\n",
    "                    30, 13, 83, 0o6, '2A', '2B')"
   ]
  },
  {
   "cell_type": "code",
   "execution_count": null,
   "id": "e3fb6782-30ca-4353-a0d3-52a8edb6ace3",
   "metadata": {},
   "outputs": [],
   "source": [
    "print(set_dep_littoral)"
   ]
  },
  {
   "cell_type": "code",
   "execution_count": null,
   "id": "e15177d6-56ca-490e-8719-cc81234c6691",
   "metadata": {},
   "outputs": [],
   "source": [
    "base_gen_pollution['DEP'].unique()"
   ]
  },
  {
   "cell_type": "code",
   "execution_count": null,
   "id": "1af746a5-6c5b-4bdd-9e17-b95167a4259f",
   "metadata": {},
   "outputs": [],
   "source": [
    "#on a pas les DROM donc complique par rapport a l'autre base "
   ]
  },
  {
   "cell_type": "code",
   "execution_count": null,
   "id": "2f42db94-0834-437a-9cbd-e2dcec8c79ae",
   "metadata": {},
   "outputs": [],
   "source": [
    "# Importation de la base en local pour faire tourner le code main\n",
    "base_gen_pollution.to_csv('base_pollution.csv', sep=',', index=False, encoding='utf-8')"
   ]
  },
  {
   "cell_type": "code",
   "execution_count": null,
   "id": "71e86391-0b5a-4a02-9b58-8e72a5716716",
   "metadata": {},
   "outputs": [],
   "source": []
  }
 ],
 "metadata": {
  "kernelspec": {
   "display_name": "Python 3 (ipykernel)",
   "language": "python",
   "name": "python3"
  },
  "language_info": {
   "codemirror_mode": {
    "name": "ipython",
    "version": 3
   },
   "file_extension": ".py",
   "mimetype": "text/x-python",
   "name": "python",
   "nbconvert_exporter": "python",
   "pygments_lexer": "ipython3",
   "version": "3.10.13"
  }
 },
 "nbformat": 4,
 "nbformat_minor": 5
}
