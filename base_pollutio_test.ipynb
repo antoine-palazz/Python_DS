{
 "cells": [
  {
   "cell_type": "code",
   "execution_count": 1,
   "id": "5bc6a182-427a-4ba3-a61f-8809260f9f44",
   "metadata": {
    "scrolled": true
   },
   "outputs": [
    {
     "name": "stdout",
     "output_type": "stream",
     "text": [
      "Requirement already satisfied: xlrd in /opt/mamba/lib/python3.10/site-packages (2.0.1)\n",
      "Requirement already satisfied: geopandas in /opt/mamba/lib/python3.10/site-packages (0.14.1)\n",
      "Requirement already satisfied: fiona>=1.8.21 in /opt/mamba/lib/python3.10/site-packages (from geopandas) (1.9.3)\n",
      "Requirement already satisfied: packaging in /opt/mamba/lib/python3.10/site-packages (from geopandas) (23.1)\n",
      "Requirement already satisfied: pandas>=1.4.0 in /opt/mamba/lib/python3.10/site-packages (from geopandas) (2.1.3)\n",
      "Requirement already satisfied: pyproj>=3.3.0 in /opt/mamba/lib/python3.10/site-packages (from geopandas) (3.6.1)\n",
      "Requirement already satisfied: shapely>=1.8.0 in /opt/mamba/lib/python3.10/site-packages (from geopandas) (2.0.2)\n",
      "Requirement already satisfied: attrs>=19.2.0 in /opt/mamba/lib/python3.10/site-packages (from fiona>=1.8.21->geopandas) (23.1.0)\n",
      "Requirement already satisfied: certifi in /opt/mamba/lib/python3.10/site-packages (from fiona>=1.8.21->geopandas) (2023.11.17)\n",
      "Requirement already satisfied: click~=8.0 in /opt/mamba/lib/python3.10/site-packages (from fiona>=1.8.21->geopandas) (8.1.7)\n",
      "Requirement already satisfied: click-plugins>=1.0 in /opt/mamba/lib/python3.10/site-packages (from fiona>=1.8.21->geopandas) (1.1.1)\n",
      "Requirement already satisfied: cligj>=0.5 in /opt/mamba/lib/python3.10/site-packages (from fiona>=1.8.21->geopandas) (0.7.2)\n",
      "Requirement already satisfied: munch>=2.3.2 in /opt/mamba/lib/python3.10/site-packages (from fiona>=1.8.21->geopandas) (4.0.0)\n",
      "Requirement already satisfied: numpy<2,>=1.22.4 in /opt/mamba/lib/python3.10/site-packages (from pandas>=1.4.0->geopandas) (1.26.2)\n",
      "Requirement already satisfied: python-dateutil>=2.8.2 in /opt/mamba/lib/python3.10/site-packages (from pandas>=1.4.0->geopandas) (2.8.2)\n",
      "Requirement already satisfied: pytz>=2020.1 in /opt/mamba/lib/python3.10/site-packages (from pandas>=1.4.0->geopandas) (2023.3.post1)\n",
      "Requirement already satisfied: tzdata>=2022.1 in /opt/mamba/lib/python3.10/site-packages (from pandas>=1.4.0->geopandas) (2023.3)\n",
      "Requirement already satisfied: six>=1.5 in /opt/mamba/lib/python3.10/site-packages (from python-dateutil>=2.8.2->pandas>=1.4.0->geopandas) (1.16.0)\n",
      "Requirement already satisfied: pandas in /opt/mamba/lib/python3.10/site-packages (2.1.3)\n",
      "Requirement already satisfied: fiona in /opt/mamba/lib/python3.10/site-packages (1.9.3)\n",
      "Requirement already satisfied: shapely in /opt/mamba/lib/python3.10/site-packages (2.0.2)\n",
      "Requirement already satisfied: pyproj in /opt/mamba/lib/python3.10/site-packages (3.6.1)\n",
      "Requirement already satisfied: rtree in /opt/mamba/lib/python3.10/site-packages (1.1.0)\n",
      "Requirement already satisfied: numpy<2,>=1.22.4 in /opt/mamba/lib/python3.10/site-packages (from pandas) (1.26.2)\n",
      "Requirement already satisfied: python-dateutil>=2.8.2 in /opt/mamba/lib/python3.10/site-packages (from pandas) (2.8.2)\n",
      "Requirement already satisfied: pytz>=2020.1 in /opt/mamba/lib/python3.10/site-packages (from pandas) (2023.3.post1)\n",
      "Requirement already satisfied: tzdata>=2022.1 in /opt/mamba/lib/python3.10/site-packages (from pandas) (2023.3)\n",
      "Requirement already satisfied: attrs>=19.2.0 in /opt/mamba/lib/python3.10/site-packages (from fiona) (23.1.0)\n",
      "Requirement already satisfied: certifi in /opt/mamba/lib/python3.10/site-packages (from fiona) (2023.11.17)\n",
      "Requirement already satisfied: click~=8.0 in /opt/mamba/lib/python3.10/site-packages (from fiona) (8.1.7)\n",
      "Requirement already satisfied: click-plugins>=1.0 in /opt/mamba/lib/python3.10/site-packages (from fiona) (1.1.1)\n",
      "Requirement already satisfied: cligj>=0.5 in /opt/mamba/lib/python3.10/site-packages (from fiona) (0.7.2)\n",
      "Requirement already satisfied: munch>=2.3.2 in /opt/mamba/lib/python3.10/site-packages (from fiona) (4.0.0)\n",
      "Requirement already satisfied: six>=1.5 in /opt/mamba/lib/python3.10/site-packages (from python-dateutil>=2.8.2->pandas) (1.16.0)\n",
      "Requirement already satisfied: contextily in /opt/mamba/lib/python3.10/site-packages (1.4.0)\n",
      "Requirement already satisfied: geopy in /opt/mamba/lib/python3.10/site-packages (from contextily) (2.4.1)\n",
      "Requirement already satisfied: matplotlib in /opt/mamba/lib/python3.10/site-packages (from contextily) (3.8.2)\n",
      "Requirement already satisfied: mercantile in /opt/mamba/lib/python3.10/site-packages (from contextily) (1.2.1)\n",
      "Requirement already satisfied: pillow in /opt/mamba/lib/python3.10/site-packages (from contextily) (10.1.0)\n",
      "Requirement already satisfied: rasterio in /opt/mamba/lib/python3.10/site-packages (from contextily) (1.3.9)\n",
      "Requirement already satisfied: requests in /opt/mamba/lib/python3.10/site-packages (from contextily) (2.31.0)\n",
      "Requirement already satisfied: joblib in /opt/mamba/lib/python3.10/site-packages (from contextily) (1.3.2)\n",
      "Requirement already satisfied: xyzservices in /opt/mamba/lib/python3.10/site-packages (from contextily) (2023.10.1)\n",
      "Requirement already satisfied: geographiclib<3,>=1.52 in /opt/mamba/lib/python3.10/site-packages (from geopy->contextily) (2.0)\n",
      "Requirement already satisfied: contourpy>=1.0.1 in /opt/mamba/lib/python3.10/site-packages (from matplotlib->contextily) (1.2.0)\n",
      "Requirement already satisfied: cycler>=0.10 in /opt/mamba/lib/python3.10/site-packages (from matplotlib->contextily) (0.12.1)\n",
      "Requirement already satisfied: fonttools>=4.22.0 in /opt/mamba/lib/python3.10/site-packages (from matplotlib->contextily) (4.46.0)\n",
      "Requirement already satisfied: kiwisolver>=1.3.1 in /opt/mamba/lib/python3.10/site-packages (from matplotlib->contextily) (1.4.5)\n",
      "Requirement already satisfied: numpy<2,>=1.21 in /opt/mamba/lib/python3.10/site-packages (from matplotlib->contextily) (1.26.2)\n",
      "Requirement already satisfied: packaging>=20.0 in /opt/mamba/lib/python3.10/site-packages (from matplotlib->contextily) (23.1)\n",
      "Requirement already satisfied: pyparsing>=2.3.1 in /opt/mamba/lib/python3.10/site-packages (from matplotlib->contextily) (3.1.1)\n",
      "Requirement already satisfied: python-dateutil>=2.7 in /opt/mamba/lib/python3.10/site-packages (from matplotlib->contextily) (2.8.2)\n",
      "Requirement already satisfied: click>=3.0 in /opt/mamba/lib/python3.10/site-packages (from mercantile->contextily) (8.1.7)\n",
      "Requirement already satisfied: affine in /opt/mamba/lib/python3.10/site-packages (from rasterio->contextily) (2.4.0)\n",
      "Requirement already satisfied: attrs in /opt/mamba/lib/python3.10/site-packages (from rasterio->contextily) (23.1.0)\n",
      "Requirement already satisfied: certifi in /opt/mamba/lib/python3.10/site-packages (from rasterio->contextily) (2023.11.17)\n",
      "Requirement already satisfied: cligj>=0.5 in /opt/mamba/lib/python3.10/site-packages (from rasterio->contextily) (0.7.2)\n",
      "Requirement already satisfied: snuggs>=1.4.1 in /opt/mamba/lib/python3.10/site-packages (from rasterio->contextily) (1.4.7)\n",
      "Requirement already satisfied: click-plugins in /opt/mamba/lib/python3.10/site-packages (from rasterio->contextily) (1.1.1)\n",
      "Requirement already satisfied: setuptools in /opt/mamba/lib/python3.10/site-packages (from rasterio->contextily) (68.1.2)\n",
      "Requirement already satisfied: charset-normalizer<4,>=2 in /opt/mamba/lib/python3.10/site-packages (from requests->contextily) (3.2.0)\n",
      "Requirement already satisfied: idna<4,>=2.5 in /opt/mamba/lib/python3.10/site-packages (from requests->contextily) (3.4)\n",
      "Requirement already satisfied: urllib3<3,>=1.21.1 in /opt/mamba/lib/python3.10/site-packages (from requests->contextily) (1.26.18)\n",
      "Requirement already satisfied: six>=1.5 in /opt/mamba/lib/python3.10/site-packages (from python-dateutil>=2.7->matplotlib->contextily) (1.16.0)\n",
      "Requirement already satisfied: pygeos in /opt/mamba/lib/python3.10/site-packages (0.14)\n",
      "Requirement already satisfied: numpy>=1.13 in /opt/mamba/lib/python3.10/site-packages (from pygeos) (1.26.2)\n",
      "Requirement already satisfied: topojson in /opt/mamba/lib/python3.10/site-packages (1.7)\n",
      "Requirement already satisfied: numpy in /opt/mamba/lib/python3.10/site-packages (from topojson) (1.26.2)\n",
      "Requirement already satisfied: shapely in /opt/mamba/lib/python3.10/site-packages (from topojson) (2.0.2)\n",
      "Requirement already satisfied: packaging in /opt/mamba/lib/python3.10/site-packages (from topojson) (23.1)\n"
     ]
    }
   ],
   "source": [
    "import numpy as np\n",
    "import pandas as pd\n",
    "import matplotlib.pyplot as plt\n",
    "import requests\n",
    "!pip install --upgrade xlrd #colab bug verson xlrd\n",
    "!pip install geopandas\n",
    "!pip install pandas fiona shapely pyproj rtree\n",
    "!pip install contextily\n",
    "!pip install pygeos\n",
    "!pip install topojson\n",
    "import geopandas as gpd\n",
    "import contextily as ctx\n",
    "import matplotlib.pyplot as plt\n",
    "#!pip install requests py7zr geopandas openpyxl tqdm s3fs PyYAML xlrd\n",
    "#!pip install git+https://github.com/inseefrlab/cartiflette@80b8a5a28371feb6df31d55bcc2617948a5f9b1a"
   ]
  },
  {
   "cell_type": "code",
   "execution_count": 2,
   "id": "978a6789-aeee-40db-9484-9c3a2a2e0dd0",
   "metadata": {},
   "outputs": [],
   "source": [
    "data_pollution = pd.read_csv(\"https://koumoul.com/data-fair/api/v1/datasets/igt-pouvoir-de-rechauffement-global/convert\", encoding = 'utf-8')"
   ]
  },
  {
   "cell_type": "code",
   "execution_count": 3,
   "id": "6549aa38-efd3-4c28-bcf2-75a9f1f3274c",
   "metadata": {},
   "outputs": [
    {
     "data": {
      "text/html": [
       "<div>\n",
       "<style scoped>\n",
       "    .dataframe tbody tr th:only-of-type {\n",
       "        vertical-align: middle;\n",
       "    }\n",
       "\n",
       "    .dataframe tbody tr th {\n",
       "        vertical-align: top;\n",
       "    }\n",
       "\n",
       "    .dataframe thead th {\n",
       "        text-align: right;\n",
       "    }\n",
       "</style>\n",
       "<table border=\"1\" class=\"dataframe\">\n",
       "  <thead>\n",
       "    <tr style=\"text-align: right;\">\n",
       "      <th></th>\n",
       "      <th>INSEE commune</th>\n",
       "      <th>Commune</th>\n",
       "      <th>Agriculture</th>\n",
       "      <th>Autres transports</th>\n",
       "      <th>Autres transports international</th>\n",
       "      <th>CO2 biomasse hors-total</th>\n",
       "      <th>Déchets</th>\n",
       "      <th>Energie</th>\n",
       "      <th>Industrie hors-énergie</th>\n",
       "      <th>Résidentiel</th>\n",
       "      <th>Routier</th>\n",
       "      <th>Tertiaire</th>\n",
       "    </tr>\n",
       "  </thead>\n",
       "  <tbody>\n",
       "    <tr>\n",
       "      <th>0</th>\n",
       "      <td>01001</td>\n",
       "      <td>L'ABERGEMENT-CLEMENCIAT</td>\n",
       "      <td>3711.425991</td>\n",
       "      <td>NaN</td>\n",
       "      <td>NaN</td>\n",
       "      <td>432.751835</td>\n",
       "      <td>101.430476</td>\n",
       "      <td>2.354558</td>\n",
       "      <td>6.911213</td>\n",
       "      <td>309.358195</td>\n",
       "      <td>793.156501</td>\n",
       "      <td>367.036172</td>\n",
       "    </tr>\n",
       "    <tr>\n",
       "      <th>1</th>\n",
       "      <td>01002</td>\n",
       "      <td>L'ABERGEMENT-DE-VAREY</td>\n",
       "      <td>475.330205</td>\n",
       "      <td>NaN</td>\n",
       "      <td>NaN</td>\n",
       "      <td>140.741660</td>\n",
       "      <td>140.675439</td>\n",
       "      <td>2.354558</td>\n",
       "      <td>6.911213</td>\n",
       "      <td>104.866444</td>\n",
       "      <td>348.997893</td>\n",
       "      <td>112.934207</td>\n",
       "    </tr>\n",
       "    <tr>\n",
       "      <th>2</th>\n",
       "      <td>01004</td>\n",
       "      <td>AMBERIEU-EN-BUGEY</td>\n",
       "      <td>499.043526</td>\n",
       "      <td>212.577908</td>\n",
       "      <td>NaN</td>\n",
       "      <td>10313.446515</td>\n",
       "      <td>5314.314445</td>\n",
       "      <td>998.332482</td>\n",
       "      <td>2930.354461</td>\n",
       "      <td>16616.822534</td>\n",
       "      <td>15642.420313</td>\n",
       "      <td>10732.376934</td>\n",
       "    </tr>\n",
       "    <tr>\n",
       "      <th>3</th>\n",
       "      <td>01005</td>\n",
       "      <td>AMBERIEUX-EN-DOMBES</td>\n",
       "      <td>1859.160954</td>\n",
       "      <td>NaN</td>\n",
       "      <td>NaN</td>\n",
       "      <td>1144.429311</td>\n",
       "      <td>216.217508</td>\n",
       "      <td>94.182310</td>\n",
       "      <td>276.448534</td>\n",
       "      <td>663.683146</td>\n",
       "      <td>1756.341319</td>\n",
       "      <td>782.404357</td>\n",
       "    </tr>\n",
       "    <tr>\n",
       "      <th>4</th>\n",
       "      <td>01006</td>\n",
       "      <td>AMBLEON</td>\n",
       "      <td>448.966808</td>\n",
       "      <td>NaN</td>\n",
       "      <td>NaN</td>\n",
       "      <td>77.033834</td>\n",
       "      <td>48.401549</td>\n",
       "      <td>NaN</td>\n",
       "      <td>NaN</td>\n",
       "      <td>43.714019</td>\n",
       "      <td>398.786800</td>\n",
       "      <td>51.681756</td>\n",
       "    </tr>\n",
       "  </tbody>\n",
       "</table>\n",
       "</div>"
      ],
      "text/plain": [
       "  INSEE commune                  Commune  Agriculture  Autres transports  \\\n",
       "0         01001  L'ABERGEMENT-CLEMENCIAT  3711.425991                NaN   \n",
       "1         01002    L'ABERGEMENT-DE-VAREY   475.330205                NaN   \n",
       "2         01004        AMBERIEU-EN-BUGEY   499.043526         212.577908   \n",
       "3         01005      AMBERIEUX-EN-DOMBES  1859.160954                NaN   \n",
       "4         01006                  AMBLEON   448.966808                NaN   \n",
       "\n",
       "   Autres transports international  CO2 biomasse hors-total      Déchets  \\\n",
       "0                              NaN               432.751835   101.430476   \n",
       "1                              NaN               140.741660   140.675439   \n",
       "2                              NaN             10313.446515  5314.314445   \n",
       "3                              NaN              1144.429311   216.217508   \n",
       "4                              NaN                77.033834    48.401549   \n",
       "\n",
       "      Energie  Industrie hors-énergie   Résidentiel       Routier  \\\n",
       "0    2.354558                6.911213    309.358195    793.156501   \n",
       "1    2.354558                6.911213    104.866444    348.997893   \n",
       "2  998.332482             2930.354461  16616.822534  15642.420313   \n",
       "3   94.182310              276.448534    663.683146   1756.341319   \n",
       "4         NaN                     NaN     43.714019    398.786800   \n",
       "\n",
       "      Tertiaire  \n",
       "0    367.036172  \n",
       "1    112.934207  \n",
       "2  10732.376934  \n",
       "3    782.404357  \n",
       "4     51.681756  "
      ]
     },
     "execution_count": 3,
     "metadata": {},
     "output_type": "execute_result"
    }
   ],
   "source": [
    "data_pollution.head()"
   ]
  },
  {
   "cell_type": "code",
   "execution_count": 7,
   "id": "d1b39e36-6e15-4976-97ed-07a703621580",
   "metadata": {},
   "outputs": [],
   "source": [
    "base_geo_pour_merge = pd.read_csv(\"https://www.insee.fr/fr/statistiques/fichier/6800675/v_commune_2023.csv\", encoding = 'utf-8')"
   ]
  },
  {
   "cell_type": "code",
   "execution_count": 8,
   "id": "1d66a0df-ef09-467b-9e8f-7e9c7f82a843",
   "metadata": {},
   "outputs": [
    {
     "data": {
      "text/html": [
       "<div>\n",
       "<style scoped>\n",
       "    .dataframe tbody tr th:only-of-type {\n",
       "        vertical-align: middle;\n",
       "    }\n",
       "\n",
       "    .dataframe tbody tr th {\n",
       "        vertical-align: top;\n",
       "    }\n",
       "\n",
       "    .dataframe thead th {\n",
       "        text-align: right;\n",
       "    }\n",
       "</style>\n",
       "<table border=\"1\" class=\"dataframe\">\n",
       "  <thead>\n",
       "    <tr style=\"text-align: right;\">\n",
       "      <th></th>\n",
       "      <th>TYPECOM</th>\n",
       "      <th>COM</th>\n",
       "      <th>REG</th>\n",
       "      <th>DEP</th>\n",
       "      <th>CTCD</th>\n",
       "      <th>ARR</th>\n",
       "      <th>TNCC</th>\n",
       "      <th>NCC</th>\n",
       "      <th>NCCENR</th>\n",
       "      <th>LIBELLE</th>\n",
       "      <th>CAN</th>\n",
       "      <th>COMPARENT</th>\n",
       "    </tr>\n",
       "  </thead>\n",
       "  <tbody>\n",
       "    <tr>\n",
       "      <th>0</th>\n",
       "      <td>COM</td>\n",
       "      <td>01001</td>\n",
       "      <td>84.0</td>\n",
       "      <td>01</td>\n",
       "      <td>01D</td>\n",
       "      <td>012</td>\n",
       "      <td>5</td>\n",
       "      <td>ABERGEMENT CLEMENCIAT</td>\n",
       "      <td>Abergement-Clémenciat</td>\n",
       "      <td>L'Abergement-Clémenciat</td>\n",
       "      <td>0108</td>\n",
       "      <td>NaN</td>\n",
       "    </tr>\n",
       "    <tr>\n",
       "      <th>1</th>\n",
       "      <td>COM</td>\n",
       "      <td>01002</td>\n",
       "      <td>84.0</td>\n",
       "      <td>01</td>\n",
       "      <td>01D</td>\n",
       "      <td>011</td>\n",
       "      <td>5</td>\n",
       "      <td>ABERGEMENT DE VAREY</td>\n",
       "      <td>Abergement-de-Varey</td>\n",
       "      <td>L'Abergement-de-Varey</td>\n",
       "      <td>0101</td>\n",
       "      <td>NaN</td>\n",
       "    </tr>\n",
       "    <tr>\n",
       "      <th>2</th>\n",
       "      <td>COM</td>\n",
       "      <td>01004</td>\n",
       "      <td>84.0</td>\n",
       "      <td>01</td>\n",
       "      <td>01D</td>\n",
       "      <td>011</td>\n",
       "      <td>1</td>\n",
       "      <td>AMBERIEU EN BUGEY</td>\n",
       "      <td>Ambérieu-en-Bugey</td>\n",
       "      <td>Ambérieu-en-Bugey</td>\n",
       "      <td>0101</td>\n",
       "      <td>NaN</td>\n",
       "    </tr>\n",
       "    <tr>\n",
       "      <th>3</th>\n",
       "      <td>COM</td>\n",
       "      <td>01005</td>\n",
       "      <td>84.0</td>\n",
       "      <td>01</td>\n",
       "      <td>01D</td>\n",
       "      <td>012</td>\n",
       "      <td>1</td>\n",
       "      <td>AMBERIEUX EN DOMBES</td>\n",
       "      <td>Ambérieux-en-Dombes</td>\n",
       "      <td>Ambérieux-en-Dombes</td>\n",
       "      <td>0122</td>\n",
       "      <td>NaN</td>\n",
       "    </tr>\n",
       "    <tr>\n",
       "      <th>4</th>\n",
       "      <td>COM</td>\n",
       "      <td>01006</td>\n",
       "      <td>84.0</td>\n",
       "      <td>01</td>\n",
       "      <td>01D</td>\n",
       "      <td>011</td>\n",
       "      <td>1</td>\n",
       "      <td>AMBLEON</td>\n",
       "      <td>Ambléon</td>\n",
       "      <td>Ambléon</td>\n",
       "      <td>0104</td>\n",
       "      <td>NaN</td>\n",
       "    </tr>\n",
       "  </tbody>\n",
       "</table>\n",
       "</div>"
      ],
      "text/plain": [
       "  TYPECOM    COM   REG DEP CTCD  ARR  TNCC                    NCC  \\\n",
       "0     COM  01001  84.0  01  01D  012     5  ABERGEMENT CLEMENCIAT   \n",
       "1     COM  01002  84.0  01  01D  011     5    ABERGEMENT DE VAREY   \n",
       "2     COM  01004  84.0  01  01D  011     1      AMBERIEU EN BUGEY   \n",
       "3     COM  01005  84.0  01  01D  012     1    AMBERIEUX EN DOMBES   \n",
       "4     COM  01006  84.0  01  01D  011     1                AMBLEON   \n",
       "\n",
       "                  NCCENR                  LIBELLE   CAN  COMPARENT  \n",
       "0  Abergement-Clémenciat  L'Abergement-Clémenciat  0108        NaN  \n",
       "1    Abergement-de-Varey    L'Abergement-de-Varey  0101        NaN  \n",
       "2      Ambérieu-en-Bugey        Ambérieu-en-Bugey  0101        NaN  \n",
       "3    Ambérieux-en-Dombes      Ambérieux-en-Dombes  0122        NaN  \n",
       "4                Ambléon                  Ambléon  0104        NaN  "
      ]
     },
     "execution_count": 8,
     "metadata": {},
     "output_type": "execute_result"
    }
   ],
   "source": [
    "base_geo_pour_merge.head()"
   ]
  },
  {
   "cell_type": "code",
   "execution_count": 9,
   "id": "85c36548-345d-47fb-9f8a-035dae83be7a",
   "metadata": {},
   "outputs": [],
   "source": [
    "base_gen_pollution = pd.merge(data_pollution, base_geo_pour_merge, how='inner', \n",
    "                              left_on='INSEE commune', right_on='COM')"
   ]
  },
  {
   "cell_type": "code",
   "execution_count": 11,
   "id": "10a074ac-2758-4c36-a512-907f92a60fab",
   "metadata": {},
   "outputs": [],
   "source": [
    "merging_list = data_pollution.columns"
   ]
  },
  {
   "cell_type": "code",
   "execution_count": 18,
   "id": "49686f27-0880-4697-862f-6f632ac98aa9",
   "metadata": {},
   "outputs": [],
   "source": [
    "merging_list = list(merging_list)"
   ]
  },
  {
   "cell_type": "code",
   "execution_count": 25,
   "id": "b4089e57-c7cf-4ef4-bd96-7b95017d44f9",
   "metadata": {},
   "outputs": [],
   "source": [
    "merging_list.append('REG')"
   ]
  },
  {
   "cell_type": "code",
   "execution_count": 26,
   "id": "637dccf7-095c-4781-b92a-f49b0b503f9d",
   "metadata": {},
   "outputs": [],
   "source": [
    "merging_list.append('DEP')"
   ]
  },
  {
   "cell_type": "code",
   "execution_count": 27,
   "id": "b3eced73-ef18-451d-971c-1852eb3cb07c",
   "metadata": {},
   "outputs": [
    {
     "name": "stdout",
     "output_type": "stream",
     "text": [
      "['INSEE commune', 'Commune', 'Agriculture', 'Autres transports', 'Autres transports international', 'CO2 biomasse hors-total', 'Déchets', 'Energie', 'Industrie hors-énergie', 'Résidentiel', 'Routier', 'Tertiaire', 'REG', 'DEP']\n"
     ]
    }
   ],
   "source": [
    "print(merging_list)"
   ]
  },
  {
   "cell_type": "code",
   "execution_count": 28,
   "id": "c0a7fbdd-9823-4d21-8c0d-21fdc89ee25b",
   "metadata": {},
   "outputs": [],
   "source": [
    "base_gen_pollution = base_gen_pollution[merging_list]"
   ]
  },
  {
   "cell_type": "code",
   "execution_count": 29,
   "id": "dbedca22-5dcf-4beb-920d-68b81e5b2dea",
   "metadata": {},
   "outputs": [
    {
     "data": {
      "text/html": [
       "<div>\n",
       "<style scoped>\n",
       "    .dataframe tbody tr th:only-of-type {\n",
       "        vertical-align: middle;\n",
       "    }\n",
       "\n",
       "    .dataframe tbody tr th {\n",
       "        vertical-align: top;\n",
       "    }\n",
       "\n",
       "    .dataframe thead th {\n",
       "        text-align: right;\n",
       "    }\n",
       "</style>\n",
       "<table border=\"1\" class=\"dataframe\">\n",
       "  <thead>\n",
       "    <tr style=\"text-align: right;\">\n",
       "      <th></th>\n",
       "      <th>INSEE commune</th>\n",
       "      <th>Commune</th>\n",
       "      <th>Agriculture</th>\n",
       "      <th>Autres transports</th>\n",
       "      <th>Autres transports international</th>\n",
       "      <th>CO2 biomasse hors-total</th>\n",
       "      <th>Déchets</th>\n",
       "      <th>Energie</th>\n",
       "      <th>Industrie hors-énergie</th>\n",
       "      <th>Résidentiel</th>\n",
       "      <th>Routier</th>\n",
       "      <th>Tertiaire</th>\n",
       "      <th>REG</th>\n",
       "      <th>DEP</th>\n",
       "    </tr>\n",
       "  </thead>\n",
       "  <tbody>\n",
       "    <tr>\n",
       "      <th>0</th>\n",
       "      <td>01001</td>\n",
       "      <td>L'ABERGEMENT-CLEMENCIAT</td>\n",
       "      <td>3711.425991</td>\n",
       "      <td>NaN</td>\n",
       "      <td>NaN</td>\n",
       "      <td>432.751835</td>\n",
       "      <td>101.430476</td>\n",
       "      <td>2.354558</td>\n",
       "      <td>6.911213</td>\n",
       "      <td>309.358195</td>\n",
       "      <td>793.156501</td>\n",
       "      <td>367.036172</td>\n",
       "      <td>84.0</td>\n",
       "      <td>01</td>\n",
       "    </tr>\n",
       "    <tr>\n",
       "      <th>1</th>\n",
       "      <td>01002</td>\n",
       "      <td>L'ABERGEMENT-DE-VAREY</td>\n",
       "      <td>475.330205</td>\n",
       "      <td>NaN</td>\n",
       "      <td>NaN</td>\n",
       "      <td>140.741660</td>\n",
       "      <td>140.675439</td>\n",
       "      <td>2.354558</td>\n",
       "      <td>6.911213</td>\n",
       "      <td>104.866444</td>\n",
       "      <td>348.997893</td>\n",
       "      <td>112.934207</td>\n",
       "      <td>84.0</td>\n",
       "      <td>01</td>\n",
       "    </tr>\n",
       "    <tr>\n",
       "      <th>2</th>\n",
       "      <td>01004</td>\n",
       "      <td>AMBERIEU-EN-BUGEY</td>\n",
       "      <td>499.043526</td>\n",
       "      <td>212.577908</td>\n",
       "      <td>NaN</td>\n",
       "      <td>10313.446515</td>\n",
       "      <td>5314.314445</td>\n",
       "      <td>998.332482</td>\n",
       "      <td>2930.354461</td>\n",
       "      <td>16616.822534</td>\n",
       "      <td>15642.420313</td>\n",
       "      <td>10732.376934</td>\n",
       "      <td>84.0</td>\n",
       "      <td>01</td>\n",
       "    </tr>\n",
       "    <tr>\n",
       "      <th>3</th>\n",
       "      <td>01005</td>\n",
       "      <td>AMBERIEUX-EN-DOMBES</td>\n",
       "      <td>1859.160954</td>\n",
       "      <td>NaN</td>\n",
       "      <td>NaN</td>\n",
       "      <td>1144.429311</td>\n",
       "      <td>216.217508</td>\n",
       "      <td>94.182310</td>\n",
       "      <td>276.448534</td>\n",
       "      <td>663.683146</td>\n",
       "      <td>1756.341319</td>\n",
       "      <td>782.404357</td>\n",
       "      <td>84.0</td>\n",
       "      <td>01</td>\n",
       "    </tr>\n",
       "    <tr>\n",
       "      <th>4</th>\n",
       "      <td>01006</td>\n",
       "      <td>AMBLEON</td>\n",
       "      <td>448.966808</td>\n",
       "      <td>NaN</td>\n",
       "      <td>NaN</td>\n",
       "      <td>77.033834</td>\n",
       "      <td>48.401549</td>\n",
       "      <td>NaN</td>\n",
       "      <td>NaN</td>\n",
       "      <td>43.714019</td>\n",
       "      <td>398.786800</td>\n",
       "      <td>51.681756</td>\n",
       "      <td>84.0</td>\n",
       "      <td>01</td>\n",
       "    </tr>\n",
       "  </tbody>\n",
       "</table>\n",
       "</div>"
      ],
      "text/plain": [
       "  INSEE commune                  Commune  Agriculture  Autres transports  \\\n",
       "0         01001  L'ABERGEMENT-CLEMENCIAT  3711.425991                NaN   \n",
       "1         01002    L'ABERGEMENT-DE-VAREY   475.330205                NaN   \n",
       "2         01004        AMBERIEU-EN-BUGEY   499.043526         212.577908   \n",
       "3         01005      AMBERIEUX-EN-DOMBES  1859.160954                NaN   \n",
       "4         01006                  AMBLEON   448.966808                NaN   \n",
       "\n",
       "   Autres transports international  CO2 biomasse hors-total      Déchets  \\\n",
       "0                              NaN               432.751835   101.430476   \n",
       "1                              NaN               140.741660   140.675439   \n",
       "2                              NaN             10313.446515  5314.314445   \n",
       "3                              NaN              1144.429311   216.217508   \n",
       "4                              NaN                77.033834    48.401549   \n",
       "\n",
       "      Energie  Industrie hors-énergie   Résidentiel       Routier  \\\n",
       "0    2.354558                6.911213    309.358195    793.156501   \n",
       "1    2.354558                6.911213    104.866444    348.997893   \n",
       "2  998.332482             2930.354461  16616.822534  15642.420313   \n",
       "3   94.182310              276.448534    663.683146   1756.341319   \n",
       "4         NaN                     NaN     43.714019    398.786800   \n",
       "\n",
       "      Tertiaire   REG DEP  \n",
       "0    367.036172  84.0  01  \n",
       "1    112.934207  84.0  01  \n",
       "2  10732.376934  84.0  01  \n",
       "3    782.404357  84.0  01  \n",
       "4     51.681756  84.0  01  "
      ]
     },
     "execution_count": 29,
     "metadata": {},
     "output_type": "execute_result"
    }
   ],
   "source": [
    "base_gen_pollution.head()"
   ]
  },
  {
   "cell_type": "code",
   "execution_count": 30,
   "id": "76505310-4381-4928-954f-e6159cd7bf1c",
   "metadata": {},
   "outputs": [
    {
     "ename": "ValueError",
     "evalue": "cannot convert float NaN to integer",
     "output_type": "error",
     "traceback": [
      "\u001b[0;31m---------------------------------------------------------------------------\u001b[0m",
      "\u001b[0;31mValueError\u001b[0m                                Traceback (most recent call last)",
      "Cell \u001b[0;32mIn[30], line 4\u001b[0m\n\u001b[1;32m      2\u001b[0m base \u001b[38;5;241m=\u001b[39m base_gen_pollution[\u001b[38;5;124m'\u001b[39m\u001b[38;5;124mREG\u001b[39m\u001b[38;5;124m'\u001b[39m]\n\u001b[1;32m      3\u001b[0m \u001b[38;5;28;01mfor\u001b[39;00m i \u001b[38;5;129;01min\u001b[39;00m base : \n\u001b[0;32m----> 4\u001b[0m     liste_reg_int\u001b[38;5;241m.\u001b[39mappend(\u001b[38;5;28;43mint\u001b[39;49m\u001b[43m(\u001b[49m\u001b[43mi\u001b[49m\u001b[43m)\u001b[49m)\n\u001b[1;32m      5\u001b[0m base\n",
      "\u001b[0;31mValueError\u001b[0m: cannot convert float NaN to integer"
     ]
    }
   ],
   "source": []
  },
  {
   "cell_type": "code",
   "execution_count": 32,
   "id": "ff09cba3-8371-4158-8c09-ac5d25ecf514",
   "metadata": {},
   "outputs": [
    {
     "data": {
      "text/plain": [
       "array([84., nan, 32., 93., 44., 76., 28., 75., 24., 27., 53., 94., 52.,\n",
       "       11.])"
      ]
     },
     "execution_count": 32,
     "metadata": {},
     "output_type": "execute_result"
    }
   ],
   "source": [
    "base_gen_pollution['REG'].unique()"
   ]
  },
  {
   "cell_type": "code",
   "execution_count": 34,
   "id": "47f75770-86ba-46d7-9bfb-9115c62834c0",
   "metadata": {},
   "outputs": [
    {
     "data": {
      "text/plain": [
       "(36196, 14)"
      ]
     },
     "execution_count": 34,
     "metadata": {},
     "output_type": "execute_result"
    }
   ],
   "source": [
    "base_gen_pollution.shape"
   ]
  },
  {
   "cell_type": "code",
   "execution_count": 35,
   "id": "617eb8b8-af58-462f-a446-97f3fe6feb8a",
   "metadata": {},
   "outputs": [
    {
     "ename": "NameError",
     "evalue": "name 'data_gen' is not defined",
     "output_type": "error",
     "traceback": [
      "\u001b[0;31m---------------------------------------------------------------------------\u001b[0m",
      "\u001b[0;31mNameError\u001b[0m                                 Traceback (most recent call last)",
      "Cell \u001b[0;32mIn[35], line 1\u001b[0m\n\u001b[0;32m----> 1\u001b[0m \u001b[43mdata_gen\u001b[49m\u001b[38;5;241m.\u001b[39mshape\n",
      "\u001b[0;31mNameError\u001b[0m: name 'data_gen' is not defined"
     ]
    }
   ],
   "source": [
    "data_gen.shape"
   ]
  },
  {
   "cell_type": "code",
   "execution_count": 36,
   "id": "baebbde8-74e3-4c97-8372-656b3dfb4d17",
   "metadata": {},
   "outputs": [
    {
     "data": {
      "text/plain": [
       "14"
      ]
     },
     "execution_count": 36,
     "metadata": {},
     "output_type": "execute_result"
    }
   ],
   "source": [
    "len(base_gen_pollution['REG'].unique())"
   ]
  },
  {
   "cell_type": "code",
   "execution_count": 37,
   "id": "ba501a95-4bf5-4adf-bad8-2b01192d7af1",
   "metadata": {},
   "outputs": [
    {
     "data": {
      "text/plain": [
       "97"
      ]
     },
     "execution_count": 37,
     "metadata": {},
     "output_type": "execute_result"
    }
   ],
   "source": [
    "len(base_gen_pollution['DEP'].unique())"
   ]
  },
  {
   "cell_type": "code",
   "execution_count": 38,
   "id": "b7fa1f23-9394-486e-b97b-e5ec1c932954",
   "metadata": {},
   "outputs": [],
   "source": [
    "#probleme pour plus tard\n",
    "#differences avec le nombre de regions et de departement dans l autre table "
   ]
  },
  {
   "cell_type": "code",
   "execution_count": 39,
   "id": "210a0c4a-cd23-4896-9087-c80d73579540",
   "metadata": {},
   "outputs": [],
   "source": [
    "tentative_groupes_1 = base_gen_pollution.drop(['Commune'], axis = 1).groupby('DEP').sum()"
   ]
  },
  {
   "cell_type": "code",
   "execution_count": 40,
   "id": "cc9f67bc-de7a-4e59-aec0-cb81c5b66c88",
   "metadata": {},
   "outputs": [
    {
     "data": {
      "text/html": [
       "<div>\n",
       "<style scoped>\n",
       "    .dataframe tbody tr th:only-of-type {\n",
       "        vertical-align: middle;\n",
       "    }\n",
       "\n",
       "    .dataframe tbody tr th {\n",
       "        vertical-align: top;\n",
       "    }\n",
       "\n",
       "    .dataframe thead th {\n",
       "        text-align: right;\n",
       "    }\n",
       "</style>\n",
       "<table border=\"1\" class=\"dataframe\">\n",
       "  <thead>\n",
       "    <tr style=\"text-align: right;\">\n",
       "      <th></th>\n",
       "      <th>INSEE commune</th>\n",
       "      <th>Agriculture</th>\n",
       "      <th>Autres transports</th>\n",
       "      <th>Autres transports international</th>\n",
       "      <th>CO2 biomasse hors-total</th>\n",
       "      <th>Déchets</th>\n",
       "      <th>Energie</th>\n",
       "      <th>Industrie hors-énergie</th>\n",
       "      <th>Résidentiel</th>\n",
       "      <th>Routier</th>\n",
       "      <th>Tertiaire</th>\n",
       "      <th>REG</th>\n",
       "    </tr>\n",
       "    <tr>\n",
       "      <th>DEP</th>\n",
       "      <th></th>\n",
       "      <th></th>\n",
       "      <th></th>\n",
       "      <th></th>\n",
       "      <th></th>\n",
       "      <th></th>\n",
       "      <th></th>\n",
       "      <th></th>\n",
       "      <th></th>\n",
       "      <th></th>\n",
       "      <th></th>\n",
       "      <th></th>\n",
       "    </tr>\n",
       "  </thead>\n",
       "  <tbody>\n",
       "    <tr>\n",
       "      <th>01</th>\n",
       "      <td>0100101002010040100501006010070100801009010100...</td>\n",
       "      <td>7.816819e+05</td>\n",
       "      <td>15372.396872</td>\n",
       "      <td>258.110863</td>\n",
       "      <td>703148.137380</td>\n",
       "      <td>270526.994907</td>\n",
       "      <td>107108.831646</td>\n",
       "      <td>704385.028742</td>\n",
       "      <td>546437.687545</td>\n",
       "      <td>1.599545e+06</td>\n",
       "      <td>412255.462975</td>\n",
       "      <td>32928.0</td>\n",
       "    </tr>\n",
       "    <tr>\n",
       "      <th>02</th>\n",
       "      <td>0200102002020030200402005020060200702008020090...</td>\n",
       "      <td>1.270742e+06</td>\n",
       "      <td>57904.229456</td>\n",
       "      <td>2476.899590</td>\n",
       "      <td>615899.788193</td>\n",
       "      <td>180007.937389</td>\n",
       "      <td>60344.960348</td>\n",
       "      <td>737257.067508</td>\n",
       "      <td>637882.728847</td>\n",
       "      <td>1.381081e+06</td>\n",
       "      <td>324154.207262</td>\n",
       "      <td>25536.0</td>\n",
       "    </tr>\n",
       "    <tr>\n",
       "      <th>03</th>\n",
       "      <td>0300103002030030300403005030060300703008030090...</td>\n",
       "      <td>1.947087e+06</td>\n",
       "      <td>19686.272920</td>\n",
       "      <td>545.159738</td>\n",
       "      <td>565740.821993</td>\n",
       "      <td>111205.867274</td>\n",
       "      <td>102975.024821</td>\n",
       "      <td>457513.404309</td>\n",
       "      <td>445664.842850</td>\n",
       "      <td>1.164099e+06</td>\n",
       "      <td>224438.681860</td>\n",
       "      <td>26628.0</td>\n",
       "    </tr>\n",
       "    <tr>\n",
       "      <th>04</th>\n",
       "      <td>0400104004040050400604007040080400904012040130...</td>\n",
       "      <td>3.604105e+05</td>\n",
       "      <td>5851.619941</td>\n",
       "      <td>0.000000</td>\n",
       "      <td>115775.438355</td>\n",
       "      <td>50497.301309</td>\n",
       "      <td>12184.836311</td>\n",
       "      <td>60899.229209</td>\n",
       "      <td>116640.241600</td>\n",
       "      <td>3.882993e+05</td>\n",
       "      <td>98069.382968</td>\n",
       "      <td>18414.0</td>\n",
       "    </tr>\n",
       "    <tr>\n",
       "      <th>05</th>\n",
       "      <td>0500105003050040500605007050080500905010050110...</td>\n",
       "      <td>3.003535e+05</td>\n",
       "      <td>6216.001726</td>\n",
       "      <td>0.000000</td>\n",
       "      <td>83727.598246</td>\n",
       "      <td>22099.068688</td>\n",
       "      <td>5453.155729</td>\n",
       "      <td>16006.370120</td>\n",
       "      <td>121515.999855</td>\n",
       "      <td>3.441621e+05</td>\n",
       "      <td>77274.057096</td>\n",
       "      <td>15066.0</td>\n",
       "    </tr>\n",
       "  </tbody>\n",
       "</table>\n",
       "</div>"
      ],
      "text/plain": [
       "                                         INSEE commune   Agriculture  \\\n",
       "DEP                                                                    \n",
       "01   0100101002010040100501006010070100801009010100...  7.816819e+05   \n",
       "02   0200102002020030200402005020060200702008020090...  1.270742e+06   \n",
       "03   0300103002030030300403005030060300703008030090...  1.947087e+06   \n",
       "04   0400104004040050400604007040080400904012040130...  3.604105e+05   \n",
       "05   0500105003050040500605007050080500905010050110...  3.003535e+05   \n",
       "\n",
       "     Autres transports  Autres transports international  \\\n",
       "DEP                                                       \n",
       "01        15372.396872                       258.110863   \n",
       "02        57904.229456                      2476.899590   \n",
       "03        19686.272920                       545.159738   \n",
       "04         5851.619941                         0.000000   \n",
       "05         6216.001726                         0.000000   \n",
       "\n",
       "     CO2 biomasse hors-total        Déchets        Energie  \\\n",
       "DEP                                                          \n",
       "01             703148.137380  270526.994907  107108.831646   \n",
       "02             615899.788193  180007.937389   60344.960348   \n",
       "03             565740.821993  111205.867274  102975.024821   \n",
       "04             115775.438355   50497.301309   12184.836311   \n",
       "05              83727.598246   22099.068688    5453.155729   \n",
       "\n",
       "     Industrie hors-énergie    Résidentiel       Routier      Tertiaire  \\\n",
       "DEP                                                                       \n",
       "01            704385.028742  546437.687545  1.599545e+06  412255.462975   \n",
       "02            737257.067508  637882.728847  1.381081e+06  324154.207262   \n",
       "03            457513.404309  445664.842850  1.164099e+06  224438.681860   \n",
       "04             60899.229209  116640.241600  3.882993e+05   98069.382968   \n",
       "05             16006.370120  121515.999855  3.441621e+05   77274.057096   \n",
       "\n",
       "         REG  \n",
       "DEP           \n",
       "01   32928.0  \n",
       "02   25536.0  \n",
       "03   26628.0  \n",
       "04   18414.0  \n",
       "05   15066.0  "
      ]
     },
     "execution_count": 40,
     "metadata": {},
     "output_type": "execute_result"
    }
   ],
   "source": [
    "tentative_groupes_1.head()"
   ]
  },
  {
   "cell_type": "code",
   "execution_count": 42,
   "id": "a5be14de-810d-4bab-b3e8-b86660eaf49e",
   "metadata": {},
   "outputs": [],
   "source": [
    "tentative_groupes_1 = tentative_groupes_1.drop(['INSEE commune', 'REG'], axis = 1)"
   ]
  },
  {
   "cell_type": "code",
   "execution_count": 43,
   "id": "bd7f1990-3c4e-4917-9607-0d496bba001c",
   "metadata": {},
   "outputs": [
    {
     "data": {
      "text/html": [
       "<div>\n",
       "<style scoped>\n",
       "    .dataframe tbody tr th:only-of-type {\n",
       "        vertical-align: middle;\n",
       "    }\n",
       "\n",
       "    .dataframe tbody tr th {\n",
       "        vertical-align: top;\n",
       "    }\n",
       "\n",
       "    .dataframe thead th {\n",
       "        text-align: right;\n",
       "    }\n",
       "</style>\n",
       "<table border=\"1\" class=\"dataframe\">\n",
       "  <thead>\n",
       "    <tr style=\"text-align: right;\">\n",
       "      <th></th>\n",
       "      <th>Agriculture</th>\n",
       "      <th>Autres transports</th>\n",
       "      <th>Autres transports international</th>\n",
       "      <th>CO2 biomasse hors-total</th>\n",
       "      <th>Déchets</th>\n",
       "      <th>Energie</th>\n",
       "      <th>Industrie hors-énergie</th>\n",
       "      <th>Résidentiel</th>\n",
       "      <th>Routier</th>\n",
       "      <th>Tertiaire</th>\n",
       "    </tr>\n",
       "    <tr>\n",
       "      <th>DEP</th>\n",
       "      <th></th>\n",
       "      <th></th>\n",
       "      <th></th>\n",
       "      <th></th>\n",
       "      <th></th>\n",
       "      <th></th>\n",
       "      <th></th>\n",
       "      <th></th>\n",
       "      <th></th>\n",
       "      <th></th>\n",
       "    </tr>\n",
       "  </thead>\n",
       "  <tbody>\n",
       "    <tr>\n",
       "      <th>01</th>\n",
       "      <td>7.816819e+05</td>\n",
       "      <td>15372.396872</td>\n",
       "      <td>258.110863</td>\n",
       "      <td>703148.137380</td>\n",
       "      <td>270526.994907</td>\n",
       "      <td>107108.831646</td>\n",
       "      <td>704385.028742</td>\n",
       "      <td>546437.687545</td>\n",
       "      <td>1.599545e+06</td>\n",
       "      <td>412255.462975</td>\n",
       "    </tr>\n",
       "    <tr>\n",
       "      <th>02</th>\n",
       "      <td>1.270742e+06</td>\n",
       "      <td>57904.229456</td>\n",
       "      <td>2476.899590</td>\n",
       "      <td>615899.788193</td>\n",
       "      <td>180007.937389</td>\n",
       "      <td>60344.960348</td>\n",
       "      <td>737257.067508</td>\n",
       "      <td>637882.728847</td>\n",
       "      <td>1.381081e+06</td>\n",
       "      <td>324154.207262</td>\n",
       "    </tr>\n",
       "    <tr>\n",
       "      <th>03</th>\n",
       "      <td>1.947087e+06</td>\n",
       "      <td>19686.272920</td>\n",
       "      <td>545.159738</td>\n",
       "      <td>565740.821993</td>\n",
       "      <td>111205.867274</td>\n",
       "      <td>102975.024821</td>\n",
       "      <td>457513.404309</td>\n",
       "      <td>445664.842850</td>\n",
       "      <td>1.164099e+06</td>\n",
       "      <td>224438.681860</td>\n",
       "    </tr>\n",
       "    <tr>\n",
       "      <th>04</th>\n",
       "      <td>3.604105e+05</td>\n",
       "      <td>5851.619941</td>\n",
       "      <td>0.000000</td>\n",
       "      <td>115775.438355</td>\n",
       "      <td>50497.301309</td>\n",
       "      <td>12184.836311</td>\n",
       "      <td>60899.229209</td>\n",
       "      <td>116640.241600</td>\n",
       "      <td>3.882993e+05</td>\n",
       "      <td>98069.382968</td>\n",
       "    </tr>\n",
       "    <tr>\n",
       "      <th>05</th>\n",
       "      <td>3.003535e+05</td>\n",
       "      <td>6216.001726</td>\n",
       "      <td>0.000000</td>\n",
       "      <td>83727.598246</td>\n",
       "      <td>22099.068688</td>\n",
       "      <td>5453.155729</td>\n",
       "      <td>16006.370120</td>\n",
       "      <td>121515.999855</td>\n",
       "      <td>3.441621e+05</td>\n",
       "      <td>77274.057096</td>\n",
       "    </tr>\n",
       "  </tbody>\n",
       "</table>\n",
       "</div>"
      ],
      "text/plain": [
       "      Agriculture  Autres transports  Autres transports international  \\\n",
       "DEP                                                                     \n",
       "01   7.816819e+05       15372.396872                       258.110863   \n",
       "02   1.270742e+06       57904.229456                      2476.899590   \n",
       "03   1.947087e+06       19686.272920                       545.159738   \n",
       "04   3.604105e+05        5851.619941                         0.000000   \n",
       "05   3.003535e+05        6216.001726                         0.000000   \n",
       "\n",
       "     CO2 biomasse hors-total        Déchets        Energie  \\\n",
       "DEP                                                          \n",
       "01             703148.137380  270526.994907  107108.831646   \n",
       "02             615899.788193  180007.937389   60344.960348   \n",
       "03             565740.821993  111205.867274  102975.024821   \n",
       "04             115775.438355   50497.301309   12184.836311   \n",
       "05              83727.598246   22099.068688    5453.155729   \n",
       "\n",
       "     Industrie hors-énergie    Résidentiel       Routier      Tertiaire  \n",
       "DEP                                                                      \n",
       "01            704385.028742  546437.687545  1.599545e+06  412255.462975  \n",
       "02            737257.067508  637882.728847  1.381081e+06  324154.207262  \n",
       "03            457513.404309  445664.842850  1.164099e+06  224438.681860  \n",
       "04             60899.229209  116640.241600  3.882993e+05   98069.382968  \n",
       "05             16006.370120  121515.999855  3.441621e+05   77274.057096  "
      ]
     },
     "execution_count": 43,
     "metadata": {},
     "output_type": "execute_result"
    }
   ],
   "source": [
    "tentative_groupes_1.head()"
   ]
  },
  {
   "cell_type": "code",
   "execution_count": 44,
   "id": "f7cb0a4a-fd8f-4320-bc70-ad71d10c14ce",
   "metadata": {},
   "outputs": [
    {
     "data": {
      "text/plain": [
       "(96, 10)"
      ]
     },
     "execution_count": 44,
     "metadata": {},
     "output_type": "execute_result"
    }
   ],
   "source": [
    "tentative_groupes_1.shape"
   ]
  },
  {
   "cell_type": "code",
   "execution_count": 49,
   "id": "80bf4d89-fb0a-47d9-8fd9-479cca85ccaa",
   "metadata": {},
   "outputs": [],
   "source": [
    "set_dep_littoral = (59, 62, 80, 76, 27, 14, 50, 35, \n",
    "                      22, 29, 56, 44, 85, 17, 33, 40, \n",
    "                    64, 66, 11, 34,\n",
    "                    30, 13, 83, 0o6, '2A', '2B')"
   ]
  },
  {
   "cell_type": "code",
   "execution_count": 50,
   "id": "e3fb6782-30ca-4353-a0d3-52a8edb6ace3",
   "metadata": {},
   "outputs": [
    {
     "name": "stdout",
     "output_type": "stream",
     "text": [
      "(59, 62, 80, 76, 27, 14, 50, 35, 22, 29, 56, 44, 85, 17, 33, 40, 64, 66, 11, 34, 30, 13, 83, 6, '2A', '2B')\n"
     ]
    }
   ],
   "source": [
    "print(set_dep_littoral)"
   ]
  },
  {
   "cell_type": "code",
   "execution_count": 48,
   "id": "e15177d6-56ca-490e-8719-cc81234c6691",
   "metadata": {},
   "outputs": [
    {
     "data": {
      "text/plain": [
       "array(['01', nan, '02', '03', '04', '05', '06', '07', '08', '09', '10',\n",
       "       '11', '12', '13', '14', '15', '16', '17', '18', '19', '21', '22',\n",
       "       '23', '24', '25', '26', '27', '28', '29', '2A', '2B', '30', '31',\n",
       "       '32', '33', '34', '35', '36', '37', '38', '39', '40', '41', '42',\n",
       "       '43', '44', '45', '46', '47', '48', '49', '50', '51', '52', '53',\n",
       "       '54', '55', '56', '57', '58', '59', '60', '61', '62', '63', '64',\n",
       "       '65', '66', '67', '68', '69', '70', '71', '72', '73', '74', '75',\n",
       "       '76', '77', '78', '79', '80', '81', '82', '83', '84', '85', '86',\n",
       "       '87', '88', '89', '90', '91', '92', '93', '94', '95'], dtype=object)"
      ]
     },
     "execution_count": 48,
     "metadata": {},
     "output_type": "execute_result"
    }
   ],
   "source": [
    "base_gen_pollution['DEP'].unique()"
   ]
  },
  {
   "cell_type": "code",
   "execution_count": 51,
   "id": "1af746a5-6c5b-4bdd-9e17-b95167a4259f",
   "metadata": {},
   "outputs": [],
   "source": [
    "#on a pas les DROM donc complique par rapport a l'autre base "
   ]
  },
  {
   "cell_type": "code",
   "execution_count": 54,
   "id": "2f42db94-0834-437a-9cbd-e2dcec8c79ae",
   "metadata": {},
   "outputs": [],
   "source": [
    "base_gen_pollution.to_csv('base_pollution.csv', sep=',', index=False, encoding='utf-8')\n"
   ]
  },
  {
   "cell_type": "code",
   "execution_count": null,
   "id": "ef56f292-5b2d-4e1c-8e30-07640b98d728",
   "metadata": {},
   "outputs": [],
   "source": []
  }
 ],
 "metadata": {
  "kernelspec": {
   "display_name": "Python 3 (ipykernel)",
   "language": "python",
   "name": "python3"
  },
  "language_info": {
   "codemirror_mode": {
    "name": "ipython",
    "version": 3
   },
   "file_extension": ".py",
   "mimetype": "text/x-python",
   "name": "python",
   "nbconvert_exporter": "python",
   "pygments_lexer": "ipython3",
   "version": "3.10.13"
  }
 },
 "nbformat": 4,
 "nbformat_minor": 5
}
