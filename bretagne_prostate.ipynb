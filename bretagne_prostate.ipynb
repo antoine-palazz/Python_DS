{
 "cells": [
  {
   "cell_type": "code",
   "execution_count": 2,
   "id": "5b0bbdeb-37fe-44a0-b62c-7ae7a711afe3",
   "metadata": {},
   "outputs": [
    {
     "name": "stdout",
     "output_type": "stream",
     "text": [
      "Requirement already satisfied: xlrd in /opt/mamba/lib/python3.10/site-packages (2.0.1)\n",
      "Requirement already satisfied: geopandas in /opt/mamba/lib/python3.10/site-packages (0.14.1)\n",
      "Requirement already satisfied: fiona>=1.8.21 in /opt/mamba/lib/python3.10/site-packages (from geopandas) (1.9.3)\n",
      "Requirement already satisfied: packaging in /opt/mamba/lib/python3.10/site-packages (from geopandas) (23.1)\n",
      "Requirement already satisfied: pandas>=1.4.0 in /opt/mamba/lib/python3.10/site-packages (from geopandas) (2.1.4)\n",
      "Requirement already satisfied: pyproj>=3.3.0 in /opt/mamba/lib/python3.10/site-packages (from geopandas) (3.6.1)\n",
      "Requirement already satisfied: shapely>=1.8.0 in /opt/mamba/lib/python3.10/site-packages (from geopandas) (2.0.2)\n",
      "Requirement already satisfied: attrs>=19.2.0 in /opt/mamba/lib/python3.10/site-packages (from fiona>=1.8.21->geopandas) (23.1.0)\n",
      "Requirement already satisfied: certifi in /opt/mamba/lib/python3.10/site-packages (from fiona>=1.8.21->geopandas) (2023.11.17)\n",
      "Requirement already satisfied: click~=8.0 in /opt/mamba/lib/python3.10/site-packages (from fiona>=1.8.21->geopandas) (8.1.7)\n",
      "Requirement already satisfied: click-plugins>=1.0 in /opt/mamba/lib/python3.10/site-packages (from fiona>=1.8.21->geopandas) (1.1.1)\n",
      "Requirement already satisfied: cligj>=0.5 in /opt/mamba/lib/python3.10/site-packages (from fiona>=1.8.21->geopandas) (0.7.2)\n",
      "Requirement already satisfied: munch>=2.3.2 in /opt/mamba/lib/python3.10/site-packages (from fiona>=1.8.21->geopandas) (4.0.0)\n",
      "Requirement already satisfied: numpy<2,>=1.22.4 in /opt/mamba/lib/python3.10/site-packages (from pandas>=1.4.0->geopandas) (1.26.2)\n",
      "Requirement already satisfied: python-dateutil>=2.8.2 in /opt/mamba/lib/python3.10/site-packages (from pandas>=1.4.0->geopandas) (2.8.2)\n",
      "Requirement already satisfied: pytz>=2020.1 in /opt/mamba/lib/python3.10/site-packages (from pandas>=1.4.0->geopandas) (2023.3.post1)\n",
      "Requirement already satisfied: tzdata>=2022.1 in /opt/mamba/lib/python3.10/site-packages (from pandas>=1.4.0->geopandas) (2023.3)\n",
      "Requirement already satisfied: six>=1.5 in /opt/mamba/lib/python3.10/site-packages (from python-dateutil>=2.8.2->pandas>=1.4.0->geopandas) (1.16.0)\n",
      "Requirement already satisfied: pandas in /opt/mamba/lib/python3.10/site-packages (2.1.4)\n",
      "Requirement already satisfied: fiona in /opt/mamba/lib/python3.10/site-packages (1.9.3)\n",
      "Requirement already satisfied: shapely in /opt/mamba/lib/python3.10/site-packages (2.0.2)\n",
      "Requirement already satisfied: pyproj in /opt/mamba/lib/python3.10/site-packages (3.6.1)\n",
      "Requirement already satisfied: rtree in /opt/mamba/lib/python3.10/site-packages (1.1.0)\n",
      "Requirement already satisfied: numpy<2,>=1.22.4 in /opt/mamba/lib/python3.10/site-packages (from pandas) (1.26.2)\n",
      "Requirement already satisfied: python-dateutil>=2.8.2 in /opt/mamba/lib/python3.10/site-packages (from pandas) (2.8.2)\n",
      "Requirement already satisfied: pytz>=2020.1 in /opt/mamba/lib/python3.10/site-packages (from pandas) (2023.3.post1)\n",
      "Requirement already satisfied: tzdata>=2022.1 in /opt/mamba/lib/python3.10/site-packages (from pandas) (2023.3)\n",
      "Requirement already satisfied: attrs>=19.2.0 in /opt/mamba/lib/python3.10/site-packages (from fiona) (23.1.0)\n",
      "Requirement already satisfied: certifi in /opt/mamba/lib/python3.10/site-packages (from fiona) (2023.11.17)\n",
      "Requirement already satisfied: click~=8.0 in /opt/mamba/lib/python3.10/site-packages (from fiona) (8.1.7)\n",
      "Requirement already satisfied: click-plugins>=1.0 in /opt/mamba/lib/python3.10/site-packages (from fiona) (1.1.1)\n",
      "Requirement already satisfied: cligj>=0.5 in /opt/mamba/lib/python3.10/site-packages (from fiona) (0.7.2)\n",
      "Requirement already satisfied: munch>=2.3.2 in /opt/mamba/lib/python3.10/site-packages (from fiona) (4.0.0)\n",
      "Requirement already satisfied: six>=1.5 in /opt/mamba/lib/python3.10/site-packages (from python-dateutil>=2.8.2->pandas) (1.16.0)\n",
      "Requirement already satisfied: contextily in /opt/mamba/lib/python3.10/site-packages (1.4.0)\n",
      "Requirement already satisfied: geopy in /opt/mamba/lib/python3.10/site-packages (from contextily) (2.4.1)\n",
      "Requirement already satisfied: matplotlib in /opt/mamba/lib/python3.10/site-packages (from contextily) (3.8.2)\n",
      "Requirement already satisfied: mercantile in /opt/mamba/lib/python3.10/site-packages (from contextily) (1.2.1)\n",
      "Requirement already satisfied: pillow in /opt/mamba/lib/python3.10/site-packages (from contextily) (10.1.0)\n",
      "Requirement already satisfied: rasterio in /opt/mamba/lib/python3.10/site-packages (from contextily) (1.3.9)\n",
      "Requirement already satisfied: requests in /opt/mamba/lib/python3.10/site-packages (from contextily) (2.31.0)\n",
      "Requirement already satisfied: joblib in /opt/mamba/lib/python3.10/site-packages (from contextily) (1.3.2)\n",
      "Requirement already satisfied: xyzservices in /opt/mamba/lib/python3.10/site-packages (from contextily) (2023.10.1)\n",
      "Requirement already satisfied: geographiclib<3,>=1.52 in /opt/mamba/lib/python3.10/site-packages (from geopy->contextily) (2.0)\n",
      "Requirement already satisfied: contourpy>=1.0.1 in /opt/mamba/lib/python3.10/site-packages (from matplotlib->contextily) (1.2.0)\n",
      "Requirement already satisfied: cycler>=0.10 in /opt/mamba/lib/python3.10/site-packages (from matplotlib->contextily) (0.12.1)\n",
      "Requirement already satisfied: fonttools>=4.22.0 in /opt/mamba/lib/python3.10/site-packages (from matplotlib->contextily) (4.47.0)\n",
      "Requirement already satisfied: kiwisolver>=1.3.1 in /opt/mamba/lib/python3.10/site-packages (from matplotlib->contextily) (1.4.5)\n",
      "Requirement already satisfied: numpy<2,>=1.21 in /opt/mamba/lib/python3.10/site-packages (from matplotlib->contextily) (1.26.2)\n",
      "Requirement already satisfied: packaging>=20.0 in /opt/mamba/lib/python3.10/site-packages (from matplotlib->contextily) (23.1)\n",
      "Requirement already satisfied: pyparsing>=2.3.1 in /opt/mamba/lib/python3.10/site-packages (from matplotlib->contextily) (3.1.1)\n",
      "Requirement already satisfied: python-dateutil>=2.7 in /opt/mamba/lib/python3.10/site-packages (from matplotlib->contextily) (2.8.2)\n",
      "Requirement already satisfied: click>=3.0 in /opt/mamba/lib/python3.10/site-packages (from mercantile->contextily) (8.1.7)\n",
      "Requirement already satisfied: affine in /opt/mamba/lib/python3.10/site-packages (from rasterio->contextily) (2.4.0)\n",
      "Requirement already satisfied: attrs in /opt/mamba/lib/python3.10/site-packages (from rasterio->contextily) (23.1.0)\n",
      "Requirement already satisfied: certifi in /opt/mamba/lib/python3.10/site-packages (from rasterio->contextily) (2023.11.17)\n",
      "Requirement already satisfied: cligj>=0.5 in /opt/mamba/lib/python3.10/site-packages (from rasterio->contextily) (0.7.2)\n",
      "Requirement already satisfied: snuggs>=1.4.1 in /opt/mamba/lib/python3.10/site-packages (from rasterio->contextily) (1.4.7)\n",
      "Requirement already satisfied: click-plugins in /opt/mamba/lib/python3.10/site-packages (from rasterio->contextily) (1.1.1)\n",
      "Requirement already satisfied: setuptools in /opt/mamba/lib/python3.10/site-packages (from rasterio->contextily) (68.1.2)\n",
      "Requirement already satisfied: charset-normalizer<4,>=2 in /opt/mamba/lib/python3.10/site-packages (from requests->contextily) (3.2.0)\n",
      "Requirement already satisfied: idna<4,>=2.5 in /opt/mamba/lib/python3.10/site-packages (from requests->contextily) (3.4)\n",
      "Requirement already satisfied: urllib3<3,>=1.21.1 in /opt/mamba/lib/python3.10/site-packages (from requests->contextily) (1.26.18)\n",
      "Requirement already satisfied: six>=1.5 in /opt/mamba/lib/python3.10/site-packages (from python-dateutil>=2.7->matplotlib->contextily) (1.16.0)\n",
      "Requirement already satisfied: pygeos in /opt/mamba/lib/python3.10/site-packages (0.14)\n",
      "Requirement already satisfied: numpy>=1.13 in /opt/mamba/lib/python3.10/site-packages (from pygeos) (1.26.2)\n",
      "Requirement already satisfied: topojson in /opt/mamba/lib/python3.10/site-packages (1.7)\n",
      "Requirement already satisfied: numpy in /opt/mamba/lib/python3.10/site-packages (from topojson) (1.26.2)\n",
      "Requirement already satisfied: shapely in /opt/mamba/lib/python3.10/site-packages (from topojson) (2.0.2)\n",
      "Requirement already satisfied: packaging in /opt/mamba/lib/python3.10/site-packages (from topojson) (23.1)\n"
     ]
    }
   ],
   "source": [
    "# A first-level heading\n",
    "## A second-level heading\n",
    "### A third-level heading\n",
    "\n",
    "\n",
    "import numpy as np\n",
    "import pandas as pd\n",
    "import matplotlib.pyplot as plt\n",
    "import requests\n",
    "!pip install --upgrade xlrd #colab bug verson xlrd\n",
    "!pip install geopandas\n",
    "!pip install pandas fiona shapely pyproj rtree\n",
    "!pip install contextily\n",
    "!pip install pygeos\n",
    "!pip install topojson\n",
    "import geopandas as gpd\n",
    "import contextily as ctx\n",
    "import matplotlib.pyplot as plt\n",
    "#!pip install requests py7zr geopandas openpyxl tqdm s3fs PyYAML xlrd\n",
    "#!pip install git+https://github.com/inseefrlab/cartiflette@80b8a5a28371feb6df31d55bcc2617948a5f9b1a"
   ]
  },
  {
   "cell_type": "code",
   "execution_count": null,
   "id": "41d79013-3fff-40df-911d-36acc4f7b1e8",
   "metadata": {},
   "outputs": [],
   "source": [
    "#Idée générale : on va reprendre le graphe stat desc pour identifier la source de pollution principale dans le Finistère"
   ]
  },
  {
   "cell_type": "code",
   "execution_count": null,
   "id": "5715f5b2-e734-469b-aaea-e74e47c3f50c",
   "metadata": {},
   "outputs": [],
   "source": [
    "eff = pd.read_csv(\"effectifs.csv\", sep = \";\", encoding = 'utf-8', engine = 'python')"
   ]
  },
  {
   "cell_type": "code",
   "execution_count": null,
   "id": "e3d787f9-a8b8-4597-90e3-886f8d8f135a",
   "metadata": {},
   "outputs": [],
   "source": [
    "data_pollution = pd.read_csv(\"base_pollution.csv\", sep = \",\", encoding = 'utf-8', engine = 'python')"
   ]
  },
  {
   "cell_type": "code",
   "execution_count": null,
   "id": "b2835a0a-9284-42fb-beb4-c60beb31c88e",
   "metadata": {},
   "outputs": [],
   "source": [
    "pollution_group_dep = pd.read_csv(\"pollution_group_dep.csv\", sep = \",\", encoding = 'utf-8', engine = 'python')"
   ]
  },
  {
   "cell_type": "code",
   "execution_count": null,
   "id": "4e9b5e27-11dc-491c-8c34-253cd42b8f0c",
   "metadata": {},
   "outputs": [],
   "source": [
    "pollution_group_reg = pd.read_csv(\"pollution_group_reg.csv\", sep = \",\", encoding = 'utf-8', engine = 'python')"
   ]
  },
  {
   "cell_type": "code",
   "execution_count": null,
   "id": "2c373cfb-770c-48bc-ba72-483d817e5abc",
   "metadata": {},
   "outputs": [],
   "source": [
    "x = input(\"Entrer un numéro de département (mettre un 0 devant si c'est un chiffre) : \")"
   ]
  },
  {
   "cell_type": "code",
   "execution_count": null,
   "id": "9458e9b7-d364-4a80-b888-b12e796e8d75",
   "metadata": {},
   "outputs": [],
   "source": [
    "# Sélectionnez les données pour le département x\n",
    "pollution_dep_91 = pollution_group_dep[pollution_group_dep['DEP'] == x]\n",
    "\n",
    "# Sélectionnez les colonnes correspondant aux sources de pollution\n",
    "sources_pollution = pollution_dep_91.columns[1:10]\n",
    "\n",
    "# Créez un diagramme en barres\n",
    "plt.bar(sources_pollution, pollution_dep_91.iloc[0, 1:10])\n",
    "plt.xlabel('Sources de pollution')\n",
    "plt.ylabel('Niveau de pollution')\n",
    "plt.title('Niveau de pollution par source pour le département {}'.format(x))\n",
    "plt.xticks(rotation=45, ha='right')\n",
    "\n",
    "plt.show()\n",
    "\n",
    "\n",
    "#La source de pollution principale dans le Finistère est l'agriculture "
   ]
  },
  {
   "cell_type": "code",
   "execution_count": null,
   "id": "41119edd-5ed4-4ccc-9023-235d1f4e67a0",
   "metadata": {},
   "outputs": [],
   "source": [
    "#Pa rapport aux autres histogramme ici on va prendre pathoniv2 pour les dummies \n",
    "base_grande = pd.read_csv(\"effectifs.csv\", sep = \";\", encoding = 'utf-8', engine = 'python')\n",
    "base_grande.shape\n",
    "base_grande = base_grande.dropna()\n",
    "base_grande = pd.get_dummies(base_grande, prefix = 'indicatrice_', columns=['patho_niv2'], dtype='int')\n",
    "\n",
    "\n",
    "liste_var = base_grande.columns[17:]\n",
    "liste_bis = []\n",
    "for i in liste_var : \n",
    "    liste_bis.append(i)\n",
    "indicatrice_patho_niv1 = liste_bis\n",
    "\n",
    "liste_auxil = base_grande['cla_age_5'].unique()\n",
    "inter_excl = ('95et+', 'tsage', np.nan)\n",
    "\n",
    "inter_def = []\n",
    "for i in liste_auxil :\n",
    "    if i in inter_excl : \n",
    "        inter_def = inter_def\n",
    "    else : \n",
    "        inter_def.append(i)\n",
    "classe_age = []\n",
    "for i in base_grande['cla_age_5'] : \n",
    "    if i in inter_def :\n",
    "        temp = i.split('-')\n",
    "        temp[0] = int(temp[0])\n",
    "        temp[1] = int(temp[1])\n",
    "        age = (temp[1] + temp[0])/2\n",
    "    elif i == 'tsage' : \n",
    "        age = np.nan\n",
    "    elif i == '95et+' : \n",
    "        age = 100\n",
    "    else : \n",
    "        age = np.nan\n",
    "    classe_age.append(age)\n",
    "base_grande.loc[:,'classe_age'] = classe_age"
   ]
  },
  {
   "cell_type": "code",
   "execution_count": null,
   "id": "0d86236c-64a8-40eb-8da9-b58b924d265c",
   "metadata": {},
   "outputs": [],
   "source": [
    "#On supprime les espaces dans le noms des colonnes \n",
    "base_grande.columns = base_grande.columns.str.replace(' ', '_')"
   ]
  },
  {
   "cell_type": "code",
   "execution_count": null,
   "id": "4a9e02a3-4765-44d4-a3d5-22066accf991",
   "metadata": {},
   "outputs": [],
   "source": [
    "#On recréer un base similaire auxx base de statdesc\n",
    "model_prostate = base_grande[['dept', 'classe_age','indicatrice__Cancer_de_la_prostate','sexe','region']]\n",
    "model_prostate"
   ]
  },
  {
   "cell_type": "code",
   "execution_count": null,
   "id": "3b5bc11f-8036-4c8d-a970-871866756425",
   "metadata": {},
   "outputs": [],
   "source": [
    "compte_dept_29 = 0\n",
    "\n",
    "for index, row in model_prostate.iterrows():\n",
    "    if row['dept'] == '29':\n",
    "        compte_dept_29 += 1\n",
    "\n",
    "print(\"Nombre d'individus avec dept=='29' :\", compte_dept_29)\n",
    "\n",
    "#Ce code nous donne le nombre d'individus en provenance du Finistère à savoir 18467"
   ]
  },
  {
   "cell_type": "code",
   "execution_count": null,
   "id": "0ad78d80-7a16-423a-b7ad-3e340d13d75a",
   "metadata": {},
   "outputs": [],
   "source": [
    "compte_prostate = 0\n",
    "\n",
    "# Supposons que model_prostate soit votre DataFrame\n",
    "# Remplacez-le par le nom de votre DataFrame\n",
    "for index, row in model_prostate.iterrows():\n",
    "    if row['dept'] == '29' and row['indicatrice__Cancer_de_la_prostate'] == 1:\n",
    "        compte_prostate += 1\n",
    "\n",
    "print(\"Nombre d'individus avec dept=='29' et indicatrice__Cancer_de_la_prostate==1 :\", compte_prostate)\n",
    "\n",
    "#Ce code nous donne le nombre d'individus en provenance du Finistère et qui sont atteints d'un cancer de la prostate à savoir 320\n",
    "\n",
    "#Oa donc 320/18467*100 soit environ 0,17% de cancer de la prostate parmi les observés résidants dans le Finistère \n"
   ]
  },
  {
   "cell_type": "code",
   "execution_count": null,
   "id": "6b409045-64de-4c92-a144-1ad0d16ec4de",
   "metadata": {},
   "outputs": [],
   "source": [
    "#On prend la liste des départements observés afin de généralisé notre démarche\n",
    "valeurs_uniques = model_prostate['dept'].unique()\n",
    "print(valeurs_uniques)"
   ]
  },
  {
   "cell_type": "code",
   "execution_count": null,
   "id": "dec935db-4544-49fa-9434-0fbd829f0535",
   "metadata": {},
   "outputs": [],
   "source": [
    "import pandas as pd\n",
    "\n",
    "# Supposons que 'model_prostate' est votre DataFrame\n",
    "# et 'dept' est la colonne représentant les départements\n",
    "\n",
    "# Grouper par département et compter le nombre total d'individus et le nombre de cas de cancer de la prostate\n",
    "resultats = model_prostate.groupby('dept')['indicatrice__Cancer_de_la_prostate'].agg(['count', 'sum'])\n",
    "\n",
    "# Renommer les colonnes\n",
    "resultats.columns = ['pop_i', 'pop_i2']\n",
    "\n",
    "# Remplacer les valeurs manquantes par 0\n",
    "resultats['pop_i2'].fillna(0, inplace=True)\n",
    "\n",
    "# Initialiser la variable pour la moyenne\n",
    "moyenne_totale = 0\n",
    "\n",
    "# Calculer le pourcentage de cancer de la prostate par département et afficher les résultats\n",
    "for index, row in resultats.iterrows():\n",
    "    if row['pop_i'] != 0:\n",
    "        pourcentage_cancer = (row['pop_i2'] / row['pop_i']) * 100\n",
    "        moyenne_totale += pourcentage_cancer\n",
    "        print(f\"Il y a {pourcentage_cancer:.2f}% de cancer de la prostate dans le département {index}.\")\n",
    "    else:\n",
    "        print(f\"Aucun individu dans le département {index} dans votre DataFrame.\")\n",
    "\n",
    "# Calculer la moyenne totale\n",
    "if len(resultats) > 0:\n",
    "    moyenne_totale /= len(resultats)\n",
    "    print(f\"\\nLa moyenne totale des pourcentages de cancer de la prostate est {moyenne_totale:.2f}%.\")\n",
    "else:\n",
    "    print(\"\\nAucun résultat à moyenner, car tous les départements ont une population de 0.\")\n"
   ]
  },
  {
   "cell_type": "code",
   "execution_count": null,
   "id": "439f7881-b20d-4c9f-b7b3-a3db3ca6e012",
   "metadata": {},
   "outputs": [],
   "source": [
    "#On observe donc :\n",
    "#Des résultats inférieurs à la moyenne dans le Finistère\n",
    "#Des résultats très élevés dans les outre mer\n",
    "#Des résultats au dessus de 2% pour le Gers(32), la Creuse(23), et l'Ariège(09) le Lot(46) et la Lozère(48) pour la France métropolitaine"
   ]
  },
  {
   "cell_type": "code",
   "execution_count": null,
   "id": "dafe9687-fc77-4141-9499-872268458c1c",
   "metadata": {},
   "outputs": [],
   "source": [
    "#En observant l'histogramme des souces de pollution pour ces différents départements, on remarque que :\n",
    "#L'agriculture est la source principale de pollution\n"
   ]
  }
 ],
 "metadata": {
  "kernelspec": {
   "display_name": "Python 3 (ipykernel)",
   "language": "python",
   "name": "python3"
  },
  "language_info": {
   "codemirror_mode": {
    "name": "ipython",
    "version": 3
   },
   "file_extension": ".py",
   "mimetype": "text/x-python",
   "name": "python",
   "nbconvert_exporter": "python",
   "pygments_lexer": "ipython3",
   "version": "3.10.13"
  }
 },
 "nbformat": 4,
 "nbformat_minor": 5
}
